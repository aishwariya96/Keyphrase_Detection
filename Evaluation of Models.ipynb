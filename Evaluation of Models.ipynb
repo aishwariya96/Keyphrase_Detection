{
 "cells": [
  {
   "cell_type": "code",
   "execution_count": 1,
   "id": "23165e6c",
   "metadata": {},
   "outputs": [],
   "source": [
    "from sklearn.metrics import precision_recall_curve"
   ]
  },
  {
   "cell_type": "code",
   "execution_count": 2,
   "id": "25b527bf",
   "metadata": {},
   "outputs": [],
   "source": [
    "import pandas as pd\n",
    "import numpy as np"
   ]
  },
  {
   "cell_type": "code",
   "execution_count": 3,
   "id": "8b03bf86",
   "metadata": {},
   "outputs": [],
   "source": [
    "pd.set_option('display.max_columns', 999)\n",
    "pd.set_option('display.max_rows', 999)"
   ]
  },
  {
   "cell_type": "code",
   "execution_count": 4,
   "id": "c1183d9d",
   "metadata": {},
   "outputs": [],
   "source": [
    "eval_distill = pd.read_csv(\"all_distill_roberta_evaluation_scores.csv\")\n",
    "eval_distill['model'] = 'distillroberta'\n",
    "eval_bioclinicalbert= pd.read_csv(\"bio_clinical_bert_evaluation_scores.csv\")\n",
    "eval_bioclinicalbert['model'] = 'bioclinicalbert'\n",
    "eval_biobertdiseasesner= pd.read_csv(\"biobert_diseases_ner_evaluation_scores.csv\")\n",
    "eval_biobertdiseasesner['model'] = 'biobert_diseases_ner'\n",
    "eval_biomedical= pd.read_csv(\"biomedical_ner_all_evaluation_scores.csv\")\n",
    "eval_biomedical['model'] = 'biomedical'\n",
    "eval_biomedNLP= pd.read_csv(\"biomedNLP_evaluation_evaluation_scores.csv\")\n",
    "eval_biomedNLP['model'] = 'biomedNLP'"
   ]
  },
  {
   "cell_type": "code",
   "execution_count": 8,
   "id": "2a724972",
   "metadata": {},
   "outputs": [
    {
     "name": "stderr",
     "output_type": "stream",
     "text": [
      "/var/folders/_l/b6xwsf494bjcy6h68bqlx5jh0000gn/T/ipykernel_3727/3169150950.py:1: FutureWarning: Indexing with multiple keys (implicitly converted to a tuple of keys) will be deprecated, use a list instead.\n",
      "  distill_PR=eval_distill[[\"threshold\",\"precision\",\"recall\"]].groupby(\"threshold\")[\"precision\",\"recall\"].mean().reset_index()\n"
     ]
    }
   ],
   "source": [
    "distill_PR=eval_distill[[\"threshold\",\"precision\",\"recall\"]].groupby(\"threshold\")[\"precision\",\"recall\"].mean().reset_index()"
   ]
  },
  {
   "cell_type": "code",
   "execution_count": 11,
   "id": "15e51a90",
   "metadata": {},
   "outputs": [
    {
     "name": "stderr",
     "output_type": "stream",
     "text": [
      "/var/folders/_l/b6xwsf494bjcy6h68bqlx5jh0000gn/T/ipykernel_3727/2939425193.py:1: FutureWarning: The frame.append method is deprecated and will be removed from pandas in a future version. Use pandas.concat instead.\n",
      "  all_evaluations = eval_distill.append(eval_bioclinicalbert).append(eval_biobertdiseasesner).append(eval_biomedical).append(eval_biomedNLP)\n",
      "/var/folders/_l/b6xwsf494bjcy6h68bqlx5jh0000gn/T/ipykernel_3727/2939425193.py:1: FutureWarning: The frame.append method is deprecated and will be removed from pandas in a future version. Use pandas.concat instead.\n",
      "  all_evaluations = eval_distill.append(eval_bioclinicalbert).append(eval_biobertdiseasesner).append(eval_biomedical).append(eval_biomedNLP)\n",
      "/var/folders/_l/b6xwsf494bjcy6h68bqlx5jh0000gn/T/ipykernel_3727/2939425193.py:1: FutureWarning: The frame.append method is deprecated and will be removed from pandas in a future version. Use pandas.concat instead.\n",
      "  all_evaluations = eval_distill.append(eval_bioclinicalbert).append(eval_biobertdiseasesner).append(eval_biomedical).append(eval_biomedNLP)\n"
     ]
    }
   ],
   "source": [
    "all_evaluations = eval_distill.append(eval_bioclinicalbert).append(eval_biobertdiseasesner).append(eval_biomedical).append(eval_biomedNLP)\n",
    "all_evaluations['fdr'] = 1 - (all_evaluations['precision'])"
   ]
  },
  {
   "cell_type": "code",
   "execution_count": 12,
   "id": "f819859b",
   "metadata": {},
   "outputs": [
    {
     "data": {
      "text/plain": [
       "array(['distillroberta', 'bioclinicalbert', 'biobert_diseases_ner',\n",
       "       'biomedical', 'biomedNLP'], dtype=object)"
      ]
     },
     "execution_count": 12,
     "metadata": {},
     "output_type": "execute_result"
    }
   ],
   "source": [
    "all_evaluations.model.unique()"
   ]
  },
  {
   "cell_type": "code",
   "execution_count": 13,
   "id": "f4553a99",
   "metadata": {},
   "outputs": [],
   "source": [
    "import seaborn as sns"
   ]
  },
  {
   "cell_type": "markdown",
   "id": "2a271cb7",
   "metadata": {},
   "source": [
    "## FDR: the lower the better and formula is: FP / (FP+TP) , we know that values below 5% are considered significant\n",
    "### in FDR , hence by looking at the below numbers we see that at Threshold 20, all the values of the model are below 5% that is why we select 20 as the threshold"
   ]
  },
  {
   "cell_type": "code",
   "execution_count": 14,
   "id": "f1557b7d",
   "metadata": {
    "scrolled": false
   },
   "outputs": [
    {
     "data": {
      "text/plain": [
       "threshold  model               \n",
       "10         biobert_diseases_ner    0.012150\n",
       "           bioclinicalbert         0.026313\n",
       "           biomedNLP               0.006092\n",
       "           biomedical              0.003051\n",
       "           distillroberta          0.002343\n",
       "20         biobert_diseases_ner    0.021600\n",
       "           bioclinicalbert         0.034552\n",
       "           biomedNLP               0.019757\n",
       "           biomedical              0.017999\n",
       "           distillroberta          0.016538\n",
       "30         biobert_diseases_ner    0.060250\n",
       "           bioclinicalbert         0.061333\n",
       "           biomedNLP               0.061169\n",
       "           biomedical              0.061292\n",
       "           distillroberta          0.058129\n",
       "40         biobert_diseases_ner    0.109883\n",
       "           bioclinicalbert         0.097887\n",
       "           biomedNLP               0.118499\n",
       "           biomedical              0.101168\n",
       "           distillroberta          0.085169\n",
       "50         biobert_diseases_ner    0.317400\n",
       "           bioclinicalbert         0.235045\n",
       "           biomedNLP               0.318034\n",
       "           biomedical              0.300733\n",
       "           distillroberta          0.181866\n",
       "60         biobert_diseases_ner    0.560500\n",
       "           bioclinicalbert         0.473353\n",
       "           biomedNLP               0.562798\n",
       "           biomedical              0.587936\n",
       "           distillroberta          0.341844\n",
       "70         biobert_diseases_ner    0.651417\n",
       "           bioclinicalbert         0.577939\n",
       "           biomedNLP               0.661968\n",
       "           biomedical              0.711061\n",
       "           distillroberta          0.423538\n",
       "80         biobert_diseases_ner    0.734083\n",
       "           bioclinicalbert         0.649281\n",
       "           biomedNLP               0.724944\n",
       "           biomedical              0.780856\n",
       "           distillroberta          0.478629\n",
       "90         biobert_diseases_ner    0.780550\n",
       "           bioclinicalbert         0.676100\n",
       "           biomedNLP               0.766685\n",
       "           biomedical              0.817707\n",
       "           distillroberta          0.529824\n",
       "100        biobert_diseases_ner    0.804850\n",
       "           bioclinicalbert         0.696601\n",
       "           biomedNLP               0.795092\n",
       "           biomedical              0.835167\n",
       "           distillroberta          0.623690\n",
       "Name: fdr, dtype: float64"
      ]
     },
     "execution_count": 14,
     "metadata": {},
     "output_type": "execute_result"
    }
   ],
   "source": [
    "\n",
    "all_evaluations.groupby(['threshold', 'model']).fdr.mean()"
   ]
  },
  {
   "cell_type": "code",
   "execution_count": 46,
   "id": "a934b6aa",
   "metadata": {},
   "outputs": [
    {
     "data": {
      "text/plain": [
       "threshold  model               \n",
       "10         biobert_diseases_ner    0.924193\n",
       "           bioclinicalbert         0.930667\n",
       "           biomedNLP               0.929483\n",
       "           biomedical              0.917492\n",
       "           distillroberta          0.917792\n",
       "20         biobert_diseases_ner    0.889244\n",
       "           bioclinicalbert         0.898551\n",
       "           biomedNLP               0.891869\n",
       "           biomedical              0.877253\n",
       "           distillroberta          0.878618\n",
       "30         biobert_diseases_ner    0.815957\n",
       "           bioclinicalbert         0.873800\n",
       "           biomedNLP               0.869008\n",
       "           biomedical              0.786477\n",
       "           distillroberta          0.803384\n",
       "40         biobert_diseases_ner    0.607497\n",
       "           bioclinicalbert         0.737739\n",
       "           biomedNLP               0.753844\n",
       "           biomedical              0.518420\n",
       "           distillroberta          0.563161\n",
       "Name: recall, dtype: float64"
      ]
     },
     "execution_count": 46,
     "metadata": {},
     "output_type": "execute_result"
    }
   ],
   "source": [
    "all_evaluations.groupby(['threshold', 'model']).recall.mean().head(20)"
   ]
  },
  {
   "cell_type": "code",
   "execution_count": 47,
   "id": "7d6f586b",
   "metadata": {},
   "outputs": [
    {
     "data": {
      "text/plain": [
       "threshold  model               \n",
       "10         biobert_diseases_ner    0.987850\n",
       "           bioclinicalbert         0.973687\n",
       "           biomedNLP               0.993908\n",
       "           biomedical              0.996949\n",
       "           distillroberta          0.997657\n",
       "20         biobert_diseases_ner    0.978400\n",
       "           bioclinicalbert         0.965448\n",
       "           biomedNLP               0.980243\n",
       "           biomedical              0.982001\n",
       "           distillroberta          0.983462\n",
       "30         biobert_diseases_ner    0.939750\n",
       "           bioclinicalbert         0.938667\n",
       "           biomedNLP               0.938831\n",
       "           biomedical              0.938708\n",
       "           distillroberta          0.941871\n",
       "40         biobert_diseases_ner    0.890117\n",
       "           bioclinicalbert         0.902113\n",
       "           biomedNLP               0.881501\n",
       "           biomedical              0.898832\n",
       "           distillroberta          0.914831\n",
       "Name: precision, dtype: float64"
      ]
     },
     "execution_count": 47,
     "metadata": {},
     "output_type": "execute_result"
    }
   ],
   "source": [
    "all_evaluations.groupby(['threshold', 'model']).precision.mean().head(20)"
   ]
  },
  {
   "cell_type": "markdown",
   "id": "16081704",
   "metadata": {},
   "source": [
    "## At threshold 20 the top 3 models are: biomedNLP, distilroberta, and bioclinicalbert"
   ]
  },
  {
   "cell_type": "code",
   "execution_count": 48,
   "id": "765c298b",
   "metadata": {},
   "outputs": [
    {
     "data": {
      "text/plain": [
       "threshold  model               \n",
       "10         biobert_diseases_ner    0.952744\n",
       "           bioclinicalbert         0.949658\n",
       "           biomedNLP               0.958683\n",
       "           biomedical              0.951360\n",
       "           distillroberta          0.951955\n",
       "20         biobert_diseases_ner    0.924743\n",
       "           bioclinicalbert         0.924871\n",
       "           biomedNLP               0.929368\n",
       "           biomedical              0.921946\n",
       "           distillroberta          0.925084\n",
       "30         biobert_diseases_ner    0.916599\n",
       "           bioclinicalbert         0.906479\n",
       "           biomedNLP               0.940883\n",
       "           biomedical              0.898018\n",
       "           distillroberta          0.904797\n",
       "40         biobert_diseases_ner    0.752526\n",
       "           bioclinicalbert         0.807290\n",
       "           biomedNLP               0.848112\n",
       "           biomedical              0.677902\n",
       "           distillroberta          0.715275\n",
       "Name: f1_score, dtype: float64"
      ]
     },
     "execution_count": 48,
     "metadata": {},
     "output_type": "execute_result"
    }
   ],
   "source": [
    "all_evaluations.groupby(['threshold', 'model']).f1_score.mean().head(20)\n"
   ]
  }
 ],
 "metadata": {
  "kernelspec": {
   "display_name": "Python 3 (ipykernel)",
   "language": "python",
   "name": "python3"
  },
  "language_info": {
   "codemirror_mode": {
    "name": "ipython",
    "version": 3
   },
   "file_extension": ".py",
   "mimetype": "text/x-python",
   "name": "python",
   "nbconvert_exporter": "python",
   "pygments_lexer": "ipython3",
   "version": "3.10.10"
  }
 },
 "nbformat": 4,
 "nbformat_minor": 5
}
