{
 "cells": [
  {
   "cell_type": "code",
   "execution_count": 1,
   "id": "ebcb1398",
   "metadata": {},
   "outputs": [
    {
     "name": "stderr",
     "output_type": "stream",
     "text": [
      "[nltk_data] Downloading package wordnet to\n",
      "[nltk_data]     /Users/aishwariyagupta/nltk_data...\n",
      "[nltk_data]   Package wordnet is already up-to-date!\n",
      "[nltk_data] Downloading package omw-1.4 to\n",
      "[nltk_data]     /Users/aishwariyagupta/nltk_data...\n",
      "[nltk_data]   Package omw-1.4 is already up-to-date!\n"
     ]
    }
   ],
   "source": [
    "import os\n",
    "import spacy\n",
    "import warnings\n",
    "import wordcloud\n",
    "import numpy as np\n",
    "import pandas as pd\n",
    "import seaborn as sns\n",
    "import plotly.express as px\n",
    "import matplotlib.pyplot as plt\n",
    "import plotly.graph_objects as go\n",
    "pd.set_option('display.max_rows', 500)\n",
    "pd.set_option('display.max_columns', 500)\n",
    "pd.set_option('display.width', 1000)\n",
    "\n",
    "import numpy as np\n",
    "import pandas as pd \n",
    "import os\n",
    "import re\n",
    "import matplotlib.pyplot as plt\n",
    "import seaborn as sns\n",
    "import nltk\n",
    "import textstat\n",
    "import spacy\n",
    "nlp = spacy.load('en_core_web_sm')\n",
    "\n",
    "from spacy import displacy\n",
    "from nltk.tokenize import sent_tokenize, word_tokenize \n",
    "\n",
    "import warnings\n",
    "warnings.filterwarnings(\"ignore\")\n",
    "\n",
    "import contractions\n",
    "import nltk\n",
    "import string\n",
    "\n",
    "#nltk.download('stopwords')\n",
    "#from nltk.corpus import stopwords\n",
    "#stop_words = set(stopwords.words('english'))\n",
    "\n",
    "from nltk.stem import WordNetLemmatizer\n",
    "lemmatizer = WordNetLemmatizer()\n",
    "nltk.download('wordnet')\n",
    "nltk.download('omw-1.4')\n",
    "import pkg_resources\n",
    "from symspellpy import SymSpell, Verbosity"
   ]
  },
  {
   "cell_type": "code",
   "execution_count": 2,
   "id": "9129169b",
   "metadata": {},
   "outputs": [
    {
     "data": {
      "text/html": [
       "<div>\n",
       "<style scoped>\n",
       "    .dataframe tbody tr th:only-of-type {\n",
       "        vertical-align: middle;\n",
       "    }\n",
       "\n",
       "    .dataframe tbody tr th {\n",
       "        vertical-align: top;\n",
       "    }\n",
       "\n",
       "    .dataframe thead th {\n",
       "        text-align: right;\n",
       "    }\n",
       "</style>\n",
       "<table border=\"1\" class=\"dataframe\">\n",
       "  <thead>\n",
       "    <tr style=\"text-align: right;\">\n",
       "      <th></th>\n",
       "      <th>id</th>\n",
       "      <th>case_num</th>\n",
       "      <th>pn_num</th>\n",
       "      <th>feature_num</th>\n",
       "      <th>annotation</th>\n",
       "      <th>location</th>\n",
       "      <th>feature_text</th>\n",
       "      <th>pn_history</th>\n",
       "    </tr>\n",
       "  </thead>\n",
       "  <tbody>\n",
       "    <tr>\n",
       "      <th>0</th>\n",
       "      <td>00016_000</td>\n",
       "      <td>0</td>\n",
       "      <td>16</td>\n",
       "      <td>0</td>\n",
       "      <td>['dad with recent heart attcak']</td>\n",
       "      <td>['696 724']</td>\n",
       "      <td>Family-history-of-MI-OR-Family-history-of-myocardial-infarction</td>\n",
       "      <td>HPI: 17yo M presents with palpitations. Patient reports 3-4 months of intermittent episodes of \"heart beating/pounding out of my chest.\" 2 days ago during a soccer game had an episode, but this time had chest pressure and felt as if he were going to pass out (did not lose conciousness). Of note patient endorses abusing adderall, primarily to study (1-3 times per week). Before recent soccer game, took adderrall night before and morning of game. Denies shortness of breath, diaphoresis, fevers, chills, headache, fatigue, changes in sleep, changes in vision/hearing, abdominal paun, changes in bowel or urinary habits. \\r\\nPMHx: none\\r\\nRx: uses friends adderrall\\r\\nFHx: mom with \"thyroid disease,\" dad with recent heart attcak\\r\\nAll: none\\r\\nImmunizations: up to date\\r\\nSHx: Freshmen in college. Endorses 3-4 drinks 3 nights / week (on weekends), denies tabacco, endorses trying marijuana. Sexually active with girlfriend x 1 year, uses condoms</td>\n",
       "    </tr>\n",
       "    <tr>\n",
       "      <th>1</th>\n",
       "      <td>00016_001</td>\n",
       "      <td>0</td>\n",
       "      <td>16</td>\n",
       "      <td>1</td>\n",
       "      <td>['mom with \"thyroid disease']</td>\n",
       "      <td>['668 693']</td>\n",
       "      <td>Family-history-of-thyroid-disorder</td>\n",
       "      <td>HPI: 17yo M presents with palpitations. Patient reports 3-4 months of intermittent episodes of \"heart beating/pounding out of my chest.\" 2 days ago during a soccer game had an episode, but this time had chest pressure and felt as if he were going to pass out (did not lose conciousness). Of note patient endorses abusing adderall, primarily to study (1-3 times per week). Before recent soccer game, took adderrall night before and morning of game. Denies shortness of breath, diaphoresis, fevers, chills, headache, fatigue, changes in sleep, changes in vision/hearing, abdominal paun, changes in bowel or urinary habits. \\r\\nPMHx: none\\r\\nRx: uses friends adderrall\\r\\nFHx: mom with \"thyroid disease,\" dad with recent heart attcak\\r\\nAll: none\\r\\nImmunizations: up to date\\r\\nSHx: Freshmen in college. Endorses 3-4 drinks 3 nights / week (on weekends), denies tabacco, endorses trying marijuana. Sexually active with girlfriend x 1 year, uses condoms</td>\n",
       "    </tr>\n",
       "  </tbody>\n",
       "</table>\n",
       "</div>"
      ],
      "text/plain": [
       "          id  case_num  pn_num  feature_num                        annotation  \\\n",
       "0  00016_000         0      16            0  ['dad with recent heart attcak']   \n",
       "1  00016_001         0      16            1     ['mom with \"thyroid disease']   \n",
       "\n",
       "      location  \\\n",
       "0  ['696 724']   \n",
       "1  ['668 693']   \n",
       "\n",
       "                                                      feature_text  \\\n",
       "0  Family-history-of-MI-OR-Family-history-of-myocardial-infarction   \n",
       "1                               Family-history-of-thyroid-disorder   \n",
       "\n",
       "                                                                                                                                                                                                                                                                                                                                                                                                                                                                                                                                                                                                                                                                                                                                                                                                                                                                                                                                                                               pn_history  \n",
       "0  HPI: 17yo M presents with palpitations. Patient reports 3-4 months of intermittent episodes of \"heart beating/pounding out of my chest.\" 2 days ago during a soccer game had an episode, but this time had chest pressure and felt as if he were going to pass out (did not lose conciousness). Of note patient endorses abusing adderall, primarily to study (1-3 times per week). Before recent soccer game, took adderrall night before and morning of game. Denies shortness of breath, diaphoresis, fevers, chills, headache, fatigue, changes in sleep, changes in vision/hearing, abdominal paun, changes in bowel or urinary habits. \\r\\nPMHx: none\\r\\nRx: uses friends adderrall\\r\\nFHx: mom with \"thyroid disease,\" dad with recent heart attcak\\r\\nAll: none\\r\\nImmunizations: up to date\\r\\nSHx: Freshmen in college. Endorses 3-4 drinks 3 nights / week (on weekends), denies tabacco, endorses trying marijuana. Sexually active with girlfriend x 1 year, uses condoms  \n",
       "1  HPI: 17yo M presents with palpitations. Patient reports 3-4 months of intermittent episodes of \"heart beating/pounding out of my chest.\" 2 days ago during a soccer game had an episode, but this time had chest pressure and felt as if he were going to pass out (did not lose conciousness). Of note patient endorses abusing adderall, primarily to study (1-3 times per week). Before recent soccer game, took adderrall night before and morning of game. Denies shortness of breath, diaphoresis, fevers, chills, headache, fatigue, changes in sleep, changes in vision/hearing, abdominal paun, changes in bowel or urinary habits. \\r\\nPMHx: none\\r\\nRx: uses friends adderrall\\r\\nFHx: mom with \"thyroid disease,\" dad with recent heart attcak\\r\\nAll: none\\r\\nImmunizations: up to date\\r\\nSHx: Freshmen in college. Endorses 3-4 drinks 3 nights / week (on weekends), denies tabacco, endorses trying marijuana. Sexually active with girlfriend x 1 year, uses condoms  "
      ]
     },
     "metadata": {},
     "output_type": "display_data"
    }
   ],
   "source": [
    "patient_notes = pd.read_csv(\"patient_notes.csv\")\n",
    "#one case number has many pn_num\n",
    "features = pd.read_csv(\"features.csv\")\n",
    "#one case has many feature_num\n",
    "train = pd.read_csv(\"train.csv\")\n",
    "\n",
    "train = train.merge(features, on=['feature_num', 'case_num'], how='left')\n",
    "train = train.merge(patient_notes, on=['pn_num', 'case_num'], how='left')\n",
    "\n",
    "pd.set_option('display.max_colwidth', None)\n",
    "tain.head()"
   ]
  },
  {
   "cell_type": "markdown",
   "id": "9d6cc36a",
   "metadata": {},
   "source": [
    "### Pre-processing the text column to clean it"
   ]
  },
  {
   "cell_type": "code",
   "execution_count": 4,
   "id": "be7e56cb",
   "metadata": {},
   "outputs": [],
   "source": [
    "train[\"pn_history_lower\"] = train[\"pn_history\"].str.lower()\n",
    "regex = re.compile(r'<[^>]+>')\n",
    "train[\"pn_history_noContractions\"] = train[\"pn_history_lower\"].apply(contractions.fix)\n",
    "\n",
    "def remove_unicode_chars(text):\n",
    "    text = text.encode(\"ascii\", \"ignore\").decode()\n",
    "    return text\n",
    "train[\"pn_history_noUnicode\"] = train[\"pn_history_noContractions\"].apply(remove_unicode_chars)\n",
    "\n",
    "def remove_punctuations(text):\n",
    "    text = re.sub('[%s]' % re.escape(string.punctuation), \" \",text)\n",
    "    return text\n",
    "train[\"pn_history_noPuncts\"] = train[\"pn_history_noUnicode\"].apply(remove_punctuations)\n",
    "\n",
    "#def remove_stopwords(text):\n",
    "#    return \" \".join([word for word in str(text).split() if word not in stop_words])\n",
    "#train[\"tweet_noStopwords\"] = train[\"tweet_noPuncts\"].apply(remove_stopwords)\n",
    "def remove_extra_spaces(text):\n",
    "    text = re.sub(' +', ' ', text).strip()\n",
    "    return text\n",
    "train[\"pn_history_noES\"] = train[\"pn_history_noPuncts\"].apply(remove_extra_spaces)\n",
    "def lemmatize_text(text):\n",
    "    words = [lemmatizer.lemmatize(word) for word in text.split()]\n",
    "    text = ' '.join(words)\n",
    "    return text\n",
    "train[\"pn_history_preprocessed\"] = train[\"pn_history_noES\"].apply(lemmatize_text)"
   ]
  },
  {
   "cell_type": "code",
   "execution_count": 5,
   "id": "b15c63ea",
   "metadata": {},
   "outputs": [],
   "source": [
    "train = train.drop_duplicates([\"pn_history_preprocessed\"])"
   ]
  },
  {
   "cell_type": "markdown",
   "id": "32a03db9",
   "metadata": {},
   "source": [
    "## Model 3 : KeyBert with Bio BERT Diseases NER"
   ]
  },
  {
   "cell_type": "code",
   "execution_count": 7,
   "id": "8caf1441",
   "metadata": {},
   "outputs": [],
   "source": [
    "from keybert import KeyBERT\n",
    "from tqdm import tqdm"
   ]
  },
  {
   "cell_type": "code",
   "execution_count": 8,
   "id": "1189bb86",
   "metadata": {},
   "outputs": [
    {
     "name": "stderr",
     "output_type": "stream",
     "text": [
      "Downloading (…)53759/.gitattributes: 100%|██████| 690/690 [00:00<00:00, 678kB/s]\n",
      "Downloading (…)efcb253759/README.md: 100%|█████| 350/350 [00:00<00:00, 1.16MB/s]\n",
      "Downloading (…)cb253759/config.json: 100%|█████| 746/746 [00:00<00:00, 2.54MB/s]\n",
      "Downloading (…)759/eval_results.txt: 100%|██████| 231/231 [00:00<00:00, 828kB/s]\n",
      "Downloading pytorch_model.bin: 100%|██████████| 431M/431M [15:34<00:00, 461kB/s]\n",
      "Downloading (…)cial_tokens_map.json: 100%|██████| 112/112 [00:00<00:00, 152kB/s]\n",
      "Downloading (…)test_predictions.txt: 100%|███| 960k/960k [00:00<00:00, 3.86MB/s]\n",
      "Downloading (…)759/test_results.txt: 100%|██████| 257/257 [00:00<00:00, 634kB/s]\n",
      "Downloading (…)okenizer_config.json: 100%|████| 59.0/59.0 [00:00<00:00, 154kB/s]\n",
      "Downloading training_args.bin: 100%|███████| 2.10k/2.10k [00:00<00:00, 5.41MB/s]\n",
      "Downloading (…)efcb253759/vocab.txt: 100%|███| 213k/213k [00:00<00:00, 4.51MB/s]\n",
      "No sentence-transformers model found with name /Users/aishwariyagupta/.cache/torch/sentence_transformers/alvaroalon2_biobert_diseases_ner. Creating a new one with MEAN pooling.\n",
      "Some weights of the model checkpoint at /Users/aishwariyagupta/.cache/torch/sentence_transformers/alvaroalon2_biobert_diseases_ner were not used when initializing BertModel: ['classifier.weight', 'classifier.bias']\n",
      "- This IS expected if you are initializing BertModel from the checkpoint of a model trained on another task or with another architecture (e.g. initializing a BertForSequenceClassification model from a BertForPreTraining model).\n",
      "- This IS NOT expected if you are initializing BertModel from the checkpoint of a model that you expect to be exactly identical (initializing a BertForSequenceClassification model from a BertForSequenceClassification model).\n",
      "Some weights of BertModel were not initialized from the model checkpoint at /Users/aishwariyagupta/.cache/torch/sentence_transformers/alvaroalon2_biobert_diseases_ner and are newly initialized: ['bert.pooler.dense.weight', 'bert.pooler.dense.bias']\n",
      "You should probably TRAIN this model on a down-stream task to be able to use it for predictions and inference.\n"
     ]
    }
   ],
   "source": [
    "model = KeyBERT(model=\"alvaroalon2/biobert_diseases_ner\")"
   ]
  },
  {
   "cell_type": "code",
   "execution_count": 10,
   "id": "37d4e583",
   "metadata": {},
   "outputs": [
    {
     "data": {
      "text/plain": [
       "(1000, 14)"
      ]
     },
     "execution_count": 10,
     "metadata": {},
     "output_type": "execute_result"
    }
   ],
   "source": [
    "train.shape"
   ]
  },
  {
   "cell_type": "markdown",
   "id": "ca7e8c30",
   "metadata": {},
   "source": [
    "## Applying KEYBERT Model"
   ]
  },
  {
   "cell_type": "markdown",
   "id": "0578b60f",
   "metadata": {},
   "source": [
    "## Extracting 2 keywords"
   ]
  },
  {
   "cell_type": "code",
   "execution_count": 11,
   "id": "41a8a01b",
   "metadata": {
    "scrolled": true
   },
   "outputs": [
    {
     "name": "stderr",
     "output_type": "stream",
     "text": [
      "1000it [18:50,  1.13s/it]\n"
     ]
    }
   ],
   "source": [
    "l = []\n",
    "for index, row in tqdm(train.iterrows()):\n",
    "    l.append(model.extract_keywords(\n",
    "                row['pn_history_preprocessed'],\n",
    "                top_n=3, \n",
    "                keyphrase_ngram_range=(1, 2),\n",
    "                use_mmr=True, \n",
    "                diversity=0.7))"
   ]
  },
  {
   "cell_type": "code",
   "execution_count": 12,
   "id": "585201f1",
   "metadata": {},
   "outputs": [],
   "source": [
    "train = train.reset_index(drop=True)"
   ]
  },
  {
   "cell_type": "code",
   "execution_count": 13,
   "id": "707f86a1",
   "metadata": {},
   "outputs": [],
   "source": [
    "train = train.join(pd.DataFrame(l, columns=['first_keyword', 'second_keyword', 'third_keyword']))"
   ]
  },
  {
   "cell_type": "code",
   "execution_count": 15,
   "id": "30b31d8e",
   "metadata": {},
   "outputs": [],
   "source": [
    "train.to_csv(\"two_keywords_extraction_biobert_diseases_ner.csv\")"
   ]
  },
  {
   "cell_type": "code",
   "execution_count": 16,
   "id": "631aa172",
   "metadata": {},
   "outputs": [],
   "source": [
    "#seprating keyword along with cosine similarity\n",
    "def func(x):\n",
    "    return x[1]\n",
    "train['first_keyword_score'] = train.first_keyword.apply(lambda x: func(x))\n",
    "def func(x):\n",
    "    return x[0]\n",
    "train['first_keyword'] = train.first_keyword.apply(lambda x: func(x))\n",
    "\n",
    "def func(x):\n",
    "    return x[1]\n",
    "train['second_keyword_score'] = train.second_keyword.apply(lambda x: func(x))\n",
    "def func(x):\n",
    "    return x[0]\n",
    "train['second_keyword'] = train.second_keyword.apply(lambda x: func(x))\n",
    "\n",
    "def func(x):\n",
    "    return x[1]\n",
    "train['third_keyword_score'] = train.third_keyword.apply(lambda x: func(x))\n",
    "def func(x):\n",
    "    return x[0]\n",
    "train['third_keyword'] = train.third_keyword.apply(lambda x: func(x))"
   ]
  },
  {
   "cell_type": "code",
   "execution_count": 17,
   "id": "7061bf7e",
   "metadata": {},
   "outputs": [],
   "source": [
    "train.to_csv(\"two_keywords_extraction_with_score_biobert_diseases_ner.csv\")"
   ]
  },
  {
   "cell_type": "markdown",
   "id": "ee6cbb7c",
   "metadata": {},
   "source": [
    "## Extracting 3 keywords"
   ]
  },
  {
   "cell_type": "code",
   "execution_count": 18,
   "id": "1d0d8551",
   "metadata": {},
   "outputs": [
    {
     "name": "stderr",
     "output_type": "stream",
     "text": [
      "1000it [31:01,  1.86s/it]\n"
     ]
    }
   ],
   "source": [
    "l = []\n",
    "for index, row in tqdm(train.iterrows()):\n",
    "    l.append(model.extract_keywords(\n",
    "                row['pn_history_preprocessed'],\n",
    "                top_n=3,\n",
    "                keyphrase_ngram_range=(1, 3),\n",
    "                use_mmr=True, \n",
    "                diversity=0.7))"
   ]
  },
  {
   "cell_type": "code",
   "execution_count": 19,
   "id": "d31daab6",
   "metadata": {
    "scrolled": true
   },
   "outputs": [],
   "source": [
    "train_new = train.join(pd.DataFrame(l, columns=['first_keyword_three', 'second_keyword_three', 'third_keyword_three']))"
   ]
  },
  {
   "cell_type": "code",
   "execution_count": 20,
   "id": "b3419538",
   "metadata": {},
   "outputs": [],
   "source": [
    "train.to_csv(\"three_keywords_extraction_biobert_diseases_ner.csv\")"
   ]
  },
  {
   "cell_type": "code",
   "execution_count": 21,
   "id": "b23383a6",
   "metadata": {},
   "outputs": [],
   "source": [
    "def func(x):\n",
    "    return x[1]\n",
    "train_new['first_keyword_score_three'] = train_new.first_keyword_three.apply(lambda x: func(x))\n",
    "def func(x):\n",
    "    return x[0]\n",
    "train_new['first_keyword_three'] = train_new.first_keyword_three.apply(lambda x: func(x))\n",
    "\n",
    "def func(x):\n",
    "    return x[1]\n",
    "train_new['second_keyword_score_three'] = train_new.second_keyword_three.apply(lambda x: func(x))\n",
    "def func(x):\n",
    "    return x[0]\n",
    "train_new['second_keyword_three'] = train_new.second_keyword_three.apply(lambda x: func(x))\n",
    "\n",
    "def func(x):\n",
    "    return x[1]\n",
    "train_new['third_keyword_score_three'] = train_new.third_keyword_three.apply(lambda x: func(x))\n",
    "def func(x):\n",
    "    return x[0]\n",
    "train_new['third_keyword_three'] = train_new.third_keyword_three.apply(lambda x: func(x))"
   ]
  },
  {
   "cell_type": "markdown",
   "id": "29c183c4",
   "metadata": {},
   "source": [
    "## Sample of Keyword with keyword scores"
   ]
  },
  {
   "cell_type": "code",
   "execution_count": 22,
   "id": "24b3c580",
   "metadata": {},
   "outputs": [
    {
     "data": {
      "text/html": [
       "<div>\n",
       "<style scoped>\n",
       "    .dataframe tbody tr th:only-of-type {\n",
       "        vertical-align: middle;\n",
       "    }\n",
       "\n",
       "    .dataframe tbody tr th {\n",
       "        vertical-align: top;\n",
       "    }\n",
       "\n",
       "    .dataframe thead th {\n",
       "        text-align: right;\n",
       "    }\n",
       "</style>\n",
       "<table border=\"1\" class=\"dataframe\">\n",
       "  <thead>\n",
       "    <tr style=\"text-align: right;\">\n",
       "      <th></th>\n",
       "      <th>first_keyword_score_three</th>\n",
       "      <th>first_keyword_three</th>\n",
       "      <th>second_keyword_three</th>\n",
       "      <th>second_keyword_score_three</th>\n",
       "      <th>third_keyword_three</th>\n",
       "      <th>third_keyword_score_three</th>\n",
       "    </tr>\n",
       "  </thead>\n",
       "  <tbody>\n",
       "    <tr>\n",
       "      <th>394</th>\n",
       "      <td>0.9612</td>\n",
       "      <td>urination palpitation med</td>\n",
       "      <td>bleeding</td>\n",
       "      <td>0.2401</td>\n",
       "      <td>constipation diarrhea</td>\n",
       "      <td>-0.3059</td>\n",
       "    </tr>\n",
       "    <tr>\n",
       "      <th>6</th>\n",
       "      <td>0.9730</td>\n",
       "      <td>time took aderol</td>\n",
       "      <td>pain tingling extremity</td>\n",
       "      <td>0.4103</td>\n",
       "      <td>thyroid disease</td>\n",
       "      <td>-0.2307</td>\n",
       "    </tr>\n",
       "    <tr>\n",
       "      <th>737</th>\n",
       "      <td>0.9780</td>\n",
       "      <td>day used tampon</td>\n",
       "      <td>heat intolerance</td>\n",
       "      <td>0.2715</td>\n",
       "      <td>allergy</td>\n",
       "      <td>-0.2350</td>\n",
       "    </tr>\n",
       "    <tr>\n",
       "      <th>165</th>\n",
       "      <td>0.9623</td>\n",
       "      <td>aggravates pain ibuprofuen</td>\n",
       "      <td>crampy</td>\n",
       "      <td>0.5021</td>\n",
       "      <td>diarrhea</td>\n",
       "      <td>-0.3125</td>\n",
       "    </tr>\n",
       "    <tr>\n",
       "      <th>466</th>\n",
       "      <td>0.9681</td>\n",
       "      <td>intrest concentration hx</td>\n",
       "      <td>difficulty falling asleep</td>\n",
       "      <td>0.3513</td>\n",
       "      <td>hypothyroid psychiatric disorder</td>\n",
       "      <td>-0.2382</td>\n",
       "    </tr>\n",
       "    <tr>\n",
       "      <th>196</th>\n",
       "      <td>0.9587</td>\n",
       "      <td>noncontributory sh sjhe</td>\n",
       "      <td>fever</td>\n",
       "      <td>0.1799</td>\n",
       "      <td>dysmenorrhoea</td>\n",
       "      <td>-0.4014</td>\n",
       "    </tr>\n",
       "    <tr>\n",
       "      <th>891</th>\n",
       "      <td>0.9733</td>\n",
       "      <td>hctz lisinopril fmhx</td>\n",
       "      <td>depression</td>\n",
       "      <td>0.0452</td>\n",
       "      <td>auditory hallucination</td>\n",
       "      <td>-0.4043</td>\n",
       "    </tr>\n",
       "    <tr>\n",
       "      <th>460</th>\n",
       "      <td>0.9691</td>\n",
       "      <td>ha stressful lecturing</td>\n",
       "      <td>falling</td>\n",
       "      <td>0.4148</td>\n",
       "      <td>edema</td>\n",
       "      <td>-0.1398</td>\n",
       "    </tr>\n",
       "    <tr>\n",
       "      <th>82</th>\n",
       "      <td>0.9643</td>\n",
       "      <td>drinker adderal use</td>\n",
       "      <td>denies dizziness intolerance</td>\n",
       "      <td>0.5277</td>\n",
       "      <td>diarrhea</td>\n",
       "      <td>-0.3037</td>\n",
       "    </tr>\n",
       "    <tr>\n",
       "      <th>642</th>\n",
       "      <td>0.9730</td>\n",
       "      <td>tyelonol prn fhx</td>\n",
       "      <td>muscle ache</td>\n",
       "      <td>0.4088</td>\n",
       "      <td>allergy</td>\n",
       "      <td>-0.1521</td>\n",
       "    </tr>\n",
       "  </tbody>\n",
       "</table>\n",
       "</div>"
      ],
      "text/plain": [
       "     first_keyword_score_three         first_keyword_three  \\\n",
       "394                     0.9612   urination palpitation med   \n",
       "6                       0.9730            time took aderol   \n",
       "737                     0.9780             day used tampon   \n",
       "165                     0.9623  aggravates pain ibuprofuen   \n",
       "466                     0.9681    intrest concentration hx   \n",
       "196                     0.9587     noncontributory sh sjhe   \n",
       "891                     0.9733        hctz lisinopril fmhx   \n",
       "460                     0.9691      ha stressful lecturing   \n",
       "82                      0.9643         drinker adderal use   \n",
       "642                     0.9730            tyelonol prn fhx   \n",
       "\n",
       "             second_keyword_three  second_keyword_score_three  \\\n",
       "394                      bleeding                      0.2401   \n",
       "6         pain tingling extremity                      0.4103   \n",
       "737              heat intolerance                      0.2715   \n",
       "165                        crampy                      0.5021   \n",
       "466     difficulty falling asleep                      0.3513   \n",
       "196                         fever                      0.1799   \n",
       "891                    depression                      0.0452   \n",
       "460                       falling                      0.4148   \n",
       "82   denies dizziness intolerance                      0.5277   \n",
       "642                   muscle ache                      0.4088   \n",
       "\n",
       "                  third_keyword_three  third_keyword_score_three  \n",
       "394             constipation diarrhea                    -0.3059  \n",
       "6                     thyroid disease                    -0.2307  \n",
       "737                           allergy                    -0.2350  \n",
       "165                          diarrhea                    -0.3125  \n",
       "466  hypothyroid psychiatric disorder                    -0.2382  \n",
       "196                     dysmenorrhoea                    -0.4014  \n",
       "891            auditory hallucination                    -0.4043  \n",
       "460                             edema                    -0.1398  \n",
       "82                           diarrhea                    -0.3037  \n",
       "642                           allergy                    -0.1521  "
      ]
     },
     "execution_count": 22,
     "metadata": {},
     "output_type": "execute_result"
    }
   ],
   "source": [
    "train_new[[\"first_keyword_score_three\",\"first_keyword_three\",\"second_keyword_three\",\"second_keyword_score_three\",\"third_keyword_three\",\"third_keyword_score_three\"]].sample(10)"
   ]
  },
  {
   "cell_type": "code",
   "execution_count": 23,
   "id": "4a245250",
   "metadata": {},
   "outputs": [],
   "source": [
    "train.to_csv(\"three_keywords_extraction_with_score_biobert_diseases_ner.csv\")"
   ]
  },
  {
   "cell_type": "markdown",
   "id": "16e70584",
   "metadata": {},
   "source": [
    "## Extracting 4 keywords"
   ]
  },
  {
   "cell_type": "code",
   "execution_count": 24,
   "id": "714e987a",
   "metadata": {},
   "outputs": [
    {
     "name": "stderr",
     "output_type": "stream",
     "text": [
      "1000it [42:11,  2.53s/it]\n"
     ]
    }
   ],
   "source": [
    "l = []\n",
    "for index, row in tqdm(train.iterrows()):\n",
    "    l.append(model.extract_keywords(\n",
    "                row['pn_history_preprocessed'],\n",
    "                top_n=3,\n",
    "                keyphrase_ngram_range=(1, 4),\n",
    "                use_mmr=True, \n",
    "                diversity=0.7))"
   ]
  },
  {
   "cell_type": "code",
   "execution_count": 25,
   "id": "dce7a09e",
   "metadata": {},
   "outputs": [],
   "source": [
    "train_new['third_keyword_score_three'] = train_new['third_keyword_score']"
   ]
  },
  {
   "cell_type": "code",
   "execution_count": 26,
   "id": "e77cfd03",
   "metadata": {},
   "outputs": [],
   "source": [
    "train_new_new = train_new.join(pd.DataFrame(l, columns=['first_keyword_four', 'second_keyword_four', 'third_keyword_four']))\n"
   ]
  },
  {
   "cell_type": "code",
   "execution_count": 27,
   "id": "ec9f7b88",
   "metadata": {},
   "outputs": [],
   "source": [
    "train_new_new.to_csv(\"four_keywords_extraction_biobert_diseases_ner.csv\")"
   ]
  },
  {
   "cell_type": "code",
   "execution_count": 28,
   "id": "e8e1eb45",
   "metadata": {},
   "outputs": [],
   "source": [
    "def func(x):\n",
    "    return x[1]\n",
    "train_new_new['first_keyword_score_four'] = train_new_new.first_keyword_four.apply(lambda x: func(x))\n",
    "def func(x):\n",
    "    return x[0]\n",
    "train_new_new['first_keyword_four'] = train_new_new.first_keyword_four.apply(lambda x: func(x))\n",
    "\n",
    "def func(x):\n",
    "    return x[1]\n",
    "train_new_new['second_keyword_score_four'] = train_new_new.second_keyword_four.apply(lambda x: func(x))\n",
    "def func(x):\n",
    "    return x[0]\n",
    "train_new_new['second_keyword_four'] = train_new_new.second_keyword_four.apply(lambda x: func(x))\n",
    "\n",
    "def func(x):\n",
    "    return x[1]\n",
    "train_new_new['third_keyword_score_four'] = train_new_new.third_keyword_four.apply(lambda x: func(x))\n",
    "def func(x):\n",
    "    return x[0]\n",
    "train_new_new['third_keyword_four'] = train_new_new.third_keyword_four.apply(lambda x: func(x))"
   ]
  },
  {
   "cell_type": "markdown",
   "id": "2d4a4474",
   "metadata": {},
   "source": [
    "## Sample of Keyword with keyword scores"
   ]
  },
  {
   "cell_type": "code",
   "execution_count": 29,
   "id": "1fefa14e",
   "metadata": {},
   "outputs": [
    {
     "data": {
      "text/html": [
       "<div>\n",
       "<style scoped>\n",
       "    .dataframe tbody tr th:only-of-type {\n",
       "        vertical-align: middle;\n",
       "    }\n",
       "\n",
       "    .dataframe tbody tr th {\n",
       "        vertical-align: top;\n",
       "    }\n",
       "\n",
       "    .dataframe thead th {\n",
       "        text-align: right;\n",
       "    }\n",
       "</style>\n",
       "<table border=\"1\" class=\"dataframe\">\n",
       "  <thead>\n",
       "    <tr style=\"text-align: right;\">\n",
       "      <th></th>\n",
       "      <th>first_keyword_score_four</th>\n",
       "      <th>first_keyword_four</th>\n",
       "      <th>second_keyword_score_four</th>\n",
       "      <th>second_keyword_four</th>\n",
       "      <th>third_keyword_three</th>\n",
       "      <th>third_keyword_score_three</th>\n",
       "    </tr>\n",
       "  </thead>\n",
       "  <tbody>\n",
       "    <tr>\n",
       "      <th>978</th>\n",
       "      <td>0.9740</td>\n",
       "      <td>obgyn report menstrual cycle</td>\n",
       "      <td>0.2672</td>\n",
       "      <td>pain</td>\n",
       "      <td>hypercholesteremia</td>\n",
       "      <td>-0.3704</td>\n",
       "    </tr>\n",
       "    <tr>\n",
       "      <th>674</th>\n",
       "      <td>0.9718</td>\n",
       "      <td>albuterol allergy nka hospitalisation</td>\n",
       "      <td>0.3058</td>\n",
       "      <td>pain</td>\n",
       "      <td>cough phlegm</td>\n",
       "      <td>-0.1710</td>\n",
       "    </tr>\n",
       "    <tr>\n",
       "      <th>511</th>\n",
       "      <td>0.9688</td>\n",
       "      <td>condominium atlanta report increased</td>\n",
       "      <td>0.5286</td>\n",
       "      <td>day palpitation associated</td>\n",
       "      <td>sexual trauma</td>\n",
       "      <td>-0.1577</td>\n",
       "    </tr>\n",
       "    <tr>\n",
       "      <th>514</th>\n",
       "      <td>0.9751</td>\n",
       "      <td>factor ro pmhx neg</td>\n",
       "      <td>0.5891</td>\n",
       "      <td>visit palpitation report</td>\n",
       "      <td>finger numbness</td>\n",
       "      <td>0.1032</td>\n",
       "    </tr>\n",
       "    <tr>\n",
       "      <th>58</th>\n",
       "      <td>0.9788</td>\n",
       "      <td>cosumes roommate prescription aldereol</td>\n",
       "      <td>0.4393</td>\n",
       "      <td>vomit nausea</td>\n",
       "      <td>allergy</td>\n",
       "      <td>-0.2185</td>\n",
       "    </tr>\n",
       "    <tr>\n",
       "      <th>528</th>\n",
       "      <td>0.9695</td>\n",
       "      <td>limit episode occcuring day</td>\n",
       "      <td>0.4437</td>\n",
       "      <td>alcohol illicit</td>\n",
       "      <td>night sweat allergy</td>\n",
       "      <td>-0.2496</td>\n",
       "    </tr>\n",
       "    <tr>\n",
       "      <th>552</th>\n",
       "      <td>0.9749</td>\n",
       "      <td>bought condo month ago</td>\n",
       "      <td>0.2776</td>\n",
       "      <td>pain</td>\n",
       "      <td>lupus</td>\n",
       "      <td>-0.1975</td>\n",
       "    </tr>\n",
       "    <tr>\n",
       "      <th>26</th>\n",
       "      <td>0.9791</td>\n",
       "      <td>college roomates prescription amphetimine</td>\n",
       "      <td>0.3605</td>\n",
       "      <td>sleep urinary bowel</td>\n",
       "      <td>heart attack</td>\n",
       "      <td>-0.0647</td>\n",
       "    </tr>\n",
       "    <tr>\n",
       "      <th>6</th>\n",
       "      <td>0.9796</td>\n",
       "      <td>college ha taking aderol</td>\n",
       "      <td>0.4361</td>\n",
       "      <td>palpitation ro</td>\n",
       "      <td>thyroid disease</td>\n",
       "      <td>-0.2307</td>\n",
       "    </tr>\n",
       "    <tr>\n",
       "      <th>898</th>\n",
       "      <td>0.9651</td>\n",
       "      <td>appendix med hctz 25mg</td>\n",
       "      <td>0.4213</td>\n",
       "      <td>fatigue</td>\n",
       "      <td>insomnia</td>\n",
       "      <td>-0.2024</td>\n",
       "    </tr>\n",
       "  </tbody>\n",
       "</table>\n",
       "</div>"
      ],
      "text/plain": [
       "     first_keyword_score_four                         first_keyword_four  \\\n",
       "978                    0.9740               obgyn report menstrual cycle   \n",
       "674                    0.9718      albuterol allergy nka hospitalisation   \n",
       "511                    0.9688       condominium atlanta report increased   \n",
       "514                    0.9751                         factor ro pmhx neg   \n",
       "58                     0.9788     cosumes roommate prescription aldereol   \n",
       "528                    0.9695                limit episode occcuring day   \n",
       "552                    0.9749                     bought condo month ago   \n",
       "26                     0.9791  college roomates prescription amphetimine   \n",
       "6                      0.9796                   college ha taking aderol   \n",
       "898                    0.9651                     appendix med hctz 25mg   \n",
       "\n",
       "     second_keyword_score_four         second_keyword_four  \\\n",
       "978                     0.2672                        pain   \n",
       "674                     0.3058                        pain   \n",
       "511                     0.5286  day palpitation associated   \n",
       "514                     0.5891    visit palpitation report   \n",
       "58                      0.4393                vomit nausea   \n",
       "528                     0.4437             alcohol illicit   \n",
       "552                     0.2776                        pain   \n",
       "26                      0.3605         sleep urinary bowel   \n",
       "6                       0.4361              palpitation ro   \n",
       "898                     0.4213                     fatigue   \n",
       "\n",
       "     third_keyword_three  third_keyword_score_three  \n",
       "978   hypercholesteremia                    -0.3704  \n",
       "674         cough phlegm                    -0.1710  \n",
       "511        sexual trauma                    -0.1577  \n",
       "514      finger numbness                     0.1032  \n",
       "58               allergy                    -0.2185  \n",
       "528  night sweat allergy                    -0.2496  \n",
       "552                lupus                    -0.1975  \n",
       "26          heart attack                    -0.0647  \n",
       "6        thyroid disease                    -0.2307  \n",
       "898             insomnia                    -0.2024  "
      ]
     },
     "execution_count": 29,
     "metadata": {},
     "output_type": "execute_result"
    }
   ],
   "source": [
    "train_new_new[[\"first_keyword_score_four\",\"first_keyword_four\",\"second_keyword_score_four\",\"second_keyword_four\",\"third_keyword_three\",\"third_keyword_score_three\"]].sample(10)"
   ]
  },
  {
   "cell_type": "code",
   "execution_count": 30,
   "id": "0ed3fbae",
   "metadata": {},
   "outputs": [],
   "source": [
    "train_new_new.to_csv(\"all_keywords_with_score_biobert_diseases_ner.csv\")"
   ]
  },
  {
   "cell_type": "code",
   "execution_count": 32,
   "id": "0abad3fa",
   "metadata": {},
   "outputs": [],
   "source": [
    "train_with_scores = train_new_new.copy()"
   ]
  },
  {
   "cell_type": "code",
   "execution_count": 33,
   "id": "a7500f0a",
   "metadata": {},
   "outputs": [],
   "source": [
    "train_with_scores = pd.read_csv(\"all_keywords_with_score_biobert_diseases_ner.csv\")"
   ]
  },
  {
   "cell_type": "code",
   "execution_count": 34,
   "id": "f3051965",
   "metadata": {},
   "outputs": [],
   "source": [
    "train_with_scores = train_with_scores[['id', 'case_num', 'pn_num', 'feature_num', 'annotation', 'location', 'feature_text', 'pn_history', 'pn_history_lower', 'pn_history_noContractions', 'pn_history_noUnicode', 'pn_history_noPuncts', 'pn_history_noES', 'pn_history_preprocessed', 'first_keyword', 'second_keyword', 'third_keyword', 'first_keyword_score', 'second_keyword_score', 'third_keyword_score', 'first_keyword_three', 'second_keyword_three', 'third_keyword_three', 'first_keyword_score_three', 'second_keyword_score_three', 'third_keyword_score_three', 'first_keyword_four', 'second_keyword_four', 'third_keyword_four', 'first_keyword_score_four', 'second_keyword_score_four', 'third_keyword_score_four']]"
   ]
  },
  {
   "cell_type": "code",
   "execution_count": 35,
   "id": "5cf67473",
   "metadata": {
    "scrolled": true
   },
   "outputs": [],
   "source": [
    "train_with_scores = train_with_scores.iloc[:,14:]"
   ]
  },
  {
   "cell_type": "code",
   "execution_count": 36,
   "id": "972ed15b",
   "metadata": {},
   "outputs": [
    {
     "data": {
      "text/plain": [
       "0.25    0.95730\n",
       "0.50    0.96240\n",
       "0.75    0.96660\n",
       "0.90    0.97021\n",
       "Name: first_keyword_score, dtype: float64"
      ]
     },
     "execution_count": 36,
     "metadata": {},
     "output_type": "execute_result"
    }
   ],
   "source": [
    "train_with_scores.first_keyword_score.quantile([0.25, 0.5, 0.75, 0.9])"
   ]
  },
  {
   "cell_type": "code",
   "execution_count": 37,
   "id": "0b0f8b6f",
   "metadata": {},
   "outputs": [
    {
     "data": {
      "text/plain": [
       "0.25    0.273400\n",
       "0.50    0.334700\n",
       "0.75    0.431625\n",
       "0.90    0.506930\n",
       "Name: second_keyword_score, dtype: float64"
      ]
     },
     "execution_count": 37,
     "metadata": {},
     "output_type": "execute_result"
    }
   ],
   "source": [
    "train_with_scores.second_keyword_score.quantile([0.25, 0.5, 0.75, 0.9])"
   ]
  },
  {
   "cell_type": "code",
   "execution_count": 38,
   "id": "e050ce1a",
   "metadata": {
    "scrolled": true
   },
   "outputs": [
    {
     "data": {
      "text/plain": [
       "0.25   -0.343775\n",
       "0.50   -0.271450\n",
       "0.75   -0.180750\n",
       "0.90   -0.113670\n",
       "Name: third_keyword_score, dtype: float64"
      ]
     },
     "execution_count": 38,
     "metadata": {},
     "output_type": "execute_result"
    }
   ],
   "source": [
    "train_with_scores.third_keyword_score.quantile([0.25, 0.5, 0.75, 0.9])"
   ]
  },
  {
   "cell_type": "markdown",
   "id": "120e6220",
   "metadata": {},
   "source": [
    "### selecting those keywords which have a cosine similarity more than 0.25"
   ]
  },
  {
   "cell_type": "code",
   "execution_count": 39,
   "id": "4014fed9",
   "metadata": {},
   "outputs": [],
   "source": [
    "train_with_scores.first_keyword = np.where(train_with_scores.first_keyword_score > 0.25, train_with_scores.first_keyword, np.nan)\n",
    "train_with_scores.second_keyword = np.where(train_with_scores.second_keyword_score > 0.25, train_with_scores.second_keyword, np.nan)\n",
    "train_with_scores.third_keyword = np.where(train_with_scores.third_keyword_score > 0.25, train_with_scores.third_keyword, np.nan)"
   ]
  },
  {
   "cell_type": "code",
   "execution_count": 40,
   "id": "0d9a5022",
   "metadata": {},
   "outputs": [
    {
     "data": {
      "text/plain": [
       "(0.9624, 0.3347, -0.27144999999999997)"
      ]
     },
     "execution_count": 40,
     "metadata": {},
     "output_type": "execute_result"
    }
   ],
   "source": [
    "train_with_scores.first_keyword_score.median(), train_with_scores.second_keyword_score.median(), train_with_scores.third_keyword_score.median()\n"
   ]
  },
  {
   "cell_type": "code",
   "execution_count": 41,
   "id": "ba35d305",
   "metadata": {},
   "outputs": [],
   "source": [
    "train_with_scores.first_keyword_three = np.where(train_with_scores.first_keyword_score_three > 0.25, train_with_scores.first_keyword_three, np.nan)\n",
    "train_with_scores.second_keyword_three = np.where(train_with_scores.second_keyword_score_three > 0.25, train_with_scores.second_keyword_three, np.nan)\n",
    "train_with_scores.third_keyword_three = np.where(train_with_scores.third_keyword_score_three > 0.25, train_with_scores.third_keyword_three, np.nan)\n"
   ]
  },
  {
   "cell_type": "code",
   "execution_count": 42,
   "id": "43749837",
   "metadata": {},
   "outputs": [],
   "source": [
    "train_with_scores.first_keyword_four = np.where(train_with_scores.first_keyword_score_four > 0.25, train_with_scores.first_keyword_four, np.nan)\n",
    "train_with_scores.second_keyword_four = np.where(train_with_scores.second_keyword_score_four > 0.25, train_with_scores.second_keyword_four, np.nan)\n",
    "train_with_scores.third_keyword_four = np.where(train_with_scores.third_keyword_score_four > 0.25, train_with_scores.third_keyword_four, np.nan)\n"
   ]
  },
  {
   "cell_type": "code",
   "execution_count": 43,
   "id": "c15dd1c3",
   "metadata": {},
   "outputs": [],
   "source": [
    "train_new_new = pd.read_csv(\"all_keywords_with_score_biobert_diseases_ner.csv\")"
   ]
  },
  {
   "cell_type": "code",
   "execution_count": 44,
   "id": "4fdb003a",
   "metadata": {},
   "outputs": [],
   "source": [
    "train_with_scores = train_new_new[['id', 'pn_num', 'pn_history_preprocessed']].join(train_with_scores)"
   ]
  },
  {
   "cell_type": "code",
   "execution_count": 45,
   "id": "4d78625e",
   "metadata": {},
   "outputs": [
    {
     "data": {
      "text/plain": [
       "array([nan], dtype=object)"
      ]
     },
     "execution_count": 45,
     "metadata": {},
     "output_type": "execute_result"
    }
   ],
   "source": [
    "train_with_scores[:1].third_keyword.values"
   ]
  },
  {
   "cell_type": "markdown",
   "id": "a91e3afb",
   "metadata": {},
   "source": [
    "### Predicting Annotations"
   ]
  },
  {
   "cell_type": "code",
   "execution_count": 46,
   "id": "c9b25927",
   "metadata": {},
   "outputs": [],
   "source": [
    "def func(x):\n",
    "    all_annotation = []\n",
    "    for annotation in [x.first_keyword, x.second_keyword, x.third_keyword, \n",
    "                       x.first_keyword_three, x.second_keyword_three, x.third_keyword_three,\n",
    "                       x.first_keyword_four, x.second_keyword_four, x.third_keyword_four]:\n",
    "        \n",
    "        if str(annotation) != 'nan':\n",
    "            all_annotation.append(str(annotation))\n",
    "    return list(set(all_annotation))\n",
    "    \n",
    "train_with_scores['predicted_annotation'] = train_with_scores.apply(lambda x: func(x), axis=1)"
   ]
  },
  {
   "cell_type": "code",
   "execution_count": 47,
   "id": "fa93420e",
   "metadata": {},
   "outputs": [
    {
     "data": {
      "text/html": [
       "<div>\n",
       "<style scoped>\n",
       "    .dataframe tbody tr th:only-of-type {\n",
       "        vertical-align: middle;\n",
       "    }\n",
       "\n",
       "    .dataframe tbody tr th {\n",
       "        vertical-align: top;\n",
       "    }\n",
       "\n",
       "    .dataframe thead th {\n",
       "        text-align: right;\n",
       "    }\n",
       "</style>\n",
       "<table border=\"1\" class=\"dataframe\">\n",
       "  <thead>\n",
       "    <tr style=\"text-align: right;\">\n",
       "      <th></th>\n",
       "      <th>pn_num</th>\n",
       "      <th>predicted_annotation</th>\n",
       "    </tr>\n",
       "  </thead>\n",
       "  <tbody>\n",
       "    <tr>\n",
       "      <th>0</th>\n",
       "      <td>16</td>\n",
       "      <td>[urinary habit pmhx, bowel urinary habit pmhx, urinary habit, fever chill headache, fatigue]</td>\n",
       "    </tr>\n",
       "    <tr>\n",
       "      <th>1</th>\n",
       "      <td>41</td>\n",
       "      <td>[ro neg pmh, drug mo, thyroid problem, ro neg pmh med, problem sh sex active]</td>\n",
       "    </tr>\n",
       "    <tr>\n",
       "      <th>2</th>\n",
       "      <td>46</td>\n",
       "      <td>[prescription adderall, gf use condom, heat intolerance, using roommate prescription adderall]</td>\n",
       "    </tr>\n",
       "    <tr>\n",
       "      <th>3</th>\n",
       "      <td>82</td>\n",
       "      <td>[headedness shortness breath pt, week time pt doe, week doe smoke, month episodic heart, dizziness change, week doe]</td>\n",
       "    </tr>\n",
       "    <tr>\n",
       "      <th>4</th>\n",
       "      <td>100</td>\n",
       "      <td>[headache dizziness loss conciousness, urinary habit ro, urinary habit, urinary habit ro hpi, pain]</td>\n",
       "    </tr>\n",
       "    <tr>\n",
       "      <th>...</th>\n",
       "      <td>...</td>\n",
       "      <td>...</td>\n",
       "    </tr>\n",
       "    <tr>\n",
       "      <th>995</th>\n",
       "      <td>95145</td>\n",
       "      <td>[urinary change, bowel urinary change, bending, appetitie change recent travel]</td>\n",
       "    </tr>\n",
       "    <tr>\n",
       "      <th>996</th>\n",
       "      <td>95228</td>\n",
       "      <td>[x2 day uri symptom, hx, day uri, photosensitivity, symptom x2 day]</td>\n",
       "    </tr>\n",
       "    <tr>\n",
       "      <th>997</th>\n",
       "      <td>95243</td>\n",
       "      <td>[patient ha tried tylenol, ha tried tylenol, chill chest, tried tylenol]</td>\n",
       "    </tr>\n",
       "    <tr>\n",
       "      <th>998</th>\n",
       "      <td>95330</td>\n",
       "      <td>[pain, 3x yesterday sick contact, yr usually mild, ha ibuprofen]</td>\n",
       "    </tr>\n",
       "    <tr>\n",
       "      <th>999</th>\n",
       "      <td>95333</td>\n",
       "      <td>[etoh drink weekend marijuna, vomiting dizzyness lightheadedness, drink weekend marijuna, etoh drink, pain]</td>\n",
       "    </tr>\n",
       "  </tbody>\n",
       "</table>\n",
       "<p>1000 rows × 2 columns</p>\n",
       "</div>"
      ],
      "text/plain": [
       "     pn_num                                                                                                  predicted_annotation\n",
       "0        16                          [urinary habit pmhx, bowel urinary habit pmhx, urinary habit, fever chill headache, fatigue]\n",
       "1        41                                         [ro neg pmh, drug mo, thyroid problem, ro neg pmh med, problem sh sex active]\n",
       "2        46                        [prescription adderall, gf use condom, heat intolerance, using roommate prescription adderall]\n",
       "3        82  [headedness shortness breath pt, week time pt doe, week doe smoke, month episodic heart, dizziness change, week doe]\n",
       "4       100                   [headache dizziness loss conciousness, urinary habit ro, urinary habit, urinary habit ro hpi, pain]\n",
       "..      ...                                                                                                                   ...\n",
       "995   95145                                       [urinary change, bowel urinary change, bending, appetitie change recent travel]\n",
       "996   95228                                                   [x2 day uri symptom, hx, day uri, photosensitivity, symptom x2 day]\n",
       "997   95243                                              [patient ha tried tylenol, ha tried tylenol, chill chest, tried tylenol]\n",
       "998   95330                                                      [pain, 3x yesterday sick contact, yr usually mild, ha ibuprofen]\n",
       "999   95333           [etoh drink weekend marijuna, vomiting dizzyness lightheadedness, drink weekend marijuna, etoh drink, pain]\n",
       "\n",
       "[1000 rows x 2 columns]"
      ]
     },
     "execution_count": 47,
     "metadata": {},
     "output_type": "execute_result"
    }
   ],
   "source": [
    "train_with_scores[['pn_num', 'predicted_annotation']]"
   ]
  },
  {
   "cell_type": "code",
   "execution_count": 48,
   "id": "33f4f146",
   "metadata": {},
   "outputs": [],
   "source": [
    "train_with_scores.to_csv(\"final_annotations_biobert_diseases_ner\")"
   ]
  },
  {
   "cell_type": "markdown",
   "id": "7880643f",
   "metadata": {},
   "source": [
    "### Evaluation Phase 1 : Using Fuzzy Wuzzy Techniques"
   ]
  },
  {
   "cell_type": "code",
   "execution_count": 50,
   "id": "bdf1f3ab",
   "metadata": {},
   "outputs": [],
   "source": [
    "train_with_scores = pd.read_csv(\"final_annotations_biobert_diseases_ner\",index_col=[0])"
   ]
  },
  {
   "cell_type": "code",
   "execution_count": 51,
   "id": "31ac162f",
   "metadata": {},
   "outputs": [],
   "source": [
    "from thefuzz import fuzz\n",
    "from thefuzz import process"
   ]
  },
  {
   "cell_type": "code",
   "execution_count": 52,
   "id": "048141e7",
   "metadata": {},
   "outputs": [
    {
     "data": {
      "text/html": [
       "<div>\n",
       "<style scoped>\n",
       "    .dataframe tbody tr th:only-of-type {\n",
       "        vertical-align: middle;\n",
       "    }\n",
       "\n",
       "    .dataframe tbody tr th {\n",
       "        vertical-align: top;\n",
       "    }\n",
       "\n",
       "    .dataframe thead th {\n",
       "        text-align: right;\n",
       "    }\n",
       "</style>\n",
       "<table border=\"1\" class=\"dataframe\">\n",
       "  <thead>\n",
       "    <tr style=\"text-align: right;\">\n",
       "      <th></th>\n",
       "      <th>id</th>\n",
       "      <th>case_num</th>\n",
       "      <th>pn_num</th>\n",
       "      <th>feature_num</th>\n",
       "      <th>annotation</th>\n",
       "      <th>location</th>\n",
       "      <th>feature_text</th>\n",
       "      <th>pn_history</th>\n",
       "      <th>pn_history_preprocessed</th>\n",
       "    </tr>\n",
       "  </thead>\n",
       "  <tbody>\n",
       "    <tr>\n",
       "      <th>0</th>\n",
       "      <td>00016_000</td>\n",
       "      <td>0</td>\n",
       "      <td>16</td>\n",
       "      <td>0</td>\n",
       "      <td>['dad with recent heart attcak']</td>\n",
       "      <td>['696 724']</td>\n",
       "      <td>Family-history-of-MI-OR-Family-history-of-myocardial-infarction</td>\n",
       "      <td>HPI: 17yo M presents with palpitations. Patient reports 3-4 months of intermittent episodes of \"heart beating/pounding out of my chest.\" 2 days ago during a soccer game had an episode, but this time had chest pressure and felt as if he were going to pass out (did not lose conciousness). Of note patient endorses abusing adderall, primarily to study (1-3 times per week). Before recent soccer game, took adderrall night before and morning of game. Denies shortness of breath, diaphoresis, fevers, chills, headache, fatigue, changes in sleep, changes in vision/hearing, abdominal paun, changes in bowel or urinary habits. \\r\\nPMHx: none\\r\\nRx: uses friends adderrall\\r\\nFHx: mom with \"thyroid disease,\" dad with recent heart attcak\\r\\nAll: none\\r\\nImmunizations: up to date\\r\\nSHx: Freshmen in college. Endorses 3-4 drinks 3 nights / week (on weekends), denies tabacco, endorses trying marijuana. Sexually active with girlfriend x 1 year, uses condoms</td>\n",
       "      <td>hpi 17yo m present with palpitation patient report 3 4 month of intermittent episode of heart beating pounding out of my chest 2 day ago during a soccer game had an episode but this time had chest pressure and felt a if he were going to pas out did not lose conciousness of note patient endorses abusing adderall primarily to study 1 3 time per week before recent soccer game took adderrall night before and morning of game denies shortness of breath diaphoresis fever chill headache fatigue change in sleep change in vision hearing abdominal paun change in bowel or urinary habit pmhx none rx us friend adderrall fhx mom with thyroid disease dad with recent heart attcak all none immunization up to date shx freshman in college endorses 3 4 drink 3 night week on weekend denies tabacco endorses trying marijuana sexually active with girlfriend x 1 year us condom</td>\n",
       "    </tr>\n",
       "    <tr>\n",
       "      <th>1</th>\n",
       "      <td>00016_001</td>\n",
       "      <td>0</td>\n",
       "      <td>16</td>\n",
       "      <td>1</td>\n",
       "      <td>['mom with \"thyroid disease']</td>\n",
       "      <td>['668 693']</td>\n",
       "      <td>Family-history-of-thyroid-disorder</td>\n",
       "      <td>HPI: 17yo M presents with palpitations. Patient reports 3-4 months of intermittent episodes of \"heart beating/pounding out of my chest.\" 2 days ago during a soccer game had an episode, but this time had chest pressure and felt as if he were going to pass out (did not lose conciousness). Of note patient endorses abusing adderall, primarily to study (1-3 times per week). Before recent soccer game, took adderrall night before and morning of game. Denies shortness of breath, diaphoresis, fevers, chills, headache, fatigue, changes in sleep, changes in vision/hearing, abdominal paun, changes in bowel or urinary habits. \\r\\nPMHx: none\\r\\nRx: uses friends adderrall\\r\\nFHx: mom with \"thyroid disease,\" dad with recent heart attcak\\r\\nAll: none\\r\\nImmunizations: up to date\\r\\nSHx: Freshmen in college. Endorses 3-4 drinks 3 nights / week (on weekends), denies tabacco, endorses trying marijuana. Sexually active with girlfriend x 1 year, uses condoms</td>\n",
       "      <td>hpi 17yo m present with palpitation patient report 3 4 month of intermittent episode of heart beating pounding out of my chest 2 day ago during a soccer game had an episode but this time had chest pressure and felt a if he were going to pas out did not lose conciousness of note patient endorses abusing adderall primarily to study 1 3 time per week before recent soccer game took adderrall night before and morning of game denies shortness of breath diaphoresis fever chill headache fatigue change in sleep change in vision hearing abdominal paun change in bowel or urinary habit pmhx none rx us friend adderrall fhx mom with thyroid disease dad with recent heart attcak all none immunization up to date shx freshman in college endorses 3 4 drink 3 night week on weekend denies tabacco endorses trying marijuana sexually active with girlfriend x 1 year us condom</td>\n",
       "    </tr>\n",
       "  </tbody>\n",
       "</table>\n",
       "</div>"
      ],
      "text/plain": [
       "          id  case_num  pn_num  feature_num                        annotation     location                                                     feature_text  \\\n",
       "0  00016_000         0      16            0  ['dad with recent heart attcak']  ['696 724']  Family-history-of-MI-OR-Family-history-of-myocardial-infarction   \n",
       "1  00016_001         0      16            1     ['mom with \"thyroid disease']  ['668 693']                               Family-history-of-thyroid-disorder   \n",
       "\n",
       "                                                                                                                                                                                                                                                                                                                                                                                                                                                                                                                                                                                                                                                                                                                                                                                                                                                                                                                                                                               pn_history  \\\n",
       "0  HPI: 17yo M presents with palpitations. Patient reports 3-4 months of intermittent episodes of \"heart beating/pounding out of my chest.\" 2 days ago during a soccer game had an episode, but this time had chest pressure and felt as if he were going to pass out (did not lose conciousness). Of note patient endorses abusing adderall, primarily to study (1-3 times per week). Before recent soccer game, took adderrall night before and morning of game. Denies shortness of breath, diaphoresis, fevers, chills, headache, fatigue, changes in sleep, changes in vision/hearing, abdominal paun, changes in bowel or urinary habits. \\r\\nPMHx: none\\r\\nRx: uses friends adderrall\\r\\nFHx: mom with \"thyroid disease,\" dad with recent heart attcak\\r\\nAll: none\\r\\nImmunizations: up to date\\r\\nSHx: Freshmen in college. Endorses 3-4 drinks 3 nights / week (on weekends), denies tabacco, endorses trying marijuana. Sexually active with girlfriend x 1 year, uses condoms   \n",
       "1  HPI: 17yo M presents with palpitations. Patient reports 3-4 months of intermittent episodes of \"heart beating/pounding out of my chest.\" 2 days ago during a soccer game had an episode, but this time had chest pressure and felt as if he were going to pass out (did not lose conciousness). Of note patient endorses abusing adderall, primarily to study (1-3 times per week). Before recent soccer game, took adderrall night before and morning of game. Denies shortness of breath, diaphoresis, fevers, chills, headache, fatigue, changes in sleep, changes in vision/hearing, abdominal paun, changes in bowel or urinary habits. \\r\\nPMHx: none\\r\\nRx: uses friends adderrall\\r\\nFHx: mom with \"thyroid disease,\" dad with recent heart attcak\\r\\nAll: none\\r\\nImmunizations: up to date\\r\\nSHx: Freshmen in college. Endorses 3-4 drinks 3 nights / week (on weekends), denies tabacco, endorses trying marijuana. Sexually active with girlfriend x 1 year, uses condoms   \n",
       "\n",
       "                                                                                                                                                                                                                                                                                                                                                                                                                                                                                                                                                                                                                                                                                                                                                                                                                                                                           pn_history_preprocessed  \n",
       "0  hpi 17yo m present with palpitation patient report 3 4 month of intermittent episode of heart beating pounding out of my chest 2 day ago during a soccer game had an episode but this time had chest pressure and felt a if he were going to pas out did not lose conciousness of note patient endorses abusing adderall primarily to study 1 3 time per week before recent soccer game took adderrall night before and morning of game denies shortness of breath diaphoresis fever chill headache fatigue change in sleep change in vision hearing abdominal paun change in bowel or urinary habit pmhx none rx us friend adderrall fhx mom with thyroid disease dad with recent heart attcak all none immunization up to date shx freshman in college endorses 3 4 drink 3 night week on weekend denies tabacco endorses trying marijuana sexually active with girlfriend x 1 year us condom  \n",
       "1  hpi 17yo m present with palpitation patient report 3 4 month of intermittent episode of heart beating pounding out of my chest 2 day ago during a soccer game had an episode but this time had chest pressure and felt a if he were going to pas out did not lose conciousness of note patient endorses abusing adderall primarily to study 1 3 time per week before recent soccer game took adderrall night before and morning of game denies shortness of breath diaphoresis fever chill headache fatigue change in sleep change in vision hearing abdominal paun change in bowel or urinary habit pmhx none rx us friend adderrall fhx mom with thyroid disease dad with recent heart attcak all none immunization up to date shx freshman in college endorses 3 4 drink 3 night week on weekend denies tabacco endorses trying marijuana sexually active with girlfriend x 1 year us condom  "
      ]
     },
     "metadata": {},
     "output_type": "display_data"
    }
   ],
   "source": [
    "patient_notes_test = pd.read_csv(\"patient_notes.csv\")\n",
    "#one case number has many pn_num\n",
    "features_test = pd.read_csv(\"features.csv\")\n",
    "#one case has many feature_num\n",
    "test = pd.read_csv(\"train.csv\")\n",
    "test = test.merge(features_test, on=['feature_num', 'case_num'], how='left')\n",
    "test = test.merge(patient_notes_test, on=['pn_num', 'case_num'], how='left')\n",
    "test = test.merge(train_with_scores[['pn_num', 'pn_history_preprocessed']], on=['pn_num'], how='left')\n",
    "pd.set_option('display.max_colwidth', None)\n",
    "display(test.head(2))"
   ]
  },
  {
   "cell_type": "code",
   "execution_count": 5,
   "id": "713ea5a9",
   "metadata": {},
   "outputs": [
    {
     "data": {
      "text/plain": [
       "(14300, 9)"
      ]
     },
     "execution_count": 5,
     "metadata": {},
     "output_type": "execute_result"
    }
   ],
   "source": [
    "test.shape"
   ]
  },
  {
   "cell_type": "code",
   "execution_count": 53,
   "id": "21481d19",
   "metadata": {},
   "outputs": [],
   "source": [
    "test = test.merge(train_with_scores[['pn_num', 'predicted_annotation']], how='left', on='pn_num')"
   ]
  },
  {
   "cell_type": "code",
   "execution_count": 7,
   "id": "796d7ff9",
   "metadata": {},
   "outputs": [
    {
     "data": {
      "text/plain": [
       "(14300, 10)"
      ]
     },
     "execution_count": 7,
     "metadata": {},
     "output_type": "execute_result"
    }
   ],
   "source": [
    "test.shape"
   ]
  },
  {
   "cell_type": "code",
   "execution_count": 54,
   "id": "d85ce40b",
   "metadata": {
    "scrolled": true
   },
   "outputs": [],
   "source": [
    "evaluation = test[['pn_num', 'annotation', 'predicted_annotation', 'pn_history', 'pn_history_preprocessed']]\n",
    "evaluation = evaluation[evaluation.annotation != '[]']\n",
    "evaluation['annotation'] = evaluation['annotation'].astype(str)\n",
    "evaluation['ground_truth_annotation'] = evaluation.annotation.apply(lambda x: eval(x))\n",
    "evaluation = evaluation.explode('ground_truth_annotation')\n",
    "evaluation['ground_truth_annotation_junk'] = evaluation.ground_truth_annotation.apply(lambda x: len(str(x)) < 3)"
   ]
  },
  {
   "cell_type": "code",
   "execution_count": 55,
   "id": "26927087",
   "metadata": {},
   "outputs": [],
   "source": [
    "evaluation = evaluation.drop_duplicates()"
   ]
  },
  {
   "cell_type": "code",
   "execution_count": 57,
   "id": "beb37b8c",
   "metadata": {},
   "outputs": [
    {
     "data": {
      "text/plain": [
       "False    0.940796\n",
       "True     0.059204\n",
       "Name: ground_truth_annotation_junk, dtype: float64"
      ]
     },
     "execution_count": 57,
     "metadata": {},
     "output_type": "execute_result"
    }
   ],
   "source": [
    "evaluation.ground_truth_annotation_junk.value_counts(normalize=True)"
   ]
  },
  {
   "cell_type": "code",
   "execution_count": 58,
   "id": "71c026f9",
   "metadata": {},
   "outputs": [],
   "source": [
    "evaluation_pp = evaluation.copy()"
   ]
  },
  {
   "cell_type": "code",
   "execution_count": 59,
   "id": "b02876f4",
   "metadata": {},
   "outputs": [],
   "source": [
    "evaluation['predicted_annotation'] = evaluation['predicted_annotation'].astype(str)\n",
    "evaluation = evaluation[evaluation.predicted_annotation != '[]']\n",
    "evaluation['prediction'] = evaluation.predicted_annotation.apply(lambda x: eval(x))\n",
    "evaluation = evaluation.explode('prediction')"
   ]
  },
  {
   "cell_type": "markdown",
   "id": "3c32344c",
   "metadata": {},
   "source": [
    "## Seprating columns which will be used for Fuzzy Wuzzy evaluation"
   ]
  },
  {
   "cell_type": "code",
   "execution_count": 60,
   "id": "d12c79ce",
   "metadata": {},
   "outputs": [],
   "source": [
    "cols = ['pn_num', \n",
    "       'pn_history_preprocessed', \n",
    "       'ground_truth_annotation',\n",
    "       'prediction']\n",
    "evaluation = evaluation[cols]"
   ]
  },
  {
   "cell_type": "code",
   "execution_count": 61,
   "id": "141dc19c",
   "metadata": {},
   "outputs": [],
   "source": [
    "def get_fuzzy_wuzzy_score(x):\n",
    "    prediction = x['prediction']\n",
    "    label = x['ground_truth_annotation']\n",
    "    return fuzz.partial_ratio(prediction, label)\n",
    "\n",
    "evaluation['score'] = evaluation.apply(lambda x: get_fuzzy_wuzzy_score(x), axis=1)"
   ]
  },
  {
   "cell_type": "code",
   "execution_count": 62,
   "id": "2dae0cd0",
   "metadata": {},
   "outputs": [
    {
     "data": {
      "text/plain": [
       "<AxesSubplot:xlabel='score'>"
      ]
     },
     "execution_count": 62,
     "metadata": {},
     "output_type": "execute_result"
    },
    {
     "data": {
      "image/png": "[encoded data removed]",
      "text/plain": [
       "<Figure size 432x288 with 1 Axes>"
      ]
     },
     "metadata": {
      "needs_background": "light"
     },
     "output_type": "display_data"
    }
   ],
   "source": [
    "sns.distplot(evaluation.score)"
   ]
  },
  {
   "cell_type": "markdown",
   "id": "13e91e16",
   "metadata": {},
   "source": [
    "### Evaluation Phase 2: Precision and Recall"
   ]
  },
  {
   "cell_type": "markdown",
   "id": "3560e0d0",
   "metadata": {},
   "source": [
    "## Precision"
   ]
  },
  {
   "cell_type": "code",
   "execution_count": 63,
   "id": "080ef5cb",
   "metadata": {},
   "outputs": [],
   "source": [
    "def relevance(x, threshold):\n",
    "    all_predictions = x.groupby(['prediction']).agg({'score': 'max'}).reset_index()\n",
    "    found_predictions = len(all_predictions[all_predictions['score'] >= threshold])\n",
    "    return found_predictions, len(all_predictions)"
   ]
  },
  {
   "cell_type": "code",
   "execution_count": 64,
   "id": "dd0dbf3d",
   "metadata": {},
   "outputs": [],
   "source": [
    "threshold_values = [10, 20, 30, 40, 50, 60, 70, 80, 90, 100]\n",
    "all_relevant_predictions = pd.DataFrame()\n",
    "\n",
    "for threshold_val in threshold_values:\n",
    "    relevant_predictions = evaluation.groupby(['pn_num']).apply(lambda x: relevance(x, threshold=threshold_val))\n",
    "    relevant_predictions = relevant_predictions.reset_index()\n",
    "    relevant_predictions = pd.DataFrame(relevant_predictions[0].tolist(), index=relevant_predictions.pn_num)\\\n",
    "                            .rename(columns={0:f'found_labels', 1:f'total_predictions'})\\\n",
    "                            .reset_index()\n",
    "    relevant_predictions[f'precision'] = relevant_predictions[f'found_labels'] / relevant_predictions[f'total_predictions']\n",
    "    relevant_predictions['threshold'] = threshold_val\n",
    "    all_relevant_predictions = pd.concat([all_relevant_predictions, relevant_predictions], axis=0)"
   ]
  },
  {
   "cell_type": "markdown",
   "id": "680269f3",
   "metadata": {},
   "source": [
    "## Recall"
   ]
  },
  {
   "cell_type": "code",
   "execution_count": 65,
   "id": "1ab2190f",
   "metadata": {},
   "outputs": [],
   "source": [
    "def retrieval(x, threshold):\n",
    "    all_labels = x.groupby(['ground_truth_annotation']).agg({'score': 'max'}).reset_index()\n",
    "    found_labels = len(all_labels[all_labels['score'] >= threshold])\n",
    "    total_predictions = x['prediction'].nunique()\n",
    "    \n",
    "    return found_labels, len(all_labels)"
   ]
  },
  {
   "cell_type": "code",
   "execution_count": 66,
   "id": "5bdc4406",
   "metadata": {},
   "outputs": [],
   "source": [
    "threshold_values = [10, 20, 30, 40, 50, 60, 70, 80, 90, 100]\n",
    "all_retrieved_predictions = pd.DataFrame()\n",
    "\n",
    "for threshold_val in threshold_values:\n",
    "    retrieved_labels = evaluation.groupby(['pn_num']).apply(lambda x: retrieval(x, threshold=threshold_val))\n",
    "    retrieved_labels = retrieved_labels.reset_index()\n",
    "    retrieved_labels = pd.DataFrame(retrieved_labels[0].tolist(), index=retrieved_labels.pn_num)\\\n",
    "                        .rename(columns={0:f'found_predictions', 1:f'total_labels'})\\\n",
    "                        .reset_index()\n",
    "    retrieved_labels['recall'] = retrieved_labels[f'found_predictions'] / retrieved_labels[f'total_labels']\n",
    "    retrieved_labels['threshold'] = threshold_val\n",
    "    all_retrieved_predictions = pd.concat([all_retrieved_predictions, retrieved_labels], axis=0)"
   ]
  },
  {
   "cell_type": "code",
   "execution_count": 67,
   "id": "4808b4b3",
   "metadata": {},
   "outputs": [
    {
     "data": {
      "text/html": [
       "<div>\n",
       "<style scoped>\n",
       "    .dataframe tbody tr th:only-of-type {\n",
       "        vertical-align: middle;\n",
       "    }\n",
       "\n",
       "    .dataframe tbody tr th {\n",
       "        vertical-align: top;\n",
       "    }\n",
       "\n",
       "    .dataframe thead th {\n",
       "        text-align: right;\n",
       "    }\n",
       "</style>\n",
       "<table border=\"1\" class=\"dataframe\">\n",
       "  <thead>\n",
       "    <tr style=\"text-align: right;\">\n",
       "      <th></th>\n",
       "      <th>pn_num</th>\n",
       "      <th>threshold</th>\n",
       "      <th>total_labels</th>\n",
       "      <th>total_predictions</th>\n",
       "      <th>found_labels</th>\n",
       "      <th>found_predictions</th>\n",
       "      <th>recall</th>\n",
       "      <th>precision</th>\n",
       "      <th>f1_score</th>\n",
       "    </tr>\n",
       "  </thead>\n",
       "  <tbody>\n",
       "    <tr>\n",
       "      <th>0</th>\n",
       "      <td>16</td>\n",
       "      <td>10</td>\n",
       "      <td>13</td>\n",
       "      <td>5</td>\n",
       "      <td>5</td>\n",
       "      <td>12</td>\n",
       "      <td>0.923077</td>\n",
       "      <td>1.00</td>\n",
       "      <td>0.960000</td>\n",
       "    </tr>\n",
       "    <tr>\n",
       "      <th>1</th>\n",
       "      <td>41</td>\n",
       "      <td>10</td>\n",
       "      <td>9</td>\n",
       "      <td>5</td>\n",
       "      <td>5</td>\n",
       "      <td>7</td>\n",
       "      <td>0.777778</td>\n",
       "      <td>1.00</td>\n",
       "      <td>0.875000</td>\n",
       "    </tr>\n",
       "    <tr>\n",
       "      <th>2</th>\n",
       "      <td>46</td>\n",
       "      <td>10</td>\n",
       "      <td>12</td>\n",
       "      <td>4</td>\n",
       "      <td>4</td>\n",
       "      <td>10</td>\n",
       "      <td>0.833333</td>\n",
       "      <td>1.00</td>\n",
       "      <td>0.909091</td>\n",
       "    </tr>\n",
       "    <tr>\n",
       "      <th>3</th>\n",
       "      <td>82</td>\n",
       "      <td>10</td>\n",
       "      <td>13</td>\n",
       "      <td>6</td>\n",
       "      <td>6</td>\n",
       "      <td>12</td>\n",
       "      <td>0.923077</td>\n",
       "      <td>1.00</td>\n",
       "      <td>0.960000</td>\n",
       "    </tr>\n",
       "    <tr>\n",
       "      <th>4</th>\n",
       "      <td>100</td>\n",
       "      <td>10</td>\n",
       "      <td>10</td>\n",
       "      <td>5</td>\n",
       "      <td>5</td>\n",
       "      <td>10</td>\n",
       "      <td>1.000000</td>\n",
       "      <td>1.00</td>\n",
       "      <td>1.000000</td>\n",
       "    </tr>\n",
       "    <tr>\n",
       "      <th>...</th>\n",
       "      <td>...</td>\n",
       "      <td>...</td>\n",
       "      <td>...</td>\n",
       "      <td>...</td>\n",
       "      <td>...</td>\n",
       "      <td>...</td>\n",
       "      <td>...</td>\n",
       "      <td>...</td>\n",
       "      <td>...</td>\n",
       "    </tr>\n",
       "    <tr>\n",
       "      <th>9995</th>\n",
       "      <td>95145</td>\n",
       "      <td>100</td>\n",
       "      <td>12</td>\n",
       "      <td>4</td>\n",
       "      <td>0</td>\n",
       "      <td>0</td>\n",
       "      <td>0.000000</td>\n",
       "      <td>0.00</td>\n",
       "      <td>NaN</td>\n",
       "    </tr>\n",
       "    <tr>\n",
       "      <th>9996</th>\n",
       "      <td>95228</td>\n",
       "      <td>100</td>\n",
       "      <td>7</td>\n",
       "      <td>5</td>\n",
       "      <td>1</td>\n",
       "      <td>1</td>\n",
       "      <td>0.142857</td>\n",
       "      <td>0.20</td>\n",
       "      <td>0.166667</td>\n",
       "    </tr>\n",
       "    <tr>\n",
       "      <th>9997</th>\n",
       "      <td>95243</td>\n",
       "      <td>100</td>\n",
       "      <td>10</td>\n",
       "      <td>4</td>\n",
       "      <td>0</td>\n",
       "      <td>0</td>\n",
       "      <td>0.000000</td>\n",
       "      <td>0.00</td>\n",
       "      <td>NaN</td>\n",
       "    </tr>\n",
       "    <tr>\n",
       "      <th>9998</th>\n",
       "      <td>95330</td>\n",
       "      <td>100</td>\n",
       "      <td>16</td>\n",
       "      <td>4</td>\n",
       "      <td>1</td>\n",
       "      <td>1</td>\n",
       "      <td>0.062500</td>\n",
       "      <td>0.25</td>\n",
       "      <td>0.100000</td>\n",
       "    </tr>\n",
       "    <tr>\n",
       "      <th>9999</th>\n",
       "      <td>95333</td>\n",
       "      <td>100</td>\n",
       "      <td>11</td>\n",
       "      <td>5</td>\n",
       "      <td>1</td>\n",
       "      <td>1</td>\n",
       "      <td>0.090909</td>\n",
       "      <td>0.20</td>\n",
       "      <td>0.125000</td>\n",
       "    </tr>\n",
       "  </tbody>\n",
       "</table>\n",
       "<p>10000 rows × 9 columns</p>\n",
       "</div>"
      ],
      "text/plain": [
       "      pn_num  threshold  total_labels  total_predictions  found_labels  found_predictions    recall  precision  f1_score\n",
       "0         16         10            13                  5             5                 12  0.923077       1.00  0.960000\n",
       "1         41         10             9                  5             5                  7  0.777778       1.00  0.875000\n",
       "2         46         10            12                  4             4                 10  0.833333       1.00  0.909091\n",
       "3         82         10            13                  6             6                 12  0.923077       1.00  0.960000\n",
       "4        100         10            10                  5             5                 10  1.000000       1.00  1.000000\n",
       "...      ...        ...           ...                ...           ...                ...       ...        ...       ...\n",
       "9995   95145        100            12                  4             0                  0  0.000000       0.00       NaN\n",
       "9996   95228        100             7                  5             1                  1  0.142857       0.20  0.166667\n",
       "9997   95243        100            10                  4             0                  0  0.000000       0.00       NaN\n",
       "9998   95330        100            16                  4             1                  1  0.062500       0.25  0.100000\n",
       "9999   95333        100            11                  5             1                  1  0.090909       0.20  0.125000\n",
       "\n",
       "[10000 rows x 9 columns]"
      ]
     },
     "execution_count": 67,
     "metadata": {},
     "output_type": "execute_result"
    }
   ],
   "source": [
    "evaluation_df = all_retrieved_predictions.merge(all_relevant_predictions, how='left', on=['pn_num', 'threshold'])\n",
    "evaluation_df = evaluation_df[['pn_num', 'threshold', 'total_labels', 'total_predictions', 'found_labels', 'found_predictions', 'recall', 'precision']]\n",
    "\n",
    "evaluation_df['f1_score'] = 2 * (evaluation_df['recall'] * evaluation_df['precision']) / (evaluation_df['recall'] + evaluation_df['precision'])\n",
    "evaluation_df"
   ]
  },
  {
   "cell_type": "code",
   "execution_count": 68,
   "id": "40d8d421",
   "metadata": {},
   "outputs": [
    {
     "data": {
      "text/html": [
       "<div>\n",
       "<style scoped>\n",
       "    .dataframe tbody tr th:only-of-type {\n",
       "        vertical-align: middle;\n",
       "    }\n",
       "\n",
       "    .dataframe tbody tr th {\n",
       "        vertical-align: top;\n",
       "    }\n",
       "\n",
       "    .dataframe thead th {\n",
       "        text-align: right;\n",
       "    }\n",
       "</style>\n",
       "<table border=\"1\" class=\"dataframe\">\n",
       "  <thead>\n",
       "    <tr style=\"text-align: right;\">\n",
       "      <th></th>\n",
       "      <th>pn_num</th>\n",
       "      <th>threshold</th>\n",
       "      <th>total_labels</th>\n",
       "      <th>total_predictions</th>\n",
       "      <th>found_labels</th>\n",
       "      <th>found_predictions</th>\n",
       "      <th>recall</th>\n",
       "      <th>precision</th>\n",
       "      <th>f1_score</th>\n",
       "    </tr>\n",
       "  </thead>\n",
       "  <tbody>\n",
       "    <tr>\n",
       "      <th>0</th>\n",
       "      <td>16</td>\n",
       "      <td>10</td>\n",
       "      <td>13</td>\n",
       "      <td>5</td>\n",
       "      <td>5</td>\n",
       "      <td>12</td>\n",
       "      <td>0.923077</td>\n",
       "      <td>1.0</td>\n",
       "      <td>0.960000</td>\n",
       "    </tr>\n",
       "    <tr>\n",
       "      <th>1000</th>\n",
       "      <td>16</td>\n",
       "      <td>20</td>\n",
       "      <td>13</td>\n",
       "      <td>5</td>\n",
       "      <td>5</td>\n",
       "      <td>12</td>\n",
       "      <td>0.923077</td>\n",
       "      <td>1.0</td>\n",
       "      <td>0.960000</td>\n",
       "    </tr>\n",
       "    <tr>\n",
       "      <th>2000</th>\n",
       "      <td>16</td>\n",
       "      <td>30</td>\n",
       "      <td>13</td>\n",
       "      <td>5</td>\n",
       "      <td>5</td>\n",
       "      <td>11</td>\n",
       "      <td>0.846154</td>\n",
       "      <td>1.0</td>\n",
       "      <td>0.916667</td>\n",
       "    </tr>\n",
       "    <tr>\n",
       "      <th>3000</th>\n",
       "      <td>16</td>\n",
       "      <td>40</td>\n",
       "      <td>13</td>\n",
       "      <td>5</td>\n",
       "      <td>3</td>\n",
       "      <td>7</td>\n",
       "      <td>0.538462</td>\n",
       "      <td>0.6</td>\n",
       "      <td>0.567568</td>\n",
       "    </tr>\n",
       "    <tr>\n",
       "      <th>4000</th>\n",
       "      <td>16</td>\n",
       "      <td>50</td>\n",
       "      <td>13</td>\n",
       "      <td>5</td>\n",
       "      <td>1</td>\n",
       "      <td>1</td>\n",
       "      <td>0.076923</td>\n",
       "      <td>0.2</td>\n",
       "      <td>0.111111</td>\n",
       "    </tr>\n",
       "    <tr>\n",
       "      <th>5000</th>\n",
       "      <td>16</td>\n",
       "      <td>60</td>\n",
       "      <td>13</td>\n",
       "      <td>5</td>\n",
       "      <td>0</td>\n",
       "      <td>0</td>\n",
       "      <td>0.000000</td>\n",
       "      <td>0.0</td>\n",
       "      <td>NaN</td>\n",
       "    </tr>\n",
       "    <tr>\n",
       "      <th>6000</th>\n",
       "      <td>16</td>\n",
       "      <td>70</td>\n",
       "      <td>13</td>\n",
       "      <td>5</td>\n",
       "      <td>0</td>\n",
       "      <td>0</td>\n",
       "      <td>0.000000</td>\n",
       "      <td>0.0</td>\n",
       "      <td>NaN</td>\n",
       "    </tr>\n",
       "    <tr>\n",
       "      <th>7000</th>\n",
       "      <td>16</td>\n",
       "      <td>80</td>\n",
       "      <td>13</td>\n",
       "      <td>5</td>\n",
       "      <td>0</td>\n",
       "      <td>0</td>\n",
       "      <td>0.000000</td>\n",
       "      <td>0.0</td>\n",
       "      <td>NaN</td>\n",
       "    </tr>\n",
       "    <tr>\n",
       "      <th>8000</th>\n",
       "      <td>16</td>\n",
       "      <td>90</td>\n",
       "      <td>13</td>\n",
       "      <td>5</td>\n",
       "      <td>0</td>\n",
       "      <td>0</td>\n",
       "      <td>0.000000</td>\n",
       "      <td>0.0</td>\n",
       "      <td>NaN</td>\n",
       "    </tr>\n",
       "    <tr>\n",
       "      <th>9000</th>\n",
       "      <td>16</td>\n",
       "      <td>100</td>\n",
       "      <td>13</td>\n",
       "      <td>5</td>\n",
       "      <td>0</td>\n",
       "      <td>0</td>\n",
       "      <td>0.000000</td>\n",
       "      <td>0.0</td>\n",
       "      <td>NaN</td>\n",
       "    </tr>\n",
       "  </tbody>\n",
       "</table>\n",
       "</div>"
      ],
      "text/plain": [
       "      pn_num  threshold  total_labels  total_predictions  found_labels  found_predictions    recall  precision  f1_score\n",
       "0         16         10            13                  5             5                 12  0.923077        1.0  0.960000\n",
       "1000      16         20            13                  5             5                 12  0.923077        1.0  0.960000\n",
       "2000      16         30            13                  5             5                 11  0.846154        1.0  0.916667\n",
       "3000      16         40            13                  5             3                  7  0.538462        0.6  0.567568\n",
       "4000      16         50            13                  5             1                  1  0.076923        0.2  0.111111\n",
       "5000      16         60            13                  5             0                  0  0.000000        0.0       NaN\n",
       "6000      16         70            13                  5             0                  0  0.000000        0.0       NaN\n",
       "7000      16         80            13                  5             0                  0  0.000000        0.0       NaN\n",
       "8000      16         90            13                  5             0                  0  0.000000        0.0       NaN\n",
       "9000      16        100            13                  5             0                  0  0.000000        0.0       NaN"
      ]
     },
     "execution_count": 68,
     "metadata": {},
     "output_type": "execute_result"
    }
   ],
   "source": [
    "evaluation_df[evaluation_df.pn_num==16]"
   ]
  },
  {
   "cell_type": "code",
   "execution_count": 69,
   "id": "cd3af430",
   "metadata": {},
   "outputs": [],
   "source": [
    "biobert_diseases_ner_evaluation = evaluation_df.merge(test,on=\"pn_num\",how=\"left\")"
   ]
  },
  {
   "cell_type": "code",
   "execution_count": 70,
   "id": "157b60eb",
   "metadata": {},
   "outputs": [],
   "source": [
    "biobert_diseases_ner_evaluation.to_csv(\"biobert_diseases_ner_evaluation.csv\", index=False)"
   ]
  },
  {
   "cell_type": "code",
   "execution_count": 71,
   "id": "d8835727",
   "metadata": {},
   "outputs": [],
   "source": [
    "evaluation_df.to_csv(\"biobert_diseases_ner_evaluation_scores.csv\",index=False)"
   ]
  },
  {
   "cell_type": "markdown",
   "id": "d6850c07",
   "metadata": {},
   "source": [
    "### ------x-------------------x-----------------------x"
   ]
  }
 ],
 "metadata": {
  "kernelspec": {
   "display_name": "Python 3 (ipykernel)",
   "language": "python",
   "name": "python3"
  },
  "language_info": {
   "codemirror_mode": {
    "name": "ipython",
    "version": 3
   },
   "file_extension": ".py",
   "mimetype": "text/x-python",
   "name": "python",
   "nbconvert_exporter": "python",
   "pygments_lexer": "ipython3",
   "version": "3.10.10"
  }
 },
 "nbformat": 4,
 "nbformat_minor": 5
}
