{
 "cells": [
  {
   "cell_type": "code",
   "execution_count": 1,
   "id": "ebcb1398",
   "metadata": {},
   "outputs": [
    {
     "name": "stderr",
     "output_type": "stream",
     "text": [
      "[nltk_data] Downloading package wordnet to\n",
      "[nltk_data]     /Users/aishwariyagupta/nltk_data...\n",
      "[nltk_data]   Package wordnet is already up-to-date!\n",
      "[nltk_data] Downloading package omw-1.4 to\n",
      "[nltk_data]     /Users/aishwariyagupta/nltk_data...\n",
      "[nltk_data]   Package omw-1.4 is already up-to-date!\n"
     ]
    }
   ],
   "source": [
    "import os\n",
    "import spacy\n",
    "import warnings\n",
    "import wordcloud\n",
    "import numpy as np\n",
    "import pandas as pd\n",
    "import seaborn as sns\n",
    "import plotly.express as px\n",
    "import matplotlib.pyplot as plt\n",
    "import plotly.graph_objects as go\n",
    "pd.set_option('display.max_rows', 500)\n",
    "pd.set_option('display.max_columns', 500)\n",
    "pd.set_option('display.width', 1000)\n",
    "\n",
    "import numpy as np\n",
    "import pandas as pd \n",
    "import os\n",
    "import re\n",
    "import matplotlib.pyplot as plt\n",
    "import seaborn as sns\n",
    "import nltk\n",
    "import textstat\n",
    "import spacy\n",
    "nlp = spacy.load('en_core_web_sm')\n",
    "\n",
    "from spacy import displacy\n",
    "from nltk.tokenize import sent_tokenize, word_tokenize \n",
    "\n",
    "import warnings\n",
    "warnings.filterwarnings(\"ignore\")\n",
    "\n",
    "import contractions\n",
    "import nltk\n",
    "import string\n",
    "\n",
    "#nltk.download('stopwords')\n",
    "#from nltk.corpus import stopwords\n",
    "#stop_words = set(stopwords.words('english'))\n",
    "\n",
    "from nltk.stem import WordNetLemmatizer\n",
    "lemmatizer = WordNetLemmatizer()\n",
    "nltk.download('wordnet')\n",
    "nltk.download('omw-1.4')\n",
    "import pkg_resources\n",
    "from symspellpy import SymSpell, Verbosity"
   ]
  },
  {
   "cell_type": "code",
   "execution_count": 2,
   "id": "9129169b",
   "metadata": {},
   "outputs": [],
   "source": [
    "patient_notes = pd.read_csv(\"patient_notes.csv\")\n",
    "#one case number has many pn_num\n",
    "features = pd.read_csv(\"features.csv\")\n",
    "#one case has many feature_num\n",
    "train = pd.read_csv(\"train.csv\")\n",
    "\n",
    "train = train.merge(features, on=['feature_num', 'case_num'], how='left')\n",
    "train = train.merge(patient_notes, on=['pn_num', 'case_num'], how='left')\n",
    "\n",
    "pd.set_option('display.max_colwidth', None)"
   ]
  },
  {
   "cell_type": "markdown",
   "id": "9d6cc36a",
   "metadata": {},
   "source": [
    "### Pre-processing the text column to clean it"
   ]
  },
  {
   "cell_type": "code",
   "execution_count": 3,
   "id": "be7e56cb",
   "metadata": {},
   "outputs": [],
   "source": [
    "train[\"pn_history_lower\"] = train[\"pn_history\"].str.lower()\n",
    "regex = re.compile(r'<[^>]+>')\n",
    "train[\"pn_history_noContractions\"] = train[\"pn_history_lower\"].apply(contractions.fix)\n",
    "\n",
    "def remove_unicode_chars(text):\n",
    "    text = text.encode(\"ascii\", \"ignore\").decode()\n",
    "    return text\n",
    "train[\"pn_history_noUnicode\"] = train[\"pn_history_noContractions\"].apply(remove_unicode_chars)\n",
    "\n",
    "def remove_punctuations(text):\n",
    "    text = re.sub('[%s]' % re.escape(string.punctuation), \" \",text)\n",
    "    return text\n",
    "train[\"pn_history_noPuncts\"] = train[\"pn_history_noUnicode\"].apply(remove_punctuations)\n",
    "\n",
    "#def remove_stopwords(text):\n",
    "#    return \" \".join([word for word in str(text).split() if word not in stop_words])\n",
    "#train[\"tweet_noStopwords\"] = train[\"tweet_noPuncts\"].apply(remove_stopwords)\n",
    "def remove_extra_spaces(text):\n",
    "    text = re.sub(' +', ' ', text).strip()\n",
    "    return text\n",
    "train[\"pn_history_noES\"] = train[\"pn_history_noPuncts\"].apply(remove_extra_spaces)\n",
    "def lemmatize_text(text):\n",
    "    words = [lemmatizer.lemmatize(word) for word in text.split()]\n",
    "    text = ' '.join(words)\n",
    "    return text\n",
    "train[\"pn_history_preprocessed\"] = train[\"pn_history_noES\"].apply(lemmatize_text)"
   ]
  },
  {
   "cell_type": "code",
   "execution_count": 4,
   "id": "b15c63ea",
   "metadata": {},
   "outputs": [],
   "source": [
    "train = train.drop_duplicates([\"pn_history_preprocessed\"])"
   ]
  },
  {
   "cell_type": "code",
   "execution_count": 5,
   "id": "7da73bd5",
   "metadata": {},
   "outputs": [
    {
     "data": {
      "text/plain": [
       "(1000, 14)"
      ]
     },
     "execution_count": 5,
     "metadata": {},
     "output_type": "execute_result"
    }
   ],
   "source": [
    "train.shape"
   ]
  },
  {
   "cell_type": "markdown",
   "id": "32a03db9",
   "metadata": {},
   "source": [
    "## Model 4 : KeyBert with BiomedNLP-PubMedBERT-base-uncased-abstract-fulltext"
   ]
  },
  {
   "cell_type": "code",
   "execution_count": 7,
   "id": "8caf1441",
   "metadata": {},
   "outputs": [],
   "source": [
    "from keybert import KeyBERT\n",
    "from tqdm import tqdm"
   ]
  },
  {
   "cell_type": "code",
   "execution_count": 8,
   "id": "1189bb86",
   "metadata": {},
   "outputs": [
    {
     "name": "stderr",
     "output_type": "stream",
     "text": [
      "Downloading (…)0f386/.gitattributes: 100%|██████| 391/391 [00:00<00:00, 472kB/s]\n",
      "Downloading (…)2ff30f386/LICENSE.md: 100%|█| 1.07k/1.07k [00:00<00:00, 5.42MB/s]\n",
      "Downloading (…)12ff30f386/README.md: 100%|█| 2.05k/2.05k [00:00<00:00, 8.60MB/s]\n",
      "Downloading (…)ff30f386/config.json: 100%|██████| 385/385 [00:00<00:00, 965kB/s]\n",
      "Downloading pytorch_model.bin: 100%|█████████| 440M/440M [00:09<00:00, 44.6MB/s]\n",
      "Downloading (…)okenizer_config.json: 100%|███| 28.0/28.0 [00:00<00:00, 87.4kB/s]\n",
      "Downloading (…)12ff30f386/vocab.txt: 100%|███| 226k/226k [00:00<00:00, 4.74MB/s]\n",
      "No sentence-transformers model found with name /Users/aishwariyagupta/.cache/torch/sentence_transformers/microsoft_BiomedNLP-PubMedBERT-base-uncased-abstract-fulltext. Creating a new one with MEAN pooling.\n",
      "Some weights of the model checkpoint at /Users/aishwariyagupta/.cache/torch/sentence_transformers/microsoft_BiomedNLP-PubMedBERT-base-uncased-abstract-fulltext were not used when initializing BertModel: ['cls.predictions.transform.LayerNorm.weight', 'cls.predictions.transform.dense.weight', 'cls.predictions.decoder.bias', 'cls.predictions.transform.LayerNorm.bias', 'cls.predictions.decoder.weight', 'cls.seq_relationship.weight', 'cls.predictions.transform.dense.bias', 'cls.predictions.bias', 'cls.seq_relationship.bias']\n",
      "- This IS expected if you are initializing BertModel from the checkpoint of a model trained on another task or with another architecture (e.g. initializing a BertForSequenceClassification model from a BertForPreTraining model).\n",
      "- This IS NOT expected if you are initializing BertModel from the checkpoint of a model that you expect to be exactly identical (initializing a BertForSequenceClassification model from a BertForSequenceClassification model).\n"
     ]
    }
   ],
   "source": [
    "model = KeyBERT(model=\"microsoft/BiomedNLP-PubMedBERT-base-uncased-abstract-fulltext\")"
   ]
  },
  {
   "cell_type": "markdown",
   "id": "ca7e8c30",
   "metadata": {},
   "source": [
    "## Applying KEYBERT Model"
   ]
  },
  {
   "cell_type": "markdown",
   "id": "340f118d",
   "metadata": {},
   "source": [
    "## Extracting 2 keywords"
   ]
  },
  {
   "cell_type": "code",
   "execution_count": 11,
   "id": "41a8a01b",
   "metadata": {
    "scrolled": true
   },
   "outputs": [
    {
     "name": "stderr",
     "output_type": "stream",
     "text": [
      "1000it [16:32,  1.01it/s]\n"
     ]
    }
   ],
   "source": [
    "l = []\n",
    "for index, row in tqdm(train.iterrows()):\n",
    "    l.append(model.extract_keywords(\n",
    "                row['pn_history_preprocessed'],\n",
    "                top_n=3, \n",
    "                keyphrase_ngram_range=(1, 2),\n",
    "                use_mmr=True, \n",
    "                diversity=0.7))"
   ]
  },
  {
   "cell_type": "code",
   "execution_count": 12,
   "id": "585201f1",
   "metadata": {},
   "outputs": [],
   "source": [
    "train = train.reset_index(drop=True)"
   ]
  },
  {
   "cell_type": "code",
   "execution_count": 13,
   "id": "707f86a1",
   "metadata": {},
   "outputs": [],
   "source": [
    "train = train.join(pd.DataFrame(l, columns=['first_keyword', 'second_keyword', 'third_keyword']))"
   ]
  },
  {
   "cell_type": "code",
   "execution_count": 14,
   "id": "30b31d8e",
   "metadata": {},
   "outputs": [],
   "source": [
    "train.to_csv(\"two_keywords_extraction_biomedNLP.csv\")"
   ]
  },
  {
   "cell_type": "code",
   "execution_count": 15,
   "id": "631aa172",
   "metadata": {},
   "outputs": [],
   "source": [
    "#seprating keyword along with cosine similarity\n",
    "def func(x):\n",
    "    return x[1]\n",
    "train['first_keyword_score'] = train.first_keyword.apply(lambda x: func(x))\n",
    "def func(x):\n",
    "    return x[0]\n",
    "train['first_keyword'] = train.first_keyword.apply(lambda x: func(x))\n",
    "\n",
    "def func(x):\n",
    "    return x[1]\n",
    "train['second_keyword_score'] = train.second_keyword.apply(lambda x: func(x))\n",
    "def func(x):\n",
    "    return x[0]\n",
    "train['second_keyword'] = train.second_keyword.apply(lambda x: func(x))\n",
    "\n",
    "def func(x):\n",
    "    return x[1]\n",
    "train['third_keyword_score'] = train.third_keyword.apply(lambda x: func(x))\n",
    "def func(x):\n",
    "    return x[0]\n",
    "train['third_keyword'] = train.third_keyword.apply(lambda x: func(x))"
   ]
  },
  {
   "cell_type": "code",
   "execution_count": 16,
   "id": "7061bf7e",
   "metadata": {},
   "outputs": [],
   "source": [
    "train.to_csv(\"two_keywords_extraction_with_score_biomedNLP.csv\")"
   ]
  },
  {
   "cell_type": "markdown",
   "id": "2f8faaa8",
   "metadata": {},
   "source": [
    "## Extracting 3 keywords"
   ]
  },
  {
   "cell_type": "code",
   "execution_count": 17,
   "id": "1d0d8551",
   "metadata": {},
   "outputs": [
    {
     "name": "stderr",
     "output_type": "stream",
     "text": [
      "1000it [24:15,  1.46s/it]\n"
     ]
    }
   ],
   "source": [
    "\n",
    "l = []\n",
    "for index, row in tqdm(train.iterrows()):\n",
    "    l.append(model.extract_keywords(\n",
    "                row['pn_history_preprocessed'],\n",
    "                top_n=3,\n",
    "                keyphrase_ngram_range=(1, 3),\n",
    "                use_mmr=True, \n",
    "                diversity=0.7))"
   ]
  },
  {
   "cell_type": "code",
   "execution_count": 18,
   "id": "d31daab6",
   "metadata": {
    "scrolled": true
   },
   "outputs": [],
   "source": [
    "train_new = train.join(pd.DataFrame(l, columns=['first_keyword_three', 'second_keyword_three', 'third_keyword_three']))"
   ]
  },
  {
   "cell_type": "code",
   "execution_count": 19,
   "id": "b3419538",
   "metadata": {},
   "outputs": [],
   "source": [
    "train.to_csv(\"three_keywords_extraction_biomedNLP.csv\")"
   ]
  },
  {
   "cell_type": "code",
   "execution_count": 20,
   "id": "b23383a6",
   "metadata": {},
   "outputs": [],
   "source": [
    "def func(x):\n",
    "    return x[1]\n",
    "train_new['first_keyword_score_three'] = train_new.first_keyword_three.apply(lambda x: func(x))\n",
    "def func(x):\n",
    "    return x[0]\n",
    "train_new['first_keyword_three'] = train_new.first_keyword_three.apply(lambda x: func(x))\n",
    "\n",
    "def func(x):\n",
    "    return x[1]\n",
    "train_new['second_keyword_score_three'] = train_new.second_keyword_three.apply(lambda x: func(x))\n",
    "def func(x):\n",
    "    return x[0]\n",
    "train_new['second_keyword_three'] = train_new.second_keyword_three.apply(lambda x: func(x))\n",
    "\n",
    "def func(x):\n",
    "    return x[1]\n",
    "train_new['third_keyword_score_three'] = train_new.third_keyword_three.apply(lambda x: func(x))\n",
    "def func(x):\n",
    "    return x[0]\n",
    "train_new['third_keyword_three'] = train_new.third_keyword_three.apply(lambda x: func(x))"
   ]
  },
  {
   "cell_type": "code",
   "execution_count": 21,
   "id": "24b3c580",
   "metadata": {},
   "outputs": [
    {
     "data": {
      "text/html": [
       "<div>\n",
       "<style scoped>\n",
       "    .dataframe tbody tr th:only-of-type {\n",
       "        vertical-align: middle;\n",
       "    }\n",
       "\n",
       "    .dataframe tbody tr th {\n",
       "        vertical-align: top;\n",
       "    }\n",
       "\n",
       "    .dataframe thead th {\n",
       "        text-align: right;\n",
       "    }\n",
       "</style>\n",
       "<table border=\"1\" class=\"dataframe\">\n",
       "  <thead>\n",
       "    <tr style=\"text-align: right;\">\n",
       "      <th></th>\n",
       "      <th>first_keyword_score_three</th>\n",
       "      <th>first_keyword_three</th>\n",
       "      <th>second_keyword_three</th>\n",
       "      <th>second_keyword_score_three</th>\n",
       "      <th>third_keyword_three</th>\n",
       "      <th>third_keyword_score_three</th>\n",
       "    </tr>\n",
       "  </thead>\n",
       "  <tbody>\n",
       "    <tr>\n",
       "      <th>219</th>\n",
       "      <td>0.9550</td>\n",
       "      <td>sweating episode drenching</td>\n",
       "      <td>social tobacco</td>\n",
       "      <td>0.9157</td>\n",
       "      <td>mom ha osteoarthritis</td>\n",
       "      <td>0.9017</td>\n",
       "    </tr>\n",
       "    <tr>\n",
       "      <th>905</th>\n",
       "      <td>0.9610</td>\n",
       "      <td>drink wekend sexually</td>\n",
       "      <td>ha associated photophobia</td>\n",
       "      <td>0.9333</td>\n",
       "      <td>week alcohol drink</td>\n",
       "      <td>0.9055</td>\n",
       "    </tr>\n",
       "    <tr>\n",
       "      <th>796</th>\n",
       "      <td>0.9657</td>\n",
       "      <td>sexually active boyfriiebds</td>\n",
       "      <td>intolderence</td>\n",
       "      <td>0.9157</td>\n",
       "      <td>using condom</td>\n",
       "      <td>0.9078</td>\n",
       "    </tr>\n",
       "    <tr>\n",
       "      <th>131</th>\n",
       "      <td>0.9594</td>\n",
       "      <td>achy pain rate</td>\n",
       "      <td>ha helped</td>\n",
       "      <td>0.9189</td>\n",
       "      <td>med allergy</td>\n",
       "      <td>0.9136</td>\n",
       "    </tr>\n",
       "    <tr>\n",
       "      <th>251</th>\n",
       "      <td>0.9564</td>\n",
       "      <td>irregular period 3yrs</td>\n",
       "      <td>fh mother overweight</td>\n",
       "      <td>0.9175</td>\n",
       "      <td>moderate</td>\n",
       "      <td>0.9080</td>\n",
       "    </tr>\n",
       "    <tr>\n",
       "      <th>666</th>\n",
       "      <td>0.9663</td>\n",
       "      <td>albuterol help wopke</td>\n",
       "      <td>mi grandfather</td>\n",
       "      <td>0.9192</td>\n",
       "      <td>significant</td>\n",
       "      <td>0.8923</td>\n",
       "    </tr>\n",
       "    <tr>\n",
       "      <th>192</th>\n",
       "      <td>0.9597</td>\n",
       "      <td>diarrhea started day</td>\n",
       "      <td>fh parent healthy</td>\n",
       "      <td>0.9106</td>\n",
       "      <td>nonsmoker</td>\n",
       "      <td>0.9086</td>\n",
       "    </tr>\n",
       "    <tr>\n",
       "      <th>160</th>\n",
       "      <td>0.9572</td>\n",
       "      <td>non bloody diarrhea</td>\n",
       "      <td>travel ibuprofen helped</td>\n",
       "      <td>0.9266</td>\n",
       "      <td>med ibuprofen</td>\n",
       "      <td>0.9076</td>\n",
       "    </tr>\n",
       "    <tr>\n",
       "      <th>544</th>\n",
       "      <td>0.9532</td>\n",
       "      <td>cold intolerance associated</td>\n",
       "      <td>racing past week</td>\n",
       "      <td>0.9352</td>\n",
       "      <td>year old female</td>\n",
       "      <td>0.9334</td>\n",
       "    </tr>\n",
       "    <tr>\n",
       "      <th>563</th>\n",
       "      <td>0.9596</td>\n",
       "      <td>patient endorses shortness</td>\n",
       "      <td>monogamous relationship</td>\n",
       "      <td>0.9337</td>\n",
       "      <td>condo stressed</td>\n",
       "      <td>0.8959</td>\n",
       "    </tr>\n",
       "  </tbody>\n",
       "</table>\n",
       "</div>"
      ],
      "text/plain": [
       "     first_keyword_score_three          first_keyword_three  \\\n",
       "219                     0.9550   sweating episode drenching   \n",
       "905                     0.9610        drink wekend sexually   \n",
       "796                     0.9657  sexually active boyfriiebds   \n",
       "131                     0.9594               achy pain rate   \n",
       "251                     0.9564        irregular period 3yrs   \n",
       "666                     0.9663         albuterol help wopke   \n",
       "192                     0.9597         diarrhea started day   \n",
       "160                     0.9572          non bloody diarrhea   \n",
       "544                     0.9532  cold intolerance associated   \n",
       "563                     0.9596   patient endorses shortness   \n",
       "\n",
       "          second_keyword_three  second_keyword_score_three  \\\n",
       "219             social tobacco                      0.9157   \n",
       "905  ha associated photophobia                      0.9333   \n",
       "796               intolderence                      0.9157   \n",
       "131                  ha helped                      0.9189   \n",
       "251       fh mother overweight                      0.9175   \n",
       "666             mi grandfather                      0.9192   \n",
       "192          fh parent healthy                      0.9106   \n",
       "160    travel ibuprofen helped                      0.9266   \n",
       "544           racing past week                      0.9352   \n",
       "563    monogamous relationship                      0.9337   \n",
       "\n",
       "       third_keyword_three  third_keyword_score_three  \n",
       "219  mom ha osteoarthritis                     0.9017  \n",
       "905     week alcohol drink                     0.9055  \n",
       "796           using condom                     0.9078  \n",
       "131            med allergy                     0.9136  \n",
       "251               moderate                     0.9080  \n",
       "666            significant                     0.8923  \n",
       "192              nonsmoker                     0.9086  \n",
       "160          med ibuprofen                     0.9076  \n",
       "544        year old female                     0.9334  \n",
       "563         condo stressed                     0.8959  "
      ]
     },
     "execution_count": 21,
     "metadata": {},
     "output_type": "execute_result"
    }
   ],
   "source": [
    "train_new[[\"first_keyword_score_three\",\"first_keyword_three\",\"second_keyword_three\",\"second_keyword_score_three\",\"third_keyword_three\",\"third_keyword_score_three\"]].sample(10)"
   ]
  },
  {
   "cell_type": "code",
   "execution_count": 22,
   "id": "4a245250",
   "metadata": {},
   "outputs": [],
   "source": [
    "train.to_csv(\"three_keywords_extraction_with_score_biomedNLP.csv\")"
   ]
  },
  {
   "cell_type": "markdown",
   "id": "bb4ad642",
   "metadata": {},
   "source": [
    "## Extracting 4 keywords"
   ]
  },
  {
   "cell_type": "code",
   "execution_count": 23,
   "id": "714e987a",
   "metadata": {},
   "outputs": [
    {
     "name": "stderr",
     "output_type": "stream",
     "text": [
      "1000it [32:50,  1.97s/it]\n"
     ]
    }
   ],
   "source": [
    "l = []\n",
    "for index, row in tqdm(train.iterrows()):\n",
    "    l.append(model.extract_keywords(\n",
    "                row['pn_history_preprocessed'],\n",
    "                top_n=3,\n",
    "                keyphrase_ngram_range=(1, 4),\n",
    "                use_mmr=True, \n",
    "                diversity=0.7))"
   ]
  },
  {
   "cell_type": "code",
   "execution_count": 24,
   "id": "dce7a09e",
   "metadata": {},
   "outputs": [],
   "source": [
    "train_new['third_keyword_score_three'] = train_new['third_keyword_score']"
   ]
  },
  {
   "cell_type": "code",
   "execution_count": 25,
   "id": "e77cfd03",
   "metadata": {},
   "outputs": [],
   "source": [
    "train_new_new = train_new.join(pd.DataFrame(l, columns=['first_keyword_four', 'second_keyword_four', 'third_keyword_four']))\n"
   ]
  },
  {
   "cell_type": "code",
   "execution_count": 26,
   "id": "ec9f7b88",
   "metadata": {},
   "outputs": [],
   "source": [
    "train_new_new.to_csv(\"four_keywords_extraction_biomedNLP.csv\")"
   ]
  },
  {
   "cell_type": "code",
   "execution_count": 27,
   "id": "e8e1eb45",
   "metadata": {},
   "outputs": [],
   "source": [
    "def func(x):\n",
    "    return x[1]\n",
    "train_new_new['first_keyword_score_four'] = train_new_new.first_keyword_four.apply(lambda x: func(x))\n",
    "def func(x):\n",
    "    return x[0]\n",
    "train_new_new['first_keyword_four'] = train_new_new.first_keyword_four.apply(lambda x: func(x))\n",
    "\n",
    "def func(x):\n",
    "    return x[1]\n",
    "train_new_new['second_keyword_score_four'] = train_new_new.second_keyword_four.apply(lambda x: func(x))\n",
    "def func(x):\n",
    "    return x[0]\n",
    "train_new_new['second_keyword_four'] = train_new_new.second_keyword_four.apply(lambda x: func(x))\n",
    "\n",
    "def func(x):\n",
    "    return x[1]\n",
    "train_new_new['third_keyword_score_four'] = train_new_new.third_keyword_four.apply(lambda x: func(x))\n",
    "def func(x):\n",
    "    return x[0]\n",
    "train_new_new['third_keyword_four'] = train_new_new.third_keyword_four.apply(lambda x: func(x))"
   ]
  },
  {
   "cell_type": "code",
   "execution_count": 28,
   "id": "1fefa14e",
   "metadata": {},
   "outputs": [
    {
     "data": {
      "text/html": [
       "<div>\n",
       "<style scoped>\n",
       "    .dataframe tbody tr th:only-of-type {\n",
       "        vertical-align: middle;\n",
       "    }\n",
       "\n",
       "    .dataframe tbody tr th {\n",
       "        vertical-align: top;\n",
       "    }\n",
       "\n",
       "    .dataframe thead th {\n",
       "        text-align: right;\n",
       "    }\n",
       "</style>\n",
       "<table border=\"1\" class=\"dataframe\">\n",
       "  <thead>\n",
       "    <tr style=\"text-align: right;\">\n",
       "      <th></th>\n",
       "      <th>first_keyword_score_four</th>\n",
       "      <th>first_keyword_four</th>\n",
       "      <th>second_keyword_score_four</th>\n",
       "      <th>second_keyword_four</th>\n",
       "      <th>third_keyword_three</th>\n",
       "      <th>third_keyword_score_three</th>\n",
       "    </tr>\n",
       "  </thead>\n",
       "  <tbody>\n",
       "    <tr>\n",
       "      <th>38</th>\n",
       "      <td>0.9645</td>\n",
       "      <td>17yom presenting palpitation started</td>\n",
       "      <td>0.9241</td>\n",
       "      <td>marijuana used</td>\n",
       "      <td>thyroid issue</td>\n",
       "      <td>0.9164</td>\n",
       "    </tr>\n",
       "    <tr>\n",
       "      <th>692</th>\n",
       "      <td>0.9657</td>\n",
       "      <td>denies difficulty urinating tried</td>\n",
       "      <td>0.9371</td>\n",
       "      <td>albuterol tylenol</td>\n",
       "      <td>mi alive med</td>\n",
       "      <td>0.9210</td>\n",
       "    </tr>\n",
       "    <tr>\n",
       "      <th>194</th>\n",
       "      <td>0.9582</td>\n",
       "      <td>onset 10 hour ago</td>\n",
       "      <td>0.9331</td>\n",
       "      <td>20 year old female</td>\n",
       "      <td>drink alcohol</td>\n",
       "      <td>0.9148</td>\n",
       "    </tr>\n",
       "    <tr>\n",
       "      <th>309</th>\n",
       "      <td>0.9623</td>\n",
       "      <td>pmh pain managed conservativly</td>\n",
       "      <td>0.9428</td>\n",
       "      <td>uncle bledding</td>\n",
       "      <td>chest</td>\n",
       "      <td>0.9181</td>\n",
       "    </tr>\n",
       "    <tr>\n",
       "      <th>603</th>\n",
       "      <td>0.9660</td>\n",
       "      <td>endorses stuffy nose muscle</td>\n",
       "      <td>0.9140</td>\n",
       "      <td>fh heart attack</td>\n",
       "      <td>female sexual partner</td>\n",
       "      <td>0.9171</td>\n",
       "    </tr>\n",
       "    <tr>\n",
       "      <th>340</th>\n",
       "      <td>0.9648</td>\n",
       "      <td>bloating increased saitey small</td>\n",
       "      <td>0.9228</td>\n",
       "      <td>help make worse</td>\n",
       "      <td>recent divorce</td>\n",
       "      <td>0.9159</td>\n",
       "    </tr>\n",
       "    <tr>\n",
       "      <th>305</th>\n",
       "      <td>0.9609</td>\n",
       "      <td>bloating partially relieved tum</td>\n",
       "      <td>0.9234</td>\n",
       "      <td>divorce year work</td>\n",
       "      <td>20 year smoker</td>\n",
       "      <td>0.9025</td>\n",
       "    </tr>\n",
       "    <tr>\n",
       "      <th>8</th>\n",
       "      <td>0.9737</td>\n",
       "      <td>lightheadedness episode denies</td>\n",
       "      <td>0.9157</td>\n",
       "      <td>drug use alcohol use</td>\n",
       "      <td>os</td>\n",
       "      <td>0.9154</td>\n",
       "    </tr>\n",
       "    <tr>\n",
       "      <th>575</th>\n",
       "      <td>0.9641</td>\n",
       "      <td>denies feeling depressed pmhx</td>\n",
       "      <td>0.9230</td>\n",
       "      <td>consultant looking</td>\n",
       "      <td>purchaesd condo</td>\n",
       "      <td>0.9010</td>\n",
       "    </tr>\n",
       "    <tr>\n",
       "      <th>200</th>\n",
       "      <td>0.9641</td>\n",
       "      <td>lubricant complains dyspareunia fever</td>\n",
       "      <td>0.9270</td>\n",
       "      <td>smoke use drug drink</td>\n",
       "      <td>htn hctz</td>\n",
       "      <td>0.9150</td>\n",
       "    </tr>\n",
       "  </tbody>\n",
       "</table>\n",
       "</div>"
      ],
      "text/plain": [
       "     first_keyword_score_four                     first_keyword_four  \\\n",
       "38                     0.9645   17yom presenting palpitation started   \n",
       "692                    0.9657      denies difficulty urinating tried   \n",
       "194                    0.9582                      onset 10 hour ago   \n",
       "309                    0.9623         pmh pain managed conservativly   \n",
       "603                    0.9660            endorses stuffy nose muscle   \n",
       "340                    0.9648        bloating increased saitey small   \n",
       "305                    0.9609        bloating partially relieved tum   \n",
       "8                      0.9737         lightheadedness episode denies   \n",
       "575                    0.9641          denies feeling depressed pmhx   \n",
       "200                    0.9641  lubricant complains dyspareunia fever   \n",
       "\n",
       "     second_keyword_score_four   second_keyword_four    third_keyword_three  \\\n",
       "38                      0.9241        marijuana used          thyroid issue   \n",
       "692                     0.9371     albuterol tylenol           mi alive med   \n",
       "194                     0.9331    20 year old female          drink alcohol   \n",
       "309                     0.9428        uncle bledding                  chest   \n",
       "603                     0.9140       fh heart attack  female sexual partner   \n",
       "340                     0.9228       help make worse         recent divorce   \n",
       "305                     0.9234     divorce year work         20 year smoker   \n",
       "8                       0.9157  drug use alcohol use                     os   \n",
       "575                     0.9230    consultant looking        purchaesd condo   \n",
       "200                     0.9270  smoke use drug drink               htn hctz   \n",
       "\n",
       "     third_keyword_score_three  \n",
       "38                      0.9164  \n",
       "692                     0.9210  \n",
       "194                     0.9148  \n",
       "309                     0.9181  \n",
       "603                     0.9171  \n",
       "340                     0.9159  \n",
       "305                     0.9025  \n",
       "8                       0.9154  \n",
       "575                     0.9010  \n",
       "200                     0.9150  "
      ]
     },
     "execution_count": 28,
     "metadata": {},
     "output_type": "execute_result"
    }
   ],
   "source": [
    "train_new_new[[\"first_keyword_score_four\",\"first_keyword_four\",\"second_keyword_score_four\",\"second_keyword_four\",\"third_keyword_three\",\"third_keyword_score_three\"]].sample(10)"
   ]
  },
  {
   "cell_type": "code",
   "execution_count": 29,
   "id": "0ed3fbae",
   "metadata": {},
   "outputs": [],
   "source": [
    "train_new_new.to_csv(\"all_keywords_with_score_biomedNLP.csv\")"
   ]
  },
  {
   "cell_type": "code",
   "execution_count": 31,
   "id": "0abad3fa",
   "metadata": {},
   "outputs": [],
   "source": [
    "train_with_scores = train_new_new.copy()"
   ]
  },
  {
   "cell_type": "code",
   "execution_count": 32,
   "id": "a7500f0a",
   "metadata": {},
   "outputs": [],
   "source": [
    "train_with_scores = pd.read_csv(\"all_keywords_with_score_biomedNLP.csv\")"
   ]
  },
  {
   "cell_type": "code",
   "execution_count": 33,
   "id": "f3051965",
   "metadata": {},
   "outputs": [],
   "source": [
    "train_with_scores = train_with_scores[['id', 'case_num', 'pn_num', 'feature_num', 'annotation', 'location', 'feature_text', 'pn_history', 'pn_history_lower', 'pn_history_noContractions', 'pn_history_noUnicode', 'pn_history_noPuncts', 'pn_history_noES', 'pn_history_preprocessed', 'first_keyword', 'second_keyword', 'third_keyword', 'first_keyword_score', 'second_keyword_score', 'third_keyword_score', 'first_keyword_three', 'second_keyword_three', 'third_keyword_three', 'first_keyword_score_three', 'second_keyword_score_three', 'third_keyword_score_three', 'first_keyword_four', 'second_keyword_four', 'third_keyword_four', 'first_keyword_score_four', 'second_keyword_score_four', 'third_keyword_score_four']]"
   ]
  },
  {
   "cell_type": "code",
   "execution_count": 34,
   "id": "5cf67473",
   "metadata": {
    "scrolled": true
   },
   "outputs": [],
   "source": [
    "train_with_scores = train_with_scores.iloc[:,14:]"
   ]
  },
  {
   "cell_type": "code",
   "execution_count": 35,
   "id": "972ed15b",
   "metadata": {},
   "outputs": [
    {
     "data": {
      "text/plain": [
       "0.25    0.9488\n",
       "0.50    0.9517\n",
       "0.75    0.9546\n",
       "0.90    0.9569\n",
       "Name: first_keyword_score, dtype: float64"
      ]
     },
     "execution_count": 35,
     "metadata": {},
     "output_type": "execute_result"
    }
   ],
   "source": [
    "train_with_scores.first_keyword_score.quantile([0.25, 0.5, 0.75, 0.9])"
   ]
  },
  {
   "cell_type": "code",
   "execution_count": 36,
   "id": "0b0f8b6f",
   "metadata": {},
   "outputs": [
    {
     "data": {
      "text/plain": [
       "0.25    0.91950\n",
       "0.50    0.92515\n",
       "0.75    0.93070\n",
       "0.90    0.93580\n",
       "Name: second_keyword_score, dtype: float64"
      ]
     },
     "execution_count": 36,
     "metadata": {},
     "output_type": "execute_result"
    }
   ],
   "source": [
    "train_with_scores.second_keyword_score.quantile([0.25, 0.5, 0.75, 0.9])"
   ]
  },
  {
   "cell_type": "code",
   "execution_count": 37,
   "id": "e050ce1a",
   "metadata": {
    "scrolled": true
   },
   "outputs": [
    {
     "data": {
      "text/plain": [
       "0.25    0.90450\n",
       "0.50    0.91315\n",
       "0.75    0.91930\n",
       "0.90    0.92480\n",
       "Name: third_keyword_score, dtype: float64"
      ]
     },
     "execution_count": 37,
     "metadata": {},
     "output_type": "execute_result"
    }
   ],
   "source": [
    "train_with_scores.third_keyword_score.quantile([0.25, 0.5, 0.75, 0.9])"
   ]
  },
  {
   "cell_type": "markdown",
   "id": "120e6220",
   "metadata": {},
   "source": [
    "### Selecting those keywords which have a cosine similarity more than 0.25"
   ]
  },
  {
   "cell_type": "code",
   "execution_count": 38,
   "id": "4014fed9",
   "metadata": {},
   "outputs": [],
   "source": [
    "train_with_scores.first_keyword = np.where(train_with_scores.first_keyword_score > 0.25, train_with_scores.first_keyword, np.nan)\n",
    "train_with_scores.second_keyword = np.where(train_with_scores.second_keyword_score > 0.25, train_with_scores.second_keyword, np.nan)\n",
    "train_with_scores.third_keyword = np.where(train_with_scores.third_keyword_score > 0.25, train_with_scores.third_keyword, np.nan)"
   ]
  },
  {
   "cell_type": "code",
   "execution_count": 39,
   "id": "0d9a5022",
   "metadata": {},
   "outputs": [
    {
     "data": {
      "text/plain": [
       "(0.9517, 0.92515, 0.91315)"
      ]
     },
     "execution_count": 39,
     "metadata": {},
     "output_type": "execute_result"
    }
   ],
   "source": [
    "train_with_scores.first_keyword_score.median(), train_with_scores.second_keyword_score.median(), train_with_scores.third_keyword_score.median()\n"
   ]
  },
  {
   "cell_type": "code",
   "execution_count": 40,
   "id": "ba35d305",
   "metadata": {},
   "outputs": [],
   "source": [
    "train_with_scores.first_keyword_three = np.where(train_with_scores.first_keyword_score_three > 0.25, train_with_scores.first_keyword_three, np.nan)\n",
    "train_with_scores.second_keyword_three = np.where(train_with_scores.second_keyword_score_three > 0.25, train_with_scores.second_keyword_three, np.nan)\n",
    "train_with_scores.third_keyword_three = np.where(train_with_scores.third_keyword_score_three > 0.25, train_with_scores.third_keyword_three, np.nan)\n"
   ]
  },
  {
   "cell_type": "code",
   "execution_count": 41,
   "id": "43749837",
   "metadata": {},
   "outputs": [],
   "source": [
    "train_with_scores.first_keyword_four = np.where(train_with_scores.first_keyword_score_four > 0.25, train_with_scores.first_keyword_four, np.nan)\n",
    "train_with_scores.second_keyword_four = np.where(train_with_scores.second_keyword_score_four > 0.25, train_with_scores.second_keyword_four, np.nan)\n",
    "train_with_scores.third_keyword_four = np.where(train_with_scores.third_keyword_score_four > 0.25, train_with_scores.third_keyword_four, np.nan)\n"
   ]
  },
  {
   "cell_type": "code",
   "execution_count": 42,
   "id": "c15dd1c3",
   "metadata": {},
   "outputs": [],
   "source": [
    "train_new_new = pd.read_csv(\"all_keywords_with_score_biomedNLP.csv\")"
   ]
  },
  {
   "cell_type": "code",
   "execution_count": 43,
   "id": "4fdb003a",
   "metadata": {},
   "outputs": [],
   "source": [
    "train_with_scores = train_new_new[['id', 'pn_num', 'pn_history_preprocessed']].join(train_with_scores)"
   ]
  },
  {
   "cell_type": "code",
   "execution_count": 44,
   "id": "4d78625e",
   "metadata": {},
   "outputs": [
    {
     "data": {
      "text/plain": [
       "array(['week weekend'], dtype=object)"
      ]
     },
     "execution_count": 44,
     "metadata": {},
     "output_type": "execute_result"
    }
   ],
   "source": [
    "train_with_scores[:1].third_keyword.values"
   ]
  },
  {
   "cell_type": "markdown",
   "id": "ba992d82",
   "metadata": {},
   "source": [
    "### Predicting Annotations"
   ]
  },
  {
   "cell_type": "code",
   "execution_count": 45,
   "id": "c9b25927",
   "metadata": {},
   "outputs": [],
   "source": [
    "def func(x):\n",
    "    all_annotation = []\n",
    "    for annotation in [x.first_keyword, x.second_keyword, x.third_keyword, \n",
    "                       x.first_keyword_three, x.second_keyword_three, x.third_keyword_three,\n",
    "                       x.first_keyword_four, x.second_keyword_four, x.third_keyword_four]:\n",
    "        \n",
    "        if str(annotation) != 'nan':\n",
    "            all_annotation.append(str(annotation))\n",
    "    return list(set(all_annotation))\n",
    "    \n",
    "train_with_scores['predicted_annotation'] = train_with_scores.apply(lambda x: func(x), axis=1)"
   ]
  },
  {
   "cell_type": "code",
   "execution_count": 46,
   "id": "fa93420e",
   "metadata": {},
   "outputs": [
    {
     "data": {
      "text/html": [
       "<div>\n",
       "<style scoped>\n",
       "    .dataframe tbody tr th:only-of-type {\n",
       "        vertical-align: middle;\n",
       "    }\n",
       "\n",
       "    .dataframe tbody tr th {\n",
       "        vertical-align: top;\n",
       "    }\n",
       "\n",
       "    .dataframe thead th {\n",
       "        text-align: right;\n",
       "    }\n",
       "</style>\n",
       "<table border=\"1\" class=\"dataframe\">\n",
       "  <thead>\n",
       "    <tr style=\"text-align: right;\">\n",
       "      <th></th>\n",
       "      <th>pn_num</th>\n",
       "      <th>predicted_annotation</th>\n",
       "    </tr>\n",
       "  </thead>\n",
       "  <tbody>\n",
       "    <tr>\n",
       "      <th>0</th>\n",
       "      <td>16</td>\n",
       "      <td>[recent soccer, lose conciousness, night week weekend, mom thyroid disease, diaphoresis fever chill, patient endorses abusing adderall, endorses abusing adderall, week weekend]</td>\n",
       "    </tr>\n",
       "    <tr>\n",
       "      <th>1</th>\n",
       "      <td>41</td>\n",
       "      <td>[using condom, hosp travel trauma, clinic heart pounding started, etoh, heart pounding started, pounding started]</td>\n",
       "    </tr>\n",
       "    <tr>\n",
       "      <th>2</th>\n",
       "      <td>46</td>\n",
       "      <td>[wa consented, cleveland, ago described feeling nervousness, thyroid issue, headedness sob, sex gf use, wa consented parent, make palpitation worse]</td>\n",
       "    </tr>\n",
       "    <tr>\n",
       "      <th>3</th>\n",
       "      <td>82</td>\n",
       "      <td>[pounding pt, female partner, report ha helped, sexually active female partner, heart pounding pt, report adverse, episodic heart pounding pt, father mi mom, female partner condom]</td>\n",
       "    </tr>\n",
       "    <tr>\n",
       "      <th>4</th>\n",
       "      <td>100</td>\n",
       "      <td>[cleveland, experienced symptom, bowel urinary habit, rapid pounding heart, pounding heart beat denies, use etoh use drink, rapid pounding, soc tobacco use]</td>\n",
       "    </tr>\n",
       "    <tr>\n",
       "      <th>...</th>\n",
       "      <td>...</td>\n",
       "      <td>...</td>\n",
       "    </tr>\n",
       "    <tr>\n",
       "      <th>995</th>\n",
       "      <td>95145</td>\n",
       "      <td>[pt state, ibuprofen tylenol, sound aura state, yesterday morning, ha neck pain, progressively getthing, headache yesterday, vomitting x3 food green]</td>\n",
       "    </tr>\n",
       "    <tr>\n",
       "      <th>996</th>\n",
       "      <td>95228</td>\n",
       "      <td>[surgery instrumentation, x2 day sick contact, day uri, spinal surgery instrumentation, headache photosensitivity, severe headache, sick contact utd, vaccine hx]</td>\n",
       "    </tr>\n",
       "    <tr>\n",
       "      <th>997</th>\n",
       "      <td>95243</td>\n",
       "      <td>[dull headache, headache patient said started, headache patient said, joint marijuana week etoh, yesterday morning, use soical, marijuana week etoh]</td>\n",
       "    </tr>\n",
       "    <tr>\n",
       "      <th>998</th>\n",
       "      <td>95330</td>\n",
       "      <td>[female, make pain worse ha, pain felt, ha ibuprofen tylenol, alcohol use, significant, felt head nonpulsating, yesterday]</td>\n",
       "    </tr>\n",
       "    <tr>\n",
       "      <th>999</th>\n",
       "      <td>95333</td>\n",
       "      <td>[sexually active condom, complains photobia phonophobia, complains photobia, complains photobia phonophobia aura, yesterday morning, soc work, hosp med]</td>\n",
       "    </tr>\n",
       "  </tbody>\n",
       "</table>\n",
       "<p>1000 rows × 2 columns</p>\n",
       "</div>"
      ],
      "text/plain": [
       "     pn_num                                                                                                                                                                  predicted_annotation\n",
       "0        16      [recent soccer, lose conciousness, night week weekend, mom thyroid disease, diaphoresis fever chill, patient endorses abusing adderall, endorses abusing adderall, week weekend]\n",
       "1        41                                                                     [using condom, hosp travel trauma, clinic heart pounding started, etoh, heart pounding started, pounding started]\n",
       "2        46                                  [wa consented, cleveland, ago described feeling nervousness, thyroid issue, headedness sob, sex gf use, wa consented parent, make palpitation worse]\n",
       "3        82  [pounding pt, female partner, report ha helped, sexually active female partner, heart pounding pt, report adverse, episodic heart pounding pt, father mi mom, female partner condom]\n",
       "4       100                          [cleveland, experienced symptom, bowel urinary habit, rapid pounding heart, pounding heart beat denies, use etoh use drink, rapid pounding, soc tobacco use]\n",
       "..      ...                                                                                                                                                                                   ...\n",
       "995   95145                                 [pt state, ibuprofen tylenol, sound aura state, yesterday morning, ha neck pain, progressively getthing, headache yesterday, vomitting x3 food green]\n",
       "996   95228                     [surgery instrumentation, x2 day sick contact, day uri, spinal surgery instrumentation, headache photosensitivity, severe headache, sick contact utd, vaccine hx]\n",
       "997   95243                                  [dull headache, headache patient said started, headache patient said, joint marijuana week etoh, yesterday morning, use soical, marijuana week etoh]\n",
       "998   95330                                                            [female, make pain worse ha, pain felt, ha ibuprofen tylenol, alcohol use, significant, felt head nonpulsating, yesterday]\n",
       "999   95333                              [sexually active condom, complains photobia phonophobia, complains photobia, complains photobia phonophobia aura, yesterday morning, soc work, hosp med]\n",
       "\n",
       "[1000 rows x 2 columns]"
      ]
     },
     "execution_count": 46,
     "metadata": {},
     "output_type": "execute_result"
    }
   ],
   "source": [
    "train_with_scores[['pn_num', 'predicted_annotation']]"
   ]
  },
  {
   "cell_type": "code",
   "execution_count": 47,
   "id": "33f4f146",
   "metadata": {},
   "outputs": [],
   "source": [
    "train_with_scores.to_csv(\"final_annotations_biomedNLP\")"
   ]
  },
  {
   "cell_type": "code",
   "execution_count": 44,
   "id": "b5461274",
   "metadata": {},
   "outputs": [],
   "source": [
    "## using Fuzzy Wuzzy"
   ]
  },
  {
   "cell_type": "markdown",
   "id": "7880643f",
   "metadata": {},
   "source": [
    "### Evaluation Phase 1: Using Fuzzy Wuzzy techniques"
   ]
  },
  {
   "cell_type": "code",
   "execution_count": 48,
   "id": "bdf1f3ab",
   "metadata": {},
   "outputs": [],
   "source": [
    "train_with_scores = pd.read_csv(\"final_annotations_biomedNLP\",index_col=[0])"
   ]
  },
  {
   "cell_type": "code",
   "execution_count": 49,
   "id": "31ac162f",
   "metadata": {},
   "outputs": [],
   "source": [
    "from thefuzz import fuzz\n",
    "from thefuzz import process"
   ]
  },
  {
   "cell_type": "code",
   "execution_count": 50,
   "id": "048141e7",
   "metadata": {},
   "outputs": [
    {
     "data": {
      "text/html": [
       "<div>\n",
       "<style scoped>\n",
       "    .dataframe tbody tr th:only-of-type {\n",
       "        vertical-align: middle;\n",
       "    }\n",
       "\n",
       "    .dataframe tbody tr th {\n",
       "        vertical-align: top;\n",
       "    }\n",
       "\n",
       "    .dataframe thead th {\n",
       "        text-align: right;\n",
       "    }\n",
       "</style>\n",
       "<table border=\"1\" class=\"dataframe\">\n",
       "  <thead>\n",
       "    <tr style=\"text-align: right;\">\n",
       "      <th></th>\n",
       "      <th>id</th>\n",
       "      <th>case_num</th>\n",
       "      <th>pn_num</th>\n",
       "      <th>feature_num</th>\n",
       "      <th>annotation</th>\n",
       "      <th>location</th>\n",
       "      <th>feature_text</th>\n",
       "      <th>pn_history</th>\n",
       "      <th>pn_history_preprocessed</th>\n",
       "    </tr>\n",
       "  </thead>\n",
       "  <tbody>\n",
       "    <tr>\n",
       "      <th>0</th>\n",
       "      <td>00016_000</td>\n",
       "      <td>0</td>\n",
       "      <td>16</td>\n",
       "      <td>0</td>\n",
       "      <td>['dad with recent heart attcak']</td>\n",
       "      <td>['696 724']</td>\n",
       "      <td>Family-history-of-MI-OR-Family-history-of-myocardial-infarction</td>\n",
       "      <td>HPI: 17yo M presents with palpitations. Patient reports 3-4 months of intermittent episodes of \"heart beating/pounding out of my chest.\" 2 days ago during a soccer game had an episode, but this time had chest pressure and felt as if he were going to pass out (did not lose conciousness). Of note patient endorses abusing adderall, primarily to study (1-3 times per week). Before recent soccer game, took adderrall night before and morning of game. Denies shortness of breath, diaphoresis, fevers, chills, headache, fatigue, changes in sleep, changes in vision/hearing, abdominal paun, changes in bowel or urinary habits. \\r\\nPMHx: none\\r\\nRx: uses friends adderrall\\r\\nFHx: mom with \"thyroid disease,\" dad with recent heart attcak\\r\\nAll: none\\r\\nImmunizations: up to date\\r\\nSHx: Freshmen in college. Endorses 3-4 drinks 3 nights / week (on weekends), denies tabacco, endorses trying marijuana. Sexually active with girlfriend x 1 year, uses condoms</td>\n",
       "      <td>hpi 17yo m present with palpitation patient report 3 4 month of intermittent episode of heart beating pounding out of my chest 2 day ago during a soccer game had an episode but this time had chest pressure and felt a if he were going to pas out did not lose conciousness of note patient endorses abusing adderall primarily to study 1 3 time per week before recent soccer game took adderrall night before and morning of game denies shortness of breath diaphoresis fever chill headache fatigue change in sleep change in vision hearing abdominal paun change in bowel or urinary habit pmhx none rx us friend adderrall fhx mom with thyroid disease dad with recent heart attcak all none immunization up to date shx freshman in college endorses 3 4 drink 3 night week on weekend denies tabacco endorses trying marijuana sexually active with girlfriend x 1 year us condom</td>\n",
       "    </tr>\n",
       "    <tr>\n",
       "      <th>1</th>\n",
       "      <td>00016_001</td>\n",
       "      <td>0</td>\n",
       "      <td>16</td>\n",
       "      <td>1</td>\n",
       "      <td>['mom with \"thyroid disease']</td>\n",
       "      <td>['668 693']</td>\n",
       "      <td>Family-history-of-thyroid-disorder</td>\n",
       "      <td>HPI: 17yo M presents with palpitations. Patient reports 3-4 months of intermittent episodes of \"heart beating/pounding out of my chest.\" 2 days ago during a soccer game had an episode, but this time had chest pressure and felt as if he were going to pass out (did not lose conciousness). Of note patient endorses abusing adderall, primarily to study (1-3 times per week). Before recent soccer game, took adderrall night before and morning of game. Denies shortness of breath, diaphoresis, fevers, chills, headache, fatigue, changes in sleep, changes in vision/hearing, abdominal paun, changes in bowel or urinary habits. \\r\\nPMHx: none\\r\\nRx: uses friends adderrall\\r\\nFHx: mom with \"thyroid disease,\" dad with recent heart attcak\\r\\nAll: none\\r\\nImmunizations: up to date\\r\\nSHx: Freshmen in college. Endorses 3-4 drinks 3 nights / week (on weekends), denies tabacco, endorses trying marijuana. Sexually active with girlfriend x 1 year, uses condoms</td>\n",
       "      <td>hpi 17yo m present with palpitation patient report 3 4 month of intermittent episode of heart beating pounding out of my chest 2 day ago during a soccer game had an episode but this time had chest pressure and felt a if he were going to pas out did not lose conciousness of note patient endorses abusing adderall primarily to study 1 3 time per week before recent soccer game took adderrall night before and morning of game denies shortness of breath diaphoresis fever chill headache fatigue change in sleep change in vision hearing abdominal paun change in bowel or urinary habit pmhx none rx us friend adderrall fhx mom with thyroid disease dad with recent heart attcak all none immunization up to date shx freshman in college endorses 3 4 drink 3 night week on weekend denies tabacco endorses trying marijuana sexually active with girlfriend x 1 year us condom</td>\n",
       "    </tr>\n",
       "  </tbody>\n",
       "</table>\n",
       "</div>"
      ],
      "text/plain": [
       "          id  case_num  pn_num  feature_num                        annotation     location                                                     feature_text  \\\n",
       "0  00016_000         0      16            0  ['dad with recent heart attcak']  ['696 724']  Family-history-of-MI-OR-Family-history-of-myocardial-infarction   \n",
       "1  00016_001         0      16            1     ['mom with \"thyroid disease']  ['668 693']                               Family-history-of-thyroid-disorder   \n",
       "\n",
       "                                                                                                                                                                                                                                                                                                                                                                                                                                                                                                                                                                                                                                                                                                                                                                                                                                                                                                                                                                               pn_history  \\\n",
       "0  HPI: 17yo M presents with palpitations. Patient reports 3-4 months of intermittent episodes of \"heart beating/pounding out of my chest.\" 2 days ago during a soccer game had an episode, but this time had chest pressure and felt as if he were going to pass out (did not lose conciousness). Of note patient endorses abusing adderall, primarily to study (1-3 times per week). Before recent soccer game, took adderrall night before and morning of game. Denies shortness of breath, diaphoresis, fevers, chills, headache, fatigue, changes in sleep, changes in vision/hearing, abdominal paun, changes in bowel or urinary habits. \\r\\nPMHx: none\\r\\nRx: uses friends adderrall\\r\\nFHx: mom with \"thyroid disease,\" dad with recent heart attcak\\r\\nAll: none\\r\\nImmunizations: up to date\\r\\nSHx: Freshmen in college. Endorses 3-4 drinks 3 nights / week (on weekends), denies tabacco, endorses trying marijuana. Sexually active with girlfriend x 1 year, uses condoms   \n",
       "1  HPI: 17yo M presents with palpitations. Patient reports 3-4 months of intermittent episodes of \"heart beating/pounding out of my chest.\" 2 days ago during a soccer game had an episode, but this time had chest pressure and felt as if he were going to pass out (did not lose conciousness). Of note patient endorses abusing adderall, primarily to study (1-3 times per week). Before recent soccer game, took adderrall night before and morning of game. Denies shortness of breath, diaphoresis, fevers, chills, headache, fatigue, changes in sleep, changes in vision/hearing, abdominal paun, changes in bowel or urinary habits. \\r\\nPMHx: none\\r\\nRx: uses friends adderrall\\r\\nFHx: mom with \"thyroid disease,\" dad with recent heart attcak\\r\\nAll: none\\r\\nImmunizations: up to date\\r\\nSHx: Freshmen in college. Endorses 3-4 drinks 3 nights / week (on weekends), denies tabacco, endorses trying marijuana. Sexually active with girlfriend x 1 year, uses condoms   \n",
       "\n",
       "                                                                                                                                                                                                                                                                                                                                                                                                                                                                                                                                                                                                                                                                                                                                                                                                                                                                           pn_history_preprocessed  \n",
       "0  hpi 17yo m present with palpitation patient report 3 4 month of intermittent episode of heart beating pounding out of my chest 2 day ago during a soccer game had an episode but this time had chest pressure and felt a if he were going to pas out did not lose conciousness of note patient endorses abusing adderall primarily to study 1 3 time per week before recent soccer game took adderrall night before and morning of game denies shortness of breath diaphoresis fever chill headache fatigue change in sleep change in vision hearing abdominal paun change in bowel or urinary habit pmhx none rx us friend adderrall fhx mom with thyroid disease dad with recent heart attcak all none immunization up to date shx freshman in college endorses 3 4 drink 3 night week on weekend denies tabacco endorses trying marijuana sexually active with girlfriend x 1 year us condom  \n",
       "1  hpi 17yo m present with palpitation patient report 3 4 month of intermittent episode of heart beating pounding out of my chest 2 day ago during a soccer game had an episode but this time had chest pressure and felt a if he were going to pas out did not lose conciousness of note patient endorses abusing adderall primarily to study 1 3 time per week before recent soccer game took adderrall night before and morning of game denies shortness of breath diaphoresis fever chill headache fatigue change in sleep change in vision hearing abdominal paun change in bowel or urinary habit pmhx none rx us friend adderrall fhx mom with thyroid disease dad with recent heart attcak all none immunization up to date shx freshman in college endorses 3 4 drink 3 night week on weekend denies tabacco endorses trying marijuana sexually active with girlfriend x 1 year us condom  "
      ]
     },
     "metadata": {},
     "output_type": "display_data"
    }
   ],
   "source": [
    "patient_notes_test = pd.read_csv(\"patient_notes.csv\")\n",
    "#one case number has many pn_num\n",
    "features_test = pd.read_csv(\"features.csv\")\n",
    "#one case has many feature_num\n",
    "test = pd.read_csv(\"train.csv\")\n",
    "test = test.merge(features_test, on=['feature_num', 'case_num'], how='left')\n",
    "test = test.merge(patient_notes_test, on=['pn_num', 'case_num'], how='left')\n",
    "test = test.merge(train_with_scores[['pn_num', 'pn_history_preprocessed']], on=['pn_num'], how='left')\n",
    "pd.set_option('display.max_colwidth', None)\n",
    "display(test.head(2))"
   ]
  },
  {
   "cell_type": "code",
   "execution_count": 52,
   "id": "21481d19",
   "metadata": {},
   "outputs": [],
   "source": [
    "test = test.merge(train_with_scores[['pn_num', 'predicted_annotation']], how='left', on='pn_num')"
   ]
  },
  {
   "cell_type": "code",
   "execution_count": 54,
   "id": "d85ce40b",
   "metadata": {
    "scrolled": true
   },
   "outputs": [],
   "source": [
    "evaluation = test[['pn_num', 'annotation', 'predicted_annotation', 'pn_history', 'pn_history_preprocessed']]\n",
    "evaluation = evaluation[evaluation.annotation != '[]']\n",
    "evaluation['annotation'] = evaluation['annotation'].astype(str)\n",
    "evaluation['ground_truth_annotation'] = evaluation.annotation.apply(lambda x: eval(x))\n",
    "evaluation = evaluation.explode('ground_truth_annotation')\n",
    "evaluation['ground_truth_annotation_junk'] = evaluation.ground_truth_annotation.apply(lambda x: len(str(x)) < 3)"
   ]
  },
  {
   "cell_type": "code",
   "execution_count": 55,
   "id": "26927087",
   "metadata": {},
   "outputs": [],
   "source": [
    "evaluation = evaluation.drop_duplicates()"
   ]
  },
  {
   "cell_type": "code",
   "execution_count": 56,
   "id": "beb37b8c",
   "metadata": {},
   "outputs": [
    {
     "data": {
      "text/plain": [
       "False    0.940796\n",
       "True     0.059204\n",
       "Name: ground_truth_annotation_junk, dtype: float64"
      ]
     },
     "execution_count": 56,
     "metadata": {},
     "output_type": "execute_result"
    }
   ],
   "source": [
    "evaluation.ground_truth_annotation_junk.value_counts(normalize=True)"
   ]
  },
  {
   "cell_type": "code",
   "execution_count": 57,
   "id": "71c026f9",
   "metadata": {},
   "outputs": [],
   "source": [
    "evaluation_pp = evaluation.copy()"
   ]
  },
  {
   "cell_type": "code",
   "execution_count": 58,
   "id": "b02876f4",
   "metadata": {},
   "outputs": [],
   "source": [
    "evaluation['predicted_annotation'] = evaluation['predicted_annotation'].astype(str)\n",
    "evaluation = evaluation[evaluation.predicted_annotation != '[]']\n",
    "evaluation['prediction'] = evaluation.predicted_annotation.apply(lambda x: eval(x))\n",
    "evaluation = evaluation.explode('prediction')"
   ]
  },
  {
   "cell_type": "markdown",
   "id": "414c7cde",
   "metadata": {},
   "source": [
    "## Evaluation Phase 1"
   ]
  },
  {
   "cell_type": "markdown",
   "id": "f16c6751",
   "metadata": {},
   "source": [
    "### Selecting columns of interest for Fuzzy Wuzzy Evaluation"
   ]
  },
  {
   "cell_type": "code",
   "execution_count": 59,
   "id": "d12c79ce",
   "metadata": {},
   "outputs": [],
   "source": [
    "cols = ['pn_num', \n",
    "       'pn_history_preprocessed', \n",
    "       'ground_truth_annotation',\n",
    "       'prediction']\n",
    "evaluation = evaluation[cols]"
   ]
  },
  {
   "cell_type": "code",
   "execution_count": 60,
   "id": "141dc19c",
   "metadata": {},
   "outputs": [],
   "source": [
    "def get_fuzzy_wuzzy_score(x):\n",
    "    prediction = x['prediction']\n",
    "    label = x['ground_truth_annotation']\n",
    "    return fuzz.partial_ratio(prediction, label)\n",
    "\n",
    "evaluation['score'] = evaluation.apply(lambda x: get_fuzzy_wuzzy_score(x), axis=1)"
   ]
  },
  {
   "cell_type": "code",
   "execution_count": 72,
   "id": "2dae0cd0",
   "metadata": {},
   "outputs": [
    {
     "data": {
      "text/plain": [
       "<AxesSubplot:xlabel='score'>"
      ]
     },
     "execution_count": 72,
     "metadata": {},
     "output_type": "execute_result"
    },
    {
     "data": {
      "image/png": "[encoded data removed]",
      "text/plain": [
       "<Figure size 432x288 with 1 Axes>"
      ]
     },
     "metadata": {
      "needs_background": "light"
     },
     "output_type": "display_data"
    }
   ],
   "source": [
    "sns.distplot(evaluation.score)"
   ]
  },
  {
   "cell_type": "markdown",
   "id": "13e91e16",
   "metadata": {},
   "source": [
    "### Evaluation Phase 2: Using Precision and Recall"
   ]
  },
  {
   "cell_type": "markdown",
   "id": "9ccdfbfe",
   "metadata": {},
   "source": [
    "## Precision"
   ]
  },
  {
   "cell_type": "code",
   "execution_count": 63,
   "id": "080ef5cb",
   "metadata": {},
   "outputs": [],
   "source": [
    "def relevance(x, threshold):\n",
    "    all_predictions = x.groupby(['prediction']).agg({'score': 'max'}).reset_index()\n",
    "    found_predictions = len(all_predictions[all_predictions['score'] >= threshold])\n",
    "    return found_predictions, len(all_predictions)"
   ]
  },
  {
   "cell_type": "code",
   "execution_count": 64,
   "id": "dd0dbf3d",
   "metadata": {},
   "outputs": [],
   "source": [
    "threshold_values = [10, 20, 30, 40, 50, 60, 70, 80, 90, 100]\n",
    "all_relevant_predictions = pd.DataFrame()\n",
    "\n",
    "for threshold_val in threshold_values:\n",
    "    relevant_predictions = evaluation.groupby(['pn_num']).apply(lambda x: relevance(x, threshold=threshold_val))\n",
    "    relevant_predictions = relevant_predictions.reset_index()\n",
    "    relevant_predictions = pd.DataFrame(relevant_predictions[0].tolist(), index=relevant_predictions.pn_num)\\\n",
    "                            .rename(columns={0:f'found_labels', 1:f'total_predictions'})\\\n",
    "                            .reset_index()\n",
    "    relevant_predictions[f'precision'] = relevant_predictions[f'found_labels'] / relevant_predictions[f'total_predictions']\n",
    "    relevant_predictions['threshold'] = threshold_val\n",
    "    all_relevant_predictions = pd.concat([all_relevant_predictions, relevant_predictions], axis=0)"
   ]
  },
  {
   "cell_type": "markdown",
   "id": "638a1867",
   "metadata": {},
   "source": [
    "## Recall"
   ]
  },
  {
   "cell_type": "code",
   "execution_count": 65,
   "id": "1ab2190f",
   "metadata": {},
   "outputs": [],
   "source": [
    "def retrieval(x, threshold):\n",
    "    all_labels = x.groupby(['ground_truth_annotation']).agg({'score': 'max'}).reset_index()\n",
    "    found_labels = len(all_labels[all_labels['score'] >= threshold])\n",
    "    total_predictions = x['prediction'].nunique()\n",
    "    \n",
    "    return found_labels, len(all_labels)"
   ]
  },
  {
   "cell_type": "code",
   "execution_count": 66,
   "id": "5bdc4406",
   "metadata": {},
   "outputs": [],
   "source": [
    "threshold_values = [10, 20, 30, 40, 50, 60, 70, 80, 90, 100]\n",
    "all_retrieved_predictions = pd.DataFrame()\n",
    "\n",
    "for threshold_val in threshold_values:\n",
    "    retrieved_labels = evaluation.groupby(['pn_num']).apply(lambda x: retrieval(x, threshold=threshold_val))\n",
    "    retrieved_labels = retrieved_labels.reset_index()\n",
    "    retrieved_labels = pd.DataFrame(retrieved_labels[0].tolist(), index=retrieved_labels.pn_num)\\\n",
    "                        .rename(columns={0:f'found_predictions', 1:f'total_labels'})\\\n",
    "                        .reset_index()\n",
    "    retrieved_labels['recall'] = retrieved_labels[f'found_predictions'] / retrieved_labels[f'total_labels']\n",
    "    retrieved_labels['threshold'] = threshold_val\n",
    "    all_retrieved_predictions = pd.concat([all_retrieved_predictions, retrieved_labels], axis=0)"
   ]
  },
  {
   "cell_type": "code",
   "execution_count": 67,
   "id": "4808b4b3",
   "metadata": {},
   "outputs": [
    {
     "data": {
      "text/html": [
       "<div>\n",
       "<style scoped>\n",
       "    .dataframe tbody tr th:only-of-type {\n",
       "        vertical-align: middle;\n",
       "    }\n",
       "\n",
       "    .dataframe tbody tr th {\n",
       "        vertical-align: top;\n",
       "    }\n",
       "\n",
       "    .dataframe thead th {\n",
       "        text-align: right;\n",
       "    }\n",
       "</style>\n",
       "<table border=\"1\" class=\"dataframe\">\n",
       "  <thead>\n",
       "    <tr style=\"text-align: right;\">\n",
       "      <th></th>\n",
       "      <th>pn_num</th>\n",
       "      <th>threshold</th>\n",
       "      <th>total_labels</th>\n",
       "      <th>total_predictions</th>\n",
       "      <th>found_labels</th>\n",
       "      <th>found_predictions</th>\n",
       "      <th>recall</th>\n",
       "      <th>precision</th>\n",
       "      <th>f1_score</th>\n",
       "    </tr>\n",
       "  </thead>\n",
       "  <tbody>\n",
       "    <tr>\n",
       "      <th>0</th>\n",
       "      <td>16</td>\n",
       "      <td>10</td>\n",
       "      <td>13</td>\n",
       "      <td>8</td>\n",
       "      <td>8</td>\n",
       "      <td>12</td>\n",
       "      <td>0.923077</td>\n",
       "      <td>1.000000</td>\n",
       "      <td>0.960000</td>\n",
       "    </tr>\n",
       "    <tr>\n",
       "      <th>1</th>\n",
       "      <td>41</td>\n",
       "      <td>10</td>\n",
       "      <td>9</td>\n",
       "      <td>6</td>\n",
       "      <td>5</td>\n",
       "      <td>6</td>\n",
       "      <td>0.666667</td>\n",
       "      <td>0.833333</td>\n",
       "      <td>0.740741</td>\n",
       "    </tr>\n",
       "    <tr>\n",
       "      <th>2</th>\n",
       "      <td>46</td>\n",
       "      <td>10</td>\n",
       "      <td>12</td>\n",
       "      <td>8</td>\n",
       "      <td>8</td>\n",
       "      <td>10</td>\n",
       "      <td>0.833333</td>\n",
       "      <td>1.000000</td>\n",
       "      <td>0.909091</td>\n",
       "    </tr>\n",
       "    <tr>\n",
       "      <th>3</th>\n",
       "      <td>82</td>\n",
       "      <td>10</td>\n",
       "      <td>13</td>\n",
       "      <td>9</td>\n",
       "      <td>9</td>\n",
       "      <td>12</td>\n",
       "      <td>0.923077</td>\n",
       "      <td>1.000000</td>\n",
       "      <td>0.960000</td>\n",
       "    </tr>\n",
       "    <tr>\n",
       "      <th>4</th>\n",
       "      <td>100</td>\n",
       "      <td>10</td>\n",
       "      <td>10</td>\n",
       "      <td>8</td>\n",
       "      <td>8</td>\n",
       "      <td>10</td>\n",
       "      <td>1.000000</td>\n",
       "      <td>1.000000</td>\n",
       "      <td>1.000000</td>\n",
       "    </tr>\n",
       "    <tr>\n",
       "      <th>...</th>\n",
       "      <td>...</td>\n",
       "      <td>...</td>\n",
       "      <td>...</td>\n",
       "      <td>...</td>\n",
       "      <td>...</td>\n",
       "      <td>...</td>\n",
       "      <td>...</td>\n",
       "      <td>...</td>\n",
       "      <td>...</td>\n",
       "    </tr>\n",
       "    <tr>\n",
       "      <th>9995</th>\n",
       "      <td>95145</td>\n",
       "      <td>100</td>\n",
       "      <td>12</td>\n",
       "      <td>8</td>\n",
       "      <td>4</td>\n",
       "      <td>3</td>\n",
       "      <td>0.250000</td>\n",
       "      <td>0.500000</td>\n",
       "      <td>0.333333</td>\n",
       "    </tr>\n",
       "    <tr>\n",
       "      <th>9996</th>\n",
       "      <td>95228</td>\n",
       "      <td>100</td>\n",
       "      <td>7</td>\n",
       "      <td>8</td>\n",
       "      <td>1</td>\n",
       "      <td>1</td>\n",
       "      <td>0.142857</td>\n",
       "      <td>0.125000</td>\n",
       "      <td>0.133333</td>\n",
       "    </tr>\n",
       "    <tr>\n",
       "      <th>9997</th>\n",
       "      <td>95243</td>\n",
       "      <td>100</td>\n",
       "      <td>10</td>\n",
       "      <td>7</td>\n",
       "      <td>0</td>\n",
       "      <td>0</td>\n",
       "      <td>0.000000</td>\n",
       "      <td>0.000000</td>\n",
       "      <td>NaN</td>\n",
       "    </tr>\n",
       "    <tr>\n",
       "      <th>9998</th>\n",
       "      <td>95330</td>\n",
       "      <td>100</td>\n",
       "      <td>16</td>\n",
       "      <td>8</td>\n",
       "      <td>2</td>\n",
       "      <td>2</td>\n",
       "      <td>0.125000</td>\n",
       "      <td>0.250000</td>\n",
       "      <td>0.166667</td>\n",
       "    </tr>\n",
       "    <tr>\n",
       "      <th>9999</th>\n",
       "      <td>95333</td>\n",
       "      <td>100</td>\n",
       "      <td>11</td>\n",
       "      <td>7</td>\n",
       "      <td>4</td>\n",
       "      <td>2</td>\n",
       "      <td>0.181818</td>\n",
       "      <td>0.571429</td>\n",
       "      <td>0.275862</td>\n",
       "    </tr>\n",
       "  </tbody>\n",
       "</table>\n",
       "<p>10000 rows × 9 columns</p>\n",
       "</div>"
      ],
      "text/plain": [
       "      pn_num  threshold  total_labels  total_predictions  found_labels  found_predictions    recall  precision  f1_score\n",
       "0         16         10            13                  8             8                 12  0.923077   1.000000  0.960000\n",
       "1         41         10             9                  6             5                  6  0.666667   0.833333  0.740741\n",
       "2         46         10            12                  8             8                 10  0.833333   1.000000  0.909091\n",
       "3         82         10            13                  9             9                 12  0.923077   1.000000  0.960000\n",
       "4        100         10            10                  8             8                 10  1.000000   1.000000  1.000000\n",
       "...      ...        ...           ...                ...           ...                ...       ...        ...       ...\n",
       "9995   95145        100            12                  8             4                  3  0.250000   0.500000  0.333333\n",
       "9996   95228        100             7                  8             1                  1  0.142857   0.125000  0.133333\n",
       "9997   95243        100            10                  7             0                  0  0.000000   0.000000       NaN\n",
       "9998   95330        100            16                  8             2                  2  0.125000   0.250000  0.166667\n",
       "9999   95333        100            11                  7             4                  2  0.181818   0.571429  0.275862\n",
       "\n",
       "[10000 rows x 9 columns]"
      ]
     },
     "execution_count": 67,
     "metadata": {},
     "output_type": "execute_result"
    }
   ],
   "source": [
    "evaluation_df = all_retrieved_predictions.merge(all_relevant_predictions, how='left', on=['pn_num', 'threshold'])\n",
    "evaluation_df = evaluation_df[['pn_num', 'threshold', 'total_labels', 'total_predictions', 'found_labels', 'found_predictions', 'recall', 'precision']]\n",
    "\n",
    "evaluation_df['f1_score'] = 2 * (evaluation_df['recall'] * evaluation_df['precision']) / (evaluation_df['recall'] + evaluation_df['precision'])\n",
    "evaluation_df"
   ]
  },
  {
   "cell_type": "code",
   "execution_count": 68,
   "id": "40d8d421",
   "metadata": {},
   "outputs": [
    {
     "data": {
      "text/html": [
       "<div>\n",
       "<style scoped>\n",
       "    .dataframe tbody tr th:only-of-type {\n",
       "        vertical-align: middle;\n",
       "    }\n",
       "\n",
       "    .dataframe tbody tr th {\n",
       "        vertical-align: top;\n",
       "    }\n",
       "\n",
       "    .dataframe thead th {\n",
       "        text-align: right;\n",
       "    }\n",
       "</style>\n",
       "<table border=\"1\" class=\"dataframe\">\n",
       "  <thead>\n",
       "    <tr style=\"text-align: right;\">\n",
       "      <th></th>\n",
       "      <th>pn_num</th>\n",
       "      <th>threshold</th>\n",
       "      <th>total_labels</th>\n",
       "      <th>total_predictions</th>\n",
       "      <th>found_labels</th>\n",
       "      <th>found_predictions</th>\n",
       "      <th>recall</th>\n",
       "      <th>precision</th>\n",
       "      <th>f1_score</th>\n",
       "    </tr>\n",
       "  </thead>\n",
       "  <tbody>\n",
       "    <tr>\n",
       "      <th>0</th>\n",
       "      <td>16</td>\n",
       "      <td>10</td>\n",
       "      <td>13</td>\n",
       "      <td>8</td>\n",
       "      <td>8</td>\n",
       "      <td>12</td>\n",
       "      <td>0.923077</td>\n",
       "      <td>1.000</td>\n",
       "      <td>0.960000</td>\n",
       "    </tr>\n",
       "    <tr>\n",
       "      <th>1000</th>\n",
       "      <td>16</td>\n",
       "      <td>20</td>\n",
       "      <td>13</td>\n",
       "      <td>8</td>\n",
       "      <td>8</td>\n",
       "      <td>12</td>\n",
       "      <td>0.923077</td>\n",
       "      <td>1.000</td>\n",
       "      <td>0.960000</td>\n",
       "    </tr>\n",
       "    <tr>\n",
       "      <th>2000</th>\n",
       "      <td>16</td>\n",
       "      <td>30</td>\n",
       "      <td>13</td>\n",
       "      <td>8</td>\n",
       "      <td>8</td>\n",
       "      <td>12</td>\n",
       "      <td>0.923077</td>\n",
       "      <td>1.000</td>\n",
       "      <td>0.960000</td>\n",
       "    </tr>\n",
       "    <tr>\n",
       "      <th>3000</th>\n",
       "      <td>16</td>\n",
       "      <td>40</td>\n",
       "      <td>13</td>\n",
       "      <td>8</td>\n",
       "      <td>8</td>\n",
       "      <td>10</td>\n",
       "      <td>0.769231</td>\n",
       "      <td>1.000</td>\n",
       "      <td>0.869565</td>\n",
       "    </tr>\n",
       "    <tr>\n",
       "      <th>4000</th>\n",
       "      <td>16</td>\n",
       "      <td>50</td>\n",
       "      <td>13</td>\n",
       "      <td>8</td>\n",
       "      <td>6</td>\n",
       "      <td>8</td>\n",
       "      <td>0.615385</td>\n",
       "      <td>0.750</td>\n",
       "      <td>0.676056</td>\n",
       "    </tr>\n",
       "    <tr>\n",
       "      <th>5000</th>\n",
       "      <td>16</td>\n",
       "      <td>60</td>\n",
       "      <td>13</td>\n",
       "      <td>8</td>\n",
       "      <td>4</td>\n",
       "      <td>4</td>\n",
       "      <td>0.307692</td>\n",
       "      <td>0.500</td>\n",
       "      <td>0.380952</td>\n",
       "    </tr>\n",
       "    <tr>\n",
       "      <th>6000</th>\n",
       "      <td>16</td>\n",
       "      <td>70</td>\n",
       "      <td>13</td>\n",
       "      <td>8</td>\n",
       "      <td>3</td>\n",
       "      <td>3</td>\n",
       "      <td>0.230769</td>\n",
       "      <td>0.375</td>\n",
       "      <td>0.285714</td>\n",
       "    </tr>\n",
       "    <tr>\n",
       "      <th>7000</th>\n",
       "      <td>16</td>\n",
       "      <td>80</td>\n",
       "      <td>13</td>\n",
       "      <td>8</td>\n",
       "      <td>3</td>\n",
       "      <td>3</td>\n",
       "      <td>0.230769</td>\n",
       "      <td>0.375</td>\n",
       "      <td>0.285714</td>\n",
       "    </tr>\n",
       "    <tr>\n",
       "      <th>8000</th>\n",
       "      <td>16</td>\n",
       "      <td>90</td>\n",
       "      <td>13</td>\n",
       "      <td>8</td>\n",
       "      <td>2</td>\n",
       "      <td>2</td>\n",
       "      <td>0.153846</td>\n",
       "      <td>0.250</td>\n",
       "      <td>0.190476</td>\n",
       "    </tr>\n",
       "    <tr>\n",
       "      <th>9000</th>\n",
       "      <td>16</td>\n",
       "      <td>100</td>\n",
       "      <td>13</td>\n",
       "      <td>8</td>\n",
       "      <td>2</td>\n",
       "      <td>1</td>\n",
       "      <td>0.076923</td>\n",
       "      <td>0.250</td>\n",
       "      <td>0.117647</td>\n",
       "    </tr>\n",
       "  </tbody>\n",
       "</table>\n",
       "</div>"
      ],
      "text/plain": [
       "      pn_num  threshold  total_labels  total_predictions  found_labels  found_predictions    recall  precision  f1_score\n",
       "0         16         10            13                  8             8                 12  0.923077      1.000  0.960000\n",
       "1000      16         20            13                  8             8                 12  0.923077      1.000  0.960000\n",
       "2000      16         30            13                  8             8                 12  0.923077      1.000  0.960000\n",
       "3000      16         40            13                  8             8                 10  0.769231      1.000  0.869565\n",
       "4000      16         50            13                  8             6                  8  0.615385      0.750  0.676056\n",
       "5000      16         60            13                  8             4                  4  0.307692      0.500  0.380952\n",
       "6000      16         70            13                  8             3                  3  0.230769      0.375  0.285714\n",
       "7000      16         80            13                  8             3                  3  0.230769      0.375  0.285714\n",
       "8000      16         90            13                  8             2                  2  0.153846      0.250  0.190476\n",
       "9000      16        100            13                  8             2                  1  0.076923      0.250  0.117647"
      ]
     },
     "execution_count": 68,
     "metadata": {},
     "output_type": "execute_result"
    }
   ],
   "source": [
    "evaluation_df[evaluation_df.pn_num==16]"
   ]
  },
  {
   "cell_type": "code",
   "execution_count": 69,
   "id": "cd3af430",
   "metadata": {},
   "outputs": [],
   "source": [
    "biomedNLP_evaluation = evaluation_df.merge(test,on=\"pn_num\",how=\"left\")"
   ]
  },
  {
   "cell_type": "code",
   "execution_count": 70,
   "id": "157b60eb",
   "metadata": {},
   "outputs": [],
   "source": [
    "biomedNLP_evaluation.to_csv(\"biomedNLP_evaluation_evaluation.csv\", index=False)"
   ]
  },
  {
   "cell_type": "code",
   "execution_count": 71,
   "id": "d8835727",
   "metadata": {},
   "outputs": [],
   "source": [
    "evaluation_df.to_csv(\"biomedNLP_evaluation_evaluation_scores.csv\",index=False)"
   ]
  },
  {
   "cell_type": "markdown",
   "id": "6e39ceb8",
   "metadata": {},
   "source": [
    "### -----x-------x"
   ]
  }
 ],
 "metadata": {
  "kernelspec": {
   "display_name": "Python 3 (ipykernel)",
   "language": "python",
   "name": "python3"
  },
  "language_info": {
   "codemirror_mode": {
    "name": "ipython",
    "version": 3
   },
   "file_extension": ".py",
   "mimetype": "text/x-python",
   "name": "python",
   "nbconvert_exporter": "python",
   "pygments_lexer": "ipython3",
   "version": "3.10.10"
  }
 },
 "nbformat": 4,
 "nbformat_minor": 5
}
