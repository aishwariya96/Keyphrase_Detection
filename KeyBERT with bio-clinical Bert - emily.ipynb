{
 "cells": [
  {
   "cell_type": "code",
   "execution_count": 1,
   "id": "ebcb1398",
   "metadata": {},
   "outputs": [
    {
     "name": "stderr",
     "output_type": "stream",
     "text": [
      "[nltk_data] Downloading package wordnet to\n",
      "[nltk_data]     /Users/aishwariyagupta/nltk_data...\n",
      "[nltk_data]   Package wordnet is already up-to-date!\n",
      "[nltk_data] Downloading package omw-1.4 to\n",
      "[nltk_data]     /Users/aishwariyagupta/nltk_data...\n",
      "[nltk_data]   Package omw-1.4 is already up-to-date!\n"
     ]
    }
   ],
   "source": [
    "import os\n",
    "import spacy\n",
    "import warnings\n",
    "import wordcloud\n",
    "import numpy as np\n",
    "import pandas as pd\n",
    "import seaborn as sns\n",
    "import plotly.express as px\n",
    "import matplotlib.pyplot as plt\n",
    "import plotly.graph_objects as go\n",
    "\n",
    "\n",
    "import numpy as np\n",
    "import pandas as pd \n",
    "import os\n",
    "import re\n",
    "import matplotlib.pyplot as plt\n",
    "import seaborn as sns\n",
    "import nltk\n",
    "import textstat\n",
    "import spacy\n",
    "nlp = spacy.load('en_core_web_sm')\n",
    "\n",
    "\n",
    "from spacy import displacy\n",
    "from nltk.tokenize import sent_tokenize, word_tokenize \n",
    "\n",
    "import warnings\n",
    "warnings.filterwarnings(\"ignore\")\n",
    "\n",
    "import contractions\n",
    "import nltk\n",
    "import string\n",
    "\n",
    "#nltk.download('stopwords')\n",
    "#from nltk.corpus import stopwords\n",
    "#stop_words = set(stopwords.words('english'))\n",
    "\n",
    "from nltk.stem import WordNetLemmatizer\n",
    "lemmatizer = WordNetLemmatizer()\n",
    "nltk.download('wordnet')\n",
    "nltk.download('omw-1.4')\n",
    "import pkg_resources\n",
    "from symspellpy import SymSpell, Verbosity"
   ]
  },
  {
   "cell_type": "code",
   "execution_count": 4,
   "id": "9129169b",
   "metadata": {},
   "outputs": [
    {
     "data": {
      "text/html": [
       "<div>\n",
       "<style scoped>\n",
       "    .dataframe tbody tr th:only-of-type {\n",
       "        vertical-align: middle;\n",
       "    }\n",
       "\n",
       "    .dataframe tbody tr th {\n",
       "        vertical-align: top;\n",
       "    }\n",
       "\n",
       "    .dataframe thead th {\n",
       "        text-align: right;\n",
       "    }\n",
       "</style>\n",
       "<table border=\"1\" class=\"dataframe\">\n",
       "  <thead>\n",
       "    <tr style=\"text-align: right;\">\n",
       "      <th></th>\n",
       "      <th>id</th>\n",
       "      <th>case_num</th>\n",
       "      <th>pn_num</th>\n",
       "      <th>feature_num</th>\n",
       "      <th>annotation</th>\n",
       "      <th>location</th>\n",
       "      <th>feature_text</th>\n",
       "      <th>pn_history</th>\n",
       "    </tr>\n",
       "  </thead>\n",
       "  <tbody>\n",
       "    <tr>\n",
       "      <th>0</th>\n",
       "      <td>00016_000</td>\n",
       "      <td>0</td>\n",
       "      <td>16</td>\n",
       "      <td>0</td>\n",
       "      <td>['dad with recent heart attcak']</td>\n",
       "      <td>['696 724']</td>\n",
       "      <td>Family-history-of-MI-OR-Family-history-of-myocardial-infarction</td>\n",
       "      <td>HPI: 17yo M presents with palpitations. Patient reports 3-4 months of intermittent episodes of \"heart beating/pounding out of my chest.\" 2 days ago during a soccer game had an episode, but this time had chest pressure and felt as if he were going to pass out (did not lose conciousness). Of note patient endorses abusing adderall, primarily to study (1-3 times per week). Before recent soccer game, took adderrall night before and morning of game. Denies shortness of breath, diaphoresis, fevers, chills, headache, fatigue, changes in sleep, changes in vision/hearing, abdominal paun, changes in bowel or urinary habits. \\r\\nPMHx: none\\r\\nRx: uses friends adderrall\\r\\nFHx: mom with \"thyroid disease,\" dad with recent heart attcak\\r\\nAll: none\\r\\nImmunizations: up to date\\r\\nSHx: Freshmen in college. Endorses 3-4 drinks 3 nights / week (on weekends), denies tabacco, endorses trying marijuana. Sexually active with girlfriend x 1 year, uses condoms</td>\n",
       "    </tr>\n",
       "    <tr>\n",
       "      <th>1</th>\n",
       "      <td>00016_001</td>\n",
       "      <td>0</td>\n",
       "      <td>16</td>\n",
       "      <td>1</td>\n",
       "      <td>['mom with \"thyroid disease']</td>\n",
       "      <td>['668 693']</td>\n",
       "      <td>Family-history-of-thyroid-disorder</td>\n",
       "      <td>HPI: 17yo M presents with palpitations. Patient reports 3-4 months of intermittent episodes of \"heart beating/pounding out of my chest.\" 2 days ago during a soccer game had an episode, but this time had chest pressure and felt as if he were going to pass out (did not lose conciousness). Of note patient endorses abusing adderall, primarily to study (1-3 times per week). Before recent soccer game, took adderrall night before and morning of game. Denies shortness of breath, diaphoresis, fevers, chills, headache, fatigue, changes in sleep, changes in vision/hearing, abdominal paun, changes in bowel or urinary habits. \\r\\nPMHx: none\\r\\nRx: uses friends adderrall\\r\\nFHx: mom with \"thyroid disease,\" dad with recent heart attcak\\r\\nAll: none\\r\\nImmunizations: up to date\\r\\nSHx: Freshmen in college. Endorses 3-4 drinks 3 nights / week (on weekends), denies tabacco, endorses trying marijuana. Sexually active with girlfriend x 1 year, uses condoms</td>\n",
       "    </tr>\n",
       "  </tbody>\n",
       "</table>\n",
       "</div>"
      ],
      "text/plain": [
       "          id  case_num  pn_num  feature_num                        annotation  \\\n",
       "0  00016_000         0      16            0  ['dad with recent heart attcak']   \n",
       "1  00016_001         0      16            1     ['mom with \"thyroid disease']   \n",
       "\n",
       "      location  \\\n",
       "0  ['696 724']   \n",
       "1  ['668 693']   \n",
       "\n",
       "                                                      feature_text  \\\n",
       "0  Family-history-of-MI-OR-Family-history-of-myocardial-infarction   \n",
       "1                               Family-history-of-thyroid-disorder   \n",
       "\n",
       "                                                                                                                                                                                                                                                                                                                                                                                                                                                                                                                                                                                                                                                                                                                                                                                                                                                                                                                                                                               pn_history  \n",
       "0  HPI: 17yo M presents with palpitations. Patient reports 3-4 months of intermittent episodes of \"heart beating/pounding out of my chest.\" 2 days ago during a soccer game had an episode, but this time had chest pressure and felt as if he were going to pass out (did not lose conciousness). Of note patient endorses abusing adderall, primarily to study (1-3 times per week). Before recent soccer game, took adderrall night before and morning of game. Denies shortness of breath, diaphoresis, fevers, chills, headache, fatigue, changes in sleep, changes in vision/hearing, abdominal paun, changes in bowel or urinary habits. \\r\\nPMHx: none\\r\\nRx: uses friends adderrall\\r\\nFHx: mom with \"thyroid disease,\" dad with recent heart attcak\\r\\nAll: none\\r\\nImmunizations: up to date\\r\\nSHx: Freshmen in college. Endorses 3-4 drinks 3 nights / week (on weekends), denies tabacco, endorses trying marijuana. Sexually active with girlfriend x 1 year, uses condoms  \n",
       "1  HPI: 17yo M presents with palpitations. Patient reports 3-4 months of intermittent episodes of \"heart beating/pounding out of my chest.\" 2 days ago during a soccer game had an episode, but this time had chest pressure and felt as if he were going to pass out (did not lose conciousness). Of note patient endorses abusing adderall, primarily to study (1-3 times per week). Before recent soccer game, took adderrall night before and morning of game. Denies shortness of breath, diaphoresis, fevers, chills, headache, fatigue, changes in sleep, changes in vision/hearing, abdominal paun, changes in bowel or urinary habits. \\r\\nPMHx: none\\r\\nRx: uses friends adderrall\\r\\nFHx: mom with \"thyroid disease,\" dad with recent heart attcak\\r\\nAll: none\\r\\nImmunizations: up to date\\r\\nSHx: Freshmen in college. Endorses 3-4 drinks 3 nights / week (on weekends), denies tabacco, endorses trying marijuana. Sexually active with girlfriend x 1 year, uses condoms  "
      ]
     },
     "metadata": {},
     "output_type": "display_data"
    }
   ],
   "source": [
    "patient_notes = pd.read_csv(\"patient_notes.csv\")\n",
    "#one case number has many pn_num\n",
    "features = pd.read_csv(\"features.csv\")\n",
    "#one case has many feature_num\n",
    "train = pd.read_csv(\"train.csv\")\n",
    "\n",
    "train = train.merge(features, on=['feature_num', 'case_num'], how='left')\n",
    "train = train.merge(patient_notes, on=['pn_num', 'case_num'], how='left')\n",
    "\n",
    "pd.set_option('display.max_colwidth', None)\n",
    "display(train.head(2))"
   ]
  },
  {
   "cell_type": "markdown",
   "id": "9d6cc36a",
   "metadata": {},
   "source": [
    "### Pre-processing steps to clean the text - pn_history"
   ]
  },
  {
   "cell_type": "code",
   "execution_count": 6,
   "id": "be7e56cb",
   "metadata": {},
   "outputs": [],
   "source": [
    "train[\"pn_history_lower\"] = train[\"pn_history\"].str.lower()\n",
    "regex = re.compile(r'<[^>]+>')\n",
    "train[\"pn_history_noContractions\"] = train[\"pn_history_lower\"].apply(contractions.fix)\n",
    "\n",
    "def remove_unicode_chars(text):\n",
    "    text = text.encode(\"ascii\", \"ignore\").decode()\n",
    "    return text\n",
    "train[\"pn_history_noUnicode\"] = train[\"pn_history_noContractions\"].apply(remove_unicode_chars)\n",
    "\n",
    "def remove_punctuations(text):\n",
    "    text = re.sub('[%s]' % re.escape(string.punctuation), \" \",text)\n",
    "    return text\n",
    "train[\"pn_history_noPuncts\"] = train[\"pn_history_noUnicode\"].apply(remove_punctuations)\n",
    "\n",
    "#def remove_stopwords(text):\n",
    "#    return \" \".join([word for word in str(text).split() if word not in stop_words])\n",
    "#train[\"tweet_noStopwords\"] = train[\"tweet_noPuncts\"].apply(remove_stopwords)\n",
    "def remove_extra_spaces(text):\n",
    "    text = re.sub(' +', ' ', text).strip()\n",
    "    return text\n",
    "train[\"pn_history_noES\"] = train[\"pn_history_noPuncts\"].apply(remove_extra_spaces)\n",
    "def lemmatize_text(text):\n",
    "    words = [lemmatizer.lemmatize(word) for word in text.split()]\n",
    "    text = ' '.join(words)\n",
    "    return text\n",
    "train[\"pn_history_preprocessed\"] = train[\"pn_history_noES\"].apply(lemmatize_text)"
   ]
  },
  {
   "cell_type": "code",
   "execution_count": 8,
   "id": "b15c63ea",
   "metadata": {},
   "outputs": [],
   "source": [
    "train = train.drop_duplicates([\"pn_history_preprocessed\"])"
   ]
  },
  {
   "cell_type": "markdown",
   "id": "32a03db9",
   "metadata": {},
   "source": [
    "## Model 2 : KeyBert with Bio_Clinical BERT"
   ]
  },
  {
   "cell_type": "code",
   "execution_count": 10,
   "id": "8caf1441",
   "metadata": {},
   "outputs": [],
   "source": [
    "from keybert import KeyBERT\n",
    "from tqdm import tqdm"
   ]
  },
  {
   "cell_type": "code",
   "execution_count": 11,
   "id": "1189bb86",
   "metadata": {},
   "outputs": [
    {
     "name": "stderr",
     "output_type": "stream",
     "text": [
      "Downloading (…)3971f/.gitattributes: 100%|██████| 391/391 [00:00<00:00, 462kB/s]\n",
      "Downloading (…)9c554523971f/LICENSE: 100%|█| 1.07k/1.07k [00:00<00:00, 2.43MB/s]\n",
      "Downloading (…)554523971f/README.md: 100%|█| 2.67k/2.67k [00:00<00:00, 7.20MB/s]\n",
      "Downloading (…)4523971f/config.json: 100%|█████| 385/385 [00:00<00:00, 2.24MB/s]\n",
      "Downloading (…)4523971f/graph.pbtxt: 100%|█| 9.61M/9.61M [00:00<00:00, 10.3MB/s]\n",
      "Downloading (…).data-00000-of-00001: 100%|█| 1.31G/1.31G [02:25<00:00, 9.01MB/s]\n",
      "Downloading (…)el.ckpt-150000.index: 100%|█| 23.4k/23.4k [00:00<00:00, 19.9MB/s]\n",
      "Downloading (…)del.ckpt-150000.meta: 100%|█| 4.07M/4.07M [00:00<00:00, 4.62MB/s]\n",
      "Downloading pytorch_model.bin: 100%|█████████| 436M/436M [00:55<00:00, 7.85MB/s]\n",
      "Downloading (…)554523971f/vocab.txt: 100%|███| 213k/213k [00:00<00:00, 8.15MB/s]\n",
      "No sentence-transformers model found with name /Users/aishwariyagupta/.cache/torch/sentence_transformers/emilyalsentzer_Bio_ClinicalBERT. Creating a new one with MEAN pooling.\n",
      "Some weights of the model checkpoint at /Users/aishwariyagupta/.cache/torch/sentence_transformers/emilyalsentzer_Bio_ClinicalBERT were not used when initializing BertModel: ['cls.predictions.transform.LayerNorm.weight', 'cls.predictions.bias', 'cls.seq_relationship.bias', 'cls.seq_relationship.weight', 'cls.predictions.decoder.weight', 'cls.predictions.transform.dense.bias', 'cls.predictions.transform.dense.weight', 'cls.predictions.transform.LayerNorm.bias']\n",
      "- This IS expected if you are initializing BertModel from the checkpoint of a model trained on another task or with another architecture (e.g. initializing a BertForSequenceClassification model from a BertForPreTraining model).\n",
      "- This IS NOT expected if you are initializing BertModel from the checkpoint of a model that you expect to be exactly identical (initializing a BertForSequenceClassification model from a BertForSequenceClassification model).\n"
     ]
    }
   ],
   "source": [
    "model = KeyBERT(model=\"emilyalsentzer/Bio_ClinicalBERT\")"
   ]
  },
  {
   "cell_type": "markdown",
   "id": "ca7e8c30",
   "metadata": {},
   "source": [
    "## Applying KEYBERT Model"
   ]
  },
  {
   "cell_type": "markdown",
   "id": "9497d494",
   "metadata": {},
   "source": [
    "## Extracting 2 keywords"
   ]
  },
  {
   "cell_type": "code",
   "execution_count": 14,
   "id": "41a8a01b",
   "metadata": {
    "scrolled": true
   },
   "outputs": [
    {
     "name": "stderr",
     "output_type": "stream",
     "text": [
      "1000it [18:49,  1.13s/it]\n"
     ]
    }
   ],
   "source": [
    "l = []\n",
    "for index, row in tqdm(train.iterrows()):\n",
    "    l.append(model.extract_keywords(\n",
    "                row['pn_history_preprocessed'],\n",
    "                top_n=3, \n",
    "                keyphrase_ngram_range=(1, 2),\n",
    "                use_mmr=True, \n",
    "                diversity=0.7))"
   ]
  },
  {
   "cell_type": "code",
   "execution_count": 15,
   "id": "585201f1",
   "metadata": {},
   "outputs": [],
   "source": [
    "train = train.reset_index(drop=True)"
   ]
  },
  {
   "cell_type": "code",
   "execution_count": 16,
   "id": "707f86a1",
   "metadata": {},
   "outputs": [],
   "source": [
    "train = train.join(pd.DataFrame(l, columns=['first_keyword', 'second_keyword', 'third_keyword']))"
   ]
  },
  {
   "cell_type": "code",
   "execution_count": 19,
   "id": "30b31d8e",
   "metadata": {},
   "outputs": [],
   "source": [
    "train.to_csv(\"two_keywords_extraction_bioclinicalBERT.csv\")"
   ]
  },
  {
   "cell_type": "code",
   "execution_count": 20,
   "id": "631aa172",
   "metadata": {},
   "outputs": [],
   "source": [
    "#seprating keyword along with cosine similarity\n",
    "def func(x):\n",
    "    return x[1]\n",
    "train['first_keyword_score'] = train.first_keyword.apply(lambda x: func(x))\n",
    "def func(x):\n",
    "    return x[0]\n",
    "train['first_keyword'] = train.first_keyword.apply(lambda x: func(x))\n",
    "\n",
    "def func(x):\n",
    "    return x[1]\n",
    "train['second_keyword_score'] = train.second_keyword.apply(lambda x: func(x))\n",
    "def func(x):\n",
    "    return x[0]\n",
    "train['second_keyword'] = train.second_keyword.apply(lambda x: func(x))\n",
    "\n",
    "def func(x):\n",
    "    return x[1]\n",
    "train['third_keyword_score'] = train.third_keyword.apply(lambda x: func(x))\n",
    "def func(x):\n",
    "    return x[0]\n",
    "train['third_keyword'] = train.third_keyword.apply(lambda x: func(x))"
   ]
  },
  {
   "cell_type": "code",
   "execution_count": 21,
   "id": "7061bf7e",
   "metadata": {},
   "outputs": [],
   "source": [
    "train.to_csv(\"two_keywords_extraction_with_score_bioclinicalBERT.csv\")"
   ]
  },
  {
   "cell_type": "markdown",
   "id": "976a5fa7",
   "metadata": {},
   "source": [
    "## Extracting 3 keywords"
   ]
  },
  {
   "cell_type": "code",
   "execution_count": 22,
   "id": "1d0d8551",
   "metadata": {},
   "outputs": [
    {
     "name": "stderr",
     "output_type": "stream",
     "text": [
      "1000it [28:23,  1.70s/it]\n"
     ]
    }
   ],
   "source": [
    "l = []\n",
    "for index, row in tqdm(train.iterrows()):\n",
    "    l.append(model.extract_keywords(\n",
    "                row['pn_history_preprocessed'],\n",
    "                top_n=3,\n",
    "                keyphrase_ngram_range=(1, 3),\n",
    "                use_mmr=True, \n",
    "                diversity=0.7))"
   ]
  },
  {
   "cell_type": "code",
   "execution_count": 23,
   "id": "d31daab6",
   "metadata": {
    "scrolled": true
   },
   "outputs": [],
   "source": [
    "train_new = train.join(pd.DataFrame(l, columns=['first_keyword_three', 'second_keyword_three', 'third_keyword_three']))"
   ]
  },
  {
   "cell_type": "code",
   "execution_count": 24,
   "id": "b3419538",
   "metadata": {},
   "outputs": [],
   "source": [
    "train.to_csv(\"three_keywords_extraction_bioclinicalBERT.csv\")"
   ]
  },
  {
   "cell_type": "code",
   "execution_count": 25,
   "id": "b23383a6",
   "metadata": {},
   "outputs": [],
   "source": [
    "def func(x):\n",
    "    return x[1]\n",
    "train_new['first_keyword_score_three'] = train_new.first_keyword_three.apply(lambda x: func(x))\n",
    "def func(x):\n",
    "    return x[0]\n",
    "train_new['first_keyword_three'] = train_new.first_keyword_three.apply(lambda x: func(x))\n",
    "\n",
    "def func(x):\n",
    "    return x[1]\n",
    "train_new['second_keyword_score_three'] = train_new.second_keyword_three.apply(lambda x: func(x))\n",
    "def func(x):\n",
    "    return x[0]\n",
    "train_new['second_keyword_three'] = train_new.second_keyword_three.apply(lambda x: func(x))\n",
    "\n",
    "def func(x):\n",
    "    return x[1]\n",
    "train_new['third_keyword_score_three'] = train_new.third_keyword_three.apply(lambda x: func(x))\n",
    "def func(x):\n",
    "    return x[0]\n",
    "train_new['third_keyword_three'] = train_new.third_keyword_three.apply(lambda x: func(x))"
   ]
  },
  {
   "cell_type": "code",
   "execution_count": 122,
   "id": "24b3c580",
   "metadata": {},
   "outputs": [
    {
     "data": {
      "text/html": [
       "<div>\n",
       "<style scoped>\n",
       "    .dataframe tbody tr th:only-of-type {\n",
       "        vertical-align: middle;\n",
       "    }\n",
       "\n",
       "    .dataframe tbody tr th {\n",
       "        vertical-align: top;\n",
       "    }\n",
       "\n",
       "    .dataframe thead th {\n",
       "        text-align: right;\n",
       "    }\n",
       "</style>\n",
       "<table border=\"1\" class=\"dataframe\">\n",
       "  <thead>\n",
       "    <tr style=\"text-align: right;\">\n",
       "      <th></th>\n",
       "      <th>first_keyword_score_three</th>\n",
       "      <th>first_keyword_three</th>\n",
       "      <th>second_keyword_three</th>\n",
       "      <th>second_keyword_score_three</th>\n",
       "      <th>third_keyword_three</th>\n",
       "      <th>third_keyword_score_three</th>\n",
       "    </tr>\n",
       "  </thead>\n",
       "  <tbody>\n",
       "    <tr>\n",
       "      <th>982</th>\n",
       "      <td>0.8911</td>\n",
       "      <td>hypercholestrolemia obgyn lmp</td>\n",
       "      <td>headache</td>\n",
       "      <td>0.6563</td>\n",
       "      <td>weight</td>\n",
       "      <td>0.5229</td>\n",
       "    </tr>\n",
       "    <tr>\n",
       "      <th>156</th>\n",
       "      <td>0.8564</td>\n",
       "      <td>diarrhea past day</td>\n",
       "      <td>tobacco</td>\n",
       "      <td>0.5866</td>\n",
       "      <td>10</td>\n",
       "      <td>0.4955</td>\n",
       "    </tr>\n",
       "    <tr>\n",
       "      <th>813</th>\n",
       "      <td>0.8562</td>\n",
       "      <td>hctz lisinopril nkda</td>\n",
       "      <td>weight</td>\n",
       "      <td>0.5264</td>\n",
       "      <td>15</td>\n",
       "      <td>0.4683</td>\n",
       "    </tr>\n",
       "    <tr>\n",
       "      <th>349</th>\n",
       "      <td>0.8939</td>\n",
       "      <td>diarrhea vomiting endorses</td>\n",
       "      <td>patient</td>\n",
       "      <td>0.5486</td>\n",
       "      <td>35</td>\n",
       "      <td>0.4763</td>\n",
       "    </tr>\n",
       "    <tr>\n",
       "      <th>278</th>\n",
       "      <td>0.8719</td>\n",
       "      <td>dysuria dysmenorrhea ro</td>\n",
       "      <td>weight</td>\n",
       "      <td>0.5166</td>\n",
       "      <td>44</td>\n",
       "      <td>0.4598</td>\n",
       "    </tr>\n",
       "    <tr>\n",
       "      <th>830</th>\n",
       "      <td>0.8314</td>\n",
       "      <td>25mg daily lisinopril</td>\n",
       "      <td>present</td>\n",
       "      <td>0.5568</td>\n",
       "      <td>weight</td>\n",
       "      <td>0.4959</td>\n",
       "    </tr>\n",
       "    <tr>\n",
       "      <th>567</th>\n",
       "      <td>0.8880</td>\n",
       "      <td>dizziness headache gi</td>\n",
       "      <td>person</td>\n",
       "      <td>0.5361</td>\n",
       "      <td>26</td>\n",
       "      <td>0.4769</td>\n",
       "    </tr>\n",
       "    <tr>\n",
       "      <th>853</th>\n",
       "      <td>0.8502</td>\n",
       "      <td>med hctz lisinopril</td>\n",
       "      <td>time</td>\n",
       "      <td>0.5498</td>\n",
       "      <td>67</td>\n",
       "      <td>0.4772</td>\n",
       "    </tr>\n",
       "    <tr>\n",
       "      <th>423</th>\n",
       "      <td>0.8453</td>\n",
       "      <td>week ago menarche</td>\n",
       "      <td>weight</td>\n",
       "      <td>0.5306</td>\n",
       "      <td>45</td>\n",
       "      <td>0.4651</td>\n",
       "    </tr>\n",
       "    <tr>\n",
       "      <th>403</th>\n",
       "      <td>0.8573</td>\n",
       "      <td>allergy nkda med</td>\n",
       "      <td>normal</td>\n",
       "      <td>0.5251</td>\n",
       "      <td>weight</td>\n",
       "      <td>0.4911</td>\n",
       "    </tr>\n",
       "  </tbody>\n",
       "</table>\n",
       "</div>"
      ],
      "text/plain": [
       "     first_keyword_score_three            first_keyword_three second_keyword_three  second_keyword_score_three third_keyword_three  third_keyword_score_three\n",
       "982                     0.8911  hypercholestrolemia obgyn lmp             headache                      0.6563              weight                     0.5229\n",
       "156                     0.8564              diarrhea past day              tobacco                      0.5866                  10                     0.4955\n",
       "813                     0.8562           hctz lisinopril nkda               weight                      0.5264                  15                     0.4683\n",
       "349                     0.8939     diarrhea vomiting endorses              patient                      0.5486                  35                     0.4763\n",
       "278                     0.8719        dysuria dysmenorrhea ro               weight                      0.5166                  44                     0.4598\n",
       "830                     0.8314          25mg daily lisinopril              present                      0.5568              weight                     0.4959\n",
       "567                     0.8880          dizziness headache gi               person                      0.5361                  26                     0.4769\n",
       "853                     0.8502            med hctz lisinopril                 time                      0.5498                  67                     0.4772\n",
       "423                     0.8453              week ago menarche               weight                      0.5306                  45                     0.4651\n",
       "403                     0.8573               allergy nkda med               normal                      0.5251              weight                     0.4911"
      ]
     },
     "execution_count": 122,
     "metadata": {},
     "output_type": "execute_result"
    }
   ],
   "source": [
    "train_new[[\"first_keyword_score_three\",\"first_keyword_three\",\"second_keyword_three\",\"second_keyword_score_three\",\"third_keyword_three\",\"third_keyword_score_three\"]].sample(10)"
   ]
  },
  {
   "cell_type": "code",
   "execution_count": 26,
   "id": "4a245250",
   "metadata": {},
   "outputs": [],
   "source": [
    "train.to_csv(\"three_keywords_extraction_with_score_bioclinicalBERT.csv\")"
   ]
  },
  {
   "cell_type": "markdown",
   "id": "e4dc5eef",
   "metadata": {},
   "source": [
    "## Extracting 4 keywords"
   ]
  },
  {
   "cell_type": "code",
   "execution_count": 27,
   "id": "714e987a",
   "metadata": {},
   "outputs": [
    {
     "name": "stderr",
     "output_type": "stream",
     "text": [
      "1000it [40:04,  2.40s/it]\n"
     ]
    }
   ],
   "source": [
    "l = []\n",
    "for index, row in tqdm(train.iterrows()):\n",
    "    l.append(model.extract_keywords(\n",
    "                row['pn_history_preprocessed'],\n",
    "                top_n=3,\n",
    "                keyphrase_ngram_range=(1, 4),\n",
    "                use_mmr=True, \n",
    "                diversity=0.7))"
   ]
  },
  {
   "cell_type": "code",
   "execution_count": 28,
   "id": "dce7a09e",
   "metadata": {},
   "outputs": [],
   "source": [
    "train_new['third_keyword_score_three'] = train_new['third_keyword_score']"
   ]
  },
  {
   "cell_type": "code",
   "execution_count": 29,
   "id": "e77cfd03",
   "metadata": {},
   "outputs": [],
   "source": [
    "train_new_new = train_new.join(pd.DataFrame(l, columns=['first_keyword_four', 'second_keyword_four', 'third_keyword_four']))\n"
   ]
  },
  {
   "cell_type": "code",
   "execution_count": 30,
   "id": "ec9f7b88",
   "metadata": {},
   "outputs": [],
   "source": [
    "train_new_new.to_csv(\"four_keywords_extraction_bioclinicalBERT.csv\")"
   ]
  },
  {
   "cell_type": "code",
   "execution_count": 31,
   "id": "e8e1eb45",
   "metadata": {},
   "outputs": [],
   "source": [
    "def func(x):\n",
    "    return x[1]\n",
    "train_new_new['first_keyword_score_four'] = train_new_new.first_keyword_four.apply(lambda x: func(x))\n",
    "def func(x):\n",
    "    return x[0]\n",
    "train_new_new['first_keyword_four'] = train_new_new.first_keyword_four.apply(lambda x: func(x))\n",
    "\n",
    "def func(x):\n",
    "    return x[1]\n",
    "train_new_new['second_keyword_score_four'] = train_new_new.second_keyword_four.apply(lambda x: func(x))\n",
    "def func(x):\n",
    "    return x[0]\n",
    "train_new_new['second_keyword_four'] = train_new_new.second_keyword_four.apply(lambda x: func(x))\n",
    "\n",
    "def func(x):\n",
    "    return x[1]\n",
    "train_new_new['third_keyword_score_four'] = train_new_new.third_keyword_four.apply(lambda x: func(x))\n",
    "def func(x):\n",
    "    return x[0]\n",
    "train_new_new['third_keyword_four'] = train_new_new.third_keyword_four.apply(lambda x: func(x))"
   ]
  },
  {
   "cell_type": "code",
   "execution_count": null,
   "id": "1fefa14e",
   "metadata": {},
   "outputs": [],
   "source": [
    "train_new_new[[\"first_keyword_score_four\",\"first_keyword_four\",\"second_keyword_score_four\",\"second_keyword_four\",\"third_keyword_three\",\"third_keyword_score_three\"]].sample(10)"
   ]
  },
  {
   "cell_type": "code",
   "execution_count": 32,
   "id": "0ed3fbae",
   "metadata": {},
   "outputs": [],
   "source": [
    "train_new_new.to_csv(\"all_keywords_with_score_bioclinicalBERT.csv\")"
   ]
  },
  {
   "cell_type": "code",
   "execution_count": 33,
   "id": "5fd08835",
   "metadata": {},
   "outputs": [],
   "source": [
    "pd.set_option('display.max_rows', 500)\n",
    "pd.set_option('display.max_columns', 500)\n",
    "pd.set_option('display.width', 1000)"
   ]
  },
  {
   "cell_type": "code",
   "execution_count": 34,
   "id": "0abad3fa",
   "metadata": {},
   "outputs": [],
   "source": [
    "train_with_scores = train_new_new.copy()"
   ]
  },
  {
   "cell_type": "code",
   "execution_count": 47,
   "id": "a7500f0a",
   "metadata": {},
   "outputs": [],
   "source": [
    "train_with_scores = pd.read_csv(\"all_keywords_with_score_bioclinicalBERT.csv\")"
   ]
  },
  {
   "cell_type": "code",
   "execution_count": 48,
   "id": "f3051965",
   "metadata": {},
   "outputs": [],
   "source": [
    "train_with_scores = train_with_scores[['id', 'case_num', 'pn_num', 'feature_num', 'annotation', 'location', 'feature_text', 'pn_history', 'pn_history_lower', 'pn_history_noContractions', 'pn_history_noUnicode', 'pn_history_noPuncts', 'pn_history_noES', 'pn_history_preprocessed', 'first_keyword', 'second_keyword', 'third_keyword', 'first_keyword_score', 'second_keyword_score', 'third_keyword_score', 'first_keyword_three', 'second_keyword_three', 'third_keyword_three', 'first_keyword_score_three', 'second_keyword_score_three', 'third_keyword_score_three', 'first_keyword_four', 'second_keyword_four', 'third_keyword_four', 'first_keyword_score_four', 'second_keyword_score_four', 'third_keyword_score_four']]"
   ]
  },
  {
   "cell_type": "code",
   "execution_count": 50,
   "id": "5cf67473",
   "metadata": {
    "scrolled": true
   },
   "outputs": [],
   "source": [
    "train_with_scores = train_with_scores.iloc[:,14:]"
   ]
  },
  {
   "cell_type": "code",
   "execution_count": 51,
   "id": "972ed15b",
   "metadata": {},
   "outputs": [
    {
     "data": {
      "text/plain": [
       "0.25    0.826150\n",
       "0.50    0.838750\n",
       "0.75    0.849625\n",
       "0.90    0.859920\n",
       "Name: first_keyword_score, dtype: float64"
      ]
     },
     "execution_count": 51,
     "metadata": {},
     "output_type": "execute_result"
    }
   ],
   "source": [
    "train_with_scores.first_keyword_score.quantile([0.25, 0.5, 0.75, 0.9])"
   ]
  },
  {
   "cell_type": "code",
   "execution_count": 52,
   "id": "0b0f8b6f",
   "metadata": {},
   "outputs": [
    {
     "data": {
      "text/plain": [
       "0.25    0.536400\n",
       "0.50    0.571350\n",
       "0.75    0.616525\n",
       "0.90    0.661610\n",
       "Name: second_keyword_score, dtype: float64"
      ]
     },
     "execution_count": 52,
     "metadata": {},
     "output_type": "execute_result"
    }
   ],
   "source": [
    "train_with_scores.second_keyword_score.quantile([0.25, 0.5, 0.75, 0.9])"
   ]
  },
  {
   "cell_type": "code",
   "execution_count": 53,
   "id": "e050ce1a",
   "metadata": {
    "scrolled": true
   },
   "outputs": [
    {
     "data": {
      "text/plain": [
       "0.25    0.47270\n",
       "0.50    0.49460\n",
       "0.75    0.51420\n",
       "0.90    0.54294\n",
       "Name: third_keyword_score, dtype: float64"
      ]
     },
     "execution_count": 53,
     "metadata": {},
     "output_type": "execute_result"
    }
   ],
   "source": [
    "train_with_scores.third_keyword_score.quantile([0.25, 0.5, 0.75, 0.9])"
   ]
  },
  {
   "cell_type": "markdown",
   "id": "120e6220",
   "metadata": {},
   "source": [
    "### selecting those keywords which have a cosine similarity more than 0.25"
   ]
  },
  {
   "cell_type": "code",
   "execution_count": 54,
   "id": "4014fed9",
   "metadata": {},
   "outputs": [],
   "source": [
    "train_with_scores.first_keyword = np.where(train_with_scores.first_keyword_score > 0.25, train_with_scores.first_keyword, np.nan)\n",
    "train_with_scores.second_keyword = np.where(train_with_scores.second_keyword_score > 0.25, train_with_scores.second_keyword, np.nan)\n",
    "train_with_scores.third_keyword = np.where(train_with_scores.third_keyword_score > 0.25, train_with_scores.third_keyword, np.nan)"
   ]
  },
  {
   "cell_type": "code",
   "execution_count": 55,
   "id": "0d9a5022",
   "metadata": {},
   "outputs": [
    {
     "data": {
      "text/plain": [
       "(0.83875, 0.57135, 0.4946)"
      ]
     },
     "execution_count": 55,
     "metadata": {},
     "output_type": "execute_result"
    }
   ],
   "source": [
    "train_with_scores.first_keyword_score.median(), train_with_scores.second_keyword_score.median(), train_with_scores.third_keyword_score.median()\n"
   ]
  },
  {
   "cell_type": "code",
   "execution_count": 56,
   "id": "ba35d305",
   "metadata": {},
   "outputs": [],
   "source": [
    "train_with_scores.first_keyword_three = np.where(train_with_scores.first_keyword_score_three > 0.25, train_with_scores.first_keyword_three, np.nan)\n",
    "train_with_scores.second_keyword_three = np.where(train_with_scores.second_keyword_score_three > 0.25, train_with_scores.second_keyword_three, np.nan)\n",
    "train_with_scores.third_keyword_three = np.where(train_with_scores.third_keyword_score_three > 0.25, train_with_scores.third_keyword_three, np.nan)\n"
   ]
  },
  {
   "cell_type": "code",
   "execution_count": 57,
   "id": "43749837",
   "metadata": {},
   "outputs": [],
   "source": [
    "train_with_scores.first_keyword_four = np.where(train_with_scores.first_keyword_score_four > 0.25, train_with_scores.first_keyword_four, np.nan)\n",
    "train_with_scores.second_keyword_four = np.where(train_with_scores.second_keyword_score_four > 0.25, train_with_scores.second_keyword_four, np.nan)\n",
    "train_with_scores.third_keyword_four = np.where(train_with_scores.third_keyword_score_four > 0.25, train_with_scores.third_keyword_four, np.nan)\n"
   ]
  },
  {
   "cell_type": "code",
   "execution_count": 59,
   "id": "c15dd1c3",
   "metadata": {},
   "outputs": [],
   "source": [
    "train_new_new = pd.read_csv(\"all_keywords_with_score_bioclinicalBERT.csv\")"
   ]
  },
  {
   "cell_type": "code",
   "execution_count": 60,
   "id": "4fdb003a",
   "metadata": {},
   "outputs": [],
   "source": [
    "train_with_scores = train_new_new[['id', 'pn_num', 'pn_history_preprocessed']].join(train_with_scores)"
   ]
  },
  {
   "cell_type": "code",
   "execution_count": 61,
   "id": "4d78625e",
   "metadata": {},
   "outputs": [
    {
     "data": {
      "text/plain": [
       "array(['patient'], dtype=object)"
      ]
     },
     "execution_count": 61,
     "metadata": {},
     "output_type": "execute_result"
    }
   ],
   "source": [
    "train_with_scores[:1].third_keyword.values"
   ]
  },
  {
   "cell_type": "markdown",
   "id": "69d1c09e",
   "metadata": {},
   "source": [
    "### Predicting Annotations"
   ]
  },
  {
   "cell_type": "code",
   "execution_count": 62,
   "id": "c9b25927",
   "metadata": {},
   "outputs": [],
   "source": [
    "def func(x):\n",
    "    all_annotation = []\n",
    "    for annotation in [x.first_keyword, x.second_keyword, x.third_keyword, \n",
    "                       x.first_keyword_three, x.second_keyword_three, x.third_keyword_three,\n",
    "                       x.first_keyword_four, x.second_keyword_four, x.third_keyword_four]:\n",
    "        \n",
    "        if str(annotation) != 'nan':\n",
    "            all_annotation.append(str(annotation))\n",
    "    return list(set(all_annotation))\n",
    "    \n",
    "train_with_scores['predicted_annotation'] = train_with_scores.apply(lambda x: func(x), axis=1)"
   ]
  },
  {
   "cell_type": "markdown",
   "id": "e1a805b1",
   "metadata": {},
   "source": [
    "## Overview of a patient number and their predicted annotations"
   ]
  },
  {
   "cell_type": "code",
   "execution_count": 63,
   "id": "fa93420e",
   "metadata": {},
   "outputs": [
    {
     "data": {
      "text/html": [
       "<div>\n",
       "<style scoped>\n",
       "    .dataframe tbody tr th:only-of-type {\n",
       "        vertical-align: middle;\n",
       "    }\n",
       "\n",
       "    .dataframe tbody tr th {\n",
       "        vertical-align: top;\n",
       "    }\n",
       "\n",
       "    .dataframe thead th {\n",
       "        text-align: right;\n",
       "    }\n",
       "</style>\n",
       "<table border=\"1\" class=\"dataframe\">\n",
       "  <thead>\n",
       "    <tr style=\"text-align: right;\">\n",
       "      <th></th>\n",
       "      <th>pn_num</th>\n",
       "      <th>predicted_annotation</th>\n",
       "    </tr>\n",
       "  </thead>\n",
       "  <tbody>\n",
       "    <tr>\n",
       "      <th>0</th>\n",
       "      <td>16</td>\n",
       "      <td>[headache fatigue, endorses abusing adderall, headache, time, attcak immunization, bowel urinary habit pmhx, felt, patient]</td>\n",
       "    </tr>\n",
       "    <tr>\n",
       "      <th>1</th>\n",
       "      <td>41</td>\n",
       "      <td>[pmh med aterol, neg pmh med aterol, happened time, student, time started min, pain, med aterol]</td>\n",
       "    </tr>\n",
       "    <tr>\n",
       "      <th>2</th>\n",
       "      <td>46</td>\n",
       "      <td>[diarrhea change voiding, intolerance diarrhea, time, 17yo, presented today, diarrhea change voiding habit]</td>\n",
       "    </tr>\n",
       "    <tr>\n",
       "      <th>3</th>\n",
       "      <td>82</td>\n",
       "      <td>[weight, study change weight, total, 17, mom thyroid problem med, cardiac arrhythmia pmh, arrhythmia pmh]</td>\n",
       "    </tr>\n",
       "    <tr>\n",
       "      <th>4</th>\n",
       "      <td>100</td>\n",
       "      <td>[dizziness loss, 17, healthy, dizziness loss conciousness, dizziness loss conciousness chest]</td>\n",
       "    </tr>\n",
       "    <tr>\n",
       "      <th>...</th>\n",
       "      <td>...</td>\n",
       "      <td>...</td>\n",
       "    </tr>\n",
       "    <tr>\n",
       "      <th>995</th>\n",
       "      <td>95145</td>\n",
       "      <td>[20, weight, migraine father high, mother migraine, allergy family mother migraine]</td>\n",
       "    </tr>\n",
       "    <tr>\n",
       "      <th>996</th>\n",
       "      <td>95228</td>\n",
       "      <td>[20, uri symptom, x2 day uri symptom, life, day uri symptom, vaccine]</td>\n",
       "    </tr>\n",
       "    <tr>\n",
       "      <th>997</th>\n",
       "      <td>95243</td>\n",
       "      <td>[20, tried tylenol ibuprofen, headache, mom ha hx migraine, hx migraine, patient, patient sensitive light patient]</td>\n",
       "    </tr>\n",
       "    <tr>\n",
       "      <th>998</th>\n",
       "      <td>95330</td>\n",
       "      <td>[ha ha, 20, yo female presenting, fh mother migraine, ibuprofen tylenol sleep helped, mother migraine, mild]</td>\n",
       "    </tr>\n",
       "    <tr>\n",
       "      <th>999</th>\n",
       "      <td>95333</td>\n",
       "      <td>[20, pill allergy soc, 20 year old, bilaterally, complaining headache, etoh drink weekend marijuna, allergy soc]</td>\n",
       "    </tr>\n",
       "  </tbody>\n",
       "</table>\n",
       "<p>1000 rows × 2 columns</p>\n",
       "</div>"
      ],
      "text/plain": [
       "     pn_num                                                                                                         predicted_annotation\n",
       "0        16  [headache fatigue, endorses abusing adderall, headache, time, attcak immunization, bowel urinary habit pmhx, felt, patient]\n",
       "1        41                             [pmh med aterol, neg pmh med aterol, happened time, student, time started min, pain, med aterol]\n",
       "2        46                  [diarrhea change voiding, intolerance diarrhea, time, 17yo, presented today, diarrhea change voiding habit]\n",
       "3        82                    [weight, study change weight, total, 17, mom thyroid problem med, cardiac arrhythmia pmh, arrhythmia pmh]\n",
       "4       100                                [dizziness loss, 17, healthy, dizziness loss conciousness, dizziness loss conciousness chest]\n",
       "..      ...                                                                                                                          ...\n",
       "995   95145                                          [20, weight, migraine father high, mother migraine, allergy family mother migraine]\n",
       "996   95228                                                        [20, uri symptom, x2 day uri symptom, life, day uri symptom, vaccine]\n",
       "997   95243           [20, tried tylenol ibuprofen, headache, mom ha hx migraine, hx migraine, patient, patient sensitive light patient]\n",
       "998   95330                 [ha ha, 20, yo female presenting, fh mother migraine, ibuprofen tylenol sleep helped, mother migraine, mild]\n",
       "999   95333             [20, pill allergy soc, 20 year old, bilaterally, complaining headache, etoh drink weekend marijuna, allergy soc]\n",
       "\n",
       "[1000 rows x 2 columns]"
      ]
     },
     "execution_count": 63,
     "metadata": {},
     "output_type": "execute_result"
    }
   ],
   "source": [
    "train_with_scores[['pn_num', 'predicted_annotation']]"
   ]
  },
  {
   "cell_type": "code",
   "execution_count": 64,
   "id": "33f4f146",
   "metadata": {},
   "outputs": [],
   "source": [
    "train_with_scores.to_csv(\"final_annotations_bioclinicalBERT\")"
   ]
  },
  {
   "cell_type": "markdown",
   "id": "7880643f",
   "metadata": {},
   "source": [
    "### Evaluation Phase 1: Using Fuzzy Wuzzy"
   ]
  },
  {
   "cell_type": "code",
   "execution_count": 2,
   "id": "bdf1f3ab",
   "metadata": {},
   "outputs": [],
   "source": [
    "#train_with_scores.to_csv(\"final_annotations\")\n",
    "train_with_scores = pd.read_csv(\"final_annotations_bioclinicalBERT\",index_col=[0])"
   ]
  },
  {
   "cell_type": "code",
   "execution_count": 3,
   "id": "31ac162f",
   "metadata": {},
   "outputs": [],
   "source": [
    "from thefuzz import fuzz\n",
    "from thefuzz import process"
   ]
  },
  {
   "cell_type": "code",
   "execution_count": 4,
   "id": "048141e7",
   "metadata": {},
   "outputs": [
    {
     "data": {
      "text/html": [
       "<div>\n",
       "<style scoped>\n",
       "    .dataframe tbody tr th:only-of-type {\n",
       "        vertical-align: middle;\n",
       "    }\n",
       "\n",
       "    .dataframe tbody tr th {\n",
       "        vertical-align: top;\n",
       "    }\n",
       "\n",
       "    .dataframe thead th {\n",
       "        text-align: right;\n",
       "    }\n",
       "</style>\n",
       "<table border=\"1\" class=\"dataframe\">\n",
       "  <thead>\n",
       "    <tr style=\"text-align: right;\">\n",
       "      <th></th>\n",
       "      <th>id</th>\n",
       "      <th>case_num</th>\n",
       "      <th>pn_num</th>\n",
       "      <th>feature_num</th>\n",
       "      <th>annotation</th>\n",
       "      <th>location</th>\n",
       "      <th>feature_text</th>\n",
       "      <th>pn_history</th>\n",
       "      <th>pn_history_preprocessed</th>\n",
       "    </tr>\n",
       "  </thead>\n",
       "  <tbody>\n",
       "    <tr>\n",
       "      <th>0</th>\n",
       "      <td>00016_000</td>\n",
       "      <td>0</td>\n",
       "      <td>16</td>\n",
       "      <td>0</td>\n",
       "      <td>['dad with recent heart attcak']</td>\n",
       "      <td>['696 724']</td>\n",
       "      <td>Family-history-of-MI-OR-Family-history-of-myocardial-infarction</td>\n",
       "      <td>HPI: 17yo M presents with palpitations. Patient reports 3-4 months of intermittent episodes of \"heart beating/pounding out of my chest.\" 2 days ago during a soccer game had an episode, but this time had chest pressure and felt as if he were going to pass out (did not lose conciousness). Of note patient endorses abusing adderall, primarily to study (1-3 times per week). Before recent soccer game, took adderrall night before and morning of game. Denies shortness of breath, diaphoresis, fevers, chills, headache, fatigue, changes in sleep, changes in vision/hearing, abdominal paun, changes in bowel or urinary habits. \\r\\nPMHx: none\\r\\nRx: uses friends adderrall\\r\\nFHx: mom with \"thyroid disease,\" dad with recent heart attcak\\r\\nAll: none\\r\\nImmunizations: up to date\\r\\nSHx: Freshmen in college. Endorses 3-4 drinks 3 nights / week (on weekends), denies tabacco, endorses trying marijuana. Sexually active with girlfriend x 1 year, uses condoms</td>\n",
       "      <td>hpi 17yo m present with palpitation patient report 3 4 month of intermittent episode of heart beating pounding out of my chest 2 day ago during a soccer game had an episode but this time had chest pressure and felt a if he were going to pas out did not lose conciousness of note patient endorses abusing adderall primarily to study 1 3 time per week before recent soccer game took adderrall night before and morning of game denies shortness of breath diaphoresis fever chill headache fatigue change in sleep change in vision hearing abdominal paun change in bowel or urinary habit pmhx none rx us friend adderrall fhx mom with thyroid disease dad with recent heart attcak all none immunization up to date shx freshman in college endorses 3 4 drink 3 night week on weekend denies tabacco endorses trying marijuana sexually active with girlfriend x 1 year us condom</td>\n",
       "    </tr>\n",
       "    <tr>\n",
       "      <th>1</th>\n",
       "      <td>00016_001</td>\n",
       "      <td>0</td>\n",
       "      <td>16</td>\n",
       "      <td>1</td>\n",
       "      <td>['mom with \"thyroid disease']</td>\n",
       "      <td>['668 693']</td>\n",
       "      <td>Family-history-of-thyroid-disorder</td>\n",
       "      <td>HPI: 17yo M presents with palpitations. Patient reports 3-4 months of intermittent episodes of \"heart beating/pounding out of my chest.\" 2 days ago during a soccer game had an episode, but this time had chest pressure and felt as if he were going to pass out (did not lose conciousness). Of note patient endorses abusing adderall, primarily to study (1-3 times per week). Before recent soccer game, took adderrall night before and morning of game. Denies shortness of breath, diaphoresis, fevers, chills, headache, fatigue, changes in sleep, changes in vision/hearing, abdominal paun, changes in bowel or urinary habits. \\r\\nPMHx: none\\r\\nRx: uses friends adderrall\\r\\nFHx: mom with \"thyroid disease,\" dad with recent heart attcak\\r\\nAll: none\\r\\nImmunizations: up to date\\r\\nSHx: Freshmen in college. Endorses 3-4 drinks 3 nights / week (on weekends), denies tabacco, endorses trying marijuana. Sexually active with girlfriend x 1 year, uses condoms</td>\n",
       "      <td>hpi 17yo m present with palpitation patient report 3 4 month of intermittent episode of heart beating pounding out of my chest 2 day ago during a soccer game had an episode but this time had chest pressure and felt a if he were going to pas out did not lose conciousness of note patient endorses abusing adderall primarily to study 1 3 time per week before recent soccer game took adderrall night before and morning of game denies shortness of breath diaphoresis fever chill headache fatigue change in sleep change in vision hearing abdominal paun change in bowel or urinary habit pmhx none rx us friend adderrall fhx mom with thyroid disease dad with recent heart attcak all none immunization up to date shx freshman in college endorses 3 4 drink 3 night week on weekend denies tabacco endorses trying marijuana sexually active with girlfriend x 1 year us condom</td>\n",
       "    </tr>\n",
       "  </tbody>\n",
       "</table>\n",
       "</div>"
      ],
      "text/plain": [
       "          id  case_num  pn_num  feature_num                        annotation  \\\n",
       "0  00016_000         0      16            0  ['dad with recent heart attcak']   \n",
       "1  00016_001         0      16            1     ['mom with \"thyroid disease']   \n",
       "\n",
       "      location  \\\n",
       "0  ['696 724']   \n",
       "1  ['668 693']   \n",
       "\n",
       "                                                      feature_text  \\\n",
       "0  Family-history-of-MI-OR-Family-history-of-myocardial-infarction   \n",
       "1                               Family-history-of-thyroid-disorder   \n",
       "\n",
       "                                                                                                                                                                                                                                                                                                                                                                                                                                                                                                                                                                                                                                                                                                                                                                                                                                                                                                                                                                               pn_history  \\\n",
       "0  HPI: 17yo M presents with palpitations. Patient reports 3-4 months of intermittent episodes of \"heart beating/pounding out of my chest.\" 2 days ago during a soccer game had an episode, but this time had chest pressure and felt as if he were going to pass out (did not lose conciousness). Of note patient endorses abusing adderall, primarily to study (1-3 times per week). Before recent soccer game, took adderrall night before and morning of game. Denies shortness of breath, diaphoresis, fevers, chills, headache, fatigue, changes in sleep, changes in vision/hearing, abdominal paun, changes in bowel or urinary habits. \\r\\nPMHx: none\\r\\nRx: uses friends adderrall\\r\\nFHx: mom with \"thyroid disease,\" dad with recent heart attcak\\r\\nAll: none\\r\\nImmunizations: up to date\\r\\nSHx: Freshmen in college. Endorses 3-4 drinks 3 nights / week (on weekends), denies tabacco, endorses trying marijuana. Sexually active with girlfriend x 1 year, uses condoms   \n",
       "1  HPI: 17yo M presents with palpitations. Patient reports 3-4 months of intermittent episodes of \"heart beating/pounding out of my chest.\" 2 days ago during a soccer game had an episode, but this time had chest pressure and felt as if he were going to pass out (did not lose conciousness). Of note patient endorses abusing adderall, primarily to study (1-3 times per week). Before recent soccer game, took adderrall night before and morning of game. Denies shortness of breath, diaphoresis, fevers, chills, headache, fatigue, changes in sleep, changes in vision/hearing, abdominal paun, changes in bowel or urinary habits. \\r\\nPMHx: none\\r\\nRx: uses friends adderrall\\r\\nFHx: mom with \"thyroid disease,\" dad with recent heart attcak\\r\\nAll: none\\r\\nImmunizations: up to date\\r\\nSHx: Freshmen in college. Endorses 3-4 drinks 3 nights / week (on weekends), denies tabacco, endorses trying marijuana. Sexually active with girlfriend x 1 year, uses condoms   \n",
       "\n",
       "                                                                                                                                                                                                                                                                                                                                                                                                                                                                                                                                                                                                                                                                                                                                                                                                                                                                           pn_history_preprocessed  \n",
       "0  hpi 17yo m present with palpitation patient report 3 4 month of intermittent episode of heart beating pounding out of my chest 2 day ago during a soccer game had an episode but this time had chest pressure and felt a if he were going to pas out did not lose conciousness of note patient endorses abusing adderall primarily to study 1 3 time per week before recent soccer game took adderrall night before and morning of game denies shortness of breath diaphoresis fever chill headache fatigue change in sleep change in vision hearing abdominal paun change in bowel or urinary habit pmhx none rx us friend adderrall fhx mom with thyroid disease dad with recent heart attcak all none immunization up to date shx freshman in college endorses 3 4 drink 3 night week on weekend denies tabacco endorses trying marijuana sexually active with girlfriend x 1 year us condom  \n",
       "1  hpi 17yo m present with palpitation patient report 3 4 month of intermittent episode of heart beating pounding out of my chest 2 day ago during a soccer game had an episode but this time had chest pressure and felt a if he were going to pas out did not lose conciousness of note patient endorses abusing adderall primarily to study 1 3 time per week before recent soccer game took adderrall night before and morning of game denies shortness of breath diaphoresis fever chill headache fatigue change in sleep change in vision hearing abdominal paun change in bowel or urinary habit pmhx none rx us friend adderrall fhx mom with thyroid disease dad with recent heart attcak all none immunization up to date shx freshman in college endorses 3 4 drink 3 night week on weekend denies tabacco endorses trying marijuana sexually active with girlfriend x 1 year us condom  "
      ]
     },
     "metadata": {},
     "output_type": "display_data"
    }
   ],
   "source": [
    "patient_notes_test = pd.read_csv(\"patient_notes.csv\")\n",
    "#one case number has many pn_num\n",
    "features_test = pd.read_csv(\"features.csv\")\n",
    "#one case has many feature_num\n",
    "test = pd.read_csv(\"train.csv\")\n",
    "test = test.merge(features_test, on=['feature_num', 'case_num'], how='left')\n",
    "test = test.merge(patient_notes_test, on=['pn_num', 'case_num'], how='left')\n",
    "test = test.merge(train_with_scores[['pn_num', 'pn_history_preprocessed']], on=['pn_num'], how='left')\n",
    "pd.set_option('display.max_colwidth', None)\n",
    "display(test.head(2))"
   ]
  },
  {
   "cell_type": "code",
   "execution_count": 6,
   "id": "21481d19",
   "metadata": {},
   "outputs": [],
   "source": [
    "test = test.merge(train_with_scores[['pn_num', 'predicted_annotation']], how='left', on='pn_num')"
   ]
  },
  {
   "cell_type": "code",
   "execution_count": 8,
   "id": "d85ce40b",
   "metadata": {
    "scrolled": true
   },
   "outputs": [],
   "source": [
    "evaluation = test[['pn_num', 'annotation', 'predicted_annotation', 'pn_history', 'pn_history_preprocessed']]\n",
    "evaluation = evaluation[evaluation.annotation != '[]']\n",
    "evaluation['annotation'] = evaluation['annotation'].astype(str)\n",
    "evaluation['ground_truth_annotation'] = evaluation.annotation.apply(lambda x: eval(x))\n",
    "evaluation = evaluation.explode('ground_truth_annotation')\n",
    "evaluation['ground_truth_annotation_junk'] = evaluation.ground_truth_annotation.apply(lambda x: len(str(x)) < 3)"
   ]
  },
  {
   "cell_type": "code",
   "execution_count": 11,
   "id": "26927087",
   "metadata": {},
   "outputs": [],
   "source": [
    "evaluation = evaluation.drop_duplicates()"
   ]
  },
  {
   "cell_type": "markdown",
   "id": "f79b99e5",
   "metadata": {},
   "source": [
    "### Analysing junk values ( values where the length of string is less than 3)"
   ]
  },
  {
   "cell_type": "code",
   "execution_count": 13,
   "id": "beb37b8c",
   "metadata": {
    "scrolled": true
   },
   "outputs": [
    {
     "data": {
      "text/plain": [
       "False    0.940796\n",
       "True     0.059204\n",
       "Name: ground_truth_annotation_junk, dtype: float64"
      ]
     },
     "execution_count": 13,
     "metadata": {},
     "output_type": "execute_result"
    }
   ],
   "source": [
    "evaluation.ground_truth_annotation_junk.value_counts(normalize=True)"
   ]
  },
  {
   "cell_type": "code",
   "execution_count": 14,
   "id": "71c026f9",
   "metadata": {},
   "outputs": [],
   "source": [
    "evaluation_pp = evaluation.copy()"
   ]
  },
  {
   "cell_type": "code",
   "execution_count": 15,
   "id": "5fa4c93c",
   "metadata": {},
   "outputs": [],
   "source": [
    "evaluation['predicted_annotation'] = evaluation['predicted_annotation'].astype(str)\n",
    "evaluation = evaluation[evaluation.predicted_annotation != '[]']\n",
    "evaluation['prediction'] = evaluation.predicted_annotation.apply(lambda x: eval(x))\n",
    "evaluation = evaluation.explode('prediction')"
   ]
  },
  {
   "cell_type": "code",
   "execution_count": 16,
   "id": "64e41a51",
   "metadata": {},
   "outputs": [],
   "source": [
    "cols = ['pn_num', \n",
    "       'pn_history_preprocessed', \n",
    "       'ground_truth_annotation',\n",
    "       'prediction']\n",
    "evaluation = evaluation[cols]"
   ]
  },
  {
   "cell_type": "code",
   "execution_count": 17,
   "id": "6124a1f1",
   "metadata": {},
   "outputs": [],
   "source": [
    "def get_fuzzy_wuzzy_score(x):\n",
    "    prediction = x['prediction']\n",
    "    label = x['ground_truth_annotation']\n",
    "    return fuzz.partial_ratio(prediction, label)\n",
    "\n",
    "evaluation['score'] = evaluation.apply(lambda x: get_fuzzy_wuzzy_score(x), axis=1)"
   ]
  },
  {
   "cell_type": "code",
   "execution_count": 18,
   "id": "7f291d28",
   "metadata": {},
   "outputs": [
    {
     "data": {
      "text/plain": [
       "<AxesSubplot:xlabel='score'>"
      ]
     },
     "execution_count": 18,
     "metadata": {},
     "output_type": "execute_result"
    },
    {
     "data": {
      "image/png": "[encoded data removed]",
      "text/plain": [
       "<Figure size 432x288 with 1 Axes>"
      ]
     },
     "metadata": {
      "needs_background": "light"
     },
     "output_type": "display_data"
    }
   ],
   "source": [
    "sns.distplot(evaluation.score)"
   ]
  },
  {
   "cell_type": "markdown",
   "id": "6101c652",
   "metadata": {},
   "source": [
    "### Evaluation Phase 2: Using Precision and Recall"
   ]
  },
  {
   "cell_type": "markdown",
   "id": "1cc019c7",
   "metadata": {},
   "source": [
    "## Precision"
   ]
  },
  {
   "cell_type": "code",
   "execution_count": 21,
   "id": "080ef5cb",
   "metadata": {},
   "outputs": [],
   "source": [
    "def relevance(x, threshold):\n",
    "    all_predictions = x.groupby(['prediction']).agg({'score': 'max'}).reset_index()\n",
    "    found_predictions = len(all_predictions[all_predictions['score'] >= threshold])\n",
    "    return found_predictions, len(all_predictions)"
   ]
  },
  {
   "cell_type": "code",
   "execution_count": 22,
   "id": "dd0dbf3d",
   "metadata": {},
   "outputs": [],
   "source": [
    "threshold_values = [10, 20, 30, 40, 50, 60, 70, 80, 90, 100]\n",
    "all_relevant_predictions = pd.DataFrame()\n",
    "\n",
    "for threshold_val in threshold_values:\n",
    "    relevant_predictions = evaluation.groupby(['pn_num']).apply(lambda x: relevance(x, threshold=threshold_val))\n",
    "    relevant_predictions = relevant_predictions.reset_index()\n",
    "    relevant_predictions = pd.DataFrame(relevant_predictions[0].tolist(), index=relevant_predictions.pn_num)\\\n",
    "                            .rename(columns={0:f'found_labels', 1:f'total_predictions'})\\\n",
    "                            .reset_index()\n",
    "    relevant_predictions[f'precision'] = relevant_predictions[f'found_labels'] / relevant_predictions[f'total_predictions']\n",
    "    relevant_predictions['threshold'] = threshold_val\n",
    "    all_relevant_predictions = pd.concat([all_relevant_predictions, relevant_predictions], axis=0)"
   ]
  },
  {
   "cell_type": "markdown",
   "id": "f85b71fe",
   "metadata": {},
   "source": [
    "## Recall"
   ]
  },
  {
   "cell_type": "code",
   "execution_count": 23,
   "id": "1ab2190f",
   "metadata": {},
   "outputs": [],
   "source": [
    "def retrieval(x, threshold):\n",
    "    all_labels = x.groupby(['ground_truth_annotation']).agg({'score': 'max'}).reset_index()\n",
    "    found_labels = len(all_labels[all_labels['score'] >= threshold])\n",
    "    total_predictions = x['prediction'].nunique()\n",
    "    \n",
    "    return found_labels, len(all_labels)"
   ]
  },
  {
   "cell_type": "code",
   "execution_count": 24,
   "id": "5bdc4406",
   "metadata": {},
   "outputs": [],
   "source": [
    "threshold_values = [10, 20, 30, 40, 50, 60, 70, 80, 90, 100]\n",
    "all_retrieved_predictions = pd.DataFrame()\n",
    "\n",
    "for threshold_val in threshold_values:\n",
    "    retrieved_labels = evaluation.groupby(['pn_num']).apply(lambda x: retrieval(x, threshold=threshold_val))\n",
    "    retrieved_labels = retrieved_labels.reset_index()\n",
    "    retrieved_labels = pd.DataFrame(retrieved_labels[0].tolist(), index=retrieved_labels.pn_num)\\\n",
    "                        .rename(columns={0:f'found_predictions', 1:f'total_labels'})\\\n",
    "                        .reset_index()\n",
    "    retrieved_labels['recall'] = retrieved_labels[f'found_predictions'] / retrieved_labels[f'total_labels']\n",
    "    retrieved_labels['threshold'] = threshold_val\n",
    "    all_retrieved_predictions = pd.concat([all_retrieved_predictions, retrieved_labels], axis=0)"
   ]
  },
  {
   "cell_type": "code",
   "execution_count": 25,
   "id": "4808b4b3",
   "metadata": {},
   "outputs": [
    {
     "data": {
      "text/html": [
       "<div>\n",
       "<style scoped>\n",
       "    .dataframe tbody tr th:only-of-type {\n",
       "        vertical-align: middle;\n",
       "    }\n",
       "\n",
       "    .dataframe tbody tr th {\n",
       "        vertical-align: top;\n",
       "    }\n",
       "\n",
       "    .dataframe thead th {\n",
       "        text-align: right;\n",
       "    }\n",
       "</style>\n",
       "<table border=\"1\" class=\"dataframe\">\n",
       "  <thead>\n",
       "    <tr style=\"text-align: right;\">\n",
       "      <th></th>\n",
       "      <th>pn_num</th>\n",
       "      <th>threshold</th>\n",
       "      <th>total_labels</th>\n",
       "      <th>total_predictions</th>\n",
       "      <th>found_labels</th>\n",
       "      <th>found_predictions</th>\n",
       "      <th>recall</th>\n",
       "      <th>precision</th>\n",
       "      <th>f1_score</th>\n",
       "    </tr>\n",
       "  </thead>\n",
       "  <tbody>\n",
       "    <tr>\n",
       "      <th>0</th>\n",
       "      <td>16</td>\n",
       "      <td>10</td>\n",
       "      <td>13</td>\n",
       "      <td>8</td>\n",
       "      <td>8</td>\n",
       "      <td>12</td>\n",
       "      <td>0.923077</td>\n",
       "      <td>1.000000</td>\n",
       "      <td>0.960000</td>\n",
       "    </tr>\n",
       "    <tr>\n",
       "      <th>1</th>\n",
       "      <td>41</td>\n",
       "      <td>10</td>\n",
       "      <td>9</td>\n",
       "      <td>7</td>\n",
       "      <td>5</td>\n",
       "      <td>7</td>\n",
       "      <td>0.777778</td>\n",
       "      <td>0.714286</td>\n",
       "      <td>0.744681</td>\n",
       "    </tr>\n",
       "    <tr>\n",
       "      <th>2</th>\n",
       "      <td>46</td>\n",
       "      <td>10</td>\n",
       "      <td>12</td>\n",
       "      <td>6</td>\n",
       "      <td>6</td>\n",
       "      <td>10</td>\n",
       "      <td>0.833333</td>\n",
       "      <td>1.000000</td>\n",
       "      <td>0.909091</td>\n",
       "    </tr>\n",
       "    <tr>\n",
       "      <th>3</th>\n",
       "      <td>82</td>\n",
       "      <td>10</td>\n",
       "      <td>13</td>\n",
       "      <td>7</td>\n",
       "      <td>7</td>\n",
       "      <td>12</td>\n",
       "      <td>0.923077</td>\n",
       "      <td>1.000000</td>\n",
       "      <td>0.960000</td>\n",
       "    </tr>\n",
       "    <tr>\n",
       "      <th>4</th>\n",
       "      <td>100</td>\n",
       "      <td>10</td>\n",
       "      <td>10</td>\n",
       "      <td>5</td>\n",
       "      <td>5</td>\n",
       "      <td>10</td>\n",
       "      <td>1.000000</td>\n",
       "      <td>1.000000</td>\n",
       "      <td>1.000000</td>\n",
       "    </tr>\n",
       "    <tr>\n",
       "      <th>...</th>\n",
       "      <td>...</td>\n",
       "      <td>...</td>\n",
       "      <td>...</td>\n",
       "      <td>...</td>\n",
       "      <td>...</td>\n",
       "      <td>...</td>\n",
       "      <td>...</td>\n",
       "      <td>...</td>\n",
       "      <td>...</td>\n",
       "    </tr>\n",
       "    <tr>\n",
       "      <th>9995</th>\n",
       "      <td>95145</td>\n",
       "      <td>100</td>\n",
       "      <td>12</td>\n",
       "      <td>5</td>\n",
       "      <td>2</td>\n",
       "      <td>2</td>\n",
       "      <td>0.166667</td>\n",
       "      <td>0.400000</td>\n",
       "      <td>0.235294</td>\n",
       "    </tr>\n",
       "    <tr>\n",
       "      <th>9996</th>\n",
       "      <td>95228</td>\n",
       "      <td>100</td>\n",
       "      <td>7</td>\n",
       "      <td>6</td>\n",
       "      <td>1</td>\n",
       "      <td>1</td>\n",
       "      <td>0.142857</td>\n",
       "      <td>0.166667</td>\n",
       "      <td>0.153846</td>\n",
       "    </tr>\n",
       "    <tr>\n",
       "      <th>9997</th>\n",
       "      <td>95243</td>\n",
       "      <td>100</td>\n",
       "      <td>10</td>\n",
       "      <td>7</td>\n",
       "      <td>1</td>\n",
       "      <td>1</td>\n",
       "      <td>0.100000</td>\n",
       "      <td>0.142857</td>\n",
       "      <td>0.117647</td>\n",
       "    </tr>\n",
       "    <tr>\n",
       "      <th>9998</th>\n",
       "      <td>95330</td>\n",
       "      <td>100</td>\n",
       "      <td>16</td>\n",
       "      <td>7</td>\n",
       "      <td>3</td>\n",
       "      <td>3</td>\n",
       "      <td>0.187500</td>\n",
       "      <td>0.428571</td>\n",
       "      <td>0.260870</td>\n",
       "    </tr>\n",
       "    <tr>\n",
       "      <th>9999</th>\n",
       "      <td>95333</td>\n",
       "      <td>100</td>\n",
       "      <td>11</td>\n",
       "      <td>7</td>\n",
       "      <td>2</td>\n",
       "      <td>1</td>\n",
       "      <td>0.090909</td>\n",
       "      <td>0.285714</td>\n",
       "      <td>0.137931</td>\n",
       "    </tr>\n",
       "  </tbody>\n",
       "</table>\n",
       "<p>10000 rows × 9 columns</p>\n",
       "</div>"
      ],
      "text/plain": [
       "      pn_num  threshold  total_labels  total_predictions  found_labels  \\\n",
       "0         16         10            13                  8             8   \n",
       "1         41         10             9                  7             5   \n",
       "2         46         10            12                  6             6   \n",
       "3         82         10            13                  7             7   \n",
       "4        100         10            10                  5             5   \n",
       "...      ...        ...           ...                ...           ...   \n",
       "9995   95145        100            12                  5             2   \n",
       "9996   95228        100             7                  6             1   \n",
       "9997   95243        100            10                  7             1   \n",
       "9998   95330        100            16                  7             3   \n",
       "9999   95333        100            11                  7             2   \n",
       "\n",
       "      found_predictions    recall  precision  f1_score  \n",
       "0                    12  0.923077   1.000000  0.960000  \n",
       "1                     7  0.777778   0.714286  0.744681  \n",
       "2                    10  0.833333   1.000000  0.909091  \n",
       "3                    12  0.923077   1.000000  0.960000  \n",
       "4                    10  1.000000   1.000000  1.000000  \n",
       "...                 ...       ...        ...       ...  \n",
       "9995                  2  0.166667   0.400000  0.235294  \n",
       "9996                  1  0.142857   0.166667  0.153846  \n",
       "9997                  1  0.100000   0.142857  0.117647  \n",
       "9998                  3  0.187500   0.428571  0.260870  \n",
       "9999                  1  0.090909   0.285714  0.137931  \n",
       "\n",
       "[10000 rows x 9 columns]"
      ]
     },
     "execution_count": 25,
     "metadata": {},
     "output_type": "execute_result"
    }
   ],
   "source": [
    "evaluation_df = all_retrieved_predictions.merge(all_relevant_predictions, how='left', on=['pn_num', 'threshold'])\n",
    "evaluation_df = evaluation_df[['pn_num', 'threshold', 'total_labels', 'total_predictions', 'found_labels', 'found_predictions', 'recall', 'precision']]\n",
    "\n",
    "evaluation_df['f1_score'] = 2 * (evaluation_df['recall'] * evaluation_df['precision']) / (evaluation_df['recall'] + evaluation_df['precision'])\n",
    "evaluation_df"
   ]
  },
  {
   "cell_type": "code",
   "execution_count": 26,
   "id": "40d8d421",
   "metadata": {},
   "outputs": [
    {
     "data": {
      "text/html": [
       "<div>\n",
       "<style scoped>\n",
       "    .dataframe tbody tr th:only-of-type {\n",
       "        vertical-align: middle;\n",
       "    }\n",
       "\n",
       "    .dataframe tbody tr th {\n",
       "        vertical-align: top;\n",
       "    }\n",
       "\n",
       "    .dataframe thead th {\n",
       "        text-align: right;\n",
       "    }\n",
       "</style>\n",
       "<table border=\"1\" class=\"dataframe\">\n",
       "  <thead>\n",
       "    <tr style=\"text-align: right;\">\n",
       "      <th></th>\n",
       "      <th>pn_num</th>\n",
       "      <th>threshold</th>\n",
       "      <th>total_labels</th>\n",
       "      <th>total_predictions</th>\n",
       "      <th>found_labels</th>\n",
       "      <th>found_predictions</th>\n",
       "      <th>recall</th>\n",
       "      <th>precision</th>\n",
       "      <th>f1_score</th>\n",
       "    </tr>\n",
       "  </thead>\n",
       "  <tbody>\n",
       "    <tr>\n",
       "      <th>0</th>\n",
       "      <td>16</td>\n",
       "      <td>10</td>\n",
       "      <td>13</td>\n",
       "      <td>8</td>\n",
       "      <td>8</td>\n",
       "      <td>12</td>\n",
       "      <td>0.923077</td>\n",
       "      <td>1.000</td>\n",
       "      <td>0.960000</td>\n",
       "    </tr>\n",
       "    <tr>\n",
       "      <th>1000</th>\n",
       "      <td>16</td>\n",
       "      <td>20</td>\n",
       "      <td>13</td>\n",
       "      <td>8</td>\n",
       "      <td>8</td>\n",
       "      <td>12</td>\n",
       "      <td>0.923077</td>\n",
       "      <td>1.000</td>\n",
       "      <td>0.960000</td>\n",
       "    </tr>\n",
       "    <tr>\n",
       "      <th>2000</th>\n",
       "      <td>16</td>\n",
       "      <td>30</td>\n",
       "      <td>13</td>\n",
       "      <td>8</td>\n",
       "      <td>8</td>\n",
       "      <td>11</td>\n",
       "      <td>0.846154</td>\n",
       "      <td>1.000</td>\n",
       "      <td>0.916667</td>\n",
       "    </tr>\n",
       "    <tr>\n",
       "      <th>3000</th>\n",
       "      <td>16</td>\n",
       "      <td>40</td>\n",
       "      <td>13</td>\n",
       "      <td>8</td>\n",
       "      <td>7</td>\n",
       "      <td>11</td>\n",
       "      <td>0.846154</td>\n",
       "      <td>0.875</td>\n",
       "      <td>0.860335</td>\n",
       "    </tr>\n",
       "    <tr>\n",
       "      <th>4000</th>\n",
       "      <td>16</td>\n",
       "      <td>50</td>\n",
       "      <td>13</td>\n",
       "      <td>8</td>\n",
       "      <td>7</td>\n",
       "      <td>9</td>\n",
       "      <td>0.692308</td>\n",
       "      <td>0.875</td>\n",
       "      <td>0.773006</td>\n",
       "    </tr>\n",
       "    <tr>\n",
       "      <th>5000</th>\n",
       "      <td>16</td>\n",
       "      <td>60</td>\n",
       "      <td>13</td>\n",
       "      <td>8</td>\n",
       "      <td>2</td>\n",
       "      <td>3</td>\n",
       "      <td>0.230769</td>\n",
       "      <td>0.250</td>\n",
       "      <td>0.240000</td>\n",
       "    </tr>\n",
       "    <tr>\n",
       "      <th>6000</th>\n",
       "      <td>16</td>\n",
       "      <td>70</td>\n",
       "      <td>13</td>\n",
       "      <td>8</td>\n",
       "      <td>2</td>\n",
       "      <td>3</td>\n",
       "      <td>0.230769</td>\n",
       "      <td>0.250</td>\n",
       "      <td>0.240000</td>\n",
       "    </tr>\n",
       "    <tr>\n",
       "      <th>7000</th>\n",
       "      <td>16</td>\n",
       "      <td>80</td>\n",
       "      <td>13</td>\n",
       "      <td>8</td>\n",
       "      <td>2</td>\n",
       "      <td>3</td>\n",
       "      <td>0.230769</td>\n",
       "      <td>0.250</td>\n",
       "      <td>0.240000</td>\n",
       "    </tr>\n",
       "    <tr>\n",
       "      <th>8000</th>\n",
       "      <td>16</td>\n",
       "      <td>90</td>\n",
       "      <td>13</td>\n",
       "      <td>8</td>\n",
       "      <td>2</td>\n",
       "      <td>3</td>\n",
       "      <td>0.230769</td>\n",
       "      <td>0.250</td>\n",
       "      <td>0.240000</td>\n",
       "    </tr>\n",
       "    <tr>\n",
       "      <th>9000</th>\n",
       "      <td>16</td>\n",
       "      <td>100</td>\n",
       "      <td>13</td>\n",
       "      <td>8</td>\n",
       "      <td>2</td>\n",
       "      <td>2</td>\n",
       "      <td>0.153846</td>\n",
       "      <td>0.250</td>\n",
       "      <td>0.190476</td>\n",
       "    </tr>\n",
       "  </tbody>\n",
       "</table>\n",
       "</div>"
      ],
      "text/plain": [
       "      pn_num  threshold  total_labels  total_predictions  found_labels  \\\n",
       "0         16         10            13                  8             8   \n",
       "1000      16         20            13                  8             8   \n",
       "2000      16         30            13                  8             8   \n",
       "3000      16         40            13                  8             7   \n",
       "4000      16         50            13                  8             7   \n",
       "5000      16         60            13                  8             2   \n",
       "6000      16         70            13                  8             2   \n",
       "7000      16         80            13                  8             2   \n",
       "8000      16         90            13                  8             2   \n",
       "9000      16        100            13                  8             2   \n",
       "\n",
       "      found_predictions    recall  precision  f1_score  \n",
       "0                    12  0.923077      1.000  0.960000  \n",
       "1000                 12  0.923077      1.000  0.960000  \n",
       "2000                 11  0.846154      1.000  0.916667  \n",
       "3000                 11  0.846154      0.875  0.860335  \n",
       "4000                  9  0.692308      0.875  0.773006  \n",
       "5000                  3  0.230769      0.250  0.240000  \n",
       "6000                  3  0.230769      0.250  0.240000  \n",
       "7000                  3  0.230769      0.250  0.240000  \n",
       "8000                  3  0.230769      0.250  0.240000  \n",
       "9000                  2  0.153846      0.250  0.190476  "
      ]
     },
     "execution_count": 26,
     "metadata": {},
     "output_type": "execute_result"
    }
   ],
   "source": [
    "#For a particular patient\n",
    "evaluation_df[evaluation_df.pn_num==16]"
   ]
  },
  {
   "cell_type": "code",
   "execution_count": 27,
   "id": "cd3af430",
   "metadata": {},
   "outputs": [],
   "source": [
    "bio_clinical_bert_evaluation = evaluation_df.merge(test,on=\"pn_num\",how=\"left\")"
   ]
  },
  {
   "cell_type": "code",
   "execution_count": null,
   "id": "157b60eb",
   "metadata": {},
   "outputs": [],
   "source": [
    "bio_clinical_bert_evaluation.to_csv(\"bio_clinical_bert_evaluation.csv\", index=False)"
   ]
  },
  {
   "cell_type": "code",
   "execution_count": null,
   "id": "d8835727",
   "metadata": {},
   "outputs": [],
   "source": [
    "evaluation_df.to_csv(\"all_distill_roberta_evaluation_scores.csv\",index=False)"
   ]
  },
  {
   "cell_type": "markdown",
   "id": "f2101f60",
   "metadata": {},
   "source": [
    "### -----x------x---------x---------x-------x"
   ]
  }
 ],
 "metadata": {
  "kernelspec": {
   "display_name": "Python 3 (ipykernel)",
   "language": "python",
   "name": "python3"
  },
  "language_info": {
   "codemirror_mode": {
    "name": "ipython",
    "version": 3
   },
   "file_extension": ".py",
   "mimetype": "text/x-python",
   "name": "python",
   "nbconvert_exporter": "python",
   "pygments_lexer": "ipython3",
   "version": "3.10.10"
  }
 },
 "nbformat": 4,
 "nbformat_minor": 5
}
