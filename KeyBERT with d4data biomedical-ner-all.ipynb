{
 "cells": [
  {
   "cell_type": "code",
   "execution_count": 2,
   "id": "ebcb1398",
   "metadata": {},
   "outputs": [
    {
     "name": "stderr",
     "output_type": "stream",
     "text": [
      "[nltk_data] Downloading package wordnet to\n",
      "[nltk_data]     /Users/aishwariyagupta/nltk_data...\n",
      "[nltk_data]   Package wordnet is already up-to-date!\n",
      "[nltk_data] Downloading package omw-1.4 to\n",
      "[nltk_data]     /Users/aishwariyagupta/nltk_data...\n",
      "[nltk_data]   Package omw-1.4 is already up-to-date!\n"
     ]
    }
   ],
   "source": [
    "import os\n",
    "import spacy\n",
    "import warnings\n",
    "import wordcloud\n",
    "import numpy as np\n",
    "import pandas as pd\n",
    "import seaborn as sns\n",
    "import plotly.express as px\n",
    "import matplotlib.pyplot as plt\n",
    "import plotly.graph_objects as go\n",
    "\n",
    "\n",
    "import numpy as np\n",
    "import pandas as pd \n",
    "import os\n",
    "import re\n",
    "import matplotlib.pyplot as plt\n",
    "import seaborn as sns\n",
    "import nltk\n",
    "import textstat\n",
    "import spacy\n",
    "nlp = spacy.load('en_core_web_sm')\n",
    "pd.set_option('display.max_rows', 500)\n",
    "pd.set_option('display.max_columns', 500)\n",
    "pd.set_option('display.width', 1000)\n",
    "\n",
    "from spacy import displacy\n",
    "from nltk.tokenize import sent_tokenize, word_tokenize \n",
    "\n",
    "import warnings\n",
    "warnings.filterwarnings(\"ignore\")\n",
    "\n",
    "import contractions\n",
    "import nltk\n",
    "import string\n",
    "\n",
    "from nltk.stem import WordNetLemmatizer\n",
    "lemmatizer = WordNetLemmatizer()\n",
    "nltk.download('wordnet')\n",
    "nltk.download('omw-1.4')\n",
    "import pkg_resources\n",
    "from symspellpy import SymSpell, Verbosity"
   ]
  },
  {
   "cell_type": "code",
   "execution_count": 2,
   "id": "9129169b",
   "metadata": {},
   "outputs": [
    {
     "data": {
      "text/html": [
       "<div>\n",
       "<style scoped>\n",
       "    .dataframe tbody tr th:only-of-type {\n",
       "        vertical-align: middle;\n",
       "    }\n",
       "\n",
       "    .dataframe tbody tr th {\n",
       "        vertical-align: top;\n",
       "    }\n",
       "\n",
       "    .dataframe thead th {\n",
       "        text-align: right;\n",
       "    }\n",
       "</style>\n",
       "<table border=\"1\" class=\"dataframe\">\n",
       "  <thead>\n",
       "    <tr style=\"text-align: right;\">\n",
       "      <th></th>\n",
       "      <th>id</th>\n",
       "      <th>case_num</th>\n",
       "      <th>pn_num</th>\n",
       "      <th>feature_num</th>\n",
       "      <th>annotation</th>\n",
       "      <th>location</th>\n",
       "      <th>feature_text</th>\n",
       "      <th>pn_history</th>\n",
       "    </tr>\n",
       "  </thead>\n",
       "  <tbody>\n",
       "    <tr>\n",
       "      <th>0</th>\n",
       "      <td>00016_000</td>\n",
       "      <td>0</td>\n",
       "      <td>16</td>\n",
       "      <td>0</td>\n",
       "      <td>['dad with recent heart attcak']</td>\n",
       "      <td>['696 724']</td>\n",
       "      <td>Family-history-of-MI-OR-Family-history-of-myocardial-infarction</td>\n",
       "      <td>HPI: 17yo M presents with palpitations. Patient reports 3-4 months of intermittent episodes of \"heart beating/pounding out of my chest.\" 2 days ago during a soccer game had an episode, but this time had chest pressure and felt as if he were going to pass out (did not lose conciousness). Of note patient endorses abusing adderall, primarily to study (1-3 times per week). Before recent soccer game, took adderrall night before and morning of game. Denies shortness of breath, diaphoresis, fevers, chills, headache, fatigue, changes in sleep, changes in vision/hearing, abdominal paun, changes in bowel or urinary habits. \\r\\nPMHx: none\\r\\nRx: uses friends adderrall\\r\\nFHx: mom with \"thyroid disease,\" dad with recent heart attcak\\r\\nAll: none\\r\\nImmunizations: up to date\\r\\nSHx: Freshmen in college. Endorses 3-4 drinks 3 nights / week (on weekends), denies tabacco, endorses trying marijuana. Sexually active with girlfriend x 1 year, uses condoms</td>\n",
       "    </tr>\n",
       "    <tr>\n",
       "      <th>1</th>\n",
       "      <td>00016_001</td>\n",
       "      <td>0</td>\n",
       "      <td>16</td>\n",
       "      <td>1</td>\n",
       "      <td>['mom with \"thyroid disease']</td>\n",
       "      <td>['668 693']</td>\n",
       "      <td>Family-history-of-thyroid-disorder</td>\n",
       "      <td>HPI: 17yo M presents with palpitations. Patient reports 3-4 months of intermittent episodes of \"heart beating/pounding out of my chest.\" 2 days ago during a soccer game had an episode, but this time had chest pressure and felt as if he were going to pass out (did not lose conciousness). Of note patient endorses abusing adderall, primarily to study (1-3 times per week). Before recent soccer game, took adderrall night before and morning of game. Denies shortness of breath, diaphoresis, fevers, chills, headache, fatigue, changes in sleep, changes in vision/hearing, abdominal paun, changes in bowel or urinary habits. \\r\\nPMHx: none\\r\\nRx: uses friends adderrall\\r\\nFHx: mom with \"thyroid disease,\" dad with recent heart attcak\\r\\nAll: none\\r\\nImmunizations: up to date\\r\\nSHx: Freshmen in college. Endorses 3-4 drinks 3 nights / week (on weekends), denies tabacco, endorses trying marijuana. Sexually active with girlfriend x 1 year, uses condoms</td>\n",
       "    </tr>\n",
       "  </tbody>\n",
       "</table>\n",
       "</div>"
      ],
      "text/plain": [
       "          id  case_num  pn_num  feature_num                        annotation  \\\n",
       "0  00016_000         0      16            0  ['dad with recent heart attcak']   \n",
       "1  00016_001         0      16            1     ['mom with \"thyroid disease']   \n",
       "\n",
       "      location  \\\n",
       "0  ['696 724']   \n",
       "1  ['668 693']   \n",
       "\n",
       "                                                      feature_text  \\\n",
       "0  Family-history-of-MI-OR-Family-history-of-myocardial-infarction   \n",
       "1                               Family-history-of-thyroid-disorder   \n",
       "\n",
       "                                                                                                                                                                                                                                                                                                                                                                                                                                                                                                                                                                                                                                                                                                                                                                                                                                                                                                                                                                               pn_history  \n",
       "0  HPI: 17yo M presents with palpitations. Patient reports 3-4 months of intermittent episodes of \"heart beating/pounding out of my chest.\" 2 days ago during a soccer game had an episode, but this time had chest pressure and felt as if he were going to pass out (did not lose conciousness). Of note patient endorses abusing adderall, primarily to study (1-3 times per week). Before recent soccer game, took adderrall night before and morning of game. Denies shortness of breath, diaphoresis, fevers, chills, headache, fatigue, changes in sleep, changes in vision/hearing, abdominal paun, changes in bowel or urinary habits. \\r\\nPMHx: none\\r\\nRx: uses friends adderrall\\r\\nFHx: mom with \"thyroid disease,\" dad with recent heart attcak\\r\\nAll: none\\r\\nImmunizations: up to date\\r\\nSHx: Freshmen in college. Endorses 3-4 drinks 3 nights / week (on weekends), denies tabacco, endorses trying marijuana. Sexually active with girlfriend x 1 year, uses condoms  \n",
       "1  HPI: 17yo M presents with palpitations. Patient reports 3-4 months of intermittent episodes of \"heart beating/pounding out of my chest.\" 2 days ago during a soccer game had an episode, but this time had chest pressure and felt as if he were going to pass out (did not lose conciousness). Of note patient endorses abusing adderall, primarily to study (1-3 times per week). Before recent soccer game, took adderrall night before and morning of game. Denies shortness of breath, diaphoresis, fevers, chills, headache, fatigue, changes in sleep, changes in vision/hearing, abdominal paun, changes in bowel or urinary habits. \\r\\nPMHx: none\\r\\nRx: uses friends adderrall\\r\\nFHx: mom with \"thyroid disease,\" dad with recent heart attcak\\r\\nAll: none\\r\\nImmunizations: up to date\\r\\nSHx: Freshmen in college. Endorses 3-4 drinks 3 nights / week (on weekends), denies tabacco, endorses trying marijuana. Sexually active with girlfriend x 1 year, uses condoms  "
      ]
     },
     "metadata": {},
     "output_type": "display_data"
    }
   ],
   "source": [
    "patient_notes = pd.read_csv(\"patient_notes.csv\")\n",
    "#one case number has many pn_num\n",
    "features = pd.read_csv(\"features.csv\")\n",
    "#one case has many feature_num\n",
    "train = pd.read_csv(\"train.csv\")\n",
    "\n",
    "train = train.merge(features, on=['feature_num', 'case_num'], how='left')\n",
    "train = train.merge(patient_notes, on=['pn_num', 'case_num'], how='left')\n",
    "\n",
    "pd.set_option('display.max_colwidth', None)\n",
    "display(train.head(2))"
   ]
  },
  {
   "cell_type": "markdown",
   "id": "9d6cc36a",
   "metadata": {},
   "source": [
    "## Pre-processing the text column to clean it "
   ]
  },
  {
   "cell_type": "code",
   "execution_count": 3,
   "id": "be7e56cb",
   "metadata": {},
   "outputs": [],
   "source": [
    "train[\"pn_history_lower\"] = train[\"pn_history\"].str.lower()\n",
    "regex = re.compile(r'<[^>]+>')\n",
    "train[\"pn_history_noContractions\"] = train[\"pn_history_lower\"].apply(contractions.fix)\n",
    "\n",
    "def remove_unicode_chars(text):\n",
    "    text = text.encode(\"ascii\", \"ignore\").decode()\n",
    "    return text\n",
    "train[\"pn_history_noUnicode\"] = train[\"pn_history_noContractions\"].apply(remove_unicode_chars)\n",
    "\n",
    "def remove_punctuations(text):\n",
    "    custom_punctuations = \"\".join([elem for elem in string.punctuation if elem not in [',', '.']])\n",
    "    text = re.sub('[%s]' % re.escape(custom_punctuations), \" \",text)\n",
    "    return text\n",
    "train[\"pn_history_noPuncts\"] = train[\"pn_history_noUnicode\"].apply(remove_punctuations)\n",
    "\n",
    "#def remove_stopwords(text):\n",
    "#    return \" \".join([word for word in str(text).split() if word not in stop_words])\n",
    "#train[\"tweet_noStopwords\"] = train[\"tweet_noPuncts\"].apply(remove_stopwords)\n",
    "def remove_extra_spaces(text):\n",
    "    text = re.sub(' +', ' ', text).strip()\n",
    "    return text\n",
    "train[\"pn_history_noES\"] = train[\"pn_history_noPuncts\"].apply(remove_extra_spaces)\n",
    "def lemmatize_text(text):\n",
    "    words = [lemmatizer.lemmatize(word) for word in text.split()]\n",
    "    text = ' '.join(words)\n",
    "    return text\n",
    "train[\"pn_history_preprocessed\"] = train[\"pn_history_noES\"].apply(lemmatize_text)"
   ]
  },
  {
   "cell_type": "code",
   "execution_count": 5,
   "id": "b15c63ea",
   "metadata": {},
   "outputs": [],
   "source": [
    "train = train.drop_duplicates([\"pn_history_preprocessed\"])"
   ]
  },
  {
   "cell_type": "markdown",
   "id": "32a03db9",
   "metadata": {},
   "source": [
    "## Model 5 : KeyBert with biomedical-ner-all"
   ]
  },
  {
   "cell_type": "code",
   "execution_count": 7,
   "id": "8caf1441",
   "metadata": {},
   "outputs": [],
   "source": [
    "from keybert import KeyBERT\n",
    "from tqdm import tqdm"
   ]
  },
  {
   "cell_type": "code",
   "execution_count": 8,
   "id": "1189bb86",
   "metadata": {},
   "outputs": [
    {
     "name": "stderr",
     "output_type": "stream",
     "text": [
      "Downloading (…)63a1a/.gitattributes: 100%|█| 1.23k/1.23k [00:00<00:00, 1.36MB/s]\n",
      "Downloading (…)6ea8663a1a/README.md: 100%|█| 2.81k/2.81k [00:00<00:00, 4.68MB/s]\n",
      "Downloading (…)a8663a1a/config.json: 100%|█| 5.00k/5.00k [00:00<00:00, 15.6MB/s]\n",
      "Downloading model.safetensors: 100%|█████████| 266M/266M [00:18<00:00, 14.5MB/s]\n",
      "Downloading pytorch_model.bin: 100%|█████████| 266M/266M [00:20<00:00, 12.9MB/s]\n",
      "Downloading (…)cial_tokens_map.json: 100%|██████| 125/125 [00:00<00:00, 200kB/s]\n",
      "Downloading (…)63a1a/tokenizer.json: 100%|███| 711k/711k [00:00<00:00, 7.99MB/s]\n",
      "Downloading (…)okenizer_config.json: 100%|██████| 373/373 [00:00<00:00, 875kB/s]\n",
      "Downloading (…)6ea8663a1a/vocab.txt: 100%|███| 232k/232k [00:00<00:00, 1.24MB/s]\n",
      "No sentence-transformers model found with name /Users/aishwariyagupta/.cache/torch/sentence_transformers/d4data_biomedical-ner-all. Creating a new one with MEAN pooling.\n",
      "Some weights of the model checkpoint at /Users/aishwariyagupta/.cache/torch/sentence_transformers/d4data_biomedical-ner-all were not used when initializing DistilBertModel: ['classifier.weight', 'classifier.bias']\n",
      "- This IS expected if you are initializing DistilBertModel from the checkpoint of a model trained on another task or with another architecture (e.g. initializing a BertForSequenceClassification model from a BertForPreTraining model).\n",
      "- This IS NOT expected if you are initializing DistilBertModel from the checkpoint of a model that you expect to be exactly identical (initializing a BertForSequenceClassification model from a BertForSequenceClassification model).\n"
     ]
    }
   ],
   "source": [
    "model = KeyBERT(model=\"d4data/biomedical-ner-all\")"
   ]
  },
  {
   "cell_type": "markdown",
   "id": "ca7e8c30",
   "metadata": {},
   "source": [
    "## Applying KEYBERT Model"
   ]
  },
  {
   "cell_type": "markdown",
   "id": "8ef74f25",
   "metadata": {},
   "source": [
    "### Extracting 2 keywords"
   ]
  },
  {
   "cell_type": "code",
   "execution_count": 11,
   "id": "41a8a01b",
   "metadata": {
    "scrolled": true
   },
   "outputs": [
    {
     "name": "stderr",
     "output_type": "stream",
     "text": [
      "1000it [10:44,  1.55it/s]\n"
     ]
    }
   ],
   "source": [
    "l = []\n",
    "for index, row in tqdm(train.iterrows()):\n",
    "    l.append(model.extract_keywords(\n",
    "                row['pn_history_preprocessed'],\n",
    "                top_n=3, \n",
    "                keyphrase_ngram_range=(1, 2),\n",
    "                use_mmr=True, \n",
    "                diversity=0.7))"
   ]
  },
  {
   "cell_type": "code",
   "execution_count": 12,
   "id": "585201f1",
   "metadata": {},
   "outputs": [],
   "source": [
    "train = train.reset_index(drop=True)"
   ]
  },
  {
   "cell_type": "code",
   "execution_count": 13,
   "id": "707f86a1",
   "metadata": {},
   "outputs": [],
   "source": [
    "train = train.join(pd.DataFrame(l, columns=['first_keyword', 'second_keyword', 'third_keyword']))"
   ]
  },
  {
   "cell_type": "code",
   "execution_count": 15,
   "id": "30b31d8e",
   "metadata": {},
   "outputs": [],
   "source": [
    "train.to_csv(\"two_keywords_extraction_biomedical-ner-all.csv\")"
   ]
  },
  {
   "cell_type": "code",
   "execution_count": 16,
   "id": "631aa172",
   "metadata": {},
   "outputs": [],
   "source": [
    "#seprating keyword along with cosine similarity\n",
    "def func(x):\n",
    "    return x[1]\n",
    "train['first_keyword_score'] = train.first_keyword.apply(lambda x: func(x))\n",
    "def func(x):\n",
    "    return x[0]\n",
    "train['first_keyword'] = train.first_keyword.apply(lambda x: func(x))\n",
    "\n",
    "def func(x):\n",
    "    return x[1]\n",
    "train['second_keyword_score'] = train.second_keyword.apply(lambda x: func(x))\n",
    "def func(x):\n",
    "    return x[0]\n",
    "train['second_keyword'] = train.second_keyword.apply(lambda x: func(x))\n",
    "\n",
    "def func(x):\n",
    "    return x[1]\n",
    "train['third_keyword_score'] = train.third_keyword.apply(lambda x: func(x))\n",
    "def func(x):\n",
    "    return x[0]\n",
    "train['third_keyword'] = train.third_keyword.apply(lambda x: func(x))"
   ]
  },
  {
   "cell_type": "code",
   "execution_count": 17,
   "id": "7061bf7e",
   "metadata": {},
   "outputs": [],
   "source": [
    "train.to_csv(\"two_keywords_extraction_with_score_biomedical-ner-all.csv\")"
   ]
  },
  {
   "cell_type": "markdown",
   "id": "f196da11",
   "metadata": {},
   "source": [
    "## Extracting 3 keywords"
   ]
  },
  {
   "cell_type": "code",
   "execution_count": 18,
   "id": "1d0d8551",
   "metadata": {},
   "outputs": [
    {
     "name": "stderr",
     "output_type": "stream",
     "text": [
      "1000it [15:26,  1.08it/s]\n"
     ]
    }
   ],
   "source": [
    "\n",
    "l = []\n",
    "for index, row in tqdm(train.iterrows()):\n",
    "    l.append(model.extract_keywords(\n",
    "                row['pn_history_preprocessed'],\n",
    "                top_n=3,\n",
    "                keyphrase_ngram_range=(1, 3),\n",
    "                use_mmr=True, \n",
    "                diversity=0.7))"
   ]
  },
  {
   "cell_type": "code",
   "execution_count": 19,
   "id": "d31daab6",
   "metadata": {
    "scrolled": true
   },
   "outputs": [],
   "source": [
    "train_new = train.join(pd.DataFrame(l, columns=['first_keyword_three', 'second_keyword_three', 'third_keyword_three']))"
   ]
  },
  {
   "cell_type": "code",
   "execution_count": 20,
   "id": "b3419538",
   "metadata": {},
   "outputs": [],
   "source": [
    "train.to_csv(\"three_keywords_extraction_biomedical-ner-all.csv\")"
   ]
  },
  {
   "cell_type": "code",
   "execution_count": 21,
   "id": "b23383a6",
   "metadata": {},
   "outputs": [],
   "source": [
    "def func(x):\n",
    "    return x[1]\n",
    "train_new['first_keyword_score_three'] = train_new.first_keyword_three.apply(lambda x: func(x))\n",
    "def func(x):\n",
    "    return x[0]\n",
    "train_new['first_keyword_three'] = train_new.first_keyword_three.apply(lambda x: func(x))\n",
    "\n",
    "def func(x):\n",
    "    return x[1]\n",
    "train_new['second_keyword_score_three'] = train_new.second_keyword_three.apply(lambda x: func(x))\n",
    "def func(x):\n",
    "    return x[0]\n",
    "train_new['second_keyword_three'] = train_new.second_keyword_three.apply(lambda x: func(x))\n",
    "\n",
    "def func(x):\n",
    "    return x[1]\n",
    "train_new['third_keyword_score_three'] = train_new.third_keyword_three.apply(lambda x: func(x))\n",
    "def func(x):\n",
    "    return x[0]\n",
    "train_new['third_keyword_three'] = train_new.third_keyword_three.apply(lambda x: func(x))"
   ]
  },
  {
   "cell_type": "code",
   "execution_count": 22,
   "id": "4a245250",
   "metadata": {},
   "outputs": [],
   "source": [
    "train.to_csv(\"three_keywords_extraction_with_score_biomedical-ner-all.csv\")"
   ]
  },
  {
   "cell_type": "markdown",
   "id": "59c7ae8f",
   "metadata": {},
   "source": [
    "## Extracting 4 keywords"
   ]
  },
  {
   "cell_type": "code",
   "execution_count": 23,
   "id": "714e987a",
   "metadata": {},
   "outputs": [
    {
     "name": "stderr",
     "output_type": "stream",
     "text": [
      "1000it [20:43,  1.24s/it]\n"
     ]
    }
   ],
   "source": [
    "#extracting 4 keywords\n",
    "l = []\n",
    "for index, row in tqdm(train.iterrows()):\n",
    "    l.append(model.extract_keywords(\n",
    "                row['pn_history_preprocessed'],\n",
    "                top_n=3,\n",
    "                keyphrase_ngram_range=(1, 4),\n",
    "                use_mmr=True, \n",
    "                diversity=0.7))"
   ]
  },
  {
   "cell_type": "code",
   "execution_count": 24,
   "id": "dce7a09e",
   "metadata": {},
   "outputs": [],
   "source": [
    "train_new['third_keyword_score_three'] = train_new['third_keyword_score']"
   ]
  },
  {
   "cell_type": "code",
   "execution_count": 25,
   "id": "e77cfd03",
   "metadata": {},
   "outputs": [],
   "source": [
    "train_new_new = train_new.join(pd.DataFrame(l, columns=['first_keyword_four', 'second_keyword_four', 'third_keyword_four']))\n"
   ]
  },
  {
   "cell_type": "code",
   "execution_count": 26,
   "id": "ec9f7b88",
   "metadata": {},
   "outputs": [],
   "source": [
    "train_new_new.to_csv(\"four_keywords_extraction_biomedical-ner-all.csv\")"
   ]
  },
  {
   "cell_type": "code",
   "execution_count": 27,
   "id": "e8e1eb45",
   "metadata": {},
   "outputs": [],
   "source": [
    "def func(x):\n",
    "    return x[1]\n",
    "train_new_new['first_keyword_score_four'] = train_new_new.first_keyword_four.apply(lambda x: func(x))\n",
    "def func(x):\n",
    "    return x[0]\n",
    "train_new_new['first_keyword_four'] = train_new_new.first_keyword_four.apply(lambda x: func(x))\n",
    "\n",
    "def func(x):\n",
    "    return x[1]\n",
    "train_new_new['second_keyword_score_four'] = train_new_new.second_keyword_four.apply(lambda x: func(x))\n",
    "def func(x):\n",
    "    return x[0]\n",
    "train_new_new['second_keyword_four'] = train_new_new.second_keyword_four.apply(lambda x: func(x))\n",
    "\n",
    "def func(x):\n",
    "    return x[1]\n",
    "train_new_new['third_keyword_score_four'] = train_new_new.third_keyword_four.apply(lambda x: func(x))\n",
    "def func(x):\n",
    "    return x[0]\n",
    "train_new_new['third_keyword_four'] = train_new_new.third_keyword_four.apply(lambda x: func(x))"
   ]
  },
  {
   "cell_type": "code",
   "execution_count": 28,
   "id": "0ed3fbae",
   "metadata": {},
   "outputs": [],
   "source": [
    "train_new_new.to_csv(\"all_keywords_with_score_biomedical-ner-all.csv\")"
   ]
  },
  {
   "cell_type": "code",
   "execution_count": 30,
   "id": "0abad3fa",
   "metadata": {},
   "outputs": [],
   "source": [
    "train_with_scores = train_new_new.copy()"
   ]
  },
  {
   "cell_type": "code",
   "execution_count": 31,
   "id": "a7500f0a",
   "metadata": {},
   "outputs": [],
   "source": [
    "train_with_scores = pd.read_csv(\"all_keywords_with_score_biomedical-ner-all.csv\")"
   ]
  },
  {
   "cell_type": "code",
   "execution_count": 32,
   "id": "f3051965",
   "metadata": {},
   "outputs": [],
   "source": [
    "train_with_scores = train_with_scores[['id', 'case_num', 'pn_num', 'feature_num', 'annotation', 'location', 'feature_text', 'pn_history', 'pn_history_lower', 'pn_history_noContractions', 'pn_history_noUnicode', 'pn_history_noPuncts', 'pn_history_noES', 'pn_history_preprocessed', 'first_keyword', 'second_keyword', 'third_keyword', 'first_keyword_score', 'second_keyword_score', 'third_keyword_score', 'first_keyword_three', 'second_keyword_three', 'third_keyword_three', 'first_keyword_score_three', 'second_keyword_score_three', 'third_keyword_score_three', 'first_keyword_four', 'second_keyword_four', 'third_keyword_four', 'first_keyword_score_four', 'second_keyword_score_four', 'third_keyword_score_four']]"
   ]
  },
  {
   "cell_type": "code",
   "execution_count": 34,
   "id": "5cf67473",
   "metadata": {
    "scrolled": true
   },
   "outputs": [],
   "source": [
    "train_with_scores = train_with_scores.iloc[:,14:]"
   ]
  },
  {
   "cell_type": "code",
   "execution_count": 35,
   "id": "972ed15b",
   "metadata": {},
   "outputs": [
    {
     "data": {
      "text/plain": [
       "0.25    0.703775\n",
       "0.50    0.745100\n",
       "0.75    0.777500\n",
       "0.90    0.811800\n",
       "Name: first_keyword_score, dtype: float64"
      ]
     },
     "execution_count": 35,
     "metadata": {},
     "output_type": "execute_result"
    }
   ],
   "source": [
    "train_with_scores.first_keyword_score.quantile([0.25, 0.5, 0.75, 0.9])"
   ]
  },
  {
   "cell_type": "code",
   "execution_count": 36,
   "id": "0b0f8b6f",
   "metadata": {},
   "outputs": [
    {
     "data": {
      "text/plain": [
       "0.25    0.157050\n",
       "0.50    0.216400\n",
       "0.75    0.279275\n",
       "0.90    0.338260\n",
       "Name: second_keyword_score, dtype: float64"
      ]
     },
     "execution_count": 36,
     "metadata": {},
     "output_type": "execute_result"
    }
   ],
   "source": [
    "train_with_scores.second_keyword_score.quantile([0.25, 0.5, 0.75, 0.9])"
   ]
  },
  {
   "cell_type": "code",
   "execution_count": 37,
   "id": "e050ce1a",
   "metadata": {},
   "outputs": [
    {
     "data": {
      "text/plain": [
       "0.25   -0.036700\n",
       "0.50    0.021450\n",
       "0.75    0.093025\n",
       "0.90    0.160360\n",
       "Name: third_keyword_score, dtype: float64"
      ]
     },
     "execution_count": 37,
     "metadata": {},
     "output_type": "execute_result"
    }
   ],
   "source": [
    "train_with_scores.third_keyword_score.quantile([0.25, 0.5, 0.75, 0.9])"
   ]
  },
  {
   "cell_type": "markdown",
   "id": "120e6220",
   "metadata": {},
   "source": [
    "### selecting those keywords which have a cosine similarity more than 0.25"
   ]
  },
  {
   "cell_type": "code",
   "execution_count": 38,
   "id": "4014fed9",
   "metadata": {},
   "outputs": [],
   "source": [
    "train_with_scores.first_keyword = np.where(train_with_scores.first_keyword_score > 0.25, train_with_scores.first_keyword, np.nan)\n",
    "train_with_scores.second_keyword = np.where(train_with_scores.second_keyword_score > 0.25, train_with_scores.second_keyword, np.nan)\n",
    "train_with_scores.third_keyword = np.where(train_with_scores.third_keyword_score > 0.25, train_with_scores.third_keyword, np.nan)"
   ]
  },
  {
   "cell_type": "code",
   "execution_count": 39,
   "id": "0d9a5022",
   "metadata": {},
   "outputs": [
    {
     "data": {
      "text/plain": [
       "(0.7451, 0.2164, 0.021449999999999997)"
      ]
     },
     "execution_count": 39,
     "metadata": {},
     "output_type": "execute_result"
    }
   ],
   "source": [
    "train_with_scores.first_keyword_score.median(), train_with_scores.second_keyword_score.median(), train_with_scores.third_keyword_score.median()\n"
   ]
  },
  {
   "cell_type": "code",
   "execution_count": 40,
   "id": "ba35d305",
   "metadata": {},
   "outputs": [],
   "source": [
    "train_with_scores.first_keyword_three = np.where(train_with_scores.first_keyword_score_three > 0.25, train_with_scores.first_keyword_three, np.nan)\n",
    "train_with_scores.second_keyword_three = np.where(train_with_scores.second_keyword_score_three > 0.25, train_with_scores.second_keyword_three, np.nan)\n",
    "train_with_scores.third_keyword_three = np.where(train_with_scores.third_keyword_score_three > 0.25, train_with_scores.third_keyword_three, np.nan)\n"
   ]
  },
  {
   "cell_type": "code",
   "execution_count": 41,
   "id": "43749837",
   "metadata": {},
   "outputs": [],
   "source": [
    "train_with_scores.first_keyword_four = np.where(train_with_scores.first_keyword_score_four > 0.25, train_with_scores.first_keyword_four, np.nan)\n",
    "train_with_scores.second_keyword_four = np.where(train_with_scores.second_keyword_score_four > 0.25, train_with_scores.second_keyword_four, np.nan)\n",
    "train_with_scores.third_keyword_four = np.where(train_with_scores.third_keyword_score_four > 0.25, train_with_scores.third_keyword_four, np.nan)\n"
   ]
  },
  {
   "cell_type": "code",
   "execution_count": 42,
   "id": "c15dd1c3",
   "metadata": {},
   "outputs": [],
   "source": [
    "train_new_new = pd.read_csv(\"all_keywords_with_score_biomedical-ner-all.csv\")"
   ]
  },
  {
   "cell_type": "code",
   "execution_count": 43,
   "id": "4fdb003a",
   "metadata": {},
   "outputs": [],
   "source": [
    "train_with_scores = train_new_new[['id', 'pn_num', 'pn_history_preprocessed']].join(train_with_scores)"
   ]
  },
  {
   "cell_type": "code",
   "execution_count": 44,
   "id": "4d78625e",
   "metadata": {},
   "outputs": [
    {
     "data": {
      "text/plain": [
       "array([nan], dtype=object)"
      ]
     },
     "execution_count": 44,
     "metadata": {},
     "output_type": "execute_result"
    }
   ],
   "source": [
    "train_with_scores[:1].third_keyword.values"
   ]
  },
  {
   "cell_type": "markdown",
   "id": "ad4959fb",
   "metadata": {},
   "source": [
    "### Predicting Annotations"
   ]
  },
  {
   "cell_type": "code",
   "execution_count": 45,
   "id": "c9b25927",
   "metadata": {},
   "outputs": [],
   "source": [
    "def func(x):\n",
    "    all_annotation = []\n",
    "    for annotation in [x.first_keyword, x.second_keyword, x.third_keyword, \n",
    "                       x.first_keyword_three, x.second_keyword_three, x.third_keyword_three,\n",
    "                       x.first_keyword_four, x.second_keyword_four, x.third_keyword_four]:\n",
    "        \n",
    "        if str(annotation) != 'nan':\n",
    "            all_annotation.append(str(annotation))\n",
    "    return list(set(all_annotation))\n",
    "    \n",
    "train_with_scores['predicted_annotation'] = train_with_scores.apply(lambda x: func(x), axis=1)"
   ]
  },
  {
   "cell_type": "code",
   "execution_count": 46,
   "id": "fa93420e",
   "metadata": {},
   "outputs": [
    {
     "data": {
      "text/html": [
       "<div>\n",
       "<style scoped>\n",
       "    .dataframe tbody tr th:only-of-type {\n",
       "        vertical-align: middle;\n",
       "    }\n",
       "\n",
       "    .dataframe tbody tr th {\n",
       "        vertical-align: top;\n",
       "    }\n",
       "\n",
       "    .dataframe thead th {\n",
       "        text-align: right;\n",
       "    }\n",
       "</style>\n",
       "<table border=\"1\" class=\"dataframe\">\n",
       "  <thead>\n",
       "    <tr style=\"text-align: right;\">\n",
       "      <th></th>\n",
       "      <th>pn_num</th>\n",
       "      <th>predicted_annotation</th>\n",
       "    </tr>\n",
       "  </thead>\n",
       "  <tbody>\n",
       "    <tr>\n",
       "      <th>0</th>\n",
       "      <td>16</td>\n",
       "      <td>[breath diaphoresis, patient endorses abusing, endorses abusing, note patient endorses abusing]</td>\n",
       "    </tr>\n",
       "    <tr>\n",
       "      <th>1</th>\n",
       "      <td>41</td>\n",
       "      <td>[stds using, denies cough, fh mom ha thyroid, recently denies cough]</td>\n",
       "    </tr>\n",
       "    <tr>\n",
       "      <th>2</th>\n",
       "      <td>46</td>\n",
       "      <td>[anxiousness starting school, anxiousness starting]</td>\n",
       "    </tr>\n",
       "    <tr>\n",
       "      <th>3</th>\n",
       "      <td>82</td>\n",
       "      <td>[episode patient experienced light, patient experienced light, report adverse]</td>\n",
       "    </tr>\n",
       "    <tr>\n",
       "      <th>4</th>\n",
       "      <td>100</td>\n",
       "      <td>[months endorses light, intermittent tachycardia, endorses light]</td>\n",
       "    </tr>\n",
       "    <tr>\n",
       "      <th>...</th>\n",
       "      <td>...</td>\n",
       "      <td>...</td>\n",
       "    </tr>\n",
       "    <tr>\n",
       "      <th>995</th>\n",
       "      <td>95145</td>\n",
       "      <td>[worst headache, state worst headache life, progressively getthing worse]</td>\n",
       "    </tr>\n",
       "    <tr>\n",
       "      <th>996</th>\n",
       "      <td>95228</td>\n",
       "      <td>[ha severe headache, headache photosensitivity, ha severe, apartment ha severe headache, photosensitivity x2]</td>\n",
       "    </tr>\n",
       "    <tr>\n",
       "      <th>997</th>\n",
       "      <td>95243</td>\n",
       "      <td>[headache patient said, patient said, headache patient said started]</td>\n",
       "    </tr>\n",
       "    <tr>\n",
       "      <th>998</th>\n",
       "      <td>95330</td>\n",
       "      <td>[presenting worst ha, presenting worst]</td>\n",
       "    </tr>\n",
       "    <tr>\n",
       "      <th>999</th>\n",
       "      <td>95333</td>\n",
       "      <td>[tylenol sleep complains photobia, complains photobia]</td>\n",
       "    </tr>\n",
       "  </tbody>\n",
       "</table>\n",
       "<p>1000 rows × 2 columns</p>\n",
       "</div>"
      ],
      "text/plain": [
       "     pn_num                                                                                           predicted_annotation\n",
       "0        16                [breath diaphoresis, patient endorses abusing, endorses abusing, note patient endorses abusing]\n",
       "1        41                                           [stds using, denies cough, fh mom ha thyroid, recently denies cough]\n",
       "2        46                                                            [anxiousness starting school, anxiousness starting]\n",
       "3        82                                 [episode patient experienced light, patient experienced light, report adverse]\n",
       "4       100                                              [months endorses light, intermittent tachycardia, endorses light]\n",
       "..      ...                                                                                                            ...\n",
       "995   95145                                      [worst headache, state worst headache life, progressively getthing worse]\n",
       "996   95228  [ha severe headache, headache photosensitivity, ha severe, apartment ha severe headache, photosensitivity x2]\n",
       "997   95243                                           [headache patient said, patient said, headache patient said started]\n",
       "998   95330                                                                        [presenting worst ha, presenting worst]\n",
       "999   95333                                                         [tylenol sleep complains photobia, complains photobia]\n",
       "\n",
       "[1000 rows x 2 columns]"
      ]
     },
     "execution_count": 46,
     "metadata": {},
     "output_type": "execute_result"
    }
   ],
   "source": [
    "train_with_scores[['pn_num', 'predicted_annotation']]"
   ]
  },
  {
   "cell_type": "code",
   "execution_count": 47,
   "id": "33f4f146",
   "metadata": {},
   "outputs": [],
   "source": [
    "train_with_scores.to_csv(\"final_annotationsbiomedical-ner-all.csv\")"
   ]
  },
  {
   "cell_type": "code",
   "execution_count": 4,
   "id": "bdf1f3ab",
   "metadata": {},
   "outputs": [],
   "source": [
    "#train_with_scores.to_csv(\"final_annotations\")\n",
    "train_with_scores = pd.read_csv(\"final_annotationsbiomedical-ner-all.csv\",index_col=[0])"
   ]
  },
  {
   "cell_type": "code",
   "execution_count": 5,
   "id": "31ac162f",
   "metadata": {},
   "outputs": [],
   "source": [
    "from thefuzz import fuzz\n",
    "from thefuzz import process"
   ]
  },
  {
   "cell_type": "code",
   "execution_count": 6,
   "id": "048141e7",
   "metadata": {},
   "outputs": [
    {
     "data": {
      "text/html": [
       "<div>\n",
       "<style scoped>\n",
       "    .dataframe tbody tr th:only-of-type {\n",
       "        vertical-align: middle;\n",
       "    }\n",
       "\n",
       "    .dataframe tbody tr th {\n",
       "        vertical-align: top;\n",
       "    }\n",
       "\n",
       "    .dataframe thead th {\n",
       "        text-align: right;\n",
       "    }\n",
       "</style>\n",
       "<table border=\"1\" class=\"dataframe\">\n",
       "  <thead>\n",
       "    <tr style=\"text-align: right;\">\n",
       "      <th></th>\n",
       "      <th>id</th>\n",
       "      <th>case_num</th>\n",
       "      <th>pn_num</th>\n",
       "      <th>feature_num</th>\n",
       "      <th>annotation</th>\n",
       "      <th>location</th>\n",
       "      <th>feature_text</th>\n",
       "      <th>pn_history</th>\n",
       "      <th>pn_history_preprocessed</th>\n",
       "    </tr>\n",
       "  </thead>\n",
       "  <tbody>\n",
       "    <tr>\n",
       "      <th>0</th>\n",
       "      <td>00016_000</td>\n",
       "      <td>0</td>\n",
       "      <td>16</td>\n",
       "      <td>0</td>\n",
       "      <td>['dad with recent heart attcak']</td>\n",
       "      <td>['696 724']</td>\n",
       "      <td>Family-history-of-MI-OR-Family-history-of-myocardial-infarction</td>\n",
       "      <td>HPI: 17yo M presents with palpitations. Patient reports 3-4 months of intermittent episodes of \"heart beating/pounding out of my chest.\" 2 days ago during a soccer game had an episode, but this time had chest pressure and felt as if he were going to pass out (did not lose conciousness). Of note patient endorses abusing adderall, primarily to study (1-3 times per week). Before recent soccer game, took adderrall night before and morning of game. Denies shortness of breath, diaphoresis, fevers, chills, headache, fatigue, changes in sleep, changes in vision/hearing, abdominal paun, changes in bowel or urinary habits. \\r\\nPMHx: none\\r\\nRx: uses friends adderrall\\r\\nFHx: mom with \"thyroid disease,\" dad with recent heart attcak\\r\\nAll: none\\r\\nImmunizations: up to date\\r\\nSHx: Freshmen in college. Endorses 3-4 drinks 3 nights / week (on weekends), denies tabacco, endorses trying marijuana. Sexually active with girlfriend x 1 year, uses condoms</td>\n",
       "      <td>hpi 17yo m present with palpitations. patient report 3 4 month of intermittent episode of heart beating pounding out of my chest. 2 day ago during a soccer game had an episode, but this time had chest pressure and felt a if he were going to pas out did not lose conciousness . of note patient endorses abusing adderall, primarily to study 1 3 time per week . before recent soccer game, took adderrall night before and morning of game. denies shortness of breath, diaphoresis, fevers, chills, headache, fatigue, change in sleep, change in vision hearing, abdominal paun, change in bowel or urinary habits. pmhx none rx us friend adderrall fhx mom with thyroid disease, dad with recent heart attcak all none immunization up to date shx freshman in college. endorses 3 4 drink 3 night week on weekend , denies tabacco, endorses trying marijuana. sexually active with girlfriend x 1 year, us condom</td>\n",
       "    </tr>\n",
       "    <tr>\n",
       "      <th>1</th>\n",
       "      <td>00016_001</td>\n",
       "      <td>0</td>\n",
       "      <td>16</td>\n",
       "      <td>1</td>\n",
       "      <td>['mom with \"thyroid disease']</td>\n",
       "      <td>['668 693']</td>\n",
       "      <td>Family-history-of-thyroid-disorder</td>\n",
       "      <td>HPI: 17yo M presents with palpitations. Patient reports 3-4 months of intermittent episodes of \"heart beating/pounding out of my chest.\" 2 days ago during a soccer game had an episode, but this time had chest pressure and felt as if he were going to pass out (did not lose conciousness). Of note patient endorses abusing adderall, primarily to study (1-3 times per week). Before recent soccer game, took adderrall night before and morning of game. Denies shortness of breath, diaphoresis, fevers, chills, headache, fatigue, changes in sleep, changes in vision/hearing, abdominal paun, changes in bowel or urinary habits. \\r\\nPMHx: none\\r\\nRx: uses friends adderrall\\r\\nFHx: mom with \"thyroid disease,\" dad with recent heart attcak\\r\\nAll: none\\r\\nImmunizations: up to date\\r\\nSHx: Freshmen in college. Endorses 3-4 drinks 3 nights / week (on weekends), denies tabacco, endorses trying marijuana. Sexually active with girlfriend x 1 year, uses condoms</td>\n",
       "      <td>hpi 17yo m present with palpitations. patient report 3 4 month of intermittent episode of heart beating pounding out of my chest. 2 day ago during a soccer game had an episode, but this time had chest pressure and felt a if he were going to pas out did not lose conciousness . of note patient endorses abusing adderall, primarily to study 1 3 time per week . before recent soccer game, took adderrall night before and morning of game. denies shortness of breath, diaphoresis, fevers, chills, headache, fatigue, change in sleep, change in vision hearing, abdominal paun, change in bowel or urinary habits. pmhx none rx us friend adderrall fhx mom with thyroid disease, dad with recent heart attcak all none immunization up to date shx freshman in college. endorses 3 4 drink 3 night week on weekend , denies tabacco, endorses trying marijuana. sexually active with girlfriend x 1 year, us condom</td>\n",
       "    </tr>\n",
       "  </tbody>\n",
       "</table>\n",
       "</div>"
      ],
      "text/plain": [
       "          id  case_num  pn_num  feature_num                        annotation  \\\n",
       "0  00016_000         0      16            0  ['dad with recent heart attcak']   \n",
       "1  00016_001         0      16            1     ['mom with \"thyroid disease']   \n",
       "\n",
       "      location  \\\n",
       "0  ['696 724']   \n",
       "1  ['668 693']   \n",
       "\n",
       "                                                      feature_text  \\\n",
       "0  Family-history-of-MI-OR-Family-history-of-myocardial-infarction   \n",
       "1                               Family-history-of-thyroid-disorder   \n",
       "\n",
       "                                                                                                                                                                                                                                                                                                                                                                                                                                                                                                                                                                                                                                                                                                                                                                                                                                                                                                                                                                               pn_history  \\\n",
       "0  HPI: 17yo M presents with palpitations. Patient reports 3-4 months of intermittent episodes of \"heart beating/pounding out of my chest.\" 2 days ago during a soccer game had an episode, but this time had chest pressure and felt as if he were going to pass out (did not lose conciousness). Of note patient endorses abusing adderall, primarily to study (1-3 times per week). Before recent soccer game, took adderrall night before and morning of game. Denies shortness of breath, diaphoresis, fevers, chills, headache, fatigue, changes in sleep, changes in vision/hearing, abdominal paun, changes in bowel or urinary habits. \\r\\nPMHx: none\\r\\nRx: uses friends adderrall\\r\\nFHx: mom with \"thyroid disease,\" dad with recent heart attcak\\r\\nAll: none\\r\\nImmunizations: up to date\\r\\nSHx: Freshmen in college. Endorses 3-4 drinks 3 nights / week (on weekends), denies tabacco, endorses trying marijuana. Sexually active with girlfriend x 1 year, uses condoms   \n",
       "1  HPI: 17yo M presents with palpitations. Patient reports 3-4 months of intermittent episodes of \"heart beating/pounding out of my chest.\" 2 days ago during a soccer game had an episode, but this time had chest pressure and felt as if he were going to pass out (did not lose conciousness). Of note patient endorses abusing adderall, primarily to study (1-3 times per week). Before recent soccer game, took adderrall night before and morning of game. Denies shortness of breath, diaphoresis, fevers, chills, headache, fatigue, changes in sleep, changes in vision/hearing, abdominal paun, changes in bowel or urinary habits. \\r\\nPMHx: none\\r\\nRx: uses friends adderrall\\r\\nFHx: mom with \"thyroid disease,\" dad with recent heart attcak\\r\\nAll: none\\r\\nImmunizations: up to date\\r\\nSHx: Freshmen in college. Endorses 3-4 drinks 3 nights / week (on weekends), denies tabacco, endorses trying marijuana. Sexually active with girlfriend x 1 year, uses condoms   \n",
       "\n",
       "                                                                                                                                                                                                                                                                                                                                                                                                                                                                                                                                                                                                                                                                                                                                                                                                                                                                                                          pn_history_preprocessed  \n",
       "0  hpi 17yo m present with palpitations. patient report 3 4 month of intermittent episode of heart beating pounding out of my chest. 2 day ago during a soccer game had an episode, but this time had chest pressure and felt a if he were going to pas out did not lose conciousness . of note patient endorses abusing adderall, primarily to study 1 3 time per week . before recent soccer game, took adderrall night before and morning of game. denies shortness of breath, diaphoresis, fevers, chills, headache, fatigue, change in sleep, change in vision hearing, abdominal paun, change in bowel or urinary habits. pmhx none rx us friend adderrall fhx mom with thyroid disease, dad with recent heart attcak all none immunization up to date shx freshman in college. endorses 3 4 drink 3 night week on weekend , denies tabacco, endorses trying marijuana. sexually active with girlfriend x 1 year, us condom  \n",
       "1  hpi 17yo m present with palpitations. patient report 3 4 month of intermittent episode of heart beating pounding out of my chest. 2 day ago during a soccer game had an episode, but this time had chest pressure and felt a if he were going to pas out did not lose conciousness . of note patient endorses abusing adderall, primarily to study 1 3 time per week . before recent soccer game, took adderrall night before and morning of game. denies shortness of breath, diaphoresis, fevers, chills, headache, fatigue, change in sleep, change in vision hearing, abdominal paun, change in bowel or urinary habits. pmhx none rx us friend adderrall fhx mom with thyroid disease, dad with recent heart attcak all none immunization up to date shx freshman in college. endorses 3 4 drink 3 night week on weekend , denies tabacco, endorses trying marijuana. sexually active with girlfriend x 1 year, us condom  "
      ]
     },
     "metadata": {},
     "output_type": "display_data"
    }
   ],
   "source": [
    "patient_notes_test = pd.read_csv(\"patient_notes.csv\")\n",
    "#one case number has many pn_num\n",
    "features_test = pd.read_csv(\"features.csv\")\n",
    "#one case has many feature_num\n",
    "test = pd.read_csv(\"train.csv\")\n",
    "test = test.merge(features_test, on=['feature_num', 'case_num'], how='left')\n",
    "test = test.merge(patient_notes_test, on=['pn_num', 'case_num'], how='left')\n",
    "test = test.merge(train_with_scores[['pn_num', 'pn_history_preprocessed']], on=['pn_num'], how='left')\n",
    "pd.set_option('display.max_colwidth', None)\n",
    "display(test.head(2))"
   ]
  },
  {
   "cell_type": "code",
   "execution_count": 7,
   "id": "21481d19",
   "metadata": {},
   "outputs": [],
   "source": [
    "test = test.merge(train_with_scores[['pn_num', 'predicted_annotation']], how='left', on='pn_num')"
   ]
  },
  {
   "cell_type": "code",
   "execution_count": 8,
   "id": "d85ce40b",
   "metadata": {
    "scrolled": true
   },
   "outputs": [],
   "source": [
    "evaluation = test[['pn_num', 'annotation', 'predicted_annotation', 'pn_history', 'pn_history_preprocessed']]\n",
    "evaluation = evaluation[evaluation.annotation != '[]']\n",
    "evaluation['annotation'] = evaluation['annotation'].astype(str)\n",
    "evaluation['ground_truth_annotation'] = evaluation.annotation.apply(lambda x: eval(x))\n",
    "evaluation = evaluation.explode('ground_truth_annotation')\n",
    "evaluation['ground_truth_annotation_junk'] = evaluation.ground_truth_annotation.apply(lambda x: len(str(x)) < 3)"
   ]
  },
  {
   "cell_type": "code",
   "execution_count": 9,
   "id": "475199d2",
   "metadata": {},
   "outputs": [],
   "source": [
    "evaluation = evaluation.drop_duplicates()"
   ]
  },
  {
   "cell_type": "code",
   "execution_count": 10,
   "id": "c5fdea73",
   "metadata": {},
   "outputs": [
    {
     "data": {
      "text/plain": [
       "False    0.940796\n",
       "True     0.059204\n",
       "Name: ground_truth_annotation_junk, dtype: float64"
      ]
     },
     "execution_count": 10,
     "metadata": {},
     "output_type": "execute_result"
    }
   ],
   "source": [
    "evaluation.ground_truth_annotation_junk.value_counts(normalize=True)"
   ]
  },
  {
   "cell_type": "code",
   "execution_count": 11,
   "id": "b0b6daf7",
   "metadata": {},
   "outputs": [],
   "source": [
    "evaluation_pp = evaluation.copy()"
   ]
  },
  {
   "cell_type": "markdown",
   "id": "12bc0785",
   "metadata": {},
   "source": [
    "## Evaluation"
   ]
  },
  {
   "cell_type": "code",
   "execution_count": 12,
   "id": "62ecb4ea",
   "metadata": {},
   "outputs": [],
   "source": [
    "evaluation['predicted_annotation'] = evaluation['predicted_annotation'].astype(str)\n",
    "evaluation = evaluation[evaluation.predicted_annotation != '[]']\n",
    "evaluation['prediction'] = evaluation.predicted_annotation.apply(lambda x: eval(x))\n",
    "evaluation = evaluation.explode('prediction')"
   ]
  },
  {
   "cell_type": "markdown",
   "id": "6f7c0ec1",
   "metadata": {},
   "source": [
    "## Selecting columns of interest to calculate the evaluation"
   ]
  },
  {
   "cell_type": "code",
   "execution_count": 13,
   "id": "0d21f836",
   "metadata": {},
   "outputs": [],
   "source": [
    "cols = ['pn_num', \n",
    "       'pn_history_preprocessed', \n",
    "       'ground_truth_annotation',\n",
    "       'prediction']\n",
    "evaluation = evaluation[cols]"
   ]
  },
  {
   "cell_type": "markdown",
   "id": "2a0623b6",
   "metadata": {},
   "source": [
    "## Evaluation Phase 1 : Getting the fuzzy wuzzy score"
   ]
  },
  {
   "cell_type": "code",
   "execution_count": 14,
   "id": "3aa7ecfa",
   "metadata": {},
   "outputs": [],
   "source": [
    "def get_fuzzy_wuzzy_score(x):\n",
    "    prediction = x['prediction']\n",
    "    label = x['ground_truth_annotation']\n",
    "    return fuzz.partial_ratio(prediction, label)\n",
    "\n",
    "evaluation['score'] = evaluation.apply(lambda x: get_fuzzy_wuzzy_score(x), axis=1)"
   ]
  },
  {
   "cell_type": "code",
   "execution_count": 15,
   "id": "2d446426",
   "metadata": {},
   "outputs": [
    {
     "data": {
      "text/plain": [
       "<AxesSubplot:xlabel='score'>"
      ]
     },
     "execution_count": 15,
     "metadata": {},
     "output_type": "execute_result"
    },
    {
     "data": {
      "image/png": "[encoded data removed]",
      "text/plain": [
       "<Figure size 432x288 with 1 Axes>"
      ]
     },
     "metadata": {
      "needs_background": "light"
     },
     "output_type": "display_data"
    }
   ],
   "source": [
    "sns.distplot(evaluation.score)"
   ]
  },
  {
   "cell_type": "markdown",
   "id": "34cabb89",
   "metadata": {},
   "source": [
    "## Precision"
   ]
  },
  {
   "cell_type": "code",
   "execution_count": 16,
   "id": "56ad7bb3",
   "metadata": {},
   "outputs": [],
   "source": [
    "def relevance(x, threshold):\n",
    "    all_predictions = x.groupby(['prediction']).agg({'score': 'max'}).reset_index()\n",
    "    found_predictions = len(all_predictions[all_predictions['score'] >= threshold])\n",
    "    return found_predictions, len(all_predictions)"
   ]
  },
  {
   "cell_type": "code",
   "execution_count": 17,
   "id": "e04ba0a3",
   "metadata": {},
   "outputs": [],
   "source": [
    "threshold_values = [10, 20, 30, 40, 50, 60, 70, 80, 90, 100]\n",
    "all_relevant_predictions = pd.DataFrame()\n",
    "\n",
    "for threshold_val in threshold_values:\n",
    "    relevant_predictions = evaluation.groupby(['pn_num']).apply(lambda x: relevance(x, threshold=threshold_val))\n",
    "    relevant_predictions = relevant_predictions.reset_index()\n",
    "    relevant_predictions = pd.DataFrame(relevant_predictions[0].tolist(), index=relevant_predictions.pn_num)\\\n",
    "                            .rename(columns={0:f'found_labels', 1:f'total_predictions'})\\\n",
    "                            .reset_index()\n",
    "    relevant_predictions[f'precision'] = relevant_predictions[f'found_labels'] / relevant_predictions[f'total_predictions']\n",
    "    relevant_predictions['threshold'] = threshold_val\n",
    "    all_relevant_predictions = pd.concat([all_relevant_predictions, relevant_predictions], axis=0)"
   ]
  },
  {
   "cell_type": "markdown",
   "id": "becc8d17",
   "metadata": {},
   "source": [
    "## Recall"
   ]
  },
  {
   "cell_type": "code",
   "execution_count": 18,
   "id": "2f0e26da",
   "metadata": {},
   "outputs": [],
   "source": [
    "def retrieval(x, threshold):\n",
    "    all_labels = x.groupby(['ground_truth_annotation']).agg({'score': 'max'}).reset_index()\n",
    "    found_labels = len(all_labels[all_labels['score'] >= threshold])\n",
    "    total_predictions = x['prediction'].nunique()\n",
    "    \n",
    "    return found_labels, len(all_labels)"
   ]
  },
  {
   "cell_type": "code",
   "execution_count": 19,
   "id": "2ed59f6e",
   "metadata": {},
   "outputs": [],
   "source": [
    "threshold_values = [10, 20, 30, 40, 50, 60, 70, 80, 90, 100]\n",
    "all_retrieved_predictions = pd.DataFrame()\n",
    "\n",
    "for threshold_val in threshold_values:\n",
    "    retrieved_labels = evaluation.groupby(['pn_num']).apply(lambda x: retrieval(x, threshold=threshold_val))\n",
    "    retrieved_labels = retrieved_labels.reset_index()\n",
    "    retrieved_labels = pd.DataFrame(retrieved_labels[0].tolist(), index=retrieved_labels.pn_num)\\\n",
    "                        .rename(columns={0:f'found_predictions', 1:f'total_labels'})\\\n",
    "                        .reset_index()\n",
    "    retrieved_labels['recall'] = retrieved_labels[f'found_predictions'] / retrieved_labels[f'total_labels']\n",
    "    retrieved_labels['threshold'] = threshold_val\n",
    "    all_retrieved_predictions = pd.concat([all_retrieved_predictions, retrieved_labels], axis=0)"
   ]
  },
  {
   "cell_type": "code",
   "execution_count": 20,
   "id": "1904736a",
   "metadata": {},
   "outputs": [
    {
     "data": {
      "text/html": [
       "<div>\n",
       "<style scoped>\n",
       "    .dataframe tbody tr th:only-of-type {\n",
       "        vertical-align: middle;\n",
       "    }\n",
       "\n",
       "    .dataframe tbody tr th {\n",
       "        vertical-align: top;\n",
       "    }\n",
       "\n",
       "    .dataframe thead th {\n",
       "        text-align: right;\n",
       "    }\n",
       "</style>\n",
       "<table border=\"1\" class=\"dataframe\">\n",
       "  <thead>\n",
       "    <tr style=\"text-align: right;\">\n",
       "      <th></th>\n",
       "      <th>pn_num</th>\n",
       "      <th>threshold</th>\n",
       "      <th>total_labels</th>\n",
       "      <th>total_predictions</th>\n",
       "      <th>found_labels</th>\n",
       "      <th>found_predictions</th>\n",
       "      <th>recall</th>\n",
       "      <th>precision</th>\n",
       "      <th>f1_score</th>\n",
       "    </tr>\n",
       "  </thead>\n",
       "  <tbody>\n",
       "    <tr>\n",
       "      <th>0</th>\n",
       "      <td>16</td>\n",
       "      <td>10</td>\n",
       "      <td>13</td>\n",
       "      <td>4</td>\n",
       "      <td>4</td>\n",
       "      <td>12</td>\n",
       "      <td>0.923077</td>\n",
       "      <td>1.0</td>\n",
       "      <td>0.960000</td>\n",
       "    </tr>\n",
       "    <tr>\n",
       "      <th>1</th>\n",
       "      <td>41</td>\n",
       "      <td>10</td>\n",
       "      <td>9</td>\n",
       "      <td>4</td>\n",
       "      <td>4</td>\n",
       "      <td>7</td>\n",
       "      <td>0.777778</td>\n",
       "      <td>1.0</td>\n",
       "      <td>0.875000</td>\n",
       "    </tr>\n",
       "    <tr>\n",
       "      <th>2</th>\n",
       "      <td>46</td>\n",
       "      <td>10</td>\n",
       "      <td>12</td>\n",
       "      <td>2</td>\n",
       "      <td>2</td>\n",
       "      <td>10</td>\n",
       "      <td>0.833333</td>\n",
       "      <td>1.0</td>\n",
       "      <td>0.909091</td>\n",
       "    </tr>\n",
       "    <tr>\n",
       "      <th>3</th>\n",
       "      <td>82</td>\n",
       "      <td>10</td>\n",
       "      <td>13</td>\n",
       "      <td>3</td>\n",
       "      <td>3</td>\n",
       "      <td>12</td>\n",
       "      <td>0.923077</td>\n",
       "      <td>1.0</td>\n",
       "      <td>0.960000</td>\n",
       "    </tr>\n",
       "    <tr>\n",
       "      <th>4</th>\n",
       "      <td>100</td>\n",
       "      <td>10</td>\n",
       "      <td>10</td>\n",
       "      <td>3</td>\n",
       "      <td>3</td>\n",
       "      <td>10</td>\n",
       "      <td>1.000000</td>\n",
       "      <td>1.0</td>\n",
       "      <td>1.000000</td>\n",
       "    </tr>\n",
       "    <tr>\n",
       "      <th>...</th>\n",
       "      <td>...</td>\n",
       "      <td>...</td>\n",
       "      <td>...</td>\n",
       "      <td>...</td>\n",
       "      <td>...</td>\n",
       "      <td>...</td>\n",
       "      <td>...</td>\n",
       "      <td>...</td>\n",
       "      <td>...</td>\n",
       "    </tr>\n",
       "    <tr>\n",
       "      <th>9995</th>\n",
       "      <td>95145</td>\n",
       "      <td>100</td>\n",
       "      <td>12</td>\n",
       "      <td>3</td>\n",
       "      <td>0</td>\n",
       "      <td>0</td>\n",
       "      <td>0.000000</td>\n",
       "      <td>0.0</td>\n",
       "      <td>NaN</td>\n",
       "    </tr>\n",
       "    <tr>\n",
       "      <th>9996</th>\n",
       "      <td>95228</td>\n",
       "      <td>100</td>\n",
       "      <td>7</td>\n",
       "      <td>5</td>\n",
       "      <td>2</td>\n",
       "      <td>1</td>\n",
       "      <td>0.142857</td>\n",
       "      <td>0.4</td>\n",
       "      <td>0.210526</td>\n",
       "    </tr>\n",
       "    <tr>\n",
       "      <th>9997</th>\n",
       "      <td>95243</td>\n",
       "      <td>100</td>\n",
       "      <td>10</td>\n",
       "      <td>3</td>\n",
       "      <td>0</td>\n",
       "      <td>0</td>\n",
       "      <td>0.000000</td>\n",
       "      <td>0.0</td>\n",
       "      <td>NaN</td>\n",
       "    </tr>\n",
       "    <tr>\n",
       "      <th>9998</th>\n",
       "      <td>95330</td>\n",
       "      <td>100</td>\n",
       "      <td>16</td>\n",
       "      <td>2</td>\n",
       "      <td>0</td>\n",
       "      <td>0</td>\n",
       "      <td>0.000000</td>\n",
       "      <td>0.0</td>\n",
       "      <td>NaN</td>\n",
       "    </tr>\n",
       "    <tr>\n",
       "      <th>9999</th>\n",
       "      <td>95333</td>\n",
       "      <td>100</td>\n",
       "      <td>11</td>\n",
       "      <td>2</td>\n",
       "      <td>2</td>\n",
       "      <td>1</td>\n",
       "      <td>0.090909</td>\n",
       "      <td>1.0</td>\n",
       "      <td>0.166667</td>\n",
       "    </tr>\n",
       "  </tbody>\n",
       "</table>\n",
       "<p>10000 rows × 9 columns</p>\n",
       "</div>"
      ],
      "text/plain": [
       "      pn_num  threshold  total_labels  total_predictions  found_labels  \\\n",
       "0         16         10            13                  4             4   \n",
       "1         41         10             9                  4             4   \n",
       "2         46         10            12                  2             2   \n",
       "3         82         10            13                  3             3   \n",
       "4        100         10            10                  3             3   \n",
       "...      ...        ...           ...                ...           ...   \n",
       "9995   95145        100            12                  3             0   \n",
       "9996   95228        100             7                  5             2   \n",
       "9997   95243        100            10                  3             0   \n",
       "9998   95330        100            16                  2             0   \n",
       "9999   95333        100            11                  2             2   \n",
       "\n",
       "      found_predictions    recall  precision  f1_score  \n",
       "0                    12  0.923077        1.0  0.960000  \n",
       "1                     7  0.777778        1.0  0.875000  \n",
       "2                    10  0.833333        1.0  0.909091  \n",
       "3                    12  0.923077        1.0  0.960000  \n",
       "4                    10  1.000000        1.0  1.000000  \n",
       "...                 ...       ...        ...       ...  \n",
       "9995                  0  0.000000        0.0       NaN  \n",
       "9996                  1  0.142857        0.4  0.210526  \n",
       "9997                  0  0.000000        0.0       NaN  \n",
       "9998                  0  0.000000        0.0       NaN  \n",
       "9999                  1  0.090909        1.0  0.166667  \n",
       "\n",
       "[10000 rows x 9 columns]"
      ]
     },
     "execution_count": 20,
     "metadata": {},
     "output_type": "execute_result"
    }
   ],
   "source": [
    "evaluation_df = all_retrieved_predictions.merge(all_relevant_predictions, how='left', on=['pn_num', 'threshold'])\n",
    "evaluation_df = evaluation_df[['pn_num', 'threshold', 'total_labels', 'total_predictions', 'found_labels', 'found_predictions', 'recall', 'precision']]\n",
    "\n",
    "evaluation_df['f1_score'] = 2 * (evaluation_df['recall'] * evaluation_df['precision']) / (evaluation_df['recall'] + evaluation_df['precision'])\n",
    "evaluation_df"
   ]
  },
  {
   "cell_type": "code",
   "execution_count": 21,
   "id": "8632e6dc",
   "metadata": {},
   "outputs": [
    {
     "data": {
      "text/html": [
       "<div>\n",
       "<style scoped>\n",
       "    .dataframe tbody tr th:only-of-type {\n",
       "        vertical-align: middle;\n",
       "    }\n",
       "\n",
       "    .dataframe tbody tr th {\n",
       "        vertical-align: top;\n",
       "    }\n",
       "\n",
       "    .dataframe thead th {\n",
       "        text-align: right;\n",
       "    }\n",
       "</style>\n",
       "<table border=\"1\" class=\"dataframe\">\n",
       "  <thead>\n",
       "    <tr style=\"text-align: right;\">\n",
       "      <th></th>\n",
       "      <th>pn_num</th>\n",
       "      <th>threshold</th>\n",
       "      <th>total_labels</th>\n",
       "      <th>total_predictions</th>\n",
       "      <th>found_labels</th>\n",
       "      <th>found_predictions</th>\n",
       "      <th>recall</th>\n",
       "      <th>precision</th>\n",
       "      <th>f1_score</th>\n",
       "    </tr>\n",
       "  </thead>\n",
       "  <tbody>\n",
       "    <tr>\n",
       "      <th>0</th>\n",
       "      <td>16</td>\n",
       "      <td>10</td>\n",
       "      <td>13</td>\n",
       "      <td>4</td>\n",
       "      <td>4</td>\n",
       "      <td>12</td>\n",
       "      <td>0.923077</td>\n",
       "      <td>1.0</td>\n",
       "      <td>0.960000</td>\n",
       "    </tr>\n",
       "    <tr>\n",
       "      <th>1000</th>\n",
       "      <td>16</td>\n",
       "      <td>20</td>\n",
       "      <td>13</td>\n",
       "      <td>4</td>\n",
       "      <td>4</td>\n",
       "      <td>12</td>\n",
       "      <td>0.923077</td>\n",
       "      <td>1.0</td>\n",
       "      <td>0.960000</td>\n",
       "    </tr>\n",
       "    <tr>\n",
       "      <th>2000</th>\n",
       "      <td>16</td>\n",
       "      <td>30</td>\n",
       "      <td>13</td>\n",
       "      <td>4</td>\n",
       "      <td>4</td>\n",
       "      <td>11</td>\n",
       "      <td>0.846154</td>\n",
       "      <td>1.0</td>\n",
       "      <td>0.916667</td>\n",
       "    </tr>\n",
       "    <tr>\n",
       "      <th>3000</th>\n",
       "      <td>16</td>\n",
       "      <td>40</td>\n",
       "      <td>13</td>\n",
       "      <td>4</td>\n",
       "      <td>4</td>\n",
       "      <td>8</td>\n",
       "      <td>0.615385</td>\n",
       "      <td>1.0</td>\n",
       "      <td>0.761905</td>\n",
       "    </tr>\n",
       "    <tr>\n",
       "      <th>4000</th>\n",
       "      <td>16</td>\n",
       "      <td>50</td>\n",
       "      <td>13</td>\n",
       "      <td>4</td>\n",
       "      <td>2</td>\n",
       "      <td>3</td>\n",
       "      <td>0.230769</td>\n",
       "      <td>0.5</td>\n",
       "      <td>0.315789</td>\n",
       "    </tr>\n",
       "    <tr>\n",
       "      <th>5000</th>\n",
       "      <td>16</td>\n",
       "      <td>60</td>\n",
       "      <td>13</td>\n",
       "      <td>4</td>\n",
       "      <td>0</td>\n",
       "      <td>0</td>\n",
       "      <td>0.000000</td>\n",
       "      <td>0.0</td>\n",
       "      <td>NaN</td>\n",
       "    </tr>\n",
       "    <tr>\n",
       "      <th>6000</th>\n",
       "      <td>16</td>\n",
       "      <td>70</td>\n",
       "      <td>13</td>\n",
       "      <td>4</td>\n",
       "      <td>0</td>\n",
       "      <td>0</td>\n",
       "      <td>0.000000</td>\n",
       "      <td>0.0</td>\n",
       "      <td>NaN</td>\n",
       "    </tr>\n",
       "    <tr>\n",
       "      <th>7000</th>\n",
       "      <td>16</td>\n",
       "      <td>80</td>\n",
       "      <td>13</td>\n",
       "      <td>4</td>\n",
       "      <td>0</td>\n",
       "      <td>0</td>\n",
       "      <td>0.000000</td>\n",
       "      <td>0.0</td>\n",
       "      <td>NaN</td>\n",
       "    </tr>\n",
       "    <tr>\n",
       "      <th>8000</th>\n",
       "      <td>16</td>\n",
       "      <td>90</td>\n",
       "      <td>13</td>\n",
       "      <td>4</td>\n",
       "      <td>0</td>\n",
       "      <td>0</td>\n",
       "      <td>0.000000</td>\n",
       "      <td>0.0</td>\n",
       "      <td>NaN</td>\n",
       "    </tr>\n",
       "    <tr>\n",
       "      <th>9000</th>\n",
       "      <td>16</td>\n",
       "      <td>100</td>\n",
       "      <td>13</td>\n",
       "      <td>4</td>\n",
       "      <td>0</td>\n",
       "      <td>0</td>\n",
       "      <td>0.000000</td>\n",
       "      <td>0.0</td>\n",
       "      <td>NaN</td>\n",
       "    </tr>\n",
       "  </tbody>\n",
       "</table>\n",
       "</div>"
      ],
      "text/plain": [
       "      pn_num  threshold  total_labels  total_predictions  found_labels  \\\n",
       "0         16         10            13                  4             4   \n",
       "1000      16         20            13                  4             4   \n",
       "2000      16         30            13                  4             4   \n",
       "3000      16         40            13                  4             4   \n",
       "4000      16         50            13                  4             2   \n",
       "5000      16         60            13                  4             0   \n",
       "6000      16         70            13                  4             0   \n",
       "7000      16         80            13                  4             0   \n",
       "8000      16         90            13                  4             0   \n",
       "9000      16        100            13                  4             0   \n",
       "\n",
       "      found_predictions    recall  precision  f1_score  \n",
       "0                    12  0.923077        1.0  0.960000  \n",
       "1000                 12  0.923077        1.0  0.960000  \n",
       "2000                 11  0.846154        1.0  0.916667  \n",
       "3000                  8  0.615385        1.0  0.761905  \n",
       "4000                  3  0.230769        0.5  0.315789  \n",
       "5000                  0  0.000000        0.0       NaN  \n",
       "6000                  0  0.000000        0.0       NaN  \n",
       "7000                  0  0.000000        0.0       NaN  \n",
       "8000                  0  0.000000        0.0       NaN  \n",
       "9000                  0  0.000000        0.0       NaN  "
      ]
     },
     "execution_count": 21,
     "metadata": {},
     "output_type": "execute_result"
    }
   ],
   "source": [
    "evaluation_df[evaluation_df.pn_num==16]"
   ]
  },
  {
   "cell_type": "code",
   "execution_count": 22,
   "id": "73b179f0",
   "metadata": {},
   "outputs": [],
   "source": [
    "biomedical_ner_all_evaluation = evaluation_df.merge(test,on=\"pn_num\",how=\"left\")"
   ]
  },
  {
   "cell_type": "code",
   "execution_count": 23,
   "id": "25139f46",
   "metadata": {},
   "outputs": [],
   "source": [
    "biomedical_ner_all_evaluation.to_csv(\"biomedical_ner_all_evaluation.csv\", index=False)"
   ]
  },
  {
   "cell_type": "code",
   "execution_count": 24,
   "id": "5070151c",
   "metadata": {},
   "outputs": [],
   "source": [
    "evaluation_df.to_csv(\"biomedical_ner_all_evaluation_scores.csv\",index=False)"
   ]
  },
  {
   "cell_type": "code",
   "execution_count": 1,
   "id": "36a4fb2a",
   "metadata": {},
   "outputs": [],
   "source": [
    "import pandas as pd\n",
    "evaluation = pd.read_csv(\"biomedical_ner_all_evaluation_scores.csv\")"
   ]
  },
  {
   "cell_type": "code",
   "execution_count": 2,
   "id": "c7f6dcb8",
   "metadata": {},
   "outputs": [
    {
     "data": {
      "text/html": [
       "<div>\n",
       "<style scoped>\n",
       "    .dataframe tbody tr th:only-of-type {\n",
       "        vertical-align: middle;\n",
       "    }\n",
       "\n",
       "    .dataframe tbody tr th {\n",
       "        vertical-align: top;\n",
       "    }\n",
       "\n",
       "    .dataframe thead th {\n",
       "        text-align: right;\n",
       "    }\n",
       "</style>\n",
       "<table border=\"1\" class=\"dataframe\">\n",
       "  <thead>\n",
       "    <tr style=\"text-align: right;\">\n",
       "      <th></th>\n",
       "      <th>pn_num</th>\n",
       "      <th>threshold</th>\n",
       "      <th>total_labels</th>\n",
       "      <th>total_predictions</th>\n",
       "      <th>found_labels</th>\n",
       "      <th>found_predictions</th>\n",
       "      <th>recall</th>\n",
       "      <th>precision</th>\n",
       "      <th>f1_score</th>\n",
       "    </tr>\n",
       "  </thead>\n",
       "  <tbody>\n",
       "    <tr>\n",
       "      <th>999</th>\n",
       "      <td>95333</td>\n",
       "      <td>10</td>\n",
       "      <td>11</td>\n",
       "      <td>2</td>\n",
       "      <td>2</td>\n",
       "      <td>11</td>\n",
       "      <td>1.000000</td>\n",
       "      <td>1.0</td>\n",
       "      <td>1.000000</td>\n",
       "    </tr>\n",
       "    <tr>\n",
       "      <th>1999</th>\n",
       "      <td>95333</td>\n",
       "      <td>20</td>\n",
       "      <td>11</td>\n",
       "      <td>2</td>\n",
       "      <td>2</td>\n",
       "      <td>10</td>\n",
       "      <td>0.909091</td>\n",
       "      <td>1.0</td>\n",
       "      <td>0.952381</td>\n",
       "    </tr>\n",
       "    <tr>\n",
       "      <th>2999</th>\n",
       "      <td>95333</td>\n",
       "      <td>30</td>\n",
       "      <td>11</td>\n",
       "      <td>2</td>\n",
       "      <td>2</td>\n",
       "      <td>8</td>\n",
       "      <td>0.727273</td>\n",
       "      <td>1.0</td>\n",
       "      <td>0.842105</td>\n",
       "    </tr>\n",
       "    <tr>\n",
       "      <th>3999</th>\n",
       "      <td>95333</td>\n",
       "      <td>40</td>\n",
       "      <td>11</td>\n",
       "      <td>2</td>\n",
       "      <td>2</td>\n",
       "      <td>3</td>\n",
       "      <td>0.272727</td>\n",
       "      <td>1.0</td>\n",
       "      <td>0.428571</td>\n",
       "    </tr>\n",
       "    <tr>\n",
       "      <th>4999</th>\n",
       "      <td>95333</td>\n",
       "      <td>50</td>\n",
       "      <td>11</td>\n",
       "      <td>2</td>\n",
       "      <td>2</td>\n",
       "      <td>3</td>\n",
       "      <td>0.272727</td>\n",
       "      <td>1.0</td>\n",
       "      <td>0.428571</td>\n",
       "    </tr>\n",
       "    <tr>\n",
       "      <th>5999</th>\n",
       "      <td>95333</td>\n",
       "      <td>60</td>\n",
       "      <td>11</td>\n",
       "      <td>2</td>\n",
       "      <td>2</td>\n",
       "      <td>1</td>\n",
       "      <td>0.090909</td>\n",
       "      <td>1.0</td>\n",
       "      <td>0.166667</td>\n",
       "    </tr>\n",
       "    <tr>\n",
       "      <th>6999</th>\n",
       "      <td>95333</td>\n",
       "      <td>70</td>\n",
       "      <td>11</td>\n",
       "      <td>2</td>\n",
       "      <td>2</td>\n",
       "      <td>1</td>\n",
       "      <td>0.090909</td>\n",
       "      <td>1.0</td>\n",
       "      <td>0.166667</td>\n",
       "    </tr>\n",
       "    <tr>\n",
       "      <th>7999</th>\n",
       "      <td>95333</td>\n",
       "      <td>80</td>\n",
       "      <td>11</td>\n",
       "      <td>2</td>\n",
       "      <td>2</td>\n",
       "      <td>1</td>\n",
       "      <td>0.090909</td>\n",
       "      <td>1.0</td>\n",
       "      <td>0.166667</td>\n",
       "    </tr>\n",
       "    <tr>\n",
       "      <th>8999</th>\n",
       "      <td>95333</td>\n",
       "      <td>90</td>\n",
       "      <td>11</td>\n",
       "      <td>2</td>\n",
       "      <td>2</td>\n",
       "      <td>1</td>\n",
       "      <td>0.090909</td>\n",
       "      <td>1.0</td>\n",
       "      <td>0.166667</td>\n",
       "    </tr>\n",
       "    <tr>\n",
       "      <th>9999</th>\n",
       "      <td>95333</td>\n",
       "      <td>100</td>\n",
       "      <td>11</td>\n",
       "      <td>2</td>\n",
       "      <td>2</td>\n",
       "      <td>1</td>\n",
       "      <td>0.090909</td>\n",
       "      <td>1.0</td>\n",
       "      <td>0.166667</td>\n",
       "    </tr>\n",
       "  </tbody>\n",
       "</table>\n",
       "</div>"
      ],
      "text/plain": [
       "      pn_num  threshold  total_labels  total_predictions  found_labels  \\\n",
       "999    95333         10            11                  2             2   \n",
       "1999   95333         20            11                  2             2   \n",
       "2999   95333         30            11                  2             2   \n",
       "3999   95333         40            11                  2             2   \n",
       "4999   95333         50            11                  2             2   \n",
       "5999   95333         60            11                  2             2   \n",
       "6999   95333         70            11                  2             2   \n",
       "7999   95333         80            11                  2             2   \n",
       "8999   95333         90            11                  2             2   \n",
       "9999   95333        100            11                  2             2   \n",
       "\n",
       "      found_predictions    recall  precision  f1_score  \n",
       "999                  11  1.000000        1.0  1.000000  \n",
       "1999                 10  0.909091        1.0  0.952381  \n",
       "2999                  8  0.727273        1.0  0.842105  \n",
       "3999                  3  0.272727        1.0  0.428571  \n",
       "4999                  3  0.272727        1.0  0.428571  \n",
       "5999                  1  0.090909        1.0  0.166667  \n",
       "6999                  1  0.090909        1.0  0.166667  \n",
       "7999                  1  0.090909        1.0  0.166667  \n",
       "8999                  1  0.090909        1.0  0.166667  \n",
       "9999                  1  0.090909        1.0  0.166667  "
      ]
     },
     "execution_count": 2,
     "metadata": {},
     "output_type": "execute_result"
    }
   ],
   "source": [
    "evaluation[(evaluation.pn_num == 95333)]"
   ]
  }
 ],
 "metadata": {
  "kernelspec": {
   "display_name": "Python 3 (ipykernel)",
   "language": "python",
   "name": "python3"
  },
  "language_info": {
   "codemirror_mode": {
    "name": "ipython",
    "version": 3
   },
   "file_extension": ".py",
   "mimetype": "text/x-python",
   "name": "python",
   "nbconvert_exporter": "python",
   "pygments_lexer": "ipython3",
   "version": "3.10.10"
  }
 },
 "nbformat": 4,
 "nbformat_minor": 5
}
