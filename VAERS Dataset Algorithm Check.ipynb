{
 "cells": [
  {
   "cell_type": "code",
   "execution_count": 1,
   "id": "8d74d707",
   "metadata": {},
   "outputs": [
    {
     "name": "stderr",
     "output_type": "stream",
     "text": [
      "[nltk_data] Downloading package wordnet to\n",
      "[nltk_data]     /Users/aishwariyagupta/nltk_data...\n",
      "[nltk_data]   Package wordnet is already up-to-date!\n",
      "[nltk_data] Downloading package omw-1.4 to\n",
      "[nltk_data]     /Users/aishwariyagupta/nltk_data...\n",
      "[nltk_data]   Package omw-1.4 is already up-to-date!\n"
     ]
    }
   ],
   "source": [
    "import pandas as pd\n",
    "import numpy as np\n",
    "pd.set_option('display.max_columns', 999)\n",
    "pd.set_option('display.max_rows', 999)\n",
    "from tqdm import tqdm\n",
    "import contractions\n",
    "import nltk\n",
    "import string\n",
    "\n",
    "\n",
    "from nltk.stem import WordNetLemmatizer\n",
    "lemmatizer = WordNetLemmatizer()\n",
    "nltk.download('wordnet')\n",
    "nltk.download('omw-1.4')\n",
    "import pkg_resources\n",
    "#from symspellpy import SymSpell, Verbosity\n",
    "import re"
   ]
  },
  {
   "cell_type": "markdown",
   "id": "34919656",
   "metadata": {},
   "source": [
    "## Reading VAERS data file "
   ]
  },
  {
   "cell_type": "code",
   "execution_count": 2,
   "id": "4a3cd0a4",
   "metadata": {},
   "outputs": [
    {
     "name": "stderr",
     "output_type": "stream",
     "text": [
      "/var/folders/_l/b6xwsf494bjcy6h68bqlx5jh0000gn/T/ipykernel_1634/3593954213.py:1: DtypeWarning: Columns (12) have mixed types. Specify dtype option on import or set low_memory=False.\n",
      "  vaersdata = pd.read_csv('../Datasets/2023VAERSData/2023VAERSDATA.csv', encoding= 'unicode_escape')\n"
     ]
    }
   ],
   "source": [
    "vaersdata = pd.read_csv('../Datasets/2023VAERSData/2023VAERSDATA.csv', encoding= 'unicode_escape')\n",
    "vaersdata_SYMPTOMS = pd.read_csv('../Datasets/2023VAERSData/2023VAERSSYMPTOMS.csv')\n",
    "vaersdata_VAX = pd.read_csv('../Datasets/2023VAERSData/2023VAERSVAX.csv')"
   ]
  },
  {
   "cell_type": "code",
   "execution_count": 3,
   "id": "5fb90168",
   "metadata": {},
   "outputs": [
    {
     "data": {
      "text/plain": [
       "(19992, 35)"
      ]
     },
     "execution_count": 3,
     "metadata": {},
     "output_type": "execute_result"
    }
   ],
   "source": [
    "vaersdata.shape"
   ]
  },
  {
   "cell_type": "markdown",
   "id": "341d45f4",
   "metadata": {},
   "source": [
    "### Choosign columns of interest in order to combine them to a single text column. The columns of interest are Symptom Text, Lab Data, Cur Ill, History. These are combined together to create a column called feature text "
   ]
  },
  {
   "cell_type": "code",
   "execution_count": 4,
   "id": "bbdba7a8",
   "metadata": {},
   "outputs": [],
   "source": [
    "# SYMPTOM_TEXT,LAB_DATA, CUR_ILL, HISTORY - take\n",
    "# anything more ? OTHER_MEDS, PRIOR_VAX, ALLERGIES \n",
    "#other med mostly contains the medication names from \n",
    "\n",
    "def collect_text(x):\n",
    "    feature_string = ['']\n",
    "    \n",
    "    if not pd.isnull(x['SYMPTOM_TEXT']):\n",
    "        feature_string += [x['SYMPTOM_TEXT']]\n",
    "    \n",
    "    if not pd.isnull(x['LAB_DATA']):\n",
    "        feature_string += [x['LAB_DATA']]\n",
    "    \n",
    "    if not pd.isnull(x['CUR_ILL']):\n",
    "        feature_string += [x['CUR_ILL']]\n",
    "        \n",
    "    if not pd.isnull(x['HISTORY']):\n",
    "        feature_string += [x['HISTORY']]\n",
    "        \n",
    "    return ' '.join(feature_string)\n",
    "\n",
    "vaersdata['feature_text'] = vaersdata.apply(lambda x: collect_text(x), axis=1)"
   ]
  },
  {
   "cell_type": "markdown",
   "id": "46a721e3",
   "metadata": {},
   "source": [
    "## Taking ground truth annoations from the Symptoms File"
   ]
  },
  {
   "cell_type": "code",
   "execution_count": 5,
   "id": "c14c0cec",
   "metadata": {},
   "outputs": [],
   "source": [
    "def collect_ground_truth(x):\n",
    "    ground_truth_string = []\n",
    "    gt_string = x['SYMPTOM1'].tolist() + x['SYMPTOM2'].tolist() + x['SYMPTOM3'].tolist() + x['SYMPTOM4'].tolist() + x['SYMPTOM5'].tolist()\n",
    "        \n",
    "    for gt in gt_string:\n",
    "        if not pd.isnull(gt):\n",
    "            ground_truth_string.append(gt)    \n",
    "    return '. '.join(ground_truth_string)\n",
    "\n",
    "vaersdata['ground_truth_annotation'] = vaersdata_SYMPTOMS.groupby('VAERS_ID').apply(lambda x: collect_ground_truth(x))"
   ]
  },
  {
   "cell_type": "markdown",
   "id": "6b61f6dc",
   "metadata": {},
   "source": [
    "## Pre-processing the text column to clean it "
   ]
  },
  {
   "cell_type": "code",
   "execution_count": 6,
   "id": "26715351",
   "metadata": {},
   "outputs": [],
   "source": [
    "vaersdata[\"pn_history_lower\"] = vaersdata[\"feature_text\"].str.lower()\n",
    "regex = re.compile(r'<[^>]+>')\n",
    "vaersdata[\"pn_history_noContractions\"] = vaersdata[\"pn_history_lower\"].apply(contractions.fix)\n",
    "\n",
    "def remove_unicode_chars(text):\n",
    "    text = text.encode(\"ascii\", \"ignore\").decode()\n",
    "    return text\n",
    "vaersdata[\"pn_history_noUnicode\"] = vaersdata[\"pn_history_noContractions\"].apply(remove_unicode_chars)\n",
    "\n",
    "def remove_punctuations(text):\n",
    "    text = re.sub('[%s]' % re.escape(string.punctuation), \" \",text)\n",
    "    return text\n",
    "vaersdata[\"pn_history_noPuncts\"] = vaersdata[\"pn_history_noUnicode\"].apply(remove_punctuations)\n",
    "\n",
    "def remove_extra_spaces(text):\n",
    "    text = re.sub(' +', ' ', text).strip()\n",
    "    return text\n",
    "vaersdata[\"pn_history_noES\"] = vaersdata[\"pn_history_noPuncts\"].apply(remove_extra_spaces)\n",
    "def lemmatize_text(text):\n",
    "    words = [lemmatizer.lemmatize(word) for word in text.split()]\n",
    "    text = ' '.join(words)\n",
    "    return text\n",
    "vaersdata[\"pn_history_preprocessed\"] = vaersdata[\"pn_history_noES\"].apply(lemmatize_text)"
   ]
  },
  {
   "cell_type": "markdown",
   "id": "471e8856",
   "metadata": {},
   "source": [
    "### Selecting 10,000 records to run the developed algorithm on this dataset"
   ]
  },
  {
   "cell_type": "code",
   "execution_count": 8,
   "id": "34b5a4de",
   "metadata": {},
   "outputs": [],
   "source": [
    "vaersdata_sample = vaersdata[:10000]"
   ]
  },
  {
   "cell_type": "markdown",
   "id": "f8223026",
   "metadata": {},
   "source": [
    "## KeyBERT models with custom embedding models selected after analysing the EvaluationOfModels.ipynb file"
   ]
  },
  {
   "cell_type": "code",
   "execution_count": 11,
   "id": "59caeca3",
   "metadata": {},
   "outputs": [
    {
     "name": "stderr",
     "output_type": "stream",
     "text": [
      "No sentence-transformers model found with name /Users/aishwariyagupta/.cache/torch/sentence_transformers/emilyalsentzer_Bio_ClinicalBERT. Creating a new one with MEAN pooling.\n",
      "Some weights of the model checkpoint at /Users/aishwariyagupta/.cache/torch/sentence_transformers/emilyalsentzer_Bio_ClinicalBERT were not used when initializing BertModel: ['cls.predictions.transform.dense.bias', 'cls.predictions.transform.LayerNorm.bias', 'cls.predictions.decoder.weight', 'cls.seq_relationship.bias', 'cls.seq_relationship.weight', 'cls.predictions.transform.LayerNorm.weight', 'cls.predictions.transform.dense.weight', 'cls.predictions.bias']\n",
      "- This IS expected if you are initializing BertModel from the checkpoint of a model trained on another task or with another architecture (e.g. initializing a BertForSequenceClassification model from a BertForPreTraining model).\n",
      "- This IS NOT expected if you are initializing BertModel from the checkpoint of a model that you expect to be exactly identical (initializing a BertForSequenceClassification model from a BertForSequenceClassification model).\n",
      "No sentence-transformers model found with name /Users/aishwariyagupta/.cache/torch/sentence_transformers/microsoft_BiomedNLP-PubMedBERT-base-uncased-abstract-fulltext. Creating a new one with MEAN pooling.\n",
      "Some weights of the model checkpoint at /Users/aishwariyagupta/.cache/torch/sentence_transformers/microsoft_BiomedNLP-PubMedBERT-base-uncased-abstract-fulltext were not used when initializing BertModel: ['cls.predictions.transform.dense.bias', 'cls.predictions.transform.LayerNorm.bias', 'cls.predictions.decoder.weight', 'cls.seq_relationship.bias', 'cls.predictions.decoder.bias', 'cls.seq_relationship.weight', 'cls.predictions.transform.LayerNorm.weight', 'cls.predictions.transform.dense.weight', 'cls.predictions.bias']\n",
      "- This IS expected if you are initializing BertModel from the checkpoint of a model trained on another task or with another architecture (e.g. initializing a BertForSequenceClassification model from a BertForPreTraining model).\n",
      "- This IS NOT expected if you are initializing BertModel from the checkpoint of a model that you expect to be exactly identical (initializing a BertForSequenceClassification model from a BertForSequenceClassification model).\n"
     ]
    }
   ],
   "source": [
    "from keybert import KeyBERT\n",
    "distilroberta = KeyBERT(model=\"all-distilroberta-v1\")\n",
    "bioclinical_bert = KeyBERT(model=\"emilyalsentzer/Bio_ClinicalBERT\")\n",
    "biomedNLP = KeyBERT(model=\"microsoft/BiomedNLP-PubMedBERT-base-uncased-abstract-fulltext\")"
   ]
  },
  {
   "cell_type": "code",
   "execution_count": 12,
   "id": "8f1bdd03",
   "metadata": {},
   "outputs": [],
   "source": [
    "from datetime import datetime"
   ]
  },
  {
   "cell_type": "markdown",
   "id": "e46d42a4",
   "metadata": {},
   "source": [
    "### Implementing the Vectorisation process in order to optimze the process of extracting keywords"
   ]
  },
  {
   "cell_type": "markdown",
   "id": "5ca30cdf",
   "metadata": {},
   "source": [
    "## 2 Keywords"
   ]
  },
  {
   "cell_type": "code",
   "execution_count": 32,
   "id": "e80558f8",
   "metadata": {},
   "outputs": [],
   "source": [
    "def vec_impl(model, df):\n",
    "    return model.extract_keywords(\n",
    "                df['pn_history_preprocessed'],\n",
    "                top_n=3, \n",
    "                keyphrase_ngram_range=(1, 2),\n",
    "                use_mmr=True, \n",
    "                diversity=0.7)"
   ]
  },
  {
   "cell_type": "code",
   "execution_count": 33,
   "id": "a6bd007a",
   "metadata": {},
   "outputs": [
    {
     "data": {
      "text/plain": [
       "981"
      ]
     },
     "execution_count": 33,
     "metadata": {},
     "output_type": "execute_result"
    }
   ],
   "source": [
    "st=datetime.now()\n",
    "l_distilroberta= []\n",
    "l_distilroberta.append(vec_impl(distilroberta, vaersdata_sample))\n",
    "et=datetime.now()\n",
    "(et-st).seconds"
   ]
  },
  {
   "cell_type": "code",
   "execution_count": 13,
   "id": "fa9999d5",
   "metadata": {},
   "outputs": [
    {
     "data": {
      "text/plain": [
       "2054"
      ]
     },
     "execution_count": 13,
     "metadata": {},
     "output_type": "execute_result"
    }
   ],
   "source": [
    "st=datetime.now()\n",
    "l_bioclinical_bert= []\n",
    "l_bioclinical_bert.append(vec_impl(bioclinical_bert, vaersdata_sample))\n",
    "et=datetime.now()\n",
    "(et-st).seconds"
   ]
  },
  {
   "cell_type": "code",
   "execution_count": 14,
   "id": "6dd51740",
   "metadata": {},
   "outputs": [
    {
     "data": {
      "text/plain": [
       "1802"
      ]
     },
     "execution_count": 14,
     "metadata": {},
     "output_type": "execute_result"
    }
   ],
   "source": [
    "st=datetime.now()\n",
    "l_biomedNLP= []\n",
    "l_biomedNLP.append(vec_impl(biomedNLP, vaersdata_sample))\n",
    "et=datetime.now()\n",
    "(et-st).seconds"
   ]
  },
  {
   "cell_type": "code",
   "execution_count": 15,
   "id": "24338fa7",
   "metadata": {},
   "outputs": [],
   "source": [
    "vaersdata_sample = vaersdata_sample.reset_index(drop=True)"
   ]
  },
  {
   "cell_type": "code",
   "execution_count": 13,
   "id": "32b7af73",
   "metadata": {},
   "outputs": [],
   "source": [
    "def first_keyword(x):\n",
    "    try:\n",
    "        return x[0][0], x[0][1]\n",
    "    except:\n",
    "        return np.nan, np.nan\n",
    "\n",
    "def second_keyword(x):\n",
    "    try:\n",
    "        return x[1][0], x[1][1]\n",
    "    except:\n",
    "        return np.nan, np.nan\n",
    "\n",
    "def third_keyword(x):\n",
    "    try:\n",
    "        return x[2][0], x[2][1]\n",
    "    except:\n",
    "        return np.nan, np.nan"
   ]
  },
  {
   "cell_type": "code",
   "execution_count": 17,
   "id": "1619d40a",
   "metadata": {},
   "outputs": [],
   "source": [
    "l_distilroberta = pd.DataFrame(l_distilroberta).T\n",
    "l_distilroberta = l_distilroberta.rename(columns={0:'keywords'})\n",
    "l_distilroberta.keywords = l_distilroberta.keywords.apply(lambda x: eval(str(x)))\n",
    "\n",
    "l_distilroberta['first_keyword'], l_distilroberta['first_keyword_score'] = zip(*l_distilroberta['keywords'].apply(lambda x: first_keyword(x)))\n",
    "\n",
    "l_distilroberta['second_keyword'], l_distilroberta['second_keyword_score'] = zip(*l_distilroberta['keywords'].apply(lambda x: second_keyword(x)))\n",
    "\n",
    "l_distilroberta['third_keyword'], l_distilroberta['third_keyword_score'] = zip(*l_distilroberta['keywords'].apply(lambda x: third_keyword(x)))\n",
    "\n",
    "vaersdata_distillroberta = vaersdata_sample.join(pd.DataFrame(l_distilroberta, columns=['first_keyword','first_keyword_score' \n",
    "                                                                                        ,'second_keyword','second_keyword_score',\n",
    "                                                                                        'third_keyword','third_keyword_score']))\n"
   ]
  },
  {
   "cell_type": "code",
   "execution_count": 18,
   "id": "2caf16c5",
   "metadata": {},
   "outputs": [],
   "source": [
    "l_bioclinical_bert = pd.DataFrame(l_bioclinical_bert).T\n",
    "l_bioclinical_bert = l_bioclinical_bert.rename(columns={0:'keywords'})\n",
    "l_bioclinical_bert.keywords = l_bioclinical_bert.keywords.apply(lambda x: eval(str(x)))\n",
    "\n",
    "l_bioclinical_bert['first_keyword'], l_bioclinical_bert['first_keyword_score'] = zip(*l_bioclinical_bert['keywords'].apply(lambda x: first_keyword(x)))\n",
    "\n",
    "l_bioclinical_bert['second_keyword'], l_bioclinical_bert['second_keyword_score'] = zip(*l_bioclinical_bert['keywords'].apply(lambda x: second_keyword(x)))\n",
    "\n",
    "l_bioclinical_bert['third_keyword'], l_bioclinical_bert['third_keyword_score'] = zip(*l_bioclinical_bert['keywords'].apply(lambda x: third_keyword(x)))\n",
    "\n",
    "vaersdata_bioclinical_bert = vaersdata_sample.join(pd.DataFrame(l_bioclinical_bert, columns=['first_keyword','first_keyword_score' \n",
    "                                                                                        ,'second_keyword','second_keyword_score',\n",
    "                                                                                        'third_keyword','third_keyword_score']))\n"
   ]
  },
  {
   "cell_type": "code",
   "execution_count": 19,
   "id": "70118ba7",
   "metadata": {},
   "outputs": [],
   "source": [
    "l_biomedNLP = pd.DataFrame(l_biomedNLP).T\n",
    "l_biomedNLP = l_biomedNLP.rename(columns={0:'keywords'})\n",
    "l_biomedNLP.keywords = l_biomedNLP.keywords.apply(lambda x: eval(str(x)))\n",
    "\n",
    "l_biomedNLP['first_keyword'], l_biomedNLP['first_keyword_score'] = zip(*l_biomedNLP['keywords'].apply(lambda x: first_keyword(x)))\n",
    "\n",
    "l_biomedNLP['second_keyword'], l_biomedNLP['second_keyword_score'] = zip(*l_biomedNLP['keywords'].apply(lambda x: second_keyword(x)))\n",
    "\n",
    "l_biomedNLP['third_keyword'], l_biomedNLP['third_keyword_score'] = zip(*l_biomedNLP['keywords'].apply(lambda x: third_keyword(x)))\n",
    "\n",
    "vaersdata_biomedNLP = vaersdata_sample.join(pd.DataFrame(l_biomedNLP, columns=['first_keyword','first_keyword_score' \n",
    "                                                                                        ,'second_keyword','second_keyword_score',\n",
    "                                                                                        'third_keyword','third_keyword_score']))\n"
   ]
  },
  {
   "cell_type": "code",
   "execution_count": 20,
   "id": "e67dcf86",
   "metadata": {},
   "outputs": [],
   "source": [
    "vaersdata_bioclinical_bert.to_csv(\"10kbioclinical_test_two_keywords_extraction_with_score.csv\")\n",
    "vaersdata_biomedNLP.to_csv(\"10kbiomedNLP_test_two_keywords_extraction_with_score.csv\")\n",
    "vaersdata_distillroberta.to_csv(\"10kdistillroberta_test_two_keywords_extraction_with_score.csv\")"
   ]
  },
  {
   "cell_type": "markdown",
   "id": "0bc5cbf3",
   "metadata": {},
   "source": [
    "## 3 Keywords"
   ]
  },
  {
   "cell_type": "code",
   "execution_count": 21,
   "id": "b6a898a0",
   "metadata": {},
   "outputs": [],
   "source": [
    "def vec_impl_3kw(model, df):\n",
    "    return model.extract_keywords(\n",
    "                df['pn_history_preprocessed'],\n",
    "                top_n=3, \n",
    "                keyphrase_ngram_range=(1, 3),\n",
    "                use_mmr=True, \n",
    "                diversity=0.7)"
   ]
  },
  {
   "cell_type": "code",
   "execution_count": 22,
   "id": "bb3d6c59",
   "metadata": {},
   "outputs": [
    {
     "data": {
      "text/plain": [
       "1828"
      ]
     },
     "execution_count": 22,
     "metadata": {},
     "output_type": "execute_result"
    }
   ],
   "source": [
    "st=datetime.now()\n",
    "l_distilroberta_3kw= []\n",
    "l_distilroberta_3kw.append(vec_impl_3kw(distilroberta, vaersdata_sample))\n",
    "et=datetime.now()\n",
    "(et-st).seconds"
   ]
  },
  {
   "cell_type": "code",
   "execution_count": 23,
   "id": "bbf04e59",
   "metadata": {},
   "outputs": [
    {
     "data": {
      "text/plain": [
       "3914"
      ]
     },
     "execution_count": 23,
     "metadata": {},
     "output_type": "execute_result"
    }
   ],
   "source": [
    "st=datetime.now()\n",
    "l_bioclinical_bert_3kw= []\n",
    "l_bioclinical_bert_3kw.append(vec_impl_3kw(bioclinical_bert, vaersdata_sample))\n",
    "et=datetime.now()\n",
    "(et-st).seconds"
   ]
  },
  {
   "cell_type": "code",
   "execution_count": 26,
   "id": "98ba3ac5",
   "metadata": {},
   "outputs": [
    {
     "data": {
      "text/plain": [
       "3403"
      ]
     },
     "execution_count": 26,
     "metadata": {},
     "output_type": "execute_result"
    }
   ],
   "source": [
    "st=datetime.now()\n",
    "l_biomedNLP_3kw= []\n",
    "l_biomedNLP_3kw.append(vec_impl_3kw(biomedNLP, vaersdata_sample))\n",
    "et=datetime.now()\n",
    "(et-st).seconds"
   ]
  },
  {
   "cell_type": "code",
   "execution_count": 27,
   "id": "3f9dd15c",
   "metadata": {},
   "outputs": [],
   "source": [
    "l_biomedNLP_3kw = pd.DataFrame(l_biomedNLP_3kw).T\n",
    "l_biomedNLP_3kw = l_biomedNLP_3kw.rename(columns={0:'keywords'})\n",
    "l_biomedNLP_3kw.keywords = l_biomedNLP_3kw.keywords.apply(lambda x: eval(str(x)))\n",
    "\n",
    "l_biomedNLP_3kw['first_keyword'], l_biomedNLP_3kw['first_keyword_score'] = zip(*l_biomedNLP_3kw['keywords'].apply(lambda x: first_keyword(x)))\n",
    "\n",
    "l_biomedNLP_3kw['second_keyword'], l_biomedNLP_3kw['second_keyword_score'] = zip(*l_biomedNLP_3kw['keywords'].apply(lambda x: second_keyword(x)))\n",
    "\n",
    "l_biomedNLP_3kw['third_keyword'], l_biomedNLP_3kw['third_keyword_score'] = zip(*l_biomedNLP_3kw['keywords'].apply(lambda x: third_keyword(x)))\n",
    "\n",
    "vaersdata_distillroberta_3kw = vaersdata_sample.join(pd.DataFrame(l_biomedNLP_3kw, columns=['first_keyword','first_keyword_score' \n",
    "                                                                                        ,'second_keyword','second_keyword_score',\n",
    "                                                                                        'third_keyword','third_keyword_score']))"
   ]
  },
  {
   "cell_type": "code",
   "execution_count": 28,
   "id": "ee2017ba",
   "metadata": {},
   "outputs": [],
   "source": [
    "l_bioclinical_bert_3kw = pd.DataFrame(l_bioclinical_bert_3kw).T\n",
    "l_bioclinical_bert_3kw = l_bioclinical_bert_3kw.rename(columns={0:'keywords'})\n",
    "l_bioclinical_bert_3kw.keywords = l_bioclinical_bert_3kw.keywords.apply(lambda x: eval(str(x)))\n",
    "\n",
    "l_bioclinical_bert_3kw['first_keyword'], l_bioclinical_bert_3kw['first_keyword_score'] = zip(*l_bioclinical_bert_3kw['keywords'].apply(lambda x: first_keyword(x)))\n",
    "\n",
    "l_bioclinical_bert_3kw['second_keyword'], l_bioclinical_bert_3kw['second_keyword_score'] = zip(*l_bioclinical_bert_3kw['keywords'].apply(lambda x: second_keyword(x)))\n",
    "\n",
    "l_bioclinical_bert_3kw['third_keyword'], l_bioclinical_bert_3kw['third_keyword_score'] = zip(*l_bioclinical_bert_3kw['keywords'].apply(lambda x: third_keyword(x)))\n",
    "\n",
    "vaersdata_bioclinical_bert_3kw = vaersdata_sample.join(pd.DataFrame(l_bioclinical_bert_3kw, columns=['first_keyword','first_keyword_score' \n",
    "                                                                                        ,'second_keyword','second_keyword_score',\n",
    "                                                                                        'third_keyword','third_keyword_score']))\n"
   ]
  },
  {
   "cell_type": "code",
   "execution_count": 29,
   "id": "5e227d6c",
   "metadata": {},
   "outputs": [],
   "source": [
    "l_distilroberta_3kw = pd.DataFrame(l_distilroberta_3kw).T\n",
    "l_distilroberta_3kw = l_distilroberta_3kw.rename(columns={0:'keywords'})\n",
    "l_distilroberta_3kw.keywords = l_distilroberta_3kw.keywords.apply(lambda x: eval(str(x)))\n",
    "\n",
    "l_distilroberta_3kw['first_keyword'], l_distilroberta_3kw['first_keyword_score'] = zip(*l_distilroberta_3kw['keywords'].apply(lambda x: first_keyword(x)))\n",
    "\n",
    "l_distilroberta_3kw['second_keyword'], l_distilroberta_3kw['second_keyword_score'] = zip(*l_distilroberta_3kw['keywords'].apply(lambda x: second_keyword(x)))\n",
    "\n",
    "l_distilroberta_3kw['third_keyword'], l_distilroberta_3kw['third_keyword_score'] = zip(*l_distilroberta_3kw['keywords'].apply(lambda x: third_keyword(x)))\n",
    "\n",
    "vaersdata_biomedNLP_3kw = vaersdata_sample.join(pd.DataFrame(l_distilroberta_3kw, columns=['first_keyword','first_keyword_score' \n",
    "                                                                                        ,'second_keyword','second_keyword_score',\n",
    "                                                                                        'third_keyword','third_keyword_score']))\n"
   ]
  },
  {
   "cell_type": "code",
   "execution_count": 30,
   "id": "86e36ea2",
   "metadata": {},
   "outputs": [],
   "source": [
    "vaersdata_distillroberta_3kw.to_csv(\"10kdistillroberta_test_three_keywords_extraction_with_score.csv\")\n",
    "vaersdata_bioclinical_bert_3kw.to_csv(\"10kbioclinical_test_three_keywords_extraction_with_score.csv\")\n",
    "vaersdata_biomedNLP_3kw.to_csv(\"10kbiomedNLP_test_three_keywords_extraction_with_score.csv\")"
   ]
  },
  {
   "cell_type": "markdown",
   "id": "fab77b39",
   "metadata": {},
   "source": [
    "## 4 Keywords"
   ]
  },
  {
   "cell_type": "code",
   "execution_count": 15,
   "id": "532b7ae4",
   "metadata": {},
   "outputs": [],
   "source": [
    "def vec_impl_4kw(model, df):\n",
    "    return model.extract_keywords(\n",
    "                df['pn_history_preprocessed'],\n",
    "                top_n=3, \n",
    "                keyphrase_ngram_range=(1, 4),\n",
    "                use_mmr=True, \n",
    "                diversity=0.7)"
   ]
  },
  {
   "cell_type": "code",
   "execution_count": 32,
   "id": "7bc96e7d",
   "metadata": {},
   "outputs": [
    {
     "data": {
      "text/plain": [
       "3166"
      ]
     },
     "execution_count": 32,
     "metadata": {},
     "output_type": "execute_result"
    }
   ],
   "source": [
    "st=datetime.now()\n",
    "l_distilroberta_4kw= []\n",
    "l_distilroberta_4kw.append(vec_impl_4kw(distilroberta, vaersdata_sample))\n",
    "et=datetime.now()\n",
    "(et-st).seconds"
   ]
  },
  {
   "cell_type": "code",
   "execution_count": 35,
   "id": "8dbeb1cb",
   "metadata": {},
   "outputs": [
    {
     "data": {
      "text/plain": [
       "4827"
      ]
     },
     "execution_count": 35,
     "metadata": {},
     "output_type": "execute_result"
    }
   ],
   "source": [
    "st=datetime.now()\n",
    "l_bioclinical_bert_4kw= []\n",
    "l_bioclinical_bert_4kw.append(vec_impl_4kw(bioclinical_bert, vaersdata_sample))\n",
    "et=datetime.now()\n",
    "(et-st).seconds"
   ]
  },
  {
   "cell_type": "code",
   "execution_count": 36,
   "id": "bca4429f",
   "metadata": {},
   "outputs": [
    {
     "data": {
      "text/plain": [
       "4341"
      ]
     },
     "execution_count": 36,
     "metadata": {},
     "output_type": "execute_result"
    }
   ],
   "source": [
    "st=datetime.now()\n",
    "l_biomedNLP_4kw= []\n",
    "l_biomedNLP_4kw.append(vec_impl_4kw(biomedNLP, vaersdata_sample))\n",
    "et=datetime.now()\n",
    "(et-st).seconds"
   ]
  },
  {
   "cell_type": "code",
   "execution_count": 41,
   "id": "5816fa64",
   "metadata": {},
   "outputs": [],
   "source": [
    "l_bioclinical_bert_4kw_df= pd.DataFrame(l_bioclinical_bert_4kw)\n",
    "l_bioclinical_bert_4kw_df=pd.DataFrame(l_bioclinical_bert_4kw_df).T\n",
    "l_bioclinical_bert_4kw_df = l_bioclinical_bert_4kw_df.rename(columns={0:'keywords'})\n",
    "l_bioclinical_bert_4kw_df.keywords = l_bioclinical_bert_4kw_df.keywords.apply(lambda x: eval(str(x)))\n",
    "l_bioclinical_bert_4kw_df['first_keyword'], l_bioclinical_bert_4kw_df['first_keyword_score'] = zip(*l_bioclinical_bert_4kw_df['keywords'].apply(lambda x: first_keyword(x)))\n",
    "l_bioclinical_bert_4kw_df['second_keyword'], l_bioclinical_bert_4kw_df['second_keyword_score'] = zip(*l_bioclinical_bert_4kw_df['keywords'].apply(lambda x: second_keyword(x)))\n",
    "l_bioclinical_bert_4kw_df['third_keyword'], l_bioclinical_bert_4kw_df['third_keyword_score'] = zip(*l_bioclinical_bert_4kw_df['keywords'].apply(lambda x: third_keyword(x)))\n",
    "vaersdata_bioclinical_bert_4kw = vaersdata_sample.join(pd.DataFrame(l_bioclinical_bert_4kw_df, columns=['first_keyword','first_keyword_score' \n",
    "                                                                                        ,'second_keyword','second_keyword_score',\n",
    "                                                                                        'third_keyword','third_keyword_score']))\n"
   ]
  },
  {
   "cell_type": "code",
   "execution_count": 64,
   "id": "e0686b95",
   "metadata": {},
   "outputs": [],
   "source": [
    "l_biomedNLP_4kw = pd.DataFrame(l_biomedNLP_4kw).T\n",
    "l_biomedNLP_4kw = l_biomedNLP_4kw.rename(columns={0:'keywords'})\n",
    "l_biomedNLP_4kw.keywords = l_biomedNLP_4kw.keywords.apply(lambda x: eval(str(x)))\n",
    "\n",
    "l_biomedNLP_4kw['first_keyword'], l_biomedNLP_4kw['first_keyword_score'] = zip(*l_biomedNLP_4kw['keywords'].apply(lambda x: first_keyword(x)))\n",
    "\n",
    "l_biomedNLP_4kw['second_keyword'], l_biomedNLP_4kw['second_keyword_score'] = zip(*l_biomedNLP_4kw['keywords'].apply(lambda x: second_keyword(x)))\n",
    "\n",
    "l_biomedNLP_4kw['third_keyword'], l_biomedNLP_4kw['third_keyword_score'] = zip(*l_biomedNLP_4kw['keywords'].apply(lambda x: third_keyword(x)))\n",
    "\n",
    "vaersdata_biomedNLP_4kw = vaersdata_sample.join(pd.DataFrame(l_biomedNLP_4kw, columns=['first_keyword','first_keyword_score' \n",
    "                                                                                        ,'second_keyword','second_keyword_score',\n",
    "                                                                                        'third_keyword','third_keyword_score']))"
   ]
  },
  {
   "cell_type": "code",
   "execution_count": 37,
   "id": "dfdf9c5d",
   "metadata": {},
   "outputs": [],
   "source": [
    "l_distilroberta_4kw = pd.DataFrame(l_distilroberta_4kw).T\n",
    "l_distilroberta_4kw = l_distilroberta_3kw.rename(columns={0:'keywords'})\n",
    "l_distilroberta_4kw.keywords = l_distilroberta_4kw.keywords.apply(lambda x: eval(str(x)))\n",
    "\n",
    "l_distilroberta_4kw['first_keyword'], l_distilroberta_4kw['first_keyword_score'] = zip(*l_distilroberta_4kw['keywords'].apply(lambda x: first_keyword(x)))\n",
    "\n",
    "l_distilroberta_4kw['second_keyword'], l_distilroberta_4kw['second_keyword_score'] = zip(*l_distilroberta_4kw['keywords'].apply(lambda x: second_keyword(x)))\n",
    "\n",
    "l_distilroberta_4kw['third_keyword'], l_distilroberta_4kw['third_keyword_score'] = zip(*l_distilroberta_4kw['keywords'].apply(lambda x: third_keyword(x)))\n",
    "\n",
    "vaersdata_distillroberta_4kw = vaersdata_sample.join(pd.DataFrame(l_distilroberta_4kw, columns=['first_keyword','first_keyword_score' \n",
    "                                                                                        ,'second_keyword','second_keyword_score',\n",
    "                                                                                        'third_keyword','third_keyword_score']))\n"
   ]
  },
  {
   "cell_type": "code",
   "execution_count": null,
   "id": "5ac39f3e",
   "metadata": {},
   "outputs": [],
   "source": [
    "vaersdata_distillroberta_4kw.to_csv(\"10kdistillroberta_test_four_keywords_extraction_with_score.csv\")\n",
    "vaersdata_bioclinical_bert_4kw.to_csv(\"10kbioclinical_test_four_keywords_extraction_with_score.csv\")\n",
    "vaersdata_biomedNLP_4kw.to_csv(\"10kbiomedNLP_test_four_keywords_extraction_with_score.csv\")"
   ]
  },
  {
   "cell_type": "markdown",
   "id": "e913e21a",
   "metadata": {},
   "source": [
    "### Reading files and joining them "
   ]
  },
  {
   "cell_type": "code",
   "execution_count": 66,
   "id": "680b404e",
   "metadata": {},
   "outputs": [],
   "source": [
    "vaersdata_distillroberta_2kw = pd.read_csv(\"10kdistillroberta_test_two_keywords_extraction_with_score.csv\")\n",
    "vaersdata_distillroberta_3kw = pd.read_csv(\"10kdistillroberta_test_three_keywords_extraction_with_score.csv\")\n",
    "vaersdata_distillroberta_4kw = pd.read_csv(\"10kdistillroberta_test_four_keywords_extraction_with_score.csv\")"
   ]
  },
  {
   "cell_type": "code",
   "execution_count": 67,
   "id": "bbc42262",
   "metadata": {},
   "outputs": [],
   "source": [
    "vaersdata_distillroberta_2kw3kw= vaersdata_distillroberta_2kw.join(vaersdata_distillroberta_3kw[['first_keyword','first_keyword_score',\n",
    "                                                                       'second_keyword','second_keyword_score',\n",
    "                                                                       'third_keyword','third_keyword_score']],lsuffix=\"_2kw\",rsuffix=\"_3kw\")"
   ]
  },
  {
   "cell_type": "code",
   "execution_count": 68,
   "id": "5baffd25",
   "metadata": {
    "scrolled": true
   },
   "outputs": [],
   "source": [
    "vaersdata_distillroberta=vaersdata_distillroberta_2kw3kw.join(vaersdata_distillroberta_4kw[['first_keyword','first_keyword_score',\n",
    "                                                                       'second_keyword','second_keyword_score',\n",
    "                                                                       'third_keyword','third_keyword_score']],rsuffix=\"_3kw\")"
   ]
  },
  {
   "cell_type": "code",
   "execution_count": 69,
   "id": "3223127d",
   "metadata": {},
   "outputs": [],
   "source": [
    "vaersdata_distillroberta=vaersdata_distillroberta.rename(columns={\"first_keyword\": \"first_keyword_4kw\", \"first_keyword_score\": \"first_keyword_score_4kw\",\n",
    "                                        \"second_keyword\":\"second_keyword_4kw\",\"second_keyword_score\":\"second_keyword_score_4kw\",\n",
    "                                       \"third_keyword\":\"third_keyword_4kw\",\"third_keyword_score\":\"third_keyword_score_4kw\" })"
   ]
  },
  {
   "cell_type": "code",
   "execution_count": 70,
   "id": "3a91adc0",
   "metadata": {},
   "outputs": [],
   "source": [
    "vaersdata_bioclinical_bert_2kw = pd.read_csv(\"10kbioclinical_test_two_keywords_extraction_with_score.csv\")\n",
    "vaersdata_bioclinical_bert_3kw = pd.read_csv(\"10kbioclinical_test_three_keywords_extraction_with_score.csv\")\n",
    "vaersdata_bioclinical_bert_4kw = pd.read_csv(\"10kbioclinical_test_four_keywords_extraction_with_score.csv\")"
   ]
  },
  {
   "cell_type": "code",
   "execution_count": 71,
   "id": "7dfe60c5",
   "metadata": {},
   "outputs": [],
   "source": [
    "vaersdata_biomedNLP_2kw = pd.read_csv(\"10kbiomedNLP_test_two_keywords_extraction_with_score.csv\")\n",
    "vaersdata_biomedNLP_3kw = pd.read_csv(\"10kbiomedNLP_test_three_keywords_extraction_with_score.csv\")\n",
    "vaersdata_biomedNLP_4kw = pd.read_csv(\"10kbiomedNLP_test_four_keywords_extraction_with_score.csv\")"
   ]
  },
  {
   "cell_type": "code",
   "execution_count": 72,
   "id": "90527b4a",
   "metadata": {},
   "outputs": [],
   "source": [
    "vaersdata_bioclinical_bert_2kw3kw= vaersdata_bioclinical_bert_2kw.join(vaersdata_bioclinical_bert_3kw[['first_keyword','first_keyword_score',\n",
    "                                                                       'second_keyword','second_keyword_score',\n",
    "                                                                       'third_keyword','third_keyword_score']],lsuffix=\"_2kw\",rsuffix=\"_3kw\")\n",
    "\n",
    "vaersdata_bioclinical_bert=vaersdata_bioclinical_bert_2kw3kw.join(vaersdata_bioclinical_bert_4kw[['first_keyword','first_keyword_score',\n",
    "                                                                       'second_keyword','second_keyword_score',\n",
    "                                                                       'third_keyword','third_keyword_score']],rsuffix=\"_3kw\")\n",
    "vaersdata_bioclinical_bert=vaersdata_bioclinical_bert.rename(columns={\"first_keyword\": \"first_keyword_4kw\", \"first_keyword_score\": \"first_keyword_score_4kw\",\n",
    "                                        \"second_keyword\":\"second_keyword_4kw\",\"second_keyword_score\":\"second_keyword_score_4kw\",\n",
    "                                       \"third_keyword\":\"third_keyword_4kw\",\"third_keyword_score\":\"third_keyword_score_4kw\" })"
   ]
  },
  {
   "cell_type": "code",
   "execution_count": 73,
   "id": "0b137bb3",
   "metadata": {},
   "outputs": [],
   "source": [
    "vaersdata_biomedNLP_2kw3kw= vaersdata_biomedNLP_2kw.join(vaersdata_biomedNLP_3kw[['first_keyword','first_keyword_score',\n",
    "                                                                       'second_keyword','second_keyword_score',\n",
    "                                                                       'third_keyword','third_keyword_score']],lsuffix=\"_2kw\",rsuffix=\"_3kw\")\n",
    "\n",
    "vaersdata_biomedNLP=vaersdata_biomedNLP_2kw3kw.join(vaersdata_biomedNLP_4kw[['first_keyword','first_keyword_score',\n",
    "                                                                       'second_keyword','second_keyword_score',\n",
    "                                                                       'third_keyword','third_keyword_score']],rsuffix=\"_3kw\")\n",
    "vaersdata_biomedNLP=vaersdata_biomedNLP.rename(columns={\"first_keyword\": \"first_keyword_4kw\", \"first_keyword_score\": \"first_keyword_score_4kw\",\n",
    "                                        \"second_keyword\":\"second_keyword_4kw\",\"second_keyword_score\":\"second_keyword_score_4kw\",\n",
    "                                       \"third_keyword\":\"third_keyword_4kw\",\"third_keyword_score\":\"third_keyword_score_4kw\" })"
   ]
  },
  {
   "cell_type": "markdown",
   "id": "86408fc7",
   "metadata": {},
   "source": [
    "### Final files with all keywords extracted. The next cell will filter out the keywords and remove the ones which are less than 0.25 cosine similarity score"
   ]
  },
  {
   "cell_type": "code",
   "execution_count": 35,
   "id": "141221cb",
   "metadata": {},
   "outputs": [],
   "source": [
    "#vaersdata_bioclinical_bert\n",
    "#vaersdata_biomedNLP\n",
    "#vaersdata_distillroberta"
   ]
  },
  {
   "cell_type": "code",
   "execution_count": 74,
   "id": "fea29c96",
   "metadata": {},
   "outputs": [],
   "source": [
    "vaersdata_bioclinical_bert.first_keyword_2kw= np.where(vaersdata_bioclinical_bert.first_keyword_score_2kw > 0.25, vaersdata_bioclinical_bert.first_keyword_2kw, np.nan)\n",
    "vaersdata_bioclinical_bert.second_keyword_2kw = np.where(vaersdata_bioclinical_bert.second_keyword_score_2kw > 0.25, vaersdata_bioclinical_bert.second_keyword_2kw, np.nan)\n",
    "vaersdata_bioclinical_bert.third_keyword_2kw = np.where(vaersdata_bioclinical_bert.third_keyword_score_2kw > 0.25, vaersdata_bioclinical_bert.third_keyword_2kw, np.nan)"
   ]
  },
  {
   "cell_type": "code",
   "execution_count": 75,
   "id": "601dca95",
   "metadata": {},
   "outputs": [],
   "source": [
    "vaersdata_bioclinical_bert.first_keyword_3kw= np.where(vaersdata_bioclinical_bert.first_keyword_score_3kw > 0.25, vaersdata_bioclinical_bert.first_keyword_3kw, np.nan)\n",
    "vaersdata_bioclinical_bert.second_keyword_3kw = np.where(vaersdata_bioclinical_bert.second_keyword_score_3kw > 0.25, vaersdata_bioclinical_bert.second_keyword_3kw, np.nan)\n",
    "vaersdata_bioclinical_bert.third_keyword_3kw = np.where(vaersdata_bioclinical_bert.third_keyword_score_3kw > 0.25, vaersdata_bioclinical_bert.third_keyword_3kw, np.nan)"
   ]
  },
  {
   "cell_type": "code",
   "execution_count": 76,
   "id": "2652a688",
   "metadata": {},
   "outputs": [],
   "source": [
    "vaersdata_bioclinical_bert.first_keyword_4kw= np.where(vaersdata_bioclinical_bert.first_keyword_score_4kw > 0.25, vaersdata_bioclinical_bert.first_keyword_4kw, np.nan)\n",
    "vaersdata_bioclinical_bert.second_keyword_4kw = np.where(vaersdata_bioclinical_bert.second_keyword_score_4kw > 0.25, vaersdata_bioclinical_bert.second_keyword_4kw, np.nan)\n",
    "vaersdata_bioclinical_bert.third_keyword_4kw = np.where(vaersdata_bioclinical_bert.third_keyword_score_4kw > 0.25, vaersdata_bioclinical_bert.third_keyword_4kw, np.nan)"
   ]
  },
  {
   "cell_type": "code",
   "execution_count": 77,
   "id": "11a2914b",
   "metadata": {},
   "outputs": [],
   "source": [
    "vaersdata_biomedNLP.first_keyword_2kw= np.where(vaersdata_biomedNLP.first_keyword_score_2kw > 0.25, vaersdata_biomedNLP.first_keyword_2kw, np.nan)\n",
    "vaersdata_biomedNLP.second_keyword_2kw = np.where(vaersdata_biomedNLP.second_keyword_score_2kw > 0.25, vaersdata_biomedNLP.second_keyword_2kw, np.nan)\n",
    "vaersdata_biomedNLP.third_keyword_2kw = np.where(vaersdata_biomedNLP.third_keyword_score_2kw > 0.25, vaersdata_biomedNLP.third_keyword_2kw, np.nan)"
   ]
  },
  {
   "cell_type": "code",
   "execution_count": 78,
   "id": "6e0f9dd0",
   "metadata": {},
   "outputs": [],
   "source": [
    "vaersdata_biomedNLP.first_keyword_3kw= np.where(vaersdata_biomedNLP.first_keyword_score_3kw > 0.25, vaersdata_biomedNLP.first_keyword_3kw, np.nan)\n",
    "vaersdata_biomedNLP.second_keyword_3kw = np.where(vaersdata_biomedNLP.second_keyword_score_3kw > 0.25, vaersdata_biomedNLP.second_keyword_3kw, np.nan)\n",
    "vaersdata_biomedNLP.third_keyword_3kw = np.where(vaersdata_biomedNLP.third_keyword_score_3kw > 0.25, vaersdata_biomedNLP.third_keyword_3kw, np.nan)"
   ]
  },
  {
   "cell_type": "code",
   "execution_count": 79,
   "id": "58714f4c",
   "metadata": {},
   "outputs": [],
   "source": [
    "vaersdata_biomedNLP.first_keyword_4kw= np.where(vaersdata_biomedNLP.first_keyword_score_4kw > 0.25, vaersdata_biomedNLP.first_keyword_4kw, np.nan)\n",
    "vaersdata_biomedNLP.second_keyword_4kw = np.where(vaersdata_biomedNLP.second_keyword_score_4kw > 0.25, vaersdata_biomedNLP.second_keyword_4kw, np.nan)\n",
    "vaersdata_biomedNLP.third_keyword_4kw = np.where(vaersdata_biomedNLP.third_keyword_score_4kw > 0.25, vaersdata_biomedNLP.third_keyword_4kw, np.nan)"
   ]
  },
  {
   "cell_type": "code",
   "execution_count": 80,
   "id": "a740bdc2",
   "metadata": {},
   "outputs": [],
   "source": [
    "vaersdata_distillroberta.first_keyword_2kw= np.where(vaersdata_distillroberta.first_keyword_score_2kw > 0.25, vaersdata_distillroberta.first_keyword_2kw, np.nan)\n",
    "vaersdata_distillroberta.second_keyword_2kw = np.where(vaersdata_distillroberta.second_keyword_score_2kw > 0.25, vaersdata_distillroberta.second_keyword_2kw, np.nan)\n",
    "vaersdata_distillroberta.third_keyword_2kw = np.where(vaersdata_distillroberta.third_keyword_score_2kw > 0.25, vaersdata_distillroberta.third_keyword_2kw, np.nan)\n",
    "\n",
    "vaersdata_distillroberta.first_keyword_3kw= np.where(vaersdata_distillroberta.first_keyword_score_3kw > 0.25, vaersdata_distillroberta.first_keyword_3kw, np.nan)\n",
    "vaersdata_distillroberta.second_keyword_3kw = np.where(vaersdata_distillroberta.second_keyword_score_3kw > 0.25, vaersdata_distillroberta.second_keyword_3kw, np.nan)\n",
    "vaersdata_distillroberta.third_keyword_3kw = np.where(vaersdata_distillroberta.third_keyword_score_3kw > 0.25, vaersdata_distillroberta.third_keyword_3kw, np.nan)\n",
    "\n",
    "vaersdata_distillroberta.first_keyword_4kw= np.where(vaersdata_distillroberta.first_keyword_score_4kw > 0.25, vaersdata_distillroberta.first_keyword_4kw, np.nan)\n",
    "vaersdata_distillroberta.second_keyword_4kw = np.where(vaersdata_distillroberta.second_keyword_score_4kw > 0.25, vaersdata_distillroberta.second_keyword_4kw, np.nan)\n",
    "vaersdata_distillroberta.third_keyword_4kw = np.where(vaersdata_distillroberta.third_keyword_score_4kw > 0.25, vaersdata_distillroberta.third_keyword_4kw, np.nan)"
   ]
  },
  {
   "cell_type": "code",
   "execution_count": 81,
   "id": "023d5c21",
   "metadata": {},
   "outputs": [],
   "source": [
    "distillroberta_train_with_scores = vaersdata_distillroberta.iloc[:,44:]"
   ]
  },
  {
   "cell_type": "code",
   "execution_count": 82,
   "id": "1d61699a",
   "metadata": {},
   "outputs": [],
   "source": [
    "distillroerta_kw_scores = vaersdata_distillroberta[['VAERS_ID', 'pn_history_preprocessed']].join(distillroberta_train_with_scores)"
   ]
  },
  {
   "cell_type": "code",
   "execution_count": 83,
   "id": "9417fb0b",
   "metadata": {},
   "outputs": [],
   "source": [
    "bioclinical_bert_train_with_scores = vaersdata_bioclinical_bert.iloc[:,44:]"
   ]
  },
  {
   "cell_type": "code",
   "execution_count": 84,
   "id": "36af0046",
   "metadata": {},
   "outputs": [],
   "source": [
    "bioclinical_kw_scores = vaersdata_bioclinical_bert[['VAERS_ID', 'pn_history_preprocessed']].join(bioclinical_bert_train_with_scores)"
   ]
  },
  {
   "cell_type": "code",
   "execution_count": 85,
   "id": "0105307f",
   "metadata": {},
   "outputs": [],
   "source": [
    "biomedNLP_train_with_scores = vaersdata_biomedNLP.iloc[:,44:]\n",
    "biomedNLP_kw_scores = vaersdata_biomedNLP[['VAERS_ID', 'pn_history_preprocessed']].join(biomedNLP_train_with_scores)"
   ]
  },
  {
   "cell_type": "code",
   "execution_count": 86,
   "id": "4ea15e94",
   "metadata": {},
   "outputs": [
    {
     "data": {
      "text/html": [
       "<div>\n",
       "<style scoped>\n",
       "    .dataframe tbody tr th:only-of-type {\n",
       "        vertical-align: middle;\n",
       "    }\n",
       "\n",
       "    .dataframe tbody tr th {\n",
       "        vertical-align: top;\n",
       "    }\n",
       "\n",
       "    .dataframe thead th {\n",
       "        text-align: right;\n",
       "    }\n",
       "</style>\n",
       "<table border=\"1\" class=\"dataframe\">\n",
       "  <thead>\n",
       "    <tr style=\"text-align: right;\">\n",
       "      <th></th>\n",
       "      <th>VAERS_ID</th>\n",
       "      <th>pn_history_preprocessed</th>\n",
       "      <th>first_keyword_2kw</th>\n",
       "      <th>first_keyword_score_2kw</th>\n",
       "      <th>second_keyword_2kw</th>\n",
       "      <th>second_keyword_score_2kw</th>\n",
       "      <th>third_keyword_2kw</th>\n",
       "      <th>third_keyword_score_2kw</th>\n",
       "      <th>first_keyword_3kw</th>\n",
       "      <th>first_keyword_score_3kw</th>\n",
       "      <th>second_keyword_3kw</th>\n",
       "      <th>second_keyword_score_3kw</th>\n",
       "      <th>third_keyword_3kw</th>\n",
       "      <th>third_keyword_score_3kw</th>\n",
       "      <th>first_keyword_4kw</th>\n",
       "      <th>first_keyword_score_4kw</th>\n",
       "      <th>second_keyword_4kw</th>\n",
       "      <th>second_keyword_score_4kw</th>\n",
       "      <th>third_keyword_4kw</th>\n",
       "      <th>third_keyword_score_4kw</th>\n",
       "    </tr>\n",
       "  </thead>\n",
       "  <tbody>\n",
       "    <tr>\n",
       "      <th>0</th>\n",
       "      <td>2547730</td>\n",
       "      <td>the adverse event is that the patient went int...</td>\n",
       "      <td>severe orthostatic</td>\n",
       "      <td>0.8273</td>\n",
       "      <td>patient</td>\n",
       "      <td>0.5731</td>\n",
       "      <td>19</td>\n",
       "      <td>0.5176</td>\n",
       "      <td>caused severe orthostatic</td>\n",
       "      <td>0.8473</td>\n",
       "      <td>patient</td>\n",
       "      <td>0.5731</td>\n",
       "      <td>19</td>\n",
       "      <td>0.5176</td>\n",
       "      <td>resulted zero antibody hospilization</td>\n",
       "      <td>0.8673</td>\n",
       "      <td>headache</td>\n",
       "      <td>0.6047</td>\n",
       "      <td>19</td>\n",
       "      <td>0.5176</td>\n",
       "    </tr>\n",
       "    <tr>\n",
       "      <th>1</th>\n",
       "      <td>2547731</td>\n",
       "      <td>error incorrect reconstitution</td>\n",
       "      <td>incorrect reconstitution</td>\n",
       "      <td>0.9308</td>\n",
       "      <td>error</td>\n",
       "      <td>0.7669</td>\n",
       "      <td>incorrect</td>\n",
       "      <td>0.7356</td>\n",
       "      <td>error incorrect reconstitution</td>\n",
       "      <td>1.0000</td>\n",
       "      <td>reconstitution</td>\n",
       "      <td>0.8518</td>\n",
       "      <td>incorrect</td>\n",
       "      <td>0.7356</td>\n",
       "      <td>error incorrect reconstitution</td>\n",
       "      <td>1.0000</td>\n",
       "      <td>reconstitution</td>\n",
       "      <td>0.8518</td>\n",
       "      <td>incorrect</td>\n",
       "      <td>0.7356</td>\n",
       "    </tr>\n",
       "    <tr>\n",
       "      <th>2</th>\n",
       "      <td>2547732</td>\n",
       "      <td>error patient accidentally stuck by needle</td>\n",
       "      <td>stuck needle</td>\n",
       "      <td>0.8556</td>\n",
       "      <td>patient accidentally</td>\n",
       "      <td>0.8255</td>\n",
       "      <td>error patient</td>\n",
       "      <td>0.7835</td>\n",
       "      <td>accidentally stuck needle</td>\n",
       "      <td>0.9159</td>\n",
       "      <td>error patient accidentally</td>\n",
       "      <td>0.9027</td>\n",
       "      <td>patient</td>\n",
       "      <td>0.6330</td>\n",
       "      <td>error patient accidentally stuck</td>\n",
       "      <td>0.9645</td>\n",
       "      <td>error</td>\n",
       "      <td>0.6958</td>\n",
       "      <td>stuck</td>\n",
       "      <td>0.6176</td>\n",
       "    </tr>\n",
       "    <tr>\n",
       "      <th>3</th>\n",
       "      <td>2547733</td>\n",
       "      <td>error dose in series given too early</td>\n",
       "      <td>error dose</td>\n",
       "      <td>0.8420</td>\n",
       "      <td>given early</td>\n",
       "      <td>0.8024</td>\n",
       "      <td>series</td>\n",
       "      <td>0.6942</td>\n",
       "      <td>dose series given</td>\n",
       "      <td>0.9086</td>\n",
       "      <td>early</td>\n",
       "      <td>0.6972</td>\n",
       "      <td>error</td>\n",
       "      <td>0.6472</td>\n",
       "      <td>error dose series given</td>\n",
       "      <td>0.9382</td>\n",
       "      <td>early</td>\n",
       "      <td>0.6972</td>\n",
       "      <td>error</td>\n",
       "      <td>0.6472</td>\n",
       "    </tr>\n",
       "    <tr>\n",
       "      <th>4</th>\n",
       "      <td>2547734</td>\n",
       "      <td>systemic eye twitching medium</td>\n",
       "      <td>eye twitching</td>\n",
       "      <td>0.9441</td>\n",
       "      <td>systemic eye</td>\n",
       "      <td>0.7926</td>\n",
       "      <td>systemic</td>\n",
       "      <td>0.7005</td>\n",
       "      <td>eye twitching medium</td>\n",
       "      <td>0.9768</td>\n",
       "      <td>systemic eye</td>\n",
       "      <td>0.7926</td>\n",
       "      <td>systemic</td>\n",
       "      <td>0.7005</td>\n",
       "      <td>systemic eye twitching medium</td>\n",
       "      <td>1.0000</td>\n",
       "      <td>eye</td>\n",
       "      <td>0.7696</td>\n",
       "      <td>medium</td>\n",
       "      <td>0.7000</td>\n",
       "    </tr>\n",
       "  </tbody>\n",
       "</table>\n",
       "</div>"
      ],
      "text/plain": [
       "   VAERS_ID                            pn_history_preprocessed  \\\n",
       "0   2547730  the adverse event is that the patient went int...   \n",
       "1   2547731                     error incorrect reconstitution   \n",
       "2   2547732         error patient accidentally stuck by needle   \n",
       "3   2547733               error dose in series given too early   \n",
       "4   2547734                      systemic eye twitching medium   \n",
       "\n",
       "          first_keyword_2kw  first_keyword_score_2kw    second_keyword_2kw  \\\n",
       "0        severe orthostatic                   0.8273               patient   \n",
       "1  incorrect reconstitution                   0.9308                 error   \n",
       "2              stuck needle                   0.8556  patient accidentally   \n",
       "3                error dose                   0.8420           given early   \n",
       "4             eye twitching                   0.9441          systemic eye   \n",
       "\n",
       "   second_keyword_score_2kw third_keyword_2kw  third_keyword_score_2kw  \\\n",
       "0                    0.5731                19                   0.5176   \n",
       "1                    0.7669         incorrect                   0.7356   \n",
       "2                    0.8255     error patient                   0.7835   \n",
       "3                    0.8024            series                   0.6942   \n",
       "4                    0.7926          systemic                   0.7005   \n",
       "\n",
       "                first_keyword_3kw  first_keyword_score_3kw  \\\n",
       "0       caused severe orthostatic                   0.8473   \n",
       "1  error incorrect reconstitution                   1.0000   \n",
       "2       accidentally stuck needle                   0.9159   \n",
       "3               dose series given                   0.9086   \n",
       "4            eye twitching medium                   0.9768   \n",
       "\n",
       "           second_keyword_3kw  second_keyword_score_3kw third_keyword_3kw  \\\n",
       "0                     patient                    0.5731                19   \n",
       "1              reconstitution                    0.8518         incorrect   \n",
       "2  error patient accidentally                    0.9027           patient   \n",
       "3                       early                    0.6972             error   \n",
       "4                systemic eye                    0.7926          systemic   \n",
       "\n",
       "   third_keyword_score_3kw                     first_keyword_4kw  \\\n",
       "0                   0.5176  resulted zero antibody hospilization   \n",
       "1                   0.7356        error incorrect reconstitution   \n",
       "2                   0.6330      error patient accidentally stuck   \n",
       "3                   0.6472               error dose series given   \n",
       "4                   0.7005         systemic eye twitching medium   \n",
       "\n",
       "   first_keyword_score_4kw second_keyword_4kw  second_keyword_score_4kw  \\\n",
       "0                   0.8673           headache                    0.6047   \n",
       "1                   1.0000     reconstitution                    0.8518   \n",
       "2                   0.9645              error                    0.6958   \n",
       "3                   0.9382              early                    0.6972   \n",
       "4                   1.0000                eye                    0.7696   \n",
       "\n",
       "  third_keyword_4kw  third_keyword_score_4kw  \n",
       "0                19                   0.5176  \n",
       "1         incorrect                   0.7356  \n",
       "2             stuck                   0.6176  \n",
       "3             error                   0.6472  \n",
       "4            medium                   0.7000  "
      ]
     },
     "execution_count": 86,
     "metadata": {},
     "output_type": "execute_result"
    }
   ],
   "source": [
    "bioclinical_kw_scores.head()"
   ]
  },
  {
   "cell_type": "code",
   "execution_count": 87,
   "id": "d0b03b8a",
   "metadata": {},
   "outputs": [],
   "source": [
    "bioclinical_kw_scores.to_csv(\"10Kbioclinical_kw_scores.csv\")"
   ]
  },
  {
   "cell_type": "markdown",
   "id": "4b350dfd",
   "metadata": {},
   "source": [
    "## predicting annotations"
   ]
  },
  {
   "cell_type": "code",
   "execution_count": 88,
   "id": "2b580bb2",
   "metadata": {},
   "outputs": [],
   "source": [
    "def func(x):\n",
    "    all_annotation = []\n",
    "    for annotation in [x.first_keyword_2kw, x.second_keyword_2kw, x.third_keyword_2kw, \n",
    "                       x.first_keyword_3kw, x.second_keyword_3kw, x.third_keyword_3kw,\n",
    "                       x.first_keyword_4kw, x.second_keyword_4kw, x.third_keyword_4kw]:\n",
    "        \n",
    "        if str(annotation) != 'nan':\n",
    "            all_annotation.append(str(annotation))\n",
    "    return list(set(all_annotation))\n",
    "    \n",
    "bioclinical_kw_scores['predicted_annotation'] = bioclinical_kw_scores.apply(lambda x: func(x), axis=1)"
   ]
  },
  {
   "cell_type": "code",
   "execution_count": 89,
   "id": "5a1dabeb",
   "metadata": {},
   "outputs": [],
   "source": [
    "def func(x):\n",
    "    all_annotation = []\n",
    "    for annotation in [x.first_keyword_2kw, x.second_keyword_2kw, x.third_keyword_2kw, \n",
    "                       x.first_keyword_3kw, x.second_keyword_3kw, x.third_keyword_3kw,\n",
    "                       x.first_keyword_4kw, x.second_keyword_4kw, x.third_keyword_4kw]:\n",
    "        \n",
    "        if str(annotation) != 'nan':\n",
    "            all_annotation.append(str(annotation))\n",
    "    return list(set(all_annotation))\n",
    "    \n",
    "biomedNLP_kw_scores['predicted_annotation'] = biomedNLP_kw_scores.apply(lambda x: func(x), axis=1)"
   ]
  },
  {
   "cell_type": "code",
   "execution_count": 90,
   "id": "005e8d3e",
   "metadata": {},
   "outputs": [],
   "source": [
    "def func(x):\n",
    "    all_annotation = []\n",
    "    for annotation in [x.first_keyword_2kw, x.second_keyword_2kw, x.third_keyword_2kw, \n",
    "                       x.first_keyword_3kw, x.second_keyword_3kw, x.third_keyword_3kw,\n",
    "                       x.first_keyword_4kw, x.second_keyword_4kw, x.third_keyword_4kw]:\n",
    "        \n",
    "        if str(annotation) != 'nan':\n",
    "            all_annotation.append(str(annotation))\n",
    "    return list(set(all_annotation))\n",
    "    \n",
    "distillroerta_kw_scores['predicted_annotation'] = distillroerta_kw_scores.apply(lambda x: func(x), axis=1)"
   ]
  },
  {
   "cell_type": "code",
   "execution_count": 91,
   "id": "5ba92969",
   "metadata": {},
   "outputs": [],
   "source": [
    "#saving final annotations file\n",
    "bioclinical_kw_scores.to_csv(\"10kfinal_annotations_bioclinical.csv\")\n",
    "biomedNLP_kw_scores.to_csv(\"10kfinal_annotations_biomedNLP.csv\")\n",
    "distillroerta_kw_scores.to_csv(\"10kfinal_annotations_distillroberta.csv\")"
   ]
  },
  {
   "cell_type": "markdown",
   "id": "f7e33384",
   "metadata": {},
   "source": [
    "## Evaluation Phase 1 : Using Fuzzy Wuzzy Techniques"
   ]
  },
  {
   "cell_type": "code",
   "execution_count": 9,
   "id": "2f1433bc",
   "metadata": {},
   "outputs": [
    {
     "name": "stderr",
     "output_type": "stream",
     "text": [
      "/Users/aishwariyagupta/Desktop/personal/personal_venv/lib/python3.10/site-packages/thefuzz/fuzz.py:11: UserWarning: Using slow pure-python SequenceMatcher. Install python-Levenshtein to remove this warning\n",
      "  warnings.warn('Using slow pure-python SequenceMatcher. Install python-Levenshtein to remove this warning')\n"
     ]
    }
   ],
   "source": [
    "from thefuzz import fuzz\n",
    "from thefuzz import process"
   ]
  },
  {
   "cell_type": "code",
   "execution_count": 93,
   "id": "4ae41b65",
   "metadata": {},
   "outputs": [
    {
     "name": "stderr",
     "output_type": "stream",
     "text": [
      "/var/folders/_l/b6xwsf494bjcy6h68bqlx5jh0000gn/T/ipykernel_2917/2572620007.py:1: DtypeWarning: Columns (12) have mixed types. Specify dtype option on import or set low_memory=False.\n",
      "  test_vaersdata = pd.read_csv('../Datasets/2023VAERSData/2023VAERSDATA.csv', encoding= 'unicode_escape')\n"
     ]
    }
   ],
   "source": [
    "test_vaersdata = pd.read_csv('../Datasets/2023VAERSData/2023VAERSDATA.csv', encoding= 'unicode_escape')"
   ]
  },
  {
   "cell_type": "code",
   "execution_count": 94,
   "id": "b42bf557",
   "metadata": {},
   "outputs": [],
   "source": [
    "bioclincialtest_vaersdata = test_vaersdata.merge(bioclinical_kw_scores[['VAERS_ID', 'pn_history_preprocessed']], on=['VAERS_ID'], how='left')"
   ]
  },
  {
   "cell_type": "code",
   "execution_count": 95,
   "id": "2d372a54",
   "metadata": {},
   "outputs": [],
   "source": [
    "distillrobertatest_vaersdata = test_vaersdata.merge(distillroerta_kw_scores[['VAERS_ID', 'pn_history_preprocessed']], on=['VAERS_ID'], how='left')"
   ]
  },
  {
   "cell_type": "code",
   "execution_count": 96,
   "id": "0ae797ac",
   "metadata": {},
   "outputs": [],
   "source": [
    "biomedNLPtest_vaersdata = test_vaersdata.merge(biomedNLP_kw_scores[['VAERS_ID', 'pn_history_preprocessed']], on=['VAERS_ID'], how='left')"
   ]
  },
  {
   "cell_type": "code",
   "execution_count": 97,
   "id": "e9d87b56",
   "metadata": {},
   "outputs": [
    {
     "name": "stderr",
     "output_type": "stream",
     "text": [
      "/var/folders/_l/b6xwsf494bjcy6h68bqlx5jh0000gn/T/ipykernel_2917/3899791633.py:1: DtypeWarning: Columns (12) have mixed types. Specify dtype option on import or set low_memory=False.\n",
      "  vaersdata = pd.read_csv('../Datasets/2023VAERSData/2023VAERSDATA.csv', encoding= 'unicode_escape')\n"
     ]
    }
   ],
   "source": [
    "vaersdata = pd.read_csv('../Datasets/2023VAERSData/2023VAERSDATA.csv', encoding= 'unicode_escape')"
   ]
  },
  {
   "cell_type": "code",
   "execution_count": 98,
   "id": "2c08ad08",
   "metadata": {},
   "outputs": [],
   "source": [
    "vaersdata_SYMPTOMS = pd.read_csv('../Datasets/2023VAERSData/2023VAERSSYMPTOMS.csv')"
   ]
  },
  {
   "cell_type": "code",
   "execution_count": 99,
   "id": "d522054a",
   "metadata": {},
   "outputs": [
    {
     "data": {
      "text/html": [
       "<div>\n",
       "<style scoped>\n",
       "    .dataframe tbody tr th:only-of-type {\n",
       "        vertical-align: middle;\n",
       "    }\n",
       "\n",
       "    .dataframe tbody tr th {\n",
       "        vertical-align: top;\n",
       "    }\n",
       "\n",
       "    .dataframe thead th {\n",
       "        text-align: right;\n",
       "    }\n",
       "</style>\n",
       "<table border=\"1\" class=\"dataframe\">\n",
       "  <thead>\n",
       "    <tr style=\"text-align: right;\">\n",
       "      <th></th>\n",
       "      <th>VAERS_ID</th>\n",
       "      <th>SYMPTOM1</th>\n",
       "      <th>SYMPTOMVERSION1</th>\n",
       "      <th>SYMPTOM2</th>\n",
       "      <th>SYMPTOMVERSION2</th>\n",
       "      <th>SYMPTOM3</th>\n",
       "      <th>SYMPTOMVERSION3</th>\n",
       "      <th>SYMPTOM4</th>\n",
       "      <th>SYMPTOMVERSION4</th>\n",
       "      <th>SYMPTOM5</th>\n",
       "      <th>SYMPTOMVERSION5</th>\n",
       "    </tr>\n",
       "  </thead>\n",
       "  <tbody>\n",
       "    <tr>\n",
       "      <th>0</th>\n",
       "      <td>2547730</td>\n",
       "      <td>Blood pressure orthostatic abnormal</td>\n",
       "      <td>25.1</td>\n",
       "      <td>COVID-19</td>\n",
       "      <td>25.1</td>\n",
       "      <td>Coma</td>\n",
       "      <td>25.1</td>\n",
       "      <td>Computerised tomogram</td>\n",
       "      <td>25.1</td>\n",
       "      <td>Exposure to SARS-CoV-2</td>\n",
       "      <td>25.1</td>\n",
       "    </tr>\n",
       "  </tbody>\n",
       "</table>\n",
       "</div>"
      ],
      "text/plain": [
       "   VAERS_ID                             SYMPTOM1  SYMPTOMVERSION1  SYMPTOM2  \\\n",
       "0   2547730  Blood pressure orthostatic abnormal             25.1  COVID-19   \n",
       "\n",
       "   SYMPTOMVERSION2 SYMPTOM3  SYMPTOMVERSION3               SYMPTOM4  \\\n",
       "0             25.1     Coma             25.1  Computerised tomogram   \n",
       "\n",
       "   SYMPTOMVERSION4                SYMPTOM5  SYMPTOMVERSION5  \n",
       "0             25.1  Exposure to SARS-CoV-2             25.1  "
      ]
     },
     "execution_count": 99,
     "metadata": {},
     "output_type": "execute_result"
    }
   ],
   "source": [
    "vaersdata_SYMPTOMS.head(1)"
   ]
  },
  {
   "cell_type": "code",
   "execution_count": 100,
   "id": "d7d95796",
   "metadata": {},
   "outputs": [],
   "source": [
    "vaersdata_SYMPTOMS=vaersdata_SYMPTOMS.drop(columns=[\"SYMPTOMVERSION1\",\"SYMPTOMVERSION2\",\"SYMPTOMVERSION3\",\"SYMPTOMVERSION4\",\"SYMPTOMVERSION5\"])"
   ]
  },
  {
   "cell_type": "code",
   "execution_count": 101,
   "id": "79ba0fba",
   "metadata": {},
   "outputs": [],
   "source": [
    "vaersdata_SYMPTOMS= vaersdata_SYMPTOMS.groupby([\"VAERS_ID\"]).agg(SYMPTOM1=(\"SYMPTOM1\", \",\".join)).reset_index()"
   ]
  },
  {
   "cell_type": "code",
   "execution_count": 102,
   "id": "09d6ea13",
   "metadata": {},
   "outputs": [],
   "source": [
    "vaersdata_SYMPTOMS=vaersdata_SYMPTOMS.rename(columns={\"SYMPTOM1\":\"ground_truth_annotation\"})"
   ]
  },
  {
   "cell_type": "code",
   "execution_count": 103,
   "id": "1021158f",
   "metadata": {},
   "outputs": [
    {
     "data": {
      "text/html": [
       "<div>\n",
       "<style scoped>\n",
       "    .dataframe tbody tr th:only-of-type {\n",
       "        vertical-align: middle;\n",
       "    }\n",
       "\n",
       "    .dataframe tbody tr th {\n",
       "        vertical-align: top;\n",
       "    }\n",
       "\n",
       "    .dataframe thead th {\n",
       "        text-align: right;\n",
       "    }\n",
       "</style>\n",
       "<table border=\"1\" class=\"dataframe\">\n",
       "  <thead>\n",
       "    <tr style=\"text-align: right;\">\n",
       "      <th></th>\n",
       "      <th>VAERS_ID</th>\n",
       "      <th>ground_truth_annotation</th>\n",
       "    </tr>\n",
       "  </thead>\n",
       "  <tbody>\n",
       "    <tr>\n",
       "      <th>0</th>\n",
       "      <td>2547730</td>\n",
       "      <td>Blood pressure orthostatic abnormal,Head injur...</td>\n",
       "    </tr>\n",
       "  </tbody>\n",
       "</table>\n",
       "</div>"
      ],
      "text/plain": [
       "   VAERS_ID                            ground_truth_annotation\n",
       "0   2547730  Blood pressure orthostatic abnormal,Head injur..."
      ]
     },
     "execution_count": 103,
     "metadata": {},
     "output_type": "execute_result"
    }
   ],
   "source": [
    "vaersdata_SYMPTOMS.head(1)"
   ]
  },
  {
   "cell_type": "markdown",
   "id": "3ad847fc",
   "metadata": {},
   "source": [
    "### Bioclinical Model"
   ]
  },
  {
   "cell_type": "code",
   "execution_count": 104,
   "id": "ae7d45e9",
   "metadata": {},
   "outputs": [],
   "source": [
    "bioclinical_predicted = bioclinical_kw_scores[[\"VAERS_ID\",\"predicted_annotation\"]]"
   ]
  },
  {
   "cell_type": "code",
   "execution_count": 105,
   "id": "9cb500df",
   "metadata": {},
   "outputs": [],
   "source": [
    "bioclinical_eval_data= bioclinical_predicted.merge(vaersdata_SYMPTOMS, on = \"VAERS_ID\")"
   ]
  },
  {
   "cell_type": "code",
   "execution_count": 106,
   "id": "4f5b9c78",
   "metadata": {},
   "outputs": [],
   "source": [
    "bioclinical_eval_data = bioclinical_eval_data.explode(['predicted_annotation'])\n",
    "bioclinical_eval_data = bioclinical_eval_data.assign(ground_truth_annotation=bioclinical_eval_data['ground_truth_annotation'].str.split(',')).explode('ground_truth_annotation')\n"
   ]
  },
  {
   "cell_type": "code",
   "execution_count": 122,
   "id": "9aca28cf",
   "metadata": {},
   "outputs": [],
   "source": [
    "bioclinical_eval_data.to_csv(\"10kbioclinical_eval_data.csv\")\n",
    "biomednlp_eval_data.to_csv(\"10kbiomednlp_eval_data.csv\")\n",
    "distillroberta_eval_data.to_csv(\"10kdistillroberta_eval_data.csv\")"
   ]
  },
  {
   "cell_type": "markdown",
   "id": "d61338a5",
   "metadata": {},
   "source": [
    "## BioMedNLP model"
   ]
  },
  {
   "cell_type": "code",
   "execution_count": 6,
   "id": "c36c9319",
   "metadata": {},
   "outputs": [],
   "source": [
    "biomednlp_predicted = biomedNLP_kw_scores[[\"VAERS_ID\",\"predicted_annotation\"]]"
   ]
  },
  {
   "cell_type": "code",
   "execution_count": 110,
   "id": "12cc25f7",
   "metadata": {},
   "outputs": [],
   "source": [
    "biomednlp_eval_data= biomednlp_predicted.merge(vaersdata_SYMPTOMS, on = \"VAERS_ID\")"
   ]
  },
  {
   "cell_type": "code",
   "execution_count": 111,
   "id": "d1a74cdd",
   "metadata": {},
   "outputs": [],
   "source": [
    "biomednlp_eval_data = biomednlp_eval_data.explode(['predicted_annotation'])\n",
    "biomednlp_eval_data = biomednlp_eval_data.assign(ground_truth_annotation=biomednlp_eval_data['ground_truth_annotation'].str.split(',')).explode('ground_truth_annotation')\n"
   ]
  },
  {
   "cell_type": "markdown",
   "id": "5b9962ea",
   "metadata": {},
   "source": [
    "## Distillroberta model"
   ]
  },
  {
   "cell_type": "code",
   "execution_count": 113,
   "id": "8ae3755e",
   "metadata": {},
   "outputs": [
    {
     "data": {
      "text/html": [
       "<div>\n",
       "<style scoped>\n",
       "    .dataframe tbody tr th:only-of-type {\n",
       "        vertical-align: middle;\n",
       "    }\n",
       "\n",
       "    .dataframe tbody tr th {\n",
       "        vertical-align: top;\n",
       "    }\n",
       "\n",
       "    .dataframe thead th {\n",
       "        text-align: right;\n",
       "    }\n",
       "</style>\n",
       "<table border=\"1\" class=\"dataframe\">\n",
       "  <thead>\n",
       "    <tr style=\"text-align: right;\">\n",
       "      <th></th>\n",
       "      <th>VAERS_ID</th>\n",
       "      <th>predicted_annotation</th>\n",
       "      <th>ground_truth_annotation</th>\n",
       "    </tr>\n",
       "  </thead>\n",
       "  <tbody>\n",
       "    <tr>\n",
       "      <th>0</th>\n",
       "      <td>2547730</td>\n",
       "      <td>patient exposed covid</td>\n",
       "      <td>Blood pressure orthostatic abnormal</td>\n",
       "    </tr>\n",
       "    <tr>\n",
       "      <th>0</th>\n",
       "      <td>2547730</td>\n",
       "      <td>patient exposed covid</td>\n",
       "      <td>Head injury</td>\n",
       "    </tr>\n",
       "    <tr>\n",
       "      <th>0</th>\n",
       "      <td>2547730</td>\n",
       "      <td>patient exposed covid</td>\n",
       "      <td>SARS-CoV-2 test positive</td>\n",
       "    </tr>\n",
       "    <tr>\n",
       "      <th>0</th>\n",
       "      <td>2547730</td>\n",
       "      <td>tested positive covid</td>\n",
       "      <td>Blood pressure orthostatic abnormal</td>\n",
       "    </tr>\n",
       "    <tr>\n",
       "      <th>0</th>\n",
       "      <td>2547730</td>\n",
       "      <td>tested positive covid</td>\n",
       "      <td>Head injury</td>\n",
       "    </tr>\n",
       "  </tbody>\n",
       "</table>\n",
       "</div>"
      ],
      "text/plain": [
       "   VAERS_ID   predicted_annotation              ground_truth_annotation\n",
       "0   2547730  patient exposed covid  Blood pressure orthostatic abnormal\n",
       "0   2547730  patient exposed covid                          Head injury\n",
       "0   2547730  patient exposed covid             SARS-CoV-2 test positive\n",
       "0   2547730  tested positive covid  Blood pressure orthostatic abnormal\n",
       "0   2547730  tested positive covid                          Head injury"
      ]
     },
     "execution_count": 113,
     "metadata": {},
     "output_type": "execute_result"
    }
   ],
   "source": [
    "distillroberta_predicted = distillroerta_kw_scores[[\"VAERS_ID\",\"predicted_annotation\"]]\n",
    "distillroberta_eval_data= distillroberta_predicted.merge(vaersdata_SYMPTOMS, on = \"VAERS_ID\")\n",
    "distillroberta_eval_data = distillroberta_eval_data.explode(['predicted_annotation'])\n",
    "distillroberta_eval_data = distillroberta_eval_data.assign(ground_truth_annotation=distillroberta_eval_data['ground_truth_annotation'].str.split(',')).explode('ground_truth_annotation')\n",
    "\n",
    "distillroberta_eval_data.head()"
   ]
  },
  {
   "cell_type": "code",
   "execution_count": 2,
   "id": "d7f59f7e",
   "metadata": {},
   "outputs": [],
   "source": [
    "biomednlp_eval_data = pd.read_csv(\"10kbiomednlp_eval_data.csv\")"
   ]
  },
  {
   "cell_type": "code",
   "execution_count": 10,
   "id": "b24305c4",
   "metadata": {},
   "outputs": [],
   "source": [
    "\n",
    "def get_fuzzy_wuzzy_score(x):\n",
    "    prediction = x['predicted_annotation']\n",
    "    label = x['ground_truth_annotation']\n",
    "    return fuzz.partial_ratio(prediction, label)\n",
    "\n",
    "biomednlp_eval_data.predicted_annotation= biomednlp_eval_data.predicted_annotation.astype(str)\n",
    "biomednlp_eval_data.ground_truth_annotation= biomednlp_eval_data.ground_truth_annotation.astype(str)\n",
    "\n",
    "biomednlp_eval_data['score'] = biomednlp_eval_data.apply(lambda x: get_fuzzy_wuzzy_score(x), axis=1)"
   ]
  },
  {
   "cell_type": "code",
   "execution_count": 11,
   "id": "68c592b0",
   "metadata": {
    "scrolled": true
   },
   "outputs": [],
   "source": [
    "bioclinical_eval_data = pd.read_csv(\"10kbioclinical_eval_data.csv\")\n",
    "bioclinical_eval_data.predicted_annotation= bioclinical_eval_data.predicted_annotation.astype(str)\n",
    "bioclinical_eval_data.ground_truth_annotation= bioclinical_eval_data.ground_truth_annotation.astype(str)\n",
    "\n",
    "bioclinical_eval_data['score'] = bioclinical_eval_data.apply(lambda x: get_fuzzy_wuzzy_score(x), axis=1)"
   ]
  },
  {
   "cell_type": "code",
   "execution_count": 12,
   "id": "07620c0d",
   "metadata": {},
   "outputs": [],
   "source": [
    "distillroberta_eval_data = pd.read_csv(\"10kdistillroberta_eval_data.csv\")\n",
    "\n",
    "distillroberta_eval_data.predicted_annotation= distillroberta_eval_data.predicted_annotation.astype(str)\n",
    "distillroberta_eval_data.ground_truth_annotation= distillroberta_eval_data.ground_truth_annotation.astype(str)\n",
    "\n",
    "distillroberta_eval_data['score'] = distillroberta_eval_data.apply(lambda x: get_fuzzy_wuzzy_score(x), axis=1)"
   ]
  },
  {
   "cell_type": "code",
   "execution_count": 225,
   "id": "89454695",
   "metadata": {},
   "outputs": [],
   "source": [
    "import seaborn as sns"
   ]
  },
  {
   "cell_type": "code",
   "execution_count": 226,
   "id": "05352ba9",
   "metadata": {},
   "outputs": [
    {
     "data": {
      "text/plain": [
       "<AxesSubplot:xlabel='score'>"
      ]
     },
     "execution_count": 226,
     "metadata": {},
     "output_type": "execute_result"
    },
    {
     "data": {
      "image/png": "[encoded data removed]",
      "text/plain": [
       "<Figure size 432x288 with 1 Axes>"
      ]
     },
     "metadata": {
      "needs_background": "light"
     },
     "output_type": "display_data"
    }
   ],
   "source": [
    "sns.distplot(biomednlp_eval_data.score)"
   ]
  },
  {
   "cell_type": "code",
   "execution_count": 227,
   "id": "5e6a0066",
   "metadata": {},
   "outputs": [
    {
     "data": {
      "text/plain": [
       "<AxesSubplot:xlabel='score'>"
      ]
     },
     "execution_count": 227,
     "metadata": {},
     "output_type": "execute_result"
    },
    {
     "data": {
      "image/png": "[encoded data removed]",
      "text/plain": [
       "<Figure size 432x288 with 1 Axes>"
      ]
     },
     "metadata": {
      "needs_background": "light"
     },
     "output_type": "display_data"
    }
   ],
   "source": [
    "sns.distplot(distillroberta_eval_data.score)"
   ]
  },
  {
   "cell_type": "code",
   "execution_count": 228,
   "id": "005bea4e",
   "metadata": {},
   "outputs": [
    {
     "data": {
      "text/plain": [
       "<AxesSubplot:xlabel='score'>"
      ]
     },
     "execution_count": 228,
     "metadata": {},
     "output_type": "execute_result"
    },
    {
     "data": {
      "image/png": "[encoded data removed]",
      "text/plain": [
       "<Figure size 432x288 with 1 Axes>"
      ]
     },
     "metadata": {
      "needs_background": "light"
     },
     "output_type": "display_data"
    }
   ],
   "source": [
    "sns.distplot(bioclinical_eval_data.score)"
   ]
  },
  {
   "cell_type": "code",
   "execution_count": 229,
   "id": "9ef26610",
   "metadata": {},
   "outputs": [
    {
     "data": {
      "text/html": [
       "<div>\n",
       "<style scoped>\n",
       "    .dataframe tbody tr th:only-of-type {\n",
       "        vertical-align: middle;\n",
       "    }\n",
       "\n",
       "    .dataframe tbody tr th {\n",
       "        vertical-align: top;\n",
       "    }\n",
       "\n",
       "    .dataframe thead th {\n",
       "        text-align: right;\n",
       "    }\n",
       "</style>\n",
       "<table border=\"1\" class=\"dataframe\">\n",
       "  <thead>\n",
       "    <tr style=\"text-align: right;\">\n",
       "      <th></th>\n",
       "      <th>VAERS_ID</th>\n",
       "      <th>predicted_annotation</th>\n",
       "      <th>ground_truth_annotation</th>\n",
       "      <th>score</th>\n",
       "    </tr>\n",
       "  </thead>\n",
       "  <tbody>\n",
       "    <tr>\n",
       "      <th>0</th>\n",
       "      <td>2547730</td>\n",
       "      <td>severe orthostatic</td>\n",
       "      <td>Blood pressure orthostatic abnormal</td>\n",
       "      <td>83</td>\n",
       "    </tr>\n",
       "  </tbody>\n",
       "</table>\n",
       "</div>"
      ],
      "text/plain": [
       "   VAERS_ID predicted_annotation              ground_truth_annotation  score\n",
       "0   2547730   severe orthostatic  Blood pressure orthostatic abnormal     83"
      ]
     },
     "execution_count": 229,
     "metadata": {},
     "output_type": "execute_result"
    }
   ],
   "source": [
    "bioclinical_eval_data.head(1)"
   ]
  },
  {
   "cell_type": "markdown",
   "id": "b2353cee",
   "metadata": {},
   "source": [
    "# Bioclinical Results"
   ]
  },
  {
   "cell_type": "markdown",
   "id": "26396cc6",
   "metadata": {},
   "source": [
    "# at 20%, 40% and 60% Threshold"
   ]
  },
  {
   "cell_type": "markdown",
   "id": "a3d3ecb2",
   "metadata": {},
   "source": [
    "## Precision"
   ]
  },
  {
   "cell_type": "code",
   "execution_count": 62,
   "id": "1525f506",
   "metadata": {},
   "outputs": [],
   "source": [
    "def relevance(x, threshold):\n",
    "    all_predictions = x.groupby(['predicted_annotation']).agg({'score': 'max'}).reset_index()\n",
    "    found_predictions = len(all_predictions[all_predictions['score'] >= threshold])\n",
    "    return found_predictions, len(all_predictions)"
   ]
  },
  {
   "cell_type": "code",
   "execution_count": 63,
   "id": "170f9ae8",
   "metadata": {},
   "outputs": [],
   "source": [
    "threshold_values = [20,40,60]\n",
    "all_relevant_predictions = pd.DataFrame()\n",
    "\n",
    "for threshold_val in threshold_values:\n",
    "    relevant_predictions = bioclinical_eval_data.groupby(['VAERS_ID']).apply(lambda x: relevance(x, threshold=threshold_val))\n",
    "    relevant_predictions = relevant_predictions.reset_index()\n",
    "    relevant_predictions = pd.DataFrame(relevant_predictions[0].tolist(), index=relevant_predictions.VAERS_ID)\\\n",
    "                            .rename(columns={0:f'found_labels', 1:f'total_predictions'})\\\n",
    "                            .reset_index()\n",
    "    relevant_predictions[f'precision'] = relevant_predictions[f'found_labels'] / relevant_predictions[f'total_predictions']\n",
    "    relevant_predictions['threshold'] = threshold_val\n",
    "    all_relevant_predictions = pd.concat([all_relevant_predictions, relevant_predictions], axis=0)"
   ]
  },
  {
   "cell_type": "code",
   "execution_count": 64,
   "id": "f612d62e",
   "metadata": {},
   "outputs": [
    {
     "data": {
      "text/html": [
       "<div>\n",
       "<style scoped>\n",
       "    .dataframe tbody tr th:only-of-type {\n",
       "        vertical-align: middle;\n",
       "    }\n",
       "\n",
       "    .dataframe tbody tr th {\n",
       "        vertical-align: top;\n",
       "    }\n",
       "\n",
       "    .dataframe thead th {\n",
       "        text-align: right;\n",
       "    }\n",
       "</style>\n",
       "<table border=\"1\" class=\"dataframe\">\n",
       "  <thead>\n",
       "    <tr style=\"text-align: right;\">\n",
       "      <th></th>\n",
       "      <th>VAERS_ID</th>\n",
       "      <th>found_labels</th>\n",
       "      <th>total_predictions</th>\n",
       "      <th>precision</th>\n",
       "      <th>threshold</th>\n",
       "    </tr>\n",
       "  </thead>\n",
       "  <tbody>\n",
       "    <tr>\n",
       "      <th>0</th>\n",
       "      <td>2547730</td>\n",
       "      <td>5</td>\n",
       "      <td>6</td>\n",
       "      <td>0.833333</td>\n",
       "      <td>20</td>\n",
       "    </tr>\n",
       "    <tr>\n",
       "      <th>1</th>\n",
       "      <td>2547731</td>\n",
       "      <td>5</td>\n",
       "      <td>5</td>\n",
       "      <td>1.000000</td>\n",
       "      <td>20</td>\n",
       "    </tr>\n",
       "    <tr>\n",
       "      <th>2</th>\n",
       "      <td>2547732</td>\n",
       "      <td>9</td>\n",
       "      <td>9</td>\n",
       "      <td>1.000000</td>\n",
       "      <td>20</td>\n",
       "    </tr>\n",
       "    <tr>\n",
       "      <th>3</th>\n",
       "      <td>2547733</td>\n",
       "      <td>7</td>\n",
       "      <td>7</td>\n",
       "      <td>1.000000</td>\n",
       "      <td>20</td>\n",
       "    </tr>\n",
       "    <tr>\n",
       "      <th>4</th>\n",
       "      <td>2547734</td>\n",
       "      <td>6</td>\n",
       "      <td>7</td>\n",
       "      <td>0.857143</td>\n",
       "      <td>20</td>\n",
       "    </tr>\n",
       "  </tbody>\n",
       "</table>\n",
       "</div>"
      ],
      "text/plain": [
       "   VAERS_ID  found_labels  total_predictions  precision  threshold\n",
       "0   2547730             5                  6   0.833333         20\n",
       "1   2547731             5                  5   1.000000         20\n",
       "2   2547732             9                  9   1.000000         20\n",
       "3   2547733             7                  7   1.000000         20\n",
       "4   2547734             6                  7   0.857143         20"
      ]
     },
     "execution_count": 64,
     "metadata": {},
     "output_type": "execute_result"
    }
   ],
   "source": [
    "all_relevant_predictions.head()"
   ]
  },
  {
   "cell_type": "markdown",
   "id": "ca899df8",
   "metadata": {},
   "source": [
    "## Recall"
   ]
  },
  {
   "cell_type": "code",
   "execution_count": 65,
   "id": "755c301e",
   "metadata": {},
   "outputs": [],
   "source": [
    "def retrieval(x, threshold):\n",
    "    all_labels = x.groupby(['ground_truth_annotation']).agg({'score': 'max'}).reset_index()\n",
    "    found_labels = len(all_labels[all_labels['score'] >= threshold])\n",
    "    total_predictions = x['predicted_annotation'].nunique()\n",
    "    \n",
    "    return found_labels, len(all_labels)"
   ]
  },
  {
   "cell_type": "code",
   "execution_count": 66,
   "id": "cbe37c4d",
   "metadata": {},
   "outputs": [],
   "source": [
    "threshold_values = [20,40,60]\n",
    "all_retrieved_predictions = pd.DataFrame()\n",
    "\n",
    "for threshold_val in threshold_values:\n",
    "    retrieved_labels = bioclinical_eval_data.groupby(['VAERS_ID']).apply(lambda x: retrieval(x, threshold=threshold_val))\n",
    "    retrieved_labels = retrieved_labels.reset_index()\n",
    "    retrieved_labels = pd.DataFrame(retrieved_labels[0].tolist(), index=retrieved_labels.VAERS_ID)\\\n",
    "                        .rename(columns={0:f'found_predictions', 1:f'total_labels'})\\\n",
    "                        .reset_index()\n",
    "    retrieved_labels['recall'] = retrieved_labels[f'found_predictions'] / retrieved_labels[f'total_labels']\n",
    "    retrieved_labels['threshold'] = threshold_val\n",
    "    all_retrieved_predictions = pd.concat([all_retrieved_predictions, retrieved_labels], axis=0)"
   ]
  },
  {
   "cell_type": "code",
   "execution_count": 67,
   "id": "6caecde3",
   "metadata": {},
   "outputs": [
    {
     "data": {
      "text/html": [
       "<div>\n",
       "<style scoped>\n",
       "    .dataframe tbody tr th:only-of-type {\n",
       "        vertical-align: middle;\n",
       "    }\n",
       "\n",
       "    .dataframe tbody tr th {\n",
       "        vertical-align: top;\n",
       "    }\n",
       "\n",
       "    .dataframe thead th {\n",
       "        text-align: right;\n",
       "    }\n",
       "</style>\n",
       "<table border=\"1\" class=\"dataframe\">\n",
       "  <thead>\n",
       "    <tr style=\"text-align: right;\">\n",
       "      <th></th>\n",
       "      <th>VAERS_ID</th>\n",
       "      <th>found_predictions</th>\n",
       "      <th>total_labels</th>\n",
       "      <th>recall</th>\n",
       "      <th>threshold</th>\n",
       "    </tr>\n",
       "  </thead>\n",
       "  <tbody>\n",
       "    <tr>\n",
       "      <th>0</th>\n",
       "      <td>2547730</td>\n",
       "      <td>3</td>\n",
       "      <td>3</td>\n",
       "      <td>1.0</td>\n",
       "      <td>20</td>\n",
       "    </tr>\n",
       "    <tr>\n",
       "      <th>1</th>\n",
       "      <td>2547731</td>\n",
       "      <td>1</td>\n",
       "      <td>1</td>\n",
       "      <td>1.0</td>\n",
       "      <td>20</td>\n",
       "    </tr>\n",
       "    <tr>\n",
       "      <th>2</th>\n",
       "      <td>2547732</td>\n",
       "      <td>1</td>\n",
       "      <td>1</td>\n",
       "      <td>1.0</td>\n",
       "      <td>20</td>\n",
       "    </tr>\n",
       "    <tr>\n",
       "      <th>3</th>\n",
       "      <td>2547733</td>\n",
       "      <td>1</td>\n",
       "      <td>1</td>\n",
       "      <td>1.0</td>\n",
       "      <td>20</td>\n",
       "    </tr>\n",
       "    <tr>\n",
       "      <th>4</th>\n",
       "      <td>2547734</td>\n",
       "      <td>1</td>\n",
       "      <td>1</td>\n",
       "      <td>1.0</td>\n",
       "      <td>20</td>\n",
       "    </tr>\n",
       "  </tbody>\n",
       "</table>\n",
       "</div>"
      ],
      "text/plain": [
       "   VAERS_ID  found_predictions  total_labels  recall  threshold\n",
       "0   2547730                  3             3     1.0         20\n",
       "1   2547731                  1             1     1.0         20\n",
       "2   2547732                  1             1     1.0         20\n",
       "3   2547733                  1             1     1.0         20\n",
       "4   2547734                  1             1     1.0         20"
      ]
     },
     "execution_count": 67,
     "metadata": {},
     "output_type": "execute_result"
    }
   ],
   "source": [
    "all_retrieved_predictions.head(5)"
   ]
  },
  {
   "cell_type": "code",
   "execution_count": 68,
   "id": "8f36b363",
   "metadata": {},
   "outputs": [
    {
     "data": {
      "text/html": [
       "<div>\n",
       "<style scoped>\n",
       "    .dataframe tbody tr th:only-of-type {\n",
       "        vertical-align: middle;\n",
       "    }\n",
       "\n",
       "    .dataframe tbody tr th {\n",
       "        vertical-align: top;\n",
       "    }\n",
       "\n",
       "    .dataframe thead th {\n",
       "        text-align: right;\n",
       "    }\n",
       "</style>\n",
       "<table border=\"1\" class=\"dataframe\">\n",
       "  <thead>\n",
       "    <tr style=\"text-align: right;\">\n",
       "      <th></th>\n",
       "      <th>VAERS_ID</th>\n",
       "      <th>threshold</th>\n",
       "      <th>total_labels</th>\n",
       "      <th>total_predictions</th>\n",
       "      <th>found_labels</th>\n",
       "      <th>found_predictions</th>\n",
       "      <th>recall</th>\n",
       "      <th>precision</th>\n",
       "      <th>f1_score</th>\n",
       "    </tr>\n",
       "  </thead>\n",
       "  <tbody>\n",
       "    <tr>\n",
       "      <th>0</th>\n",
       "      <td>2547730</td>\n",
       "      <td>20</td>\n",
       "      <td>3</td>\n",
       "      <td>6</td>\n",
       "      <td>5</td>\n",
       "      <td>3</td>\n",
       "      <td>1.000000</td>\n",
       "      <td>0.833333</td>\n",
       "      <td>0.909091</td>\n",
       "    </tr>\n",
       "    <tr>\n",
       "      <th>1</th>\n",
       "      <td>2547731</td>\n",
       "      <td>20</td>\n",
       "      <td>1</td>\n",
       "      <td>5</td>\n",
       "      <td>5</td>\n",
       "      <td>1</td>\n",
       "      <td>1.000000</td>\n",
       "      <td>1.000000</td>\n",
       "      <td>1.000000</td>\n",
       "    </tr>\n",
       "    <tr>\n",
       "      <th>2</th>\n",
       "      <td>2547732</td>\n",
       "      <td>20</td>\n",
       "      <td>1</td>\n",
       "      <td>9</td>\n",
       "      <td>9</td>\n",
       "      <td>1</td>\n",
       "      <td>1.000000</td>\n",
       "      <td>1.000000</td>\n",
       "      <td>1.000000</td>\n",
       "    </tr>\n",
       "    <tr>\n",
       "      <th>3</th>\n",
       "      <td>2547733</td>\n",
       "      <td>20</td>\n",
       "      <td>1</td>\n",
       "      <td>7</td>\n",
       "      <td>7</td>\n",
       "      <td>1</td>\n",
       "      <td>1.000000</td>\n",
       "      <td>1.000000</td>\n",
       "      <td>1.000000</td>\n",
       "    </tr>\n",
       "    <tr>\n",
       "      <th>4</th>\n",
       "      <td>2547734</td>\n",
       "      <td>20</td>\n",
       "      <td>1</td>\n",
       "      <td>7</td>\n",
       "      <td>6</td>\n",
       "      <td>1</td>\n",
       "      <td>1.000000</td>\n",
       "      <td>0.857143</td>\n",
       "      <td>0.923077</td>\n",
       "    </tr>\n",
       "    <tr>\n",
       "      <th>...</th>\n",
       "      <td>...</td>\n",
       "      <td>...</td>\n",
       "      <td>...</td>\n",
       "      <td>...</td>\n",
       "      <td>...</td>\n",
       "      <td>...</td>\n",
       "      <td>...</td>\n",
       "      <td>...</td>\n",
       "      <td>...</td>\n",
       "    </tr>\n",
       "    <tr>\n",
       "      <th>29995</th>\n",
       "      <td>2565380</td>\n",
       "      <td>60</td>\n",
       "      <td>1</td>\n",
       "      <td>6</td>\n",
       "      <td>0</td>\n",
       "      <td>0</td>\n",
       "      <td>0.000000</td>\n",
       "      <td>0.000000</td>\n",
       "      <td>NaN</td>\n",
       "    </tr>\n",
       "    <tr>\n",
       "      <th>29996</th>\n",
       "      <td>2565382</td>\n",
       "      <td>60</td>\n",
       "      <td>1</td>\n",
       "      <td>7</td>\n",
       "      <td>0</td>\n",
       "      <td>0</td>\n",
       "      <td>0.000000</td>\n",
       "      <td>0.000000</td>\n",
       "      <td>NaN</td>\n",
       "    </tr>\n",
       "    <tr>\n",
       "      <th>29997</th>\n",
       "      <td>2565482</td>\n",
       "      <td>60</td>\n",
       "      <td>3</td>\n",
       "      <td>8</td>\n",
       "      <td>1</td>\n",
       "      <td>1</td>\n",
       "      <td>0.333333</td>\n",
       "      <td>0.125000</td>\n",
       "      <td>0.181818</td>\n",
       "    </tr>\n",
       "    <tr>\n",
       "      <th>29998</th>\n",
       "      <td>2565486</td>\n",
       "      <td>60</td>\n",
       "      <td>2</td>\n",
       "      <td>7</td>\n",
       "      <td>0</td>\n",
       "      <td>0</td>\n",
       "      <td>0.000000</td>\n",
       "      <td>0.000000</td>\n",
       "      <td>NaN</td>\n",
       "    </tr>\n",
       "    <tr>\n",
       "      <th>29999</th>\n",
       "      <td>2567446</td>\n",
       "      <td>60</td>\n",
       "      <td>1</td>\n",
       "      <td>5</td>\n",
       "      <td>2</td>\n",
       "      <td>1</td>\n",
       "      <td>1.000000</td>\n",
       "      <td>0.400000</td>\n",
       "      <td>0.571429</td>\n",
       "    </tr>\n",
       "  </tbody>\n",
       "</table>\n",
       "<p>30000 rows × 9 columns</p>\n",
       "</div>"
      ],
      "text/plain": [
       "       VAERS_ID  threshold  total_labels  total_predictions  found_labels  \\\n",
       "0       2547730         20             3                  6             5   \n",
       "1       2547731         20             1                  5             5   \n",
       "2       2547732         20             1                  9             9   \n",
       "3       2547733         20             1                  7             7   \n",
       "4       2547734         20             1                  7             6   \n",
       "...         ...        ...           ...                ...           ...   \n",
       "29995   2565380         60             1                  6             0   \n",
       "29996   2565382         60             1                  7             0   \n",
       "29997   2565482         60             3                  8             1   \n",
       "29998   2565486         60             2                  7             0   \n",
       "29999   2567446         60             1                  5             2   \n",
       "\n",
       "       found_predictions    recall  precision  f1_score  \n",
       "0                      3  1.000000   0.833333  0.909091  \n",
       "1                      1  1.000000   1.000000  1.000000  \n",
       "2                      1  1.000000   1.000000  1.000000  \n",
       "3                      1  1.000000   1.000000  1.000000  \n",
       "4                      1  1.000000   0.857143  0.923077  \n",
       "...                  ...       ...        ...       ...  \n",
       "29995                  0  0.000000   0.000000       NaN  \n",
       "29996                  0  0.000000   0.000000       NaN  \n",
       "29997                  1  0.333333   0.125000  0.181818  \n",
       "29998                  0  0.000000   0.000000       NaN  \n",
       "29999                  1  1.000000   0.400000  0.571429  \n",
       "\n",
       "[30000 rows x 9 columns]"
      ]
     },
     "execution_count": 68,
     "metadata": {},
     "output_type": "execute_result"
    }
   ],
   "source": [
    "bioclinical_results = all_retrieved_predictions.merge(all_relevant_predictions, how='left', on=['VAERS_ID','threshold'])\n",
    "bioclinical_results = bioclinical_results[['VAERS_ID', 'threshold', 'total_labels', 'total_predictions', 'found_labels', 'found_predictions', 'recall', 'precision']]\n",
    "\n",
    "bioclinical_results['f1_score'] = 2 * (bioclinical_results['recall'] * bioclinical_results['precision']) / (bioclinical_results['recall'] + bioclinical_results['precision'])\n",
    "bioclinical_results"
   ]
  },
  {
   "cell_type": "code",
   "execution_count": 69,
   "id": "60747b4c",
   "metadata": {},
   "outputs": [],
   "source": [
    "bioclinical_results.to_csv(\"10ktest_bioclinical_results.csv\")"
   ]
  },
  {
   "cell_type": "markdown",
   "id": "ae0d4c50",
   "metadata": {},
   "source": [
    "# BiomedNLP Results"
   ]
  },
  {
   "cell_type": "markdown",
   "id": "415b9932",
   "metadata": {},
   "source": [
    "## Precision"
   ]
  },
  {
   "cell_type": "code",
   "execution_count": 70,
   "id": "fb19f115",
   "metadata": {},
   "outputs": [],
   "source": [
    "threshold_values = [20,40,60]\n",
    "all_relevant_predictions = pd.DataFrame()\n",
    "\n",
    "for threshold_val in threshold_values:\n",
    "    relevant_predictions = biomednlp_eval_data.groupby(['VAERS_ID']).apply(lambda x: relevance(x, threshold=threshold_val))\n",
    "    relevant_predictions = relevant_predictions.reset_index()\n",
    "    relevant_predictions = pd.DataFrame(relevant_predictions[0].tolist(), index=relevant_predictions.VAERS_ID)\\\n",
    "                            .rename(columns={0:f'found_labels', 1:f'total_predictions'})\\\n",
    "                            .reset_index()\n",
    "    relevant_predictions[f'precision'] = relevant_predictions[f'found_labels'] / relevant_predictions[f'total_predictions']\n",
    "    relevant_predictions['threshold'] = threshold_val\n",
    "    all_relevant_predictions = pd.concat([all_relevant_predictions, relevant_predictions], axis=0)"
   ]
  },
  {
   "cell_type": "code",
   "execution_count": 75,
   "id": "3188b588",
   "metadata": {},
   "outputs": [
    {
     "data": {
      "text/html": [
       "<div>\n",
       "<style scoped>\n",
       "    .dataframe tbody tr th:only-of-type {\n",
       "        vertical-align: middle;\n",
       "    }\n",
       "\n",
       "    .dataframe tbody tr th {\n",
       "        vertical-align: top;\n",
       "    }\n",
       "\n",
       "    .dataframe thead th {\n",
       "        text-align: right;\n",
       "    }\n",
       "</style>\n",
       "<table border=\"1\" class=\"dataframe\">\n",
       "  <thead>\n",
       "    <tr style=\"text-align: right;\">\n",
       "      <th></th>\n",
       "      <th>VAERS_ID</th>\n",
       "      <th>found_labels</th>\n",
       "      <th>total_predictions</th>\n",
       "      <th>precision</th>\n",
       "      <th>threshold</th>\n",
       "    </tr>\n",
       "  </thead>\n",
       "  <tbody>\n",
       "    <tr>\n",
       "      <th>0</th>\n",
       "      <td>2547730</td>\n",
       "      <td>5</td>\n",
       "      <td>6</td>\n",
       "      <td>0.833333</td>\n",
       "      <td>20</td>\n",
       "    </tr>\n",
       "    <tr>\n",
       "      <th>1</th>\n",
       "      <td>2547731</td>\n",
       "      <td>5</td>\n",
       "      <td>5</td>\n",
       "      <td>1.000000</td>\n",
       "      <td>20</td>\n",
       "    </tr>\n",
       "    <tr>\n",
       "      <th>2</th>\n",
       "      <td>2547732</td>\n",
       "      <td>8</td>\n",
       "      <td>8</td>\n",
       "      <td>1.000000</td>\n",
       "      <td>20</td>\n",
       "    </tr>\n",
       "    <tr>\n",
       "      <th>3</th>\n",
       "      <td>2547733</td>\n",
       "      <td>5</td>\n",
       "      <td>5</td>\n",
       "      <td>1.000000</td>\n",
       "      <td>20</td>\n",
       "    </tr>\n",
       "    <tr>\n",
       "      <th>4</th>\n",
       "      <td>2547734</td>\n",
       "      <td>5</td>\n",
       "      <td>6</td>\n",
       "      <td>0.833333</td>\n",
       "      <td>20</td>\n",
       "    </tr>\n",
       "  </tbody>\n",
       "</table>\n",
       "</div>"
      ],
      "text/plain": [
       "   VAERS_ID  found_labels  total_predictions  precision  threshold\n",
       "0   2547730             5                  6   0.833333         20\n",
       "1   2547731             5                  5   1.000000         20\n",
       "2   2547732             8                  8   1.000000         20\n",
       "3   2547733             5                  5   1.000000         20\n",
       "4   2547734             5                  6   0.833333         20"
      ]
     },
     "execution_count": 75,
     "metadata": {},
     "output_type": "execute_result"
    }
   ],
   "source": [
    "all_relevant_predictions.head()"
   ]
  },
  {
   "cell_type": "markdown",
   "id": "b5439d1c",
   "metadata": {},
   "source": [
    "## Recall"
   ]
  },
  {
   "cell_type": "code",
   "execution_count": 71,
   "id": "ce3bfe8c",
   "metadata": {},
   "outputs": [],
   "source": [
    "threshold_values = [20,40,60]\n",
    "all_retrieved_predictions = pd.DataFrame()\n",
    "\n",
    "for threshold_val in threshold_values:\n",
    "    retrieved_labels = biomednlp_eval_data.groupby(['VAERS_ID']).apply(lambda x: retrieval(x, threshold=threshold_val))\n",
    "    retrieved_labels = retrieved_labels.reset_index()\n",
    "    retrieved_labels = pd.DataFrame(retrieved_labels[0].tolist(), index=retrieved_labels.VAERS_ID)\\\n",
    "                        .rename(columns={0:f'found_predictions', 1:f'total_labels'})\\\n",
    "                        .reset_index()\n",
    "    retrieved_labels['recall'] = retrieved_labels[f'found_predictions'] / retrieved_labels[f'total_labels']\n",
    "    retrieved_labels['threshold'] = threshold_val\n",
    "    all_retrieved_predictions = pd.concat([all_retrieved_predictions, retrieved_labels], axis=0)"
   ]
  },
  {
   "cell_type": "code",
   "execution_count": 74,
   "id": "9ad03008",
   "metadata": {},
   "outputs": [
    {
     "data": {
      "text/html": [
       "<div>\n",
       "<style scoped>\n",
       "    .dataframe tbody tr th:only-of-type {\n",
       "        vertical-align: middle;\n",
       "    }\n",
       "\n",
       "    .dataframe tbody tr th {\n",
       "        vertical-align: top;\n",
       "    }\n",
       "\n",
       "    .dataframe thead th {\n",
       "        text-align: right;\n",
       "    }\n",
       "</style>\n",
       "<table border=\"1\" class=\"dataframe\">\n",
       "  <thead>\n",
       "    <tr style=\"text-align: right;\">\n",
       "      <th></th>\n",
       "      <th>VAERS_ID</th>\n",
       "      <th>found_predictions</th>\n",
       "      <th>total_labels</th>\n",
       "      <th>recall</th>\n",
       "      <th>threshold</th>\n",
       "    </tr>\n",
       "  </thead>\n",
       "  <tbody>\n",
       "    <tr>\n",
       "      <th>0</th>\n",
       "      <td>2547730</td>\n",
       "      <td>3</td>\n",
       "      <td>3</td>\n",
       "      <td>1.0</td>\n",
       "      <td>20</td>\n",
       "    </tr>\n",
       "    <tr>\n",
       "      <th>1</th>\n",
       "      <td>2547731</td>\n",
       "      <td>1</td>\n",
       "      <td>1</td>\n",
       "      <td>1.0</td>\n",
       "      <td>20</td>\n",
       "    </tr>\n",
       "    <tr>\n",
       "      <th>2</th>\n",
       "      <td>2547732</td>\n",
       "      <td>1</td>\n",
       "      <td>1</td>\n",
       "      <td>1.0</td>\n",
       "      <td>20</td>\n",
       "    </tr>\n",
       "    <tr>\n",
       "      <th>3</th>\n",
       "      <td>2547733</td>\n",
       "      <td>1</td>\n",
       "      <td>1</td>\n",
       "      <td>1.0</td>\n",
       "      <td>20</td>\n",
       "    </tr>\n",
       "    <tr>\n",
       "      <th>4</th>\n",
       "      <td>2547734</td>\n",
       "      <td>1</td>\n",
       "      <td>1</td>\n",
       "      <td>1.0</td>\n",
       "      <td>20</td>\n",
       "    </tr>\n",
       "  </tbody>\n",
       "</table>\n",
       "</div>"
      ],
      "text/plain": [
       "   VAERS_ID  found_predictions  total_labels  recall  threshold\n",
       "0   2547730                  3             3     1.0         20\n",
       "1   2547731                  1             1     1.0         20\n",
       "2   2547732                  1             1     1.0         20\n",
       "3   2547733                  1             1     1.0         20\n",
       "4   2547734                  1             1     1.0         20"
      ]
     },
     "execution_count": 74,
     "metadata": {},
     "output_type": "execute_result"
    }
   ],
   "source": [
    "all_retrieved_predictions.head()"
   ]
  },
  {
   "cell_type": "code",
   "execution_count": 76,
   "id": "e7b0bb71",
   "metadata": {},
   "outputs": [
    {
     "data": {
      "text/html": [
       "<div>\n",
       "<style scoped>\n",
       "    .dataframe tbody tr th:only-of-type {\n",
       "        vertical-align: middle;\n",
       "    }\n",
       "\n",
       "    .dataframe tbody tr th {\n",
       "        vertical-align: top;\n",
       "    }\n",
       "\n",
       "    .dataframe thead th {\n",
       "        text-align: right;\n",
       "    }\n",
       "</style>\n",
       "<table border=\"1\" class=\"dataframe\">\n",
       "  <thead>\n",
       "    <tr style=\"text-align: right;\">\n",
       "      <th></th>\n",
       "      <th>VAERS_ID</th>\n",
       "      <th>threshold</th>\n",
       "      <th>total_labels</th>\n",
       "      <th>total_predictions</th>\n",
       "      <th>found_labels</th>\n",
       "      <th>found_predictions</th>\n",
       "      <th>recall</th>\n",
       "      <th>precision</th>\n",
       "      <th>f1_score</th>\n",
       "    </tr>\n",
       "  </thead>\n",
       "  <tbody>\n",
       "    <tr>\n",
       "      <th>0</th>\n",
       "      <td>2547730</td>\n",
       "      <td>20</td>\n",
       "      <td>3</td>\n",
       "      <td>6</td>\n",
       "      <td>5</td>\n",
       "      <td>3</td>\n",
       "      <td>1.000000</td>\n",
       "      <td>0.833333</td>\n",
       "      <td>0.909091</td>\n",
       "    </tr>\n",
       "    <tr>\n",
       "      <th>1</th>\n",
       "      <td>2547731</td>\n",
       "      <td>20</td>\n",
       "      <td>1</td>\n",
       "      <td>5</td>\n",
       "      <td>5</td>\n",
       "      <td>1</td>\n",
       "      <td>1.000000</td>\n",
       "      <td>1.000000</td>\n",
       "      <td>1.000000</td>\n",
       "    </tr>\n",
       "    <tr>\n",
       "      <th>2</th>\n",
       "      <td>2547732</td>\n",
       "      <td>20</td>\n",
       "      <td>1</td>\n",
       "      <td>8</td>\n",
       "      <td>8</td>\n",
       "      <td>1</td>\n",
       "      <td>1.000000</td>\n",
       "      <td>1.000000</td>\n",
       "      <td>1.000000</td>\n",
       "    </tr>\n",
       "    <tr>\n",
       "      <th>3</th>\n",
       "      <td>2547733</td>\n",
       "      <td>20</td>\n",
       "      <td>1</td>\n",
       "      <td>5</td>\n",
       "      <td>5</td>\n",
       "      <td>1</td>\n",
       "      <td>1.000000</td>\n",
       "      <td>1.000000</td>\n",
       "      <td>1.000000</td>\n",
       "    </tr>\n",
       "    <tr>\n",
       "      <th>4</th>\n",
       "      <td>2547734</td>\n",
       "      <td>20</td>\n",
       "      <td>1</td>\n",
       "      <td>6</td>\n",
       "      <td>5</td>\n",
       "      <td>1</td>\n",
       "      <td>1.000000</td>\n",
       "      <td>0.833333</td>\n",
       "      <td>0.909091</td>\n",
       "    </tr>\n",
       "    <tr>\n",
       "      <th>...</th>\n",
       "      <td>...</td>\n",
       "      <td>...</td>\n",
       "      <td>...</td>\n",
       "      <td>...</td>\n",
       "      <td>...</td>\n",
       "      <td>...</td>\n",
       "      <td>...</td>\n",
       "      <td>...</td>\n",
       "      <td>...</td>\n",
       "    </tr>\n",
       "    <tr>\n",
       "      <th>29995</th>\n",
       "      <td>2565380</td>\n",
       "      <td>60</td>\n",
       "      <td>1</td>\n",
       "      <td>9</td>\n",
       "      <td>0</td>\n",
       "      <td>0</td>\n",
       "      <td>0.000000</td>\n",
       "      <td>0.000000</td>\n",
       "      <td>NaN</td>\n",
       "    </tr>\n",
       "    <tr>\n",
       "      <th>29996</th>\n",
       "      <td>2565382</td>\n",
       "      <td>60</td>\n",
       "      <td>1</td>\n",
       "      <td>8</td>\n",
       "      <td>1</td>\n",
       "      <td>1</td>\n",
       "      <td>1.000000</td>\n",
       "      <td>0.125000</td>\n",
       "      <td>0.222222</td>\n",
       "    </tr>\n",
       "    <tr>\n",
       "      <th>29997</th>\n",
       "      <td>2565482</td>\n",
       "      <td>60</td>\n",
       "      <td>3</td>\n",
       "      <td>7</td>\n",
       "      <td>1</td>\n",
       "      <td>1</td>\n",
       "      <td>0.333333</td>\n",
       "      <td>0.142857</td>\n",
       "      <td>0.200000</td>\n",
       "    </tr>\n",
       "    <tr>\n",
       "      <th>29998</th>\n",
       "      <td>2565486</td>\n",
       "      <td>60</td>\n",
       "      <td>2</td>\n",
       "      <td>6</td>\n",
       "      <td>0</td>\n",
       "      <td>0</td>\n",
       "      <td>0.000000</td>\n",
       "      <td>0.000000</td>\n",
       "      <td>NaN</td>\n",
       "    </tr>\n",
       "    <tr>\n",
       "      <th>29999</th>\n",
       "      <td>2567446</td>\n",
       "      <td>60</td>\n",
       "      <td>1</td>\n",
       "      <td>7</td>\n",
       "      <td>1</td>\n",
       "      <td>1</td>\n",
       "      <td>1.000000</td>\n",
       "      <td>0.142857</td>\n",
       "      <td>0.250000</td>\n",
       "    </tr>\n",
       "  </tbody>\n",
       "</table>\n",
       "<p>30000 rows × 9 columns</p>\n",
       "</div>"
      ],
      "text/plain": [
       "       VAERS_ID  threshold  total_labels  total_predictions  found_labels  \\\n",
       "0       2547730         20             3                  6             5   \n",
       "1       2547731         20             1                  5             5   \n",
       "2       2547732         20             1                  8             8   \n",
       "3       2547733         20             1                  5             5   \n",
       "4       2547734         20             1                  6             5   \n",
       "...         ...        ...           ...                ...           ...   \n",
       "29995   2565380         60             1                  9             0   \n",
       "29996   2565382         60             1                  8             1   \n",
       "29997   2565482         60             3                  7             1   \n",
       "29998   2565486         60             2                  6             0   \n",
       "29999   2567446         60             1                  7             1   \n",
       "\n",
       "       found_predictions    recall  precision  f1_score  \n",
       "0                      3  1.000000   0.833333  0.909091  \n",
       "1                      1  1.000000   1.000000  1.000000  \n",
       "2                      1  1.000000   1.000000  1.000000  \n",
       "3                      1  1.000000   1.000000  1.000000  \n",
       "4                      1  1.000000   0.833333  0.909091  \n",
       "...                  ...       ...        ...       ...  \n",
       "29995                  0  0.000000   0.000000       NaN  \n",
       "29996                  1  1.000000   0.125000  0.222222  \n",
       "29997                  1  0.333333   0.142857  0.200000  \n",
       "29998                  0  0.000000   0.000000       NaN  \n",
       "29999                  1  1.000000   0.142857  0.250000  \n",
       "\n",
       "[30000 rows x 9 columns]"
      ]
     },
     "execution_count": 76,
     "metadata": {},
     "output_type": "execute_result"
    }
   ],
   "source": [
    "biomedNLP_results = all_retrieved_predictions.merge(all_relevant_predictions, how='left', on=['VAERS_ID','threshold'])\n",
    "biomedNLP_results = biomedNLP_results[['VAERS_ID', 'threshold', 'total_labels', 'total_predictions', 'found_labels', 'found_predictions', 'recall', 'precision']]\n",
    "\n",
    "biomedNLP_results['f1_score'] = 2 * (biomedNLP_results['recall'] * biomedNLP_results['precision']) / (biomedNLP_results['recall'] + biomedNLP_results['precision'])\n",
    "biomedNLP_results"
   ]
  },
  {
   "cell_type": "code",
   "execution_count": 77,
   "id": "602f8121",
   "metadata": {},
   "outputs": [],
   "source": [
    "biomedNLP_results.to_csv(\"10ktest_biomedNLP_results.csv\")"
   ]
  },
  {
   "cell_type": "markdown",
   "id": "f8b1bf0a",
   "metadata": {},
   "source": [
    "# DistilRoberta Model"
   ]
  },
  {
   "cell_type": "markdown",
   "id": "8c4432bd",
   "metadata": {},
   "source": [
    "## Precision "
   ]
  },
  {
   "cell_type": "code",
   "execution_count": 78,
   "id": "1c789050",
   "metadata": {},
   "outputs": [],
   "source": [
    "threshold_values = [20,40,60]\n",
    "all_relevant_predictions = pd.DataFrame()\n",
    "\n",
    "for threshold_val in threshold_values:\n",
    "    relevant_predictions = distillroberta_eval_data.groupby(['VAERS_ID']).apply(lambda x: relevance(x, threshold=threshold_val))\n",
    "    relevant_predictions = relevant_predictions.reset_index()\n",
    "    relevant_predictions = pd.DataFrame(relevant_predictions[0].tolist(), index=relevant_predictions.VAERS_ID)\\\n",
    "                            .rename(columns={0:f'found_labels', 1:f'total_predictions'})\\\n",
    "                            .reset_index()\n",
    "    relevant_predictions[f'precision'] = relevant_predictions[f'found_labels'] / relevant_predictions[f'total_predictions']\n",
    "    relevant_predictions['threshold'] = threshold_val\n",
    "    all_relevant_predictions = pd.concat([all_relevant_predictions, relevant_predictions], axis=0)"
   ]
  },
  {
   "cell_type": "code",
   "execution_count": 79,
   "id": "8adc7a2e",
   "metadata": {},
   "outputs": [
    {
     "data": {
      "text/html": [
       "<div>\n",
       "<style scoped>\n",
       "    .dataframe tbody tr th:only-of-type {\n",
       "        vertical-align: middle;\n",
       "    }\n",
       "\n",
       "    .dataframe tbody tr th {\n",
       "        vertical-align: top;\n",
       "    }\n",
       "\n",
       "    .dataframe thead th {\n",
       "        text-align: right;\n",
       "    }\n",
       "</style>\n",
       "<table border=\"1\" class=\"dataframe\">\n",
       "  <thead>\n",
       "    <tr style=\"text-align: right;\">\n",
       "      <th></th>\n",
       "      <th>VAERS_ID</th>\n",
       "      <th>found_labels</th>\n",
       "      <th>total_predictions</th>\n",
       "      <th>precision</th>\n",
       "      <th>threshold</th>\n",
       "    </tr>\n",
       "  </thead>\n",
       "  <tbody>\n",
       "    <tr>\n",
       "      <th>0</th>\n",
       "      <td>2547730</td>\n",
       "      <td>4</td>\n",
       "      <td>5</td>\n",
       "      <td>0.80</td>\n",
       "      <td>20</td>\n",
       "    </tr>\n",
       "    <tr>\n",
       "      <th>1</th>\n",
       "      <td>2547731</td>\n",
       "      <td>6</td>\n",
       "      <td>6</td>\n",
       "      <td>1.00</td>\n",
       "      <td>20</td>\n",
       "    </tr>\n",
       "    <tr>\n",
       "      <th>2</th>\n",
       "      <td>2547732</td>\n",
       "      <td>8</td>\n",
       "      <td>8</td>\n",
       "      <td>1.00</td>\n",
       "      <td>20</td>\n",
       "    </tr>\n",
       "    <tr>\n",
       "      <th>3</th>\n",
       "      <td>2547733</td>\n",
       "      <td>5</td>\n",
       "      <td>5</td>\n",
       "      <td>1.00</td>\n",
       "      <td>20</td>\n",
       "    </tr>\n",
       "    <tr>\n",
       "      <th>4</th>\n",
       "      <td>2547734</td>\n",
       "      <td>3</td>\n",
       "      <td>4</td>\n",
       "      <td>0.75</td>\n",
       "      <td>20</td>\n",
       "    </tr>\n",
       "  </tbody>\n",
       "</table>\n",
       "</div>"
      ],
      "text/plain": [
       "   VAERS_ID  found_labels  total_predictions  precision  threshold\n",
       "0   2547730             4                  5       0.80         20\n",
       "1   2547731             6                  6       1.00         20\n",
       "2   2547732             8                  8       1.00         20\n",
       "3   2547733             5                  5       1.00         20\n",
       "4   2547734             3                  4       0.75         20"
      ]
     },
     "execution_count": 79,
     "metadata": {},
     "output_type": "execute_result"
    }
   ],
   "source": [
    "all_relevant_predictions.head()"
   ]
  },
  {
   "cell_type": "markdown",
   "id": "eebd0d6c",
   "metadata": {},
   "source": [
    "## Recall"
   ]
  },
  {
   "cell_type": "code",
   "execution_count": 80,
   "id": "e0d26b90",
   "metadata": {},
   "outputs": [],
   "source": [
    "threshold_values = [20,40,60]\n",
    "all_retrieved_predictions = pd.DataFrame()\n",
    "\n",
    "for threshold_val in threshold_values:\n",
    "    retrieved_labels = distillroberta_eval_data.groupby(['VAERS_ID']).apply(lambda x: retrieval(x, threshold=threshold_val))\n",
    "    retrieved_labels = retrieved_labels.reset_index()\n",
    "    retrieved_labels = pd.DataFrame(retrieved_labels[0].tolist(), index=retrieved_labels.VAERS_ID)\\\n",
    "                        .rename(columns={0:f'found_predictions', 1:f'total_labels'})\\\n",
    "                        .reset_index()\n",
    "    retrieved_labels['recall'] = retrieved_labels[f'found_predictions'] / retrieved_labels[f'total_labels']\n",
    "    retrieved_labels['threshold'] = threshold_val\n",
    "    all_retrieved_predictions = pd.concat([all_retrieved_predictions, retrieved_labels], axis=0)"
   ]
  },
  {
   "cell_type": "code",
   "execution_count": 82,
   "id": "3c84c80e",
   "metadata": {},
   "outputs": [
    {
     "data": {
      "text/html": [
       "<div>\n",
       "<style scoped>\n",
       "    .dataframe tbody tr th:only-of-type {\n",
       "        vertical-align: middle;\n",
       "    }\n",
       "\n",
       "    .dataframe tbody tr th {\n",
       "        vertical-align: top;\n",
       "    }\n",
       "\n",
       "    .dataframe thead th {\n",
       "        text-align: right;\n",
       "    }\n",
       "</style>\n",
       "<table border=\"1\" class=\"dataframe\">\n",
       "  <thead>\n",
       "    <tr style=\"text-align: right;\">\n",
       "      <th></th>\n",
       "      <th>VAERS_ID</th>\n",
       "      <th>found_predictions</th>\n",
       "      <th>total_labels</th>\n",
       "      <th>recall</th>\n",
       "      <th>threshold</th>\n",
       "    </tr>\n",
       "  </thead>\n",
       "  <tbody>\n",
       "    <tr>\n",
       "      <th>0</th>\n",
       "      <td>2547730</td>\n",
       "      <td>3</td>\n",
       "      <td>3</td>\n",
       "      <td>1.0</td>\n",
       "      <td>20</td>\n",
       "    </tr>\n",
       "    <tr>\n",
       "      <th>1</th>\n",
       "      <td>2547731</td>\n",
       "      <td>1</td>\n",
       "      <td>1</td>\n",
       "      <td>1.0</td>\n",
       "      <td>20</td>\n",
       "    </tr>\n",
       "    <tr>\n",
       "      <th>2</th>\n",
       "      <td>2547732</td>\n",
       "      <td>1</td>\n",
       "      <td>1</td>\n",
       "      <td>1.0</td>\n",
       "      <td>20</td>\n",
       "    </tr>\n",
       "    <tr>\n",
       "      <th>3</th>\n",
       "      <td>2547733</td>\n",
       "      <td>1</td>\n",
       "      <td>1</td>\n",
       "      <td>1.0</td>\n",
       "      <td>20</td>\n",
       "    </tr>\n",
       "    <tr>\n",
       "      <th>4</th>\n",
       "      <td>2547734</td>\n",
       "      <td>1</td>\n",
       "      <td>1</td>\n",
       "      <td>1.0</td>\n",
       "      <td>20</td>\n",
       "    </tr>\n",
       "  </tbody>\n",
       "</table>\n",
       "</div>"
      ],
      "text/plain": [
       "   VAERS_ID  found_predictions  total_labels  recall  threshold\n",
       "0   2547730                  3             3     1.0         20\n",
       "1   2547731                  1             1     1.0         20\n",
       "2   2547732                  1             1     1.0         20\n",
       "3   2547733                  1             1     1.0         20\n",
       "4   2547734                  1             1     1.0         20"
      ]
     },
     "execution_count": 82,
     "metadata": {},
     "output_type": "execute_result"
    }
   ],
   "source": [
    "all_retrieved_predictions.head()"
   ]
  },
  {
   "cell_type": "code",
   "execution_count": 81,
   "id": "cc00de9b",
   "metadata": {},
   "outputs": [
    {
     "data": {
      "text/html": [
       "<div>\n",
       "<style scoped>\n",
       "    .dataframe tbody tr th:only-of-type {\n",
       "        vertical-align: middle;\n",
       "    }\n",
       "\n",
       "    .dataframe tbody tr th {\n",
       "        vertical-align: top;\n",
       "    }\n",
       "\n",
       "    .dataframe thead th {\n",
       "        text-align: right;\n",
       "    }\n",
       "</style>\n",
       "<table border=\"1\" class=\"dataframe\">\n",
       "  <thead>\n",
       "    <tr style=\"text-align: right;\">\n",
       "      <th></th>\n",
       "      <th>VAERS_ID</th>\n",
       "      <th>threshold</th>\n",
       "      <th>total_labels</th>\n",
       "      <th>total_predictions</th>\n",
       "      <th>found_labels</th>\n",
       "      <th>found_predictions</th>\n",
       "      <th>recall</th>\n",
       "      <th>precision</th>\n",
       "      <th>f1_score</th>\n",
       "    </tr>\n",
       "  </thead>\n",
       "  <tbody>\n",
       "    <tr>\n",
       "      <th>0</th>\n",
       "      <td>2547730</td>\n",
       "      <td>20</td>\n",
       "      <td>3</td>\n",
       "      <td>5</td>\n",
       "      <td>4</td>\n",
       "      <td>3</td>\n",
       "      <td>1.000000</td>\n",
       "      <td>0.80</td>\n",
       "      <td>0.888889</td>\n",
       "    </tr>\n",
       "    <tr>\n",
       "      <th>1</th>\n",
       "      <td>2547731</td>\n",
       "      <td>20</td>\n",
       "      <td>1</td>\n",
       "      <td>6</td>\n",
       "      <td>6</td>\n",
       "      <td>1</td>\n",
       "      <td>1.000000</td>\n",
       "      <td>1.00</td>\n",
       "      <td>1.000000</td>\n",
       "    </tr>\n",
       "    <tr>\n",
       "      <th>2</th>\n",
       "      <td>2547732</td>\n",
       "      <td>20</td>\n",
       "      <td>1</td>\n",
       "      <td>8</td>\n",
       "      <td>8</td>\n",
       "      <td>1</td>\n",
       "      <td>1.000000</td>\n",
       "      <td>1.00</td>\n",
       "      <td>1.000000</td>\n",
       "    </tr>\n",
       "    <tr>\n",
       "      <th>3</th>\n",
       "      <td>2547733</td>\n",
       "      <td>20</td>\n",
       "      <td>1</td>\n",
       "      <td>5</td>\n",
       "      <td>5</td>\n",
       "      <td>1</td>\n",
       "      <td>1.000000</td>\n",
       "      <td>1.00</td>\n",
       "      <td>1.000000</td>\n",
       "    </tr>\n",
       "    <tr>\n",
       "      <th>4</th>\n",
       "      <td>2547734</td>\n",
       "      <td>20</td>\n",
       "      <td>1</td>\n",
       "      <td>4</td>\n",
       "      <td>3</td>\n",
       "      <td>1</td>\n",
       "      <td>1.000000</td>\n",
       "      <td>0.75</td>\n",
       "      <td>0.857143</td>\n",
       "    </tr>\n",
       "    <tr>\n",
       "      <th>...</th>\n",
       "      <td>...</td>\n",
       "      <td>...</td>\n",
       "      <td>...</td>\n",
       "      <td>...</td>\n",
       "      <td>...</td>\n",
       "      <td>...</td>\n",
       "      <td>...</td>\n",
       "      <td>...</td>\n",
       "      <td>...</td>\n",
       "    </tr>\n",
       "    <tr>\n",
       "      <th>29995</th>\n",
       "      <td>2565380</td>\n",
       "      <td>60</td>\n",
       "      <td>1</td>\n",
       "      <td>9</td>\n",
       "      <td>0</td>\n",
       "      <td>0</td>\n",
       "      <td>0.000000</td>\n",
       "      <td>0.00</td>\n",
       "      <td>NaN</td>\n",
       "    </tr>\n",
       "    <tr>\n",
       "      <th>29996</th>\n",
       "      <td>2565382</td>\n",
       "      <td>60</td>\n",
       "      <td>1</td>\n",
       "      <td>7</td>\n",
       "      <td>0</td>\n",
       "      <td>0</td>\n",
       "      <td>0.000000</td>\n",
       "      <td>0.00</td>\n",
       "      <td>NaN</td>\n",
       "    </tr>\n",
       "    <tr>\n",
       "      <th>29997</th>\n",
       "      <td>2565482</td>\n",
       "      <td>60</td>\n",
       "      <td>3</td>\n",
       "      <td>8</td>\n",
       "      <td>2</td>\n",
       "      <td>1</td>\n",
       "      <td>0.333333</td>\n",
       "      <td>0.25</td>\n",
       "      <td>0.285714</td>\n",
       "    </tr>\n",
       "    <tr>\n",
       "      <th>29998</th>\n",
       "      <td>2565486</td>\n",
       "      <td>60</td>\n",
       "      <td>2</td>\n",
       "      <td>6</td>\n",
       "      <td>0</td>\n",
       "      <td>0</td>\n",
       "      <td>0.000000</td>\n",
       "      <td>0.00</td>\n",
       "      <td>NaN</td>\n",
       "    </tr>\n",
       "    <tr>\n",
       "      <th>29999</th>\n",
       "      <td>2567446</td>\n",
       "      <td>60</td>\n",
       "      <td>1</td>\n",
       "      <td>5</td>\n",
       "      <td>0</td>\n",
       "      <td>0</td>\n",
       "      <td>0.000000</td>\n",
       "      <td>0.00</td>\n",
       "      <td>NaN</td>\n",
       "    </tr>\n",
       "  </tbody>\n",
       "</table>\n",
       "<p>30000 rows × 9 columns</p>\n",
       "</div>"
      ],
      "text/plain": [
       "       VAERS_ID  threshold  total_labels  total_predictions  found_labels  \\\n",
       "0       2547730         20             3                  5             4   \n",
       "1       2547731         20             1                  6             6   \n",
       "2       2547732         20             1                  8             8   \n",
       "3       2547733         20             1                  5             5   \n",
       "4       2547734         20             1                  4             3   \n",
       "...         ...        ...           ...                ...           ...   \n",
       "29995   2565380         60             1                  9             0   \n",
       "29996   2565382         60             1                  7             0   \n",
       "29997   2565482         60             3                  8             2   \n",
       "29998   2565486         60             2                  6             0   \n",
       "29999   2567446         60             1                  5             0   \n",
       "\n",
       "       found_predictions    recall  precision  f1_score  \n",
       "0                      3  1.000000       0.80  0.888889  \n",
       "1                      1  1.000000       1.00  1.000000  \n",
       "2                      1  1.000000       1.00  1.000000  \n",
       "3                      1  1.000000       1.00  1.000000  \n",
       "4                      1  1.000000       0.75  0.857143  \n",
       "...                  ...       ...        ...       ...  \n",
       "29995                  0  0.000000       0.00       NaN  \n",
       "29996                  0  0.000000       0.00       NaN  \n",
       "29997                  1  0.333333       0.25  0.285714  \n",
       "29998                  0  0.000000       0.00       NaN  \n",
       "29999                  0  0.000000       0.00       NaN  \n",
       "\n",
       "[30000 rows x 9 columns]"
      ]
     },
     "execution_count": 81,
     "metadata": {},
     "output_type": "execute_result"
    }
   ],
   "source": [
    "distillroberta_results = all_retrieved_predictions.merge(all_relevant_predictions, how='left', on=['VAERS_ID','threshold'])\n",
    "distillroberta_results = distillroberta_results[['VAERS_ID', 'threshold', 'total_labels', 'total_predictions', 'found_labels', 'found_predictions', 'recall', 'precision']]\n",
    "\n",
    "distillroberta_results['f1_score'] = 2 * (distillroberta_results['recall'] * distillroberta_results['precision']) / (distillroberta_results['recall'] + distillroberta_results['precision'])\n",
    "distillroberta_results"
   ]
  },
  {
   "cell_type": "code",
   "execution_count": 31,
   "id": "7abcb39f",
   "metadata": {},
   "outputs": [],
   "source": [
    "distillroberta_results.to_csv(\"10ktest_distillroberta_results.csv\")"
   ]
  },
  {
   "cell_type": "code",
   "execution_count": null,
   "id": "acff584b",
   "metadata": {},
   "outputs": [],
   "source": [
    "#distillroberta_results\n",
    "#bioclinical_results\n",
    "#biomedNLP_results"
   ]
  },
  {
   "cell_type": "code",
   "execution_count": 83,
   "id": "252c5814",
   "metadata": {},
   "outputs": [
    {
     "name": "stderr",
     "output_type": "stream",
     "text": [
      "/var/folders/_l/b6xwsf494bjcy6h68bqlx5jh0000gn/T/ipykernel_2520/2544766018.py:1: FutureWarning: Indexing with multiple keys (implicitly converted to a tuple of keys) will be deprecated, use a list instead.\n",
      "  distillroberta_results.groupby(\"threshold\")[\"recall\",\"precision\",\"f1_score\"].mean()\n"
     ]
    },
    {
     "data": {
      "text/html": [
       "<div>\n",
       "<style scoped>\n",
       "    .dataframe tbody tr th:only-of-type {\n",
       "        vertical-align: middle;\n",
       "    }\n",
       "\n",
       "    .dataframe tbody tr th {\n",
       "        vertical-align: top;\n",
       "    }\n",
       "\n",
       "    .dataframe thead th {\n",
       "        text-align: right;\n",
       "    }\n",
       "</style>\n",
       "<table border=\"1\" class=\"dataframe\">\n",
       "  <thead>\n",
       "    <tr style=\"text-align: right;\">\n",
       "      <th></th>\n",
       "      <th>recall</th>\n",
       "      <th>precision</th>\n",
       "      <th>f1_score</th>\n",
       "    </tr>\n",
       "    <tr>\n",
       "      <th>threshold</th>\n",
       "      <th></th>\n",
       "      <th></th>\n",
       "      <th></th>\n",
       "    </tr>\n",
       "  </thead>\n",
       "  <tbody>\n",
       "    <tr>\n",
       "      <th>20</th>\n",
       "      <td>0.918040</td>\n",
       "      <td>0.846630</td>\n",
       "      <td>0.930465</td>\n",
       "    </tr>\n",
       "    <tr>\n",
       "      <th>40</th>\n",
       "      <td>0.762867</td>\n",
       "      <td>0.389994</td>\n",
       "      <td>0.611555</td>\n",
       "    </tr>\n",
       "    <tr>\n",
       "      <th>60</th>\n",
       "      <td>0.420935</td>\n",
       "      <td>0.129610</td>\n",
       "      <td>0.422180</td>\n",
       "    </tr>\n",
       "  </tbody>\n",
       "</table>\n",
       "</div>"
      ],
      "text/plain": [
       "             recall  precision  f1_score\n",
       "threshold                               \n",
       "20         0.918040   0.846630  0.930465\n",
       "40         0.762867   0.389994  0.611555\n",
       "60         0.420935   0.129610  0.422180"
      ]
     },
     "execution_count": 83,
     "metadata": {},
     "output_type": "execute_result"
    }
   ],
   "source": [
    "distillroberta_results.groupby(\"threshold\")[\"recall\",\"precision\",\"f1_score\"].mean()"
   ]
  },
  {
   "cell_type": "code",
   "execution_count": 84,
   "id": "6438462a",
   "metadata": {},
   "outputs": [
    {
     "name": "stderr",
     "output_type": "stream",
     "text": [
      "/var/folders/_l/b6xwsf494bjcy6h68bqlx5jh0000gn/T/ipykernel_2520/4144614413.py:1: FutureWarning: Indexing with multiple keys (implicitly converted to a tuple of keys) will be deprecated, use a list instead.\n",
      "  bioclinical_results.groupby(\"threshold\")[\"recall\",\"precision\",\"f1_score\"].mean()\n"
     ]
    },
    {
     "data": {
      "text/html": [
       "<div>\n",
       "<style scoped>\n",
       "    .dataframe tbody tr th:only-of-type {\n",
       "        vertical-align: middle;\n",
       "    }\n",
       "\n",
       "    .dataframe tbody tr th {\n",
       "        vertical-align: top;\n",
       "    }\n",
       "\n",
       "    .dataframe thead th {\n",
       "        text-align: right;\n",
       "    }\n",
       "</style>\n",
       "<table border=\"1\" class=\"dataframe\">\n",
       "  <thead>\n",
       "    <tr style=\"text-align: right;\">\n",
       "      <th></th>\n",
       "      <th>recall</th>\n",
       "      <th>precision</th>\n",
       "      <th>f1_score</th>\n",
       "    </tr>\n",
       "    <tr>\n",
       "      <th>threshold</th>\n",
       "      <th></th>\n",
       "      <th></th>\n",
       "      <th></th>\n",
       "    </tr>\n",
       "  </thead>\n",
       "  <tbody>\n",
       "    <tr>\n",
       "      <th>20</th>\n",
       "      <td>0.939454</td>\n",
       "      <td>0.787075</td>\n",
       "      <td>0.885197</td>\n",
       "    </tr>\n",
       "    <tr>\n",
       "      <th>40</th>\n",
       "      <td>0.818216</td>\n",
       "      <td>0.398105</td>\n",
       "      <td>0.599745</td>\n",
       "    </tr>\n",
       "    <tr>\n",
       "      <th>60</th>\n",
       "      <td>0.410209</td>\n",
       "      <td>0.154495</td>\n",
       "      <td>0.478353</td>\n",
       "    </tr>\n",
       "  </tbody>\n",
       "</table>\n",
       "</div>"
      ],
      "text/plain": [
       "             recall  precision  f1_score\n",
       "threshold                               \n",
       "20         0.939454   0.787075  0.885197\n",
       "40         0.818216   0.398105  0.599745\n",
       "60         0.410209   0.154495  0.478353"
      ]
     },
     "execution_count": 84,
     "metadata": {},
     "output_type": "execute_result"
    }
   ],
   "source": [
    "bioclinical_results.groupby(\"threshold\")[\"recall\",\"precision\",\"f1_score\"].mean()"
   ]
  },
  {
   "cell_type": "code",
   "execution_count": 85,
   "id": "ecfcac3f",
   "metadata": {},
   "outputs": [
    {
     "name": "stderr",
     "output_type": "stream",
     "text": [
      "/var/folders/_l/b6xwsf494bjcy6h68bqlx5jh0000gn/T/ipykernel_2520/3766425644.py:1: FutureWarning: Indexing with multiple keys (implicitly converted to a tuple of keys) will be deprecated, use a list instead.\n",
      "  biomedNLP_results.groupby(\"threshold\")[\"recall\",\"precision\",\"f1_score\"].mean()\n"
     ]
    },
    {
     "data": {
      "text/html": [
       "<div>\n",
       "<style scoped>\n",
       "    .dataframe tbody tr th:only-of-type {\n",
       "        vertical-align: middle;\n",
       "    }\n",
       "\n",
       "    .dataframe tbody tr th {\n",
       "        vertical-align: top;\n",
       "    }\n",
       "\n",
       "    .dataframe thead th {\n",
       "        text-align: right;\n",
       "    }\n",
       "</style>\n",
       "<table border=\"1\" class=\"dataframe\">\n",
       "  <thead>\n",
       "    <tr style=\"text-align: right;\">\n",
       "      <th></th>\n",
       "      <th>recall</th>\n",
       "      <th>precision</th>\n",
       "      <th>f1_score</th>\n",
       "    </tr>\n",
       "    <tr>\n",
       "      <th>threshold</th>\n",
       "      <th></th>\n",
       "      <th></th>\n",
       "      <th></th>\n",
       "    </tr>\n",
       "  </thead>\n",
       "  <tbody>\n",
       "    <tr>\n",
       "      <th>20</th>\n",
       "      <td>0.925880</td>\n",
       "      <td>0.838122</td>\n",
       "      <td>0.922419</td>\n",
       "    </tr>\n",
       "    <tr>\n",
       "      <th>40</th>\n",
       "      <td>0.797508</td>\n",
       "      <td>0.381702</td>\n",
       "      <td>0.588010</td>\n",
       "    </tr>\n",
       "    <tr>\n",
       "      <th>60</th>\n",
       "      <td>0.438954</td>\n",
       "      <td>0.112549</td>\n",
       "      <td>0.365057</td>\n",
       "    </tr>\n",
       "  </tbody>\n",
       "</table>\n",
       "</div>"
      ],
      "text/plain": [
       "             recall  precision  f1_score\n",
       "threshold                               \n",
       "20         0.925880   0.838122  0.922419\n",
       "40         0.797508   0.381702  0.588010\n",
       "60         0.438954   0.112549  0.365057"
      ]
     },
     "execution_count": 85,
     "metadata": {},
     "output_type": "execute_result"
    }
   ],
   "source": [
    "biomedNLP_results.groupby(\"threshold\")[\"recall\",\"precision\",\"f1_score\"].mean()"
   ]
  },
  {
   "cell_type": "code",
   "execution_count": 58,
   "id": "8ad72ee0",
   "metadata": {},
   "outputs": [
    {
     "data": {
      "text/plain": [
       "0.7077651995601568"
      ]
     },
     "execution_count": 58,
     "metadata": {},
     "output_type": "execute_result"
    }
   ],
   "source": [
    "distillroberta_results.f1_score.mean()"
   ]
  },
  {
   "cell_type": "code",
   "execution_count": 59,
   "id": "a9408e67",
   "metadata": {},
   "outputs": [
    {
     "data": {
      "text/plain": [
       "0.7077651995601568"
      ]
     },
     "execution_count": 59,
     "metadata": {},
     "output_type": "execute_result"
    }
   ],
   "source": [
    "bioclinical_results.f1_score.mean()"
   ]
  },
  {
   "cell_type": "code",
   "execution_count": 34,
   "id": "2edd66e9",
   "metadata": {},
   "outputs": [
    {
     "data": {
      "text/plain": [
       "0.9224192885697498"
      ]
     },
     "execution_count": 34,
     "metadata": {},
     "output_type": "execute_result"
    }
   ],
   "source": [
    "biomedNLP_results.f1_score.mean()"
   ]
  },
  {
   "cell_type": "markdown",
   "id": "25c642f3",
   "metadata": {},
   "source": [
    "## ----- x -------- x -------- x ----"
   ]
  }
 ],
 "metadata": {
  "kernelspec": {
   "display_name": "Python 3 (ipykernel)",
   "language": "python",
   "name": "python3"
  },
  "language_info": {
   "codemirror_mode": {
    "name": "ipython",
    "version": 3
   },
   "file_extension": ".py",
   "mimetype": "text/x-python",
   "name": "python",
   "nbconvert_exporter": "python",
   "pygments_lexer": "ipython3",
   "version": "3.10.10"
  }
 },
 "nbformat": 4,
 "nbformat_minor": 5
}
